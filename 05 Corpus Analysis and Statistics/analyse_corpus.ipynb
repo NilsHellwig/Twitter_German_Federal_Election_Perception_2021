{
 "cells": [
  {
   "cell_type": "markdown",
   "id": "40acee06-7b52-41a6-93c7-1a141fe5d382",
   "metadata": {},
   "source": [
    "# Notebook: Analyse Corpus\n",
    "\n",
    "This notebook is used to analyse the crawled cropus of tweet.\n",
    "<br>**Contributors:** [Nils Hellwig](https://github.com/NilsHellwig/) | [Markus Bink](https://github.com/MarkusBink/)"
   ]
  },
  {
   "cell_type": "markdown",
   "id": "f716e8d9-d43c-46e2-8969-1e10b0d5efc6",
   "metadata": {},
   "source": [
    "## Packages"
   ]
  },
  {
   "cell_type": "code",
   "execution_count": 1,
   "id": "8e9e2718-093f-4a58-b9da-ff50e5e34573",
   "metadata": {},
   "outputs": [],
   "source": [
    "import pandas as pd\n",
    "import nltk\n",
    "import os"
   ]
  },
  {
   "cell_type": "code",
   "execution_count": 2,
   "id": "0ea23353-19d5-4725-8ddf-756e5df44b79",
   "metadata": {},
   "outputs": [
    {
     "name": "stderr",
     "output_type": "stream",
     "text": [
      "[nltk_data] Downloading package punkt to\n",
      "[nltk_data]     /Users/nils_hellwig/nltk_data...\n",
      "[nltk_data]   Package punkt is already up-to-date!\n"
     ]
    },
    {
     "data": {
      "text/plain": [
       "True"
      ]
     },
     "execution_count": 2,
     "metadata": {},
     "output_type": "execute_result"
    }
   ],
   "source": [
    "nltk.download('punkt')"
   ]
  },
  {
   "cell_type": "markdown",
   "id": "0147d957-2993-4159-9efe-a762de470fc2",
   "metadata": {},
   "source": [
    "## Parameters"
   ]
  },
  {
   "cell_type": "code",
   "execution_count": 3,
   "id": "25a40ae2-06bc-4621-91eb-dc0fd94e8580",
   "metadata": {},
   "outputs": [],
   "source": [
    "DATASET_PATH = \"../Datasets/dataset/\"\n",
    "PARTIES = [\"CDU_CSU\", \"SPD\", \"AFD\", \"FDP\", \"GRUENE\", \"LINKE\"]"
   ]
  },
  {
   "cell_type": "markdown",
   "id": "863a1f58-a847-4957-8ec6-f169bbcf0a65",
   "metadata": {},
   "source": [
    "## Code"
   ]
  },
  {
   "cell_type": "markdown",
   "id": "ac382e9c-6905-4b7d-9f8b-1a6705610f51",
   "metadata": {},
   "source": [
    "### 1. Create Statistic for each Party"
   ]
  },
  {
   "cell_type": "code",
   "execution_count": 4,
   "id": "9eba813e-0777-43ac-b67a-946cc33bcfa2",
   "metadata": {},
   "outputs": [],
   "source": [
    "def get_n_tokens_for_tweet(tweet):\n",
    "    return len(nltk.word_tokenize(tweet))"
   ]
  },
  {
   "cell_type": "code",
   "execution_count": 5,
   "id": "903addbf-b25c-4b4a-bf1e-1d5ebb956d00",
   "metadata": {},
   "outputs": [
    {
     "name": "stdout",
     "output_type": "stream",
     "text": [
      "Total #Tweets in corpus for CDU_CSU: 227683 || #Tokens in corpus for CDU_CSU: 7097145 || #Avg Tweet length for CDU_CSU: 31.17116780787323\n",
      "Total #Tweets in corpus for SPD: 228415 || #Tokens in corpus for SPD: 7153549 || #Avg Tweet length for SPD: 31.31821027515706\n",
      "Total #Tweets in corpus for AFD: 57572 || #Tokens in corpus for AFD: 1636144 || #Avg Tweet length for AFD: 28.419092614465367\n",
      "Total #Tweets in corpus for FDP: 79815 || #Tokens in corpus for FDP: 2607610 || #Avg Tweet length for FDP: 32.670675938106875\n",
      "Total #Tweets in corpus for GRUENE: 73261 || #Tokens in corpus for GRUENE: 2408946 || #Avg Tweet length for GRUENE: 32.88169694653362\n",
      "Total #Tweets in corpus for LINKE: 40495 || #Tokens in corpus for LINKE: 1340331 || #Avg Tweet length for LINKE: 33.09867884924065\n",
      "Total #Tweets in corpus: 707241 || #Tokens in corpus: 22243725 || #Avg Tweet length in corpus: 31.45140765311966\n"
     ]
    }
   ],
   "source": [
    "n_tweets_total = 0\n",
    "n_tokens_total = 0\n",
    "for party in PARTIES:\n",
    "    n_tokens_party = 0\n",
    "    n_tweets_party = 0\n",
    "    for subdir, _, files in os.walk(DATASET_PATH + party):\n",
    "        for file in files:\n",
    "            if file.endswith('.csv') and subdir[len(DATASET_PATH):] in PARTIES:\n",
    "                # Get username of CSV file\n",
    "                username = file[:-4]\n",
    "                \n",
    "                # Load dataframe of an account\n",
    "                df = pd.read_csv(DATASET_PATH + party + \"/\" + file, sep=\",\", index_col=0, lineterminator=\"\\n\")\n",
    "                \n",
    "                for index, row in df.iterrows():\n",
    "                    n_tokens_party += get_n_tokens_for_tweet(row['tweet'])\n",
    "                \n",
    "                n_tweets_party += df.shape[0]\n",
    "    n_tweets_total += n_tweets_party\n",
    "    n_tokens_total += n_tokens_party\n",
    "    print(f'Total #Tweets in corpus for {party}: {n_tweets_party} || #Tokens in corpus for {party}: {n_tokens_party} || #Avg Tweet length for {party}: {n_tokens_party / n_tweets_party}')\n",
    "print(f'Total #Tweets in corpus: {n_tweets_total} || #Tokens in corpus: {n_tokens_total} || #Avg Tweet length in corpus: {n_tokens_total / n_tweets_total}')"
   ]
  },
  {
   "cell_type": "code",
   "execution_count": 6,
   "id": "30e3a130-2ec8-401a-9d51-6bc7bdcf7870",
   "metadata": {},
   "outputs": [
    {
     "data": {
      "text/plain": [
       "707241"
      ]
     },
     "execution_count": 6,
     "metadata": {},
     "output_type": "execute_result"
    }
   ],
   "source": [
    "n_tweets_total"
   ]
  },
  {
   "cell_type": "code",
   "execution_count": 12,
   "id": "3e108162-0dc3-4ac0-96e9-7f30ce8268d3",
   "metadata": {},
   "outputs": [
    {
     "data": {
      "text/plain": [
       "0.057257709889556745"
      ]
     },
     "execution_count": 12,
     "metadata": {},
     "output_type": "execute_result"
    }
   ],
   "source": [
    "40495 / n_tweets_total"
   ]
  },
  {
   "cell_type": "code",
   "execution_count": null,
   "id": "33397b3e-4a1a-4df0-8ae3-c782ce5156d7",
   "metadata": {},
   "outputs": [],
   "source": []
  }
 ],
 "metadata": {
  "kernelspec": {
   "display_name": "Python 3 (ipykernel)",
   "language": "python",
   "name": "python3"
  },
  "language_info": {
   "codemirror_mode": {
    "name": "ipython",
    "version": 3
   },
   "file_extension": ".py",
   "mimetype": "text/x-python",
   "name": "python",
   "nbconvert_exporter": "python",
   "pygments_lexer": "ipython3",
   "version": "3.10.8"
  }
 },
 "nbformat": 4,
 "nbformat_minor": 5
}
