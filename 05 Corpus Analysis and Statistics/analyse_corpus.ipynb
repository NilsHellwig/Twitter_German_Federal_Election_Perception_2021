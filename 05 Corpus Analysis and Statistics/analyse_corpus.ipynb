{
 "cells": [
  {
   "cell_type": "markdown",
   "id": "40acee06-7b52-41a6-93c7-1a141fe5d382",
   "metadata": {},
   "source": [
    "# Notebook: Analyse Corpus\n",
    "\n",
    "This notebook is used to analyse the crawled cropus of tweet.\n",
    "<br>**Contributors:** [Nils Hellwig](https://github.com/NilsHellwig/) | [Markus Bink](https://github.com/MarkusBink/)"
   ]
  },
  {
   "cell_type": "markdown",
   "id": "f716e8d9-d43c-46e2-8969-1e10b0d5efc6",
   "metadata": {},
   "source": [
    "## Packages"
   ]
  },
  {
   "cell_type": "code",
   "execution_count": 56,
   "id": "8e9e2718-093f-4a58-b9da-ff50e5e34573",
   "metadata": {},
   "outputs": [],
   "source": [
    "import pandas as pd\n",
    "import nltk\n",
    "import os"
   ]
  },
  {
   "cell_type": "code",
   "execution_count": 57,
   "id": "0ea23353-19d5-4725-8ddf-756e5df44b79",
   "metadata": {},
   "outputs": [
    {
     "name": "stderr",
     "output_type": "stream",
     "text": [
      "[nltk_data] Downloading package punkt to\n",
      "[nltk_data]     /Users/nils_hellwig/nltk_data...\n",
      "[nltk_data]   Package punkt is already up-to-date!\n"
     ]
    },
    {
     "data": {
      "text/plain": [
       "True"
      ]
     },
     "execution_count": 57,
     "metadata": {},
     "output_type": "execute_result"
    }
   ],
   "source": [
    "nltk.download('punkt')"
   ]
  },
  {
   "cell_type": "markdown",
   "id": "0147d957-2993-4159-9efe-a762de470fc2",
   "metadata": {},
   "source": [
    "## Parameters"
   ]
  },
  {
   "cell_type": "code",
   "execution_count": 58,
   "id": "25a40ae2-06bc-4621-91eb-dc0fd94e8580",
   "metadata": {},
   "outputs": [],
   "source": [
    "DATASET_PATH = \"../Datasets/dataset/\"\n",
    "PARTIES = [\"CDU_CSU\", \"SPD\", \"AFD\", \"FDP\", \"GRUENE\", \"LINKE\"]"
   ]
  },
  {
   "cell_type": "markdown",
   "id": "863a1f58-a847-4957-8ec6-f169bbcf0a65",
   "metadata": {},
   "source": [
    "## Code"
   ]
  },
  {
   "cell_type": "markdown",
   "id": "ac382e9c-6905-4b7d-9f8b-1a6705610f51",
   "metadata": {},
   "source": [
    "### 1. Create Statistic for each Party"
   ]
  },
  {
   "cell_type": "code",
   "execution_count": 59,
   "id": "9eba813e-0777-43ac-b67a-946cc33bcfa2",
   "metadata": {},
   "outputs": [],
   "source": [
    "def get_n_tokens_for_tweet(tweet):\n",
    "    return len(nltk.word_tokenize(tweet))"
   ]
  },
  {
   "cell_type": "code",
   "execution_count": 60,
   "id": "903addbf-b25c-4b4a-bf1e-1d5ebb956d00",
   "metadata": {},
   "outputs": [
    {
     "name": "stderr",
     "output_type": "stream",
     "text": [
      "/var/folders/qy/5gtwsk6s7jgbknbqgb533x9w0000gn/T/ipykernel_36299/4092284967.py:13: DtypeWarning: Columns (6) have mixed types. Specify dtype option on import or set low_memory=False.\n",
      "  df = pd.read_csv(DATASET_PATH + party + \"/\" + file, sep=\",\", index_col=0, lineterminator=\"\\n\")\n",
      "/var/folders/qy/5gtwsk6s7jgbknbqgb533x9w0000gn/T/ipykernel_36299/4092284967.py:13: DtypeWarning: Columns (6) have mixed types. Specify dtype option on import or set low_memory=False.\n",
      "  df = pd.read_csv(DATASET_PATH + party + \"/\" + file, sep=\",\", index_col=0, lineterminator=\"\\n\")\n",
      "/var/folders/qy/5gtwsk6s7jgbknbqgb533x9w0000gn/T/ipykernel_36299/4092284967.py:13: DtypeWarning: Columns (6) have mixed types. Specify dtype option on import or set low_memory=False.\n",
      "  df = pd.read_csv(DATASET_PATH + party + \"/\" + file, sep=\",\", index_col=0, lineterminator=\"\\n\")\n",
      "/var/folders/qy/5gtwsk6s7jgbknbqgb533x9w0000gn/T/ipykernel_36299/4092284967.py:13: DtypeWarning: Columns (6) have mixed types. Specify dtype option on import or set low_memory=False.\n",
      "  df = pd.read_csv(DATASET_PATH + party + \"/\" + file, sep=\",\", index_col=0, lineterminator=\"\\n\")\n"
     ]
    },
    {
     "name": "stdout",
     "output_type": "stream",
     "text": [
      "Total #Tweets in corpus for CDU_CSU: 229984 || #Tokens in corpus for CDU_CSU: 7179620 || #Avg Tweet length for CDU_CSU: 31.217910811186865\n"
     ]
    },
    {
     "name": "stderr",
     "output_type": "stream",
     "text": [
      "/var/folders/qy/5gtwsk6s7jgbknbqgb533x9w0000gn/T/ipykernel_36299/4092284967.py:13: DtypeWarning: Columns (6) have mixed types. Specify dtype option on import or set low_memory=False.\n",
      "  df = pd.read_csv(DATASET_PATH + party + \"/\" + file, sep=\",\", index_col=0, lineterminator=\"\\n\")\n",
      "/var/folders/qy/5gtwsk6s7jgbknbqgb533x9w0000gn/T/ipykernel_36299/4092284967.py:13: DtypeWarning: Columns (6) have mixed types. Specify dtype option on import or set low_memory=False.\n",
      "  df = pd.read_csv(DATASET_PATH + party + \"/\" + file, sep=\",\", index_col=0, lineterminator=\"\\n\")\n"
     ]
    },
    {
     "name": "stdout",
     "output_type": "stream",
     "text": [
      "Total #Tweets in corpus for SPD: 230325 || #Tokens in corpus for SPD: 7222714 || #Avg Tweet length for SPD: 31.358793009877346\n",
      "Total #Tweets in corpus for AFD: 58046 || #Tokens in corpus for AFD: 1653241 || #Avg Tweet length for AFD: 28.481566343934123\n"
     ]
    },
    {
     "name": "stderr",
     "output_type": "stream",
     "text": [
      "/var/folders/qy/5gtwsk6s7jgbknbqgb533x9w0000gn/T/ipykernel_36299/4092284967.py:13: DtypeWarning: Columns (6) have mixed types. Specify dtype option on import or set low_memory=False.\n",
      "  df = pd.read_csv(DATASET_PATH + party + \"/\" + file, sep=\",\", index_col=0, lineterminator=\"\\n\")\n"
     ]
    },
    {
     "name": "stdout",
     "output_type": "stream",
     "text": [
      "Total #Tweets in corpus for FDP: 80546 || #Tokens in corpus for FDP: 2634673 || #Avg Tweet length for FDP: 32.71016561964591\n",
      "Total #Tweets in corpus for GRUENE: 74005 || #Tokens in corpus for GRUENE: 2436889 || #Avg Tweet length for GRUENE: 32.92870751976218\n",
      "Total #Tweets in corpus for LINKE: 40836 || #Tokens in corpus for LINKE: 1352542 || #Avg Tweet length for LINKE: 33.12131452639828\n",
      "Total #Tweets in corpus: 713742 || #Tokens in corpus: 22479679 || #Avg Tweet length in corpus: 31.495524993625146\n"
     ]
    }
   ],
   "source": [
    "n_tweets_total = 0\n",
    "n_tokens_total = 0\n",
    "for party in PARTIES:\n",
    "    n_tokens_party = 0\n",
    "    n_tweets_party = 0\n",
    "    for subdir, _, files in os.walk(DATASET_PATH + party):\n",
    "        for file in files:\n",
    "            if file.endswith('.csv') and subdir[len(DATASET_PATH):] in PARTIES:\n",
    "                # Get username of CSV file\n",
    "                username = file[:-4]\n",
    "                \n",
    "                # Load dataframe of an account\n",
    "                df = pd.read_csv(DATASET_PATH + party + \"/\" + file, sep=\",\", index_col=0, lineterminator=\"\\n\")\n",
    "                \n",
    "                for index, row in df.iterrows():\n",
    "                    n_tokens_party += get_n_tokens_for_tweet(row['tweet'])\n",
    "                \n",
    "                n_tweets_party += df.shape[0]\n",
    "    n_tweets_total += n_tweets_party\n",
    "    n_tokens_total += n_tokens_party\n",
    "    print(f'Total #Tweets in corpus for {party}: {n_tweets_party} || #Tokens in corpus for {party}: {n_tokens_party} || #Avg Tweet length for {party}: {n_tokens_party / n_tweets_party}')\n",
    "print(f'Total #Tweets in corpus: {n_tweets_total} || #Tokens in corpus: {n_tokens_total} || #Avg Tweet length in corpus: {n_tokens_total / n_tweets_total}')"
   ]
  },
  {
   "cell_type": "code",
   "execution_count": 61,
   "id": "30e3a130-2ec8-401a-9d51-6bc7bdcf7870",
   "metadata": {},
   "outputs": [
    {
     "data": {
      "text/plain": [
       "713742"
      ]
     },
     "execution_count": 61,
     "metadata": {},
     "output_type": "execute_result"
    }
   ],
   "source": [
    "n_tweets_total"
   ]
  }
 ],
 "metadata": {
  "kernelspec": {
   "display_name": "Python 3 (ipykernel)",
   "language": "python",
   "name": "python3"
  },
  "language_info": {
   "codemirror_mode": {
    "name": "ipython",
    "version": 3
   },
   "file_extension": ".py",
   "mimetype": "text/x-python",
   "name": "python",
   "nbconvert_exporter": "python",
   "pygments_lexer": "ipython3",
   "version": "3.10.8"
  }
 },
 "nbformat": 4,
 "nbformat_minor": 5
}
