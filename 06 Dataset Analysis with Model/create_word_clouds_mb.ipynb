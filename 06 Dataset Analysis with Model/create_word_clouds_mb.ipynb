{
 "cells": [
  {
   "cell_type": "markdown",
   "id": "24fae235-83ff-4880-a66a-2c9eb353aceb",
   "metadata": {},
   "source": [
    "# Notebook: Create Wordcloud Analysis \n",
    "\n",
    "This notebook is used to create wordclouds using our trained model.\n",
    "<br>**Contributors:** [Nils Hellwig](https://github.com/NilsHellwig/) | [Markus Bink](https://github.com/MarkusBink/)"
   ]
  },
  {
   "cell_type": "markdown",
   "id": "fe9220c8-998b-4c9b-9c07-e1ce9f45128c",
   "metadata": {},
   "source": [
    "## Packages"
   ]
  },
  {
   "cell_type": "code",
   "execution_count": 1,
   "id": "ee74b57a-024e-49fa-b520-5415a52fb7bd",
   "metadata": {},
   "outputs": [
    {
     "ename": "ModuleNotFoundError",
     "evalue": "No module named 'reportlab'",
     "output_type": "error",
     "traceback": [
      "\u001b[0;31m---------------------------------------------------------------------------\u001b[0m",
      "\u001b[0;31mModuleNotFoundError\u001b[0m                       Traceback (most recent call last)",
      "Cell \u001b[0;32mIn [1], line 1\u001b[0m\n\u001b[0;32m----> 1\u001b[0m \u001b[38;5;28;01mfrom\u001b[39;00m \u001b[38;5;21;01mreportlab\u001b[39;00m\u001b[38;5;21;01m.\u001b[39;00m\u001b[38;5;21;01mgraphics\u001b[39;00m \u001b[38;5;28;01mimport\u001b[39;00m renderPDF\n\u001b[1;32m      2\u001b[0m \u001b[38;5;28;01mfrom\u001b[39;00m \u001b[38;5;21;01mnltk\u001b[39;00m\u001b[38;5;21;01m.\u001b[39;00m\u001b[38;5;21;01mtokenize\u001b[39;00m \u001b[38;5;28;01mimport\u001b[39;00m word_tokenize\n\u001b[1;32m      3\u001b[0m \u001b[38;5;28;01mfrom\u001b[39;00m \u001b[38;5;21;01mnltk\u001b[39;00m\u001b[38;5;21;01m.\u001b[39;00m\u001b[38;5;21;01mcorpus\u001b[39;00m \u001b[38;5;28;01mimport\u001b[39;00m stopwords\n",
      "\u001b[0;31mModuleNotFoundError\u001b[0m: No module named 'reportlab'"
     ]
    }
   ],
   "source": [
    "from reportlab.graphics import renderPDF\n",
    "from nltk.tokenize import word_tokenize\n",
    "from nltk.corpus import stopwords\n",
    "from svglib.svglib import svg2rlg\n",
    "from wordcloud import WordCloud\n",
    "import matplotlib.pyplot as plt\n",
    "import pandas as pd\n",
    "import numpy as np\n",
    "import random\n",
    "import nltk\n",
    "import re"
   ]
  },
  {
   "cell_type": "markdown",
   "id": "d2fdb9e2-0494-4e52-b8e9-056f4e3e86f3",
   "metadata": {},
   "source": [
    "## Parameters"
   ]
  },
  {
   "cell_type": "code",
   "execution_count": null,
   "id": "adda84a3-4daf-4b53-9315-cb6a6ea8734e",
   "metadata": {},
   "outputs": [],
   "source": [
    "WORD_CLOUDS_PATH = \"../Plots/wordclouds/\"\n",
    "FONT_PATH = 'fonts/manrope-regular.otf'"
   ]
  },
  {
   "cell_type": "markdown",
   "id": "2ee43a1a-5b08-4a00-9e12-55a61633db19",
   "metadata": {},
   "source": [
    "## Setup Packags"
   ]
  },
  {
   "cell_type": "code",
   "execution_count": null,
   "id": "cc65b2a8-a103-4e43-8520-0189ee0d2741",
   "metadata": {},
   "outputs": [],
   "source": [
    "nltk.download('punkt')\n",
    "nltk.download('stopwords')\n",
    "STOPWORDS = set(stopwords.words(\"german\"))\n",
    "STOPWORDS.update([\"mehr\", \"heute\",\"https\", \"bundestag\", \"thread\", \"anzeigen\"])"
   ]
  },
  {
   "cell_type": "markdown",
   "id": "e7f09fb3-873e-4632-b1c3-e84a14e9392e",
   "metadata": {},
   "source": [
    "## Code"
   ]
  },
  {
   "cell_type": "markdown",
   "id": "c6ca4149-8320-44b9-8027-08475573d804",
   "metadata": {},
   "source": [
    "### 1. Load Data"
   ]
  },
  {
   "cell_type": "code",
   "execution_count": null,
   "id": "7d16ffd5-2d51-484f-b5b6-967ad579d015",
   "metadata": {},
   "outputs": [],
   "source": [
    "df = pd.read_csv(\"all_tweets_predicted_bert93.csv\")[[\"Embedded_text\", \"sentiment_prediction\"]]\n",
    "df = df.rename(columns={'Embedded_text': 'text', 'sentiment_prediction': 'sentiment'})"
   ]
  },
  {
   "cell_type": "code",
   "execution_count": null,
   "id": "a023f9db-a6ba-4cae-a972-10970eb4c34c",
   "metadata": {},
   "outputs": [],
   "source": [
    "df"
   ]
  },
  {
   "cell_type": "markdown",
   "id": "559d5a73-85d8-4d25-bfd3-498e70cc2bf7",
   "metadata": {},
   "source": [
    "### 2. Function to Clean Text\n",
    "Source: https://data-dive.com/german-nlp-binary-text-classification-of-reviews-part1"
   ]
  },
  {
   "cell_type": "code",
   "execution_count": null,
   "id": "c119b565-aab1-431a-ae29-ab990c059e4c",
   "metadata": {},
   "outputs": [],
   "source": [
    "def clean_text(text):\n",
    "    RE_WSPACE = re.compile(r\"\\s+\", re.IGNORECASE)\n",
    "    RE_TAGS = re.compile(r\"<[^>]+>\")\n",
    "    RE_ASCII = re.compile(r\"[^A-Za-zÀ-ž ]\", re.IGNORECASE)\n",
    "    RE_SINGLECHAR = re.compile(r\"\\b[A-Za-zÀ-ž]\\b\", re.IGNORECASE)\n",
    "    \n",
    "    text = re.sub(RE_TAGS, \" \", text)\n",
    "    text = re.sub(RE_ASCII, \" \", text)\n",
    "    text = re.sub(RE_SINGLECHAR, \" \", text)\n",
    "    text = re.sub(RE_WSPACE, \" \", text)\n",
    "    \n",
    "    word_tokens = word_tokenize(text)\n",
    "    text = [word.lower() for word in word_tokens]\n",
    "    text = \" \".join(text)\n",
    "    \n",
    "    return text"
   ]
  },
  {
   "cell_type": "markdown",
   "id": "254b88f1-c3e5-4062-8d20-cf2495433510",
   "metadata": {},
   "source": [
    "### 3. SVG to PDF"
   ]
  },
  {
   "cell_type": "code",
   "execution_count": null,
   "id": "8a4a5602-d73d-423c-80a8-aa29d908b7dc",
   "metadata": {},
   "outputs": [],
   "source": [
    "def svg_to_pdf(svg_filepath, pdf_filepath):\n",
    "    drawing = svg2rlg(svg_filepath)\n",
    "    renderPDF.drawToFile(drawing, pdf_filepath)"
   ]
  },
  {
   "cell_type": "markdown",
   "id": "6305fe19-57b8-4a7c-8852-f1579ed0aef0",
   "metadata": {},
   "source": [
    "### 4. Create Wordclouds for Positive, Negative and Neutral Tweets"
   ]
  },
  {
   "cell_type": "code",
   "execution_count": null,
   "id": "2e8822fa-c9d4-4e28-8d1b-77c0a6c5b3b8",
   "metadata": {},
   "outputs": [],
   "source": [
    "import matplotlib.pyplot as plt\n",
    "from wordcloud import WordCloud\n",
    "\n",
    "def generate_wordclouds(df, mode_name):\n",
    "    # Group dataframe by sentiment\n",
    "    grouped = df.groupby('sentiment')\n",
    "\n",
    "    # Iterate over each group\n",
    "    for sentiment, group in grouped:\n",
    "        print(f'Word Cloud for Sentiment: {sentiment}')\n",
    "\n",
    "        # Create a list of all the tweets for the current sentiment\n",
    "        tweets = group['text'].tolist()\n",
    "\n",
    "        # Create a single string of all the tweets for the current sentiment\n",
    "        text = ' '.join(tweets)\n",
    "\n",
    "        # Clean Text\n",
    "        text = clean_text(text)\n",
    "\n",
    "        # Create a wordcloud\n",
    "        wordcloud = WordCloud(background_color=\"white\", max_words=100, width=1000, height=700, stopwords=STOPWORDS, font_path=FONT_PATH).generate(text)\n",
    "\n",
    "        # Save wordcloud as svg\n",
    "        wordcloud_svg = wordcloud.to_svg(embed_font=True)\n",
    "        svg_path = WORD_CLOUDS_PATH + mode_name + \"_wordcloud_\" + str(sentiment) + \".svg\"\n",
    "        f = open(svg_path, \"w+\")\n",
    "        f.write(wordcloud_svg)\n",
    "        f.close()\n",
    "\n",
    "        # Save wordcloud as pdf\n",
    "        pdf_path = WORD_CLOUDS_PATH + mode_name + \"_wordcloud_\" + str(sentiment) + \".pdf\"\n",
    "        svg_to_pdf(svg_path, pdf_path)\n",
    "\n",
    "        # Save wordcloud as png\n",
    "        png_path = WORD_CLOUDS_PATH + mode_name + \"_wordcloud_\" + str(sentiment) + \".png\"\n",
    "        wordcloud.to_file(png_path)\n",
    "\n",
    "        # Display the wordcloud\n",
    "        plt.imshow(wordcloud, interpolation='bilinear')\n",
    "        plt.axis(\"off\")\n",
    "        plt.show()"
   ]
  },
  {
   "cell_type": "code",
   "execution_count": null,
   "id": "052475b8-d9de-4548-b312-a7e7378e611e",
   "metadata": {},
   "outputs": [],
   "source": [
    "generate_wordclouds(df, \"complete_dataset\")"
   ]
  }
 ],
 "metadata": {
  "kernelspec": {
   "display_name": "Python 3 (ipykernel)",
   "language": "python",
   "name": "python3"
  },
  "language_info": {
   "codemirror_mode": {
    "name": "ipython",
    "version": 3
   },
   "file_extension": ".py",
   "mimetype": "text/x-python",
   "name": "python",
   "nbconvert_exporter": "python",
   "pygments_lexer": "ipython3",
   "version": "3.10.6"
  }
 },
 "nbformat": 4,
 "nbformat_minor": 5
}
