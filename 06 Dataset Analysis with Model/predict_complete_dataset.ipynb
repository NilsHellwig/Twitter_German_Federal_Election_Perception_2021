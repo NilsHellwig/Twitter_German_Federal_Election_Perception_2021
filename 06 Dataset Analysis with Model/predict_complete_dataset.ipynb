{
 "cells": [
  {
   "cell_type": "markdown",
   "id": "7ac4be88-6525-4b4b-b902-d512a8d24f38",
   "metadata": {},
   "source": [
    "# Notebook: Predict Complete Dataset\n",
    "\n",
    "This notebook is used to predict the sentiment for the entire data set. The results\n",
    "<br>**Contributors:** [Nils Hellwig](https://github.com/NilsHellwig/) | [Markus Bink](https://github.com/MarkusBink/)"
   ]
  },
  {
   "cell_type": "markdown",
   "id": "7aa5b805-492b-4d4d-89a7-5826d22a9ced",
   "metadata": {},
   "source": [
    "## Packages"
   ]
  },
  {
   "cell_type": "code",
   "execution_count": null,
   "id": "3744f425-51a1-441a-89c9-65cbdf542922",
   "metadata": {},
   "outputs": [],
   "source": [
    "from simpletransformers.classification import ClassificationModel\n",
    "import pandas as pd\n",
    "import os"
   ]
  },
  {
   "cell_type": "markdown",
   "id": "3b0aeeb1-02b3-4948-af57-00eafaa8bb85",
   "metadata": {},
   "source": [
    "## Parameters"
   ]
  },
  {
   "cell_type": "code",
   "execution_count": null,
   "id": "928470a0-6b4e-48f1-8b3a-ad0d5d473f2b",
   "metadata": {},
   "outputs": [],
   "source": [
    "MODEL_TYPE = \"bert\"\n",
    "MODEL_PATH = \"../Trainings/Models/GermEval_and_Annotaded_it_0\"\n",
    "DATASET_PATH = \"../Datasets/dataset/\"\n",
    "PREDICTION_DIRECTORY_PATH = \"../Datasets/complete_dataset_predictions/\"\n",
    "USE_CUDA = False\n",
    "PARTIES = [\"CDU_CSU\", \"SPD\", \"AFD\", \"FDP\", \"GRUENE\", \"LINKE\"]"
   ]
  },
  {
   "cell_type": "markdown",
   "id": "af96c065-e54a-4e7a-85a2-92fc44d1aff8",
   "metadata": {},
   "source": [
    "## Code"
   ]
  },
  {
   "cell_type": "markdown",
   "id": "839072b7-69ef-4df9-a303-7c4868bc04f5",
   "metadata": {},
   "source": [
    "### 1. Create Directories for Predictions"
   ]
  },
  {
   "cell_type": "code",
   "execution_count": null,
   "id": "fb058baf-91b3-49d6-bef3-5d3746df9660",
   "metadata": {},
   "outputs": [],
   "source": [
    "# Iterate over the parties\n",
    "for party in PARTIES:\n",
    "    # Try to create the directory for the party\n",
    "    try:\n",
    "        os.makedirs(PREDICTION_DIRECTORY_PATH + party)\n",
    "    except FileExistsError:\n",
    "        # The directory already exists, so do nothing\n",
    "        pass"
   ]
  },
  {
   "cell_type": "markdown",
   "id": "142f2c0a-f664-43b6-94d2-c70f333949da",
   "metadata": {},
   "source": [
    "### 1. Load Model"
   ]
  },
  {
   "cell_type": "code",
   "execution_count": null,
   "id": "2ef6b8ae-9825-4e77-a5db-dfbf5000cdce",
   "metadata": {},
   "outputs": [],
   "source": [
    "model = ClassificationModel(model_type=MODEL_TYPE, model_name=MODEL_PATH, use_cuda=USE_CUDA)"
   ]
  },
  {
   "cell_type": "markdown",
   "id": "28c1b34d-3d37-4572-81ca-881294907e60",
   "metadata": {},
   "source": [
    "Test Model"
   ]
  },
  {
   "cell_type": "code",
   "execution_count": null,
   "id": "925fa7c0-b3fe-4b2a-bed3-92ef34d5ff49",
   "metadata": {},
   "outputs": [],
   "source": [
    "predictions, raw_outputs = model.predict([\"Das war ein super Tag in Köln! Vielen Dank euch alle, das war super!\", \"Diese scheiß Politik! Merkel die Hexe muss weg!\"])"
   ]
  },
  {
   "cell_type": "code",
   "execution_count": null,
   "id": "c63f0684-4850-411f-94dd-6ba617888da5",
   "metadata": {},
   "outputs": [],
   "source": [
    "predictions"
   ]
  },
  {
   "cell_type": "markdown",
   "id": "7c113236-61bc-43de-8fe8-f870e4fb21d6",
   "metadata": {},
   "source": [
    "### 2. Predict Sentiment of Dataset"
   ]
  },
  {
   "cell_type": "code",
   "execution_count": null,
   "id": "c98d2f02-1284-466b-b0fe-467b8f65de69",
   "metadata": {},
   "outputs": [],
   "source": [
    "for party in PARTIES:\n",
    "    for subdir, _, files in os.walk(DATASET_PATH + party):\n",
    "        for file in files:\n",
    "            if file.endswith('.csv') and subdir[len(DATASET_PATH):] in PARTIES:\n",
    "                # Get username of CSV file\n",
    "                username = file[:-4]\n",
    "                \n",
    "                print(f'Current account: {username}')\n",
    "                \n",
    "                # Read CSV file as pandas dataframe\n",
    "                df = pd.read_csv(DATASET_PATH + party + \"/\" + file)\n",
    "                \n",
    "                # Use model to predict the sentiment of each tweet\n",
    "                sentiment_predictions, raw_outputs = model.predict(df[\"tweet\"].tolist())\n",
    "                \n",
    "                # Combine sentiment predictions and original dataframe and remove every column except the id and pred column\n",
    "                df_pred = pd.concat([df, pd.DataFrame({'pred': sentiment_predictions})], axis=1).reset_index(drop=True).loc[:, ['id', 'pred']]\n",
    "                \n",
    "                # Save modified daraframe to a CSV file in the prediction directory\n",
    "                df_pred.to_csv(PREDICTION_DIRECTORY_PATH + party + \"/\"+username+\".csv\")"
   ]
  }
 ],
 "metadata": {
  "kernelspec": {
   "display_name": "Python 3 (ipykernel)",
   "language": "python",
   "name": "python3"
  },
  "language_info": {
   "codemirror_mode": {
    "name": "ipython",
    "version": 3
   },
   "file_extension": ".py",
   "mimetype": "text/x-python",
   "name": "python",
   "nbconvert_exporter": "python",
   "pygments_lexer": "ipython3",
   "version": "3.10.8"
  }
 },
 "nbformat": 4,
 "nbformat_minor": 5
}
