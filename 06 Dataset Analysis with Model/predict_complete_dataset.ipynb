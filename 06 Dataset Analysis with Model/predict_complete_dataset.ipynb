{
 "cells": [
  {
   "cell_type": "markdown",
   "id": "7ac4be88-6525-4b4b-b902-d512a8d24f38",
   "metadata": {},
   "source": [
    "# Notebook: Predict Complete Dataset\n",
    "\n",
    "This notebook is used to predict the sentiment for the entire data set. The results\n",
    "<br>**Contributors:** [Nils Hellwig](https://github.com/NilsHellwig/) | [Markus Bink](https://github.com/MarkusBink/)"
   ]
  },
  {
   "cell_type": "markdown",
   "id": "7aa5b805-492b-4d4d-89a7-5826d22a9ced",
   "metadata": {},
   "source": [
    "## Packages"
   ]
  },
  {
   "cell_type": "code",
   "execution_count": null,
   "id": "3744f425-51a1-441a-89c9-65cbdf542922",
   "metadata": {},
   "outputs": [],
   "source": []
  },
  {
   "cell_type": "markdown",
   "id": "3b0aeeb1-02b3-4948-af57-00eafaa8bb85",
   "metadata": {},
   "source": [
    "## Parameters"
   ]
  },
  {
   "cell_type": "code",
   "execution_count": null,
   "id": "928470a0-6b4e-48f1-8b3a-ad0d5d473f2b",
   "metadata": {},
   "outputs": [],
   "source": []
  },
  {
   "cell_type": "markdown",
   "id": "af96c065-e54a-4e7a-85a2-92fc44d1aff8",
   "metadata": {},
   "source": [
    "## Code"
   ]
  },
  {
   "cell_type": "code",
   "execution_count": null,
   "id": "0e1ad19a-9c97-4ab2-bcba-13f37b1ac706",
   "metadata": {},
   "outputs": [],
   "source": []
  }
 ],
 "metadata": {
  "kernelspec": {
   "display_name": "Python 3 (ipykernel)",
   "language": "python",
   "name": "python3"
  },
  "language_info": {
   "codemirror_mode": {
    "name": "ipython",
    "version": 3
   },
   "file_extension": ".py",
   "mimetype": "text/x-python",
   "name": "python",
   "nbconvert_exporter": "python",
   "pygments_lexer": "ipython3",
   "version": "3.10.8"
  }
 },
 "nbformat": 4,
 "nbformat_minor": 5
}
