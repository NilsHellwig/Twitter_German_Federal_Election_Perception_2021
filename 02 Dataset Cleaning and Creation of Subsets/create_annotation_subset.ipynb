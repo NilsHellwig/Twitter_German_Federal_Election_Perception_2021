{
 "cells": [
  {
   "cell_type": "markdown",
   "id": "e2a2d3d2-6f3a-4f9e-987f-636acb8d2583",
   "metadata": {},
   "source": [
    "# Notebook: Create Subset\n",
    "\n",
    "This notebook is used to create a subset of **2000** tweets, which will then be annotated with respect to their sentiment.\n",
    "<br>**Contributors:** [Nils Hellwig](https://github.com/NilsHellwig/) | [Markus Bink](https://github.com/MarkusBink/)"
   ]
  },
  {
   "cell_type": "markdown",
   "id": "06150cb8-bd07-413c-817a-d346f10b32ac",
   "metadata": {},
   "source": [
    "## Packages"
   ]
  },
  {
   "cell_type": "code",
   "execution_count": 98,
   "id": "9ab58f7b-ae84-4dc0-a521-6215096f0c8f",
   "metadata": {},
   "outputs": [],
   "source": [
    "from sklearn.utils import shuffle\n",
    "import pandas as pd\n",
    "import numpy as np\n",
    "import random\n",
    "import os"
   ]
  },
  {
   "cell_type": "markdown",
   "id": "988733c0-13c0-4318-bf57-dabf11fbf4a4",
   "metadata": {},
   "source": [
    "## Parameters"
   ]
  },
  {
   "cell_type": "code",
   "execution_count": 99,
   "id": "692d6040-8acc-4cc1-99b9-b14523639391",
   "metadata": {},
   "outputs": [],
   "source": [
    "ANNOTATION_DATASET_PATH = '../Datasets/annotation_dataset'\n",
    "DATASET_PATH = '../Datasets/dataset/'\n",
    "SUBSET_SIZE = 2000\n",
    "SEED_VALUE = 0\n",
    "PARTIES = [\"CDU_CSU\", \"SPD\", \"AfD\", \"FDP\", \"GRUENE\", \"LINKE\"]"
   ]
  },
  {
   "cell_type": "markdown",
   "id": "90d9edba-ca8f-49be-aa38-1460c13ba0f6",
   "metadata": {},
   "source": [
    "## Code"
   ]
  },
  {
   "cell_type": "markdown",
   "id": "6bacc92a-ed60-41ae-be2a-706c00759475",
   "metadata": {},
   "source": [
    "### 1. Get Reproducable Results"
   ]
  },
  {
   "cell_type": "code",
   "execution_count": 100,
   "id": "4f7168c3-07d4-4403-be63-46ffcbcc5067",
   "metadata": {},
   "outputs": [],
   "source": [
    "os.environ['PYTHONHASHSEED'] = str(SEED_VALUE)\n",
    "random.seed(SEED_VALUE)\n",
    "np.random.seed(SEED_VALUE)"
   ]
  },
  {
   "cell_type": "markdown",
   "id": "46d1121b-d789-45c7-84a7-557256c2a578",
   "metadata": {},
   "source": [
    "### 2. Calculate Number of Tweets"
   ]
  },
  {
   "cell_type": "code",
   "execution_count": 101,
   "id": "8faa9305-c8a6-4ec1-9b06-18831a80e0d0",
   "metadata": {},
   "outputs": [],
   "source": [
    "n_tweets_total = 0"
   ]
  },
  {
   "cell_type": "code",
   "execution_count": 102,
   "id": "b563bd79-5b1a-4892-9a82-7206c3f4bcf8",
   "metadata": {},
   "outputs": [
    {
     "name": "stderr",
     "output_type": "stream",
     "text": [
      "/var/folders/qy/5gtwsk6s7jgbknbqgb533x9w0000gn/T/ipykernel_37686/479282713.py:9: DtypeWarning: Columns (6) have mixed types. Specify dtype option on import or set low_memory=False.\n",
      "  df = pd.read_csv(DATASET_PATH + party + \"/\" + file, sep=\",\", index_col=0)\n",
      "/var/folders/qy/5gtwsk6s7jgbknbqgb533x9w0000gn/T/ipykernel_37686/479282713.py:9: DtypeWarning: Columns (6) have mixed types. Specify dtype option on import or set low_memory=False.\n",
      "  df = pd.read_csv(DATASET_PATH + party + \"/\" + file, sep=\",\", index_col=0)\n",
      "/var/folders/qy/5gtwsk6s7jgbknbqgb533x9w0000gn/T/ipykernel_37686/479282713.py:9: DtypeWarning: Columns (6) have mixed types. Specify dtype option on import or set low_memory=False.\n",
      "  df = pd.read_csv(DATASET_PATH + party + \"/\" + file, sep=\",\", index_col=0)\n",
      "/var/folders/qy/5gtwsk6s7jgbknbqgb533x9w0000gn/T/ipykernel_37686/479282713.py:9: DtypeWarning: Columns (6) have mixed types. Specify dtype option on import or set low_memory=False.\n",
      "  df = pd.read_csv(DATASET_PATH + party + \"/\" + file, sep=\",\", index_col=0)\n",
      "/var/folders/qy/5gtwsk6s7jgbknbqgb533x9w0000gn/T/ipykernel_37686/479282713.py:9: DtypeWarning: Columns (6) have mixed types. Specify dtype option on import or set low_memory=False.\n",
      "  df = pd.read_csv(DATASET_PATH + party + \"/\" + file, sep=\",\", index_col=0)\n",
      "/var/folders/qy/5gtwsk6s7jgbknbqgb533x9w0000gn/T/ipykernel_37686/479282713.py:9: DtypeWarning: Columns (6) have mixed types. Specify dtype option on import or set low_memory=False.\n",
      "  df = pd.read_csv(DATASET_PATH + party + \"/\" + file, sep=\",\", index_col=0)\n",
      "/var/folders/qy/5gtwsk6s7jgbknbqgb533x9w0000gn/T/ipykernel_37686/479282713.py:9: DtypeWarning: Columns (6) have mixed types. Specify dtype option on import or set low_memory=False.\n",
      "  df = pd.read_csv(DATASET_PATH + party + \"/\" + file, sep=\",\", index_col=0)\n"
     ]
    }
   ],
   "source": [
    "for party in PARTIES:\n",
    "    for subdir, _, files in os.walk(DATASET_PATH + party):\n",
    "        for file in files:\n",
    "            if file.endswith('.csv') and subdir[len(DATASET_PATH):] in PARTIES:\n",
    "                # Get username of CSV file\n",
    "                username = file[:-4]\n",
    "                \n",
    "                # Read dataframe\n",
    "                df = pd.read_csv(DATASET_PATH + party + \"/\" + file, sep=\",\", index_col=0)\n",
    "                \n",
    "                # Add length to n_tweets_total\n",
    "                n_tweets_total += df.shape[0]"
   ]
  },
  {
   "cell_type": "code",
   "execution_count": 103,
   "id": "ec28b0e5-c25f-4031-a6a0-d1e7e6942ade",
   "metadata": {},
   "outputs": [
    {
     "data": {
      "text/plain": [
       "713486"
      ]
     },
     "execution_count": 103,
     "metadata": {},
     "output_type": "execute_result"
    }
   ],
   "source": [
    "n_tweets_total"
   ]
  },
  {
   "cell_type": "markdown",
   "id": "995571ba-50b8-4e24-a334-a9de6cbfa2f3",
   "metadata": {},
   "source": [
    "### 3. Get Random Tweets From Each Account"
   ]
  },
  {
   "cell_type": "code",
   "execution_count": 104,
   "id": "f5e758de-ed07-4c45-840f-c2cbb7d34d43",
   "metadata": {},
   "outputs": [],
   "source": [
    "n_subset_total = 0"
   ]
  },
  {
   "cell_type": "code",
   "execution_count": 105,
   "id": "0fd7c904-51be-444e-b515-628c68fb7734",
   "metadata": {},
   "outputs": [],
   "source": [
    "annotation_dataset = pd.DataFrame()"
   ]
  },
  {
   "cell_type": "code",
   "execution_count": 106,
   "id": "a5de45b0-5e99-4a72-a3d3-e843be24a591",
   "metadata": {},
   "outputs": [
    {
     "name": "stderr",
     "output_type": "stream",
     "text": [
      "/var/folders/qy/5gtwsk6s7jgbknbqgb533x9w0000gn/T/ipykernel_37686/3074095515.py:12: DtypeWarning: Columns (6) have mixed types. Specify dtype option on import or set low_memory=False.\n",
      "  df_account = pd.read_csv(DATASET_PATH + party + \"/\" + file, sep=\",\", index_col=0)\n",
      "/var/folders/qy/5gtwsk6s7jgbknbqgb533x9w0000gn/T/ipykernel_37686/3074095515.py:12: DtypeWarning: Columns (6) have mixed types. Specify dtype option on import or set low_memory=False.\n",
      "  df_account = pd.read_csv(DATASET_PATH + party + \"/\" + file, sep=\",\", index_col=0)\n",
      "/var/folders/qy/5gtwsk6s7jgbknbqgb533x9w0000gn/T/ipykernel_37686/3074095515.py:12: DtypeWarning: Columns (6) have mixed types. Specify dtype option on import or set low_memory=False.\n",
      "  df_account = pd.read_csv(DATASET_PATH + party + \"/\" + file, sep=\",\", index_col=0)\n",
      "/var/folders/qy/5gtwsk6s7jgbknbqgb533x9w0000gn/T/ipykernel_37686/3074095515.py:12: DtypeWarning: Columns (6) have mixed types. Specify dtype option on import or set low_memory=False.\n",
      "  df_account = pd.read_csv(DATASET_PATH + party + \"/\" + file, sep=\",\", index_col=0)\n",
      "/var/folders/qy/5gtwsk6s7jgbknbqgb533x9w0000gn/T/ipykernel_37686/3074095515.py:12: DtypeWarning: Columns (6) have mixed types. Specify dtype option on import or set low_memory=False.\n",
      "  df_account = pd.read_csv(DATASET_PATH + party + \"/\" + file, sep=\",\", index_col=0)\n",
      "/var/folders/qy/5gtwsk6s7jgbknbqgb533x9w0000gn/T/ipykernel_37686/3074095515.py:12: DtypeWarning: Columns (6) have mixed types. Specify dtype option on import or set low_memory=False.\n",
      "  df_account = pd.read_csv(DATASET_PATH + party + \"/\" + file, sep=\",\", index_col=0)\n",
      "/var/folders/qy/5gtwsk6s7jgbknbqgb533x9w0000gn/T/ipykernel_37686/3074095515.py:12: DtypeWarning: Columns (6) have mixed types. Specify dtype option on import or set low_memory=False.\n",
      "  df_account = pd.read_csv(DATASET_PATH + party + \"/\" + file, sep=\",\", index_col=0)\n"
     ]
    }
   ],
   "source": [
    "for party in PARTIES:\n",
    "    # Initialize an empty DataFrame to store the tweets from accounts of a party\n",
    "    df_party = pd.DataFrame()\n",
    "    \n",
    "    for subdir, _, files in os.walk(DATASET_PATH + party):\n",
    "        for file in files:\n",
    "            if file.endswith('.csv') and subdir[len(DATASET_PATH):] in PARTIES:\n",
    "                # Get username of CSV file\n",
    "                username = file[:-4]\n",
    "                \n",
    "                # Read dataframe\n",
    "                df_account = pd.read_csv(DATASET_PATH + party + \"/\" + file, sep=\",\", index_col=0)\n",
    "                \n",
    "                # Save the information for which account the tweet was crawled\n",
    "                df_account['source_account'] = username\n",
    "                df_account['source_party'] = party\n",
    "                \n",
    "                # Add dataframe to party dataframe\n",
    "                df_party = pd.concat([df_party, df_account], axis=0).reset_index().drop(columns='index')\n",
    "                \n",
    "    n_tweets_party = df_party.shape[0]\n",
    "    n_tweets_party_for_subset = round((SUBSET_SIZE / n_tweets_total) * n_tweets_party)\n",
    "    n_subset_total += n_tweets_party_for_subset\n",
    "                \n",
    "    df_samples_for_party = df_party.sample(n=n_tweets_party_for_subset, random_state=SEED_VALUE)\n",
    "    annotation_dataset = pd.concat([annotation_dataset, df_samples_for_party], axis=0).reset_index().drop(columns='index')       \n",
    "    #print(party, username, n_tweets_party, n_tweets_party_for_subset, (SUBSET_SIZE / n_tweets_total) * n_tweets_party, n_tweets_party_for_subset)"
   ]
  },
  {
   "cell_type": "code",
   "execution_count": 107,
   "id": "5010af5b-e7a3-4854-944e-9c6250cae815",
   "metadata": {},
   "outputs": [
    {
     "data": {
      "text/plain": [
       "1999"
      ]
     },
     "execution_count": 107,
     "metadata": {},
     "output_type": "execute_result"
    }
   ],
   "source": [
    "n_subset_total"
   ]
  },
  {
   "cell_type": "markdown",
   "id": "c8918727-e308-4751-b2db-21c73fc52190",
   "metadata": {},
   "source": [
    "### 4. Create Sub Datasets for Annotation "
   ]
  },
  {
   "cell_type": "code",
   "execution_count": 108,
   "id": "69da96cf-d110-4bb0-b214-267ad7e2afd6",
   "metadata": {},
   "outputs": [],
   "source": [
    "annotation_dataset = annotation_dataset.sample(frac=1, random_state=SEED_VALUE).reset_index()\n",
    "annotation_dataset = annotation_dataset.loc[:, ['id', 'username', 'date', 'tweet']]"
   ]
  },
  {
   "cell_type": "code",
   "execution_count": 109,
   "id": "a29ced74-cd82-46b0-940a-59128bfd88d3",
   "metadata": {},
   "outputs": [],
   "source": [
    "df_session1 = annotation_dataset[:int(SUBSET_SIZE/2)]\n",
    "df_session2 = annotation_dataset[int(SUBSET_SIZE/2):]"
   ]
  },
  {
   "cell_type": "code",
   "execution_count": 110,
   "id": "7b0e4ee8-0ebe-4f2d-8870-bd193cddc7e9",
   "metadata": {},
   "outputs": [
    {
     "data": {
      "text/html": [
       "<div>\n",
       "<style scoped>\n",
       "    .dataframe tbody tr th:only-of-type {\n",
       "        vertical-align: middle;\n",
       "    }\n",
       "\n",
       "    .dataframe tbody tr th {\n",
       "        vertical-align: top;\n",
       "    }\n",
       "\n",
       "    .dataframe thead th {\n",
       "        text-align: right;\n",
       "    }\n",
       "</style>\n",
       "<table border=\"1\" class=\"dataframe\">\n",
       "  <thead>\n",
       "    <tr style=\"text-align: right;\">\n",
       "      <th></th>\n",
       "      <th>id</th>\n",
       "      <th>username</th>\n",
       "      <th>date</th>\n",
       "      <th>tweet</th>\n",
       "    </tr>\n",
       "  </thead>\n",
       "  <tbody>\n",
       "    <tr>\n",
       "      <th>0</th>\n",
       "      <td>1394590713048936451</td>\n",
       "      <td>Noelte030</td>\n",
       "      <td>2021-05-18 09:48:30</td>\n",
       "      <td>@DoroBaer @TeacherTokaryk @republica @LSMuelle...</td>\n",
       "    </tr>\n",
       "    <tr>\n",
       "      <th>1</th>\n",
       "      <td>1382657930114256899</td>\n",
       "      <td>eb_ballhausen</td>\n",
       "      <td>2021-04-15 11:31:53</td>\n",
       "      <td>@Karl_Lauterbach Wow, Klabauterbach hat die Ka...</td>\n",
       "    </tr>\n",
       "    <tr>\n",
       "      <th>2</th>\n",
       "      <td>1458877998501933062</td>\n",
       "      <td>axchapman</td>\n",
       "      <td>2021-11-11 19:23:14</td>\n",
       "      <td>@IngwerBaum @Karl_Lauterbach @Krawallstein @Af...</td>\n",
       "    </tr>\n",
       "    <tr>\n",
       "      <th>3</th>\n",
       "      <td>1408888008745553924</td>\n",
       "      <td>HighAsSappyFuck</td>\n",
       "      <td>2021-06-26 20:40:51</td>\n",
       "      <td>@KonterKarma @Alice_Weidel Ein bisschen durch ...</td>\n",
       "    </tr>\n",
       "    <tr>\n",
       "      <th>4</th>\n",
       "      <td>1359558612360835076</td>\n",
       "      <td>TimDemisch</td>\n",
       "      <td>2021-02-10 17:43:27</td>\n",
       "      <td>@josefheynckes @OlafScholz Im Raum steht die F...</td>\n",
       "    </tr>\n",
       "    <tr>\n",
       "      <th>...</th>\n",
       "      <td>...</td>\n",
       "      <td>...</td>\n",
       "      <td>...</td>\n",
       "      <td>...</td>\n",
       "    </tr>\n",
       "    <tr>\n",
       "      <th>995</th>\n",
       "      <td>1439274126640926729</td>\n",
       "      <td>Iro09908973</td>\n",
       "      <td>2021-09-18 17:04:26</td>\n",
       "      <td>@berlinerzeitung @hungerstreik21 @Die_Gruenen ...</td>\n",
       "    </tr>\n",
       "    <tr>\n",
       "      <th>996</th>\n",
       "      <td>1438566205590327300</td>\n",
       "      <td>BeatricevF1</td>\n",
       "      <td>2021-09-16 18:11:25</td>\n",
       "      <td>CDU/CSU ist das Plumpsklo für Laschet mit Maaß...</td>\n",
       "    </tr>\n",
       "    <tr>\n",
       "      <th>997</th>\n",
       "      <td>1431373413524942850</td>\n",
       "      <td>GHG_goe</td>\n",
       "      <td>2021-08-27 21:49:50</td>\n",
       "      <td>@FelixSchabasian @spdde @FranziskaGiffey Bitte...</td>\n",
       "    </tr>\n",
       "    <tr>\n",
       "      <th>998</th>\n",
       "      <td>1443851640440868864</td>\n",
       "      <td>ODDO60</td>\n",
       "      <td>2021-10-01 08:13:51</td>\n",
       "      <td>@CDU @ArminLaschet @PaulZiemiak @rbrinkhaus @j...</td>\n",
       "    </tr>\n",
       "    <tr>\n",
       "      <th>999</th>\n",
       "      <td>1474150637294305281</td>\n",
       "      <td>gruenix</td>\n",
       "      <td>2021-12-23 22:51:14</td>\n",
       "      <td>@StBrandner Was Sie sagen ist Blödsinn. Hören ...</td>\n",
       "    </tr>\n",
       "  </tbody>\n",
       "</table>\n",
       "<p>1000 rows × 4 columns</p>\n",
       "</div>"
      ],
      "text/plain": [
       "                      id         username                 date  \\\n",
       "0    1394590713048936451        Noelte030  2021-05-18 09:48:30   \n",
       "1    1382657930114256899    eb_ballhausen  2021-04-15 11:31:53   \n",
       "2    1458877998501933062        axchapman  2021-11-11 19:23:14   \n",
       "3    1408888008745553924  HighAsSappyFuck  2021-06-26 20:40:51   \n",
       "4    1359558612360835076       TimDemisch  2021-02-10 17:43:27   \n",
       "..                   ...              ...                  ...   \n",
       "995  1439274126640926729      Iro09908973  2021-09-18 17:04:26   \n",
       "996  1438566205590327300      BeatricevF1  2021-09-16 18:11:25   \n",
       "997  1431373413524942850          GHG_goe  2021-08-27 21:49:50   \n",
       "998  1443851640440868864           ODDO60  2021-10-01 08:13:51   \n",
       "999  1474150637294305281          gruenix  2021-12-23 22:51:14   \n",
       "\n",
       "                                                 tweet  \n",
       "0    @DoroBaer @TeacherTokaryk @republica @LSMuelle...  \n",
       "1    @Karl_Lauterbach Wow, Klabauterbach hat die Ka...  \n",
       "2    @IngwerBaum @Karl_Lauterbach @Krawallstein @Af...  \n",
       "3    @KonterKarma @Alice_Weidel Ein bisschen durch ...  \n",
       "4    @josefheynckes @OlafScholz Im Raum steht die F...  \n",
       "..                                                 ...  \n",
       "995  @berlinerzeitung @hungerstreik21 @Die_Gruenen ...  \n",
       "996  CDU/CSU ist das Plumpsklo für Laschet mit Maaß...  \n",
       "997  @FelixSchabasian @spdde @FranziskaGiffey Bitte...  \n",
       "998  @CDU @ArminLaschet @PaulZiemiak @rbrinkhaus @j...  \n",
       "999  @StBrandner Was Sie sagen ist Blödsinn. Hören ...  \n",
       "\n",
       "[1000 rows x 4 columns]"
      ]
     },
     "execution_count": 110,
     "metadata": {},
     "output_type": "execute_result"
    }
   ],
   "source": [
    "df_session1.to_csv(ANNOTATION_DATASET_PATH + \"/tweets_session_1.csv\")\n",
    "df_session1"
   ]
  },
  {
   "cell_type": "code",
   "execution_count": 111,
   "id": "e8eaf39f-dc80-49eb-b452-b0c53cd2f9b9",
   "metadata": {},
   "outputs": [
    {
     "data": {
      "text/html": [
       "<div>\n",
       "<style scoped>\n",
       "    .dataframe tbody tr th:only-of-type {\n",
       "        vertical-align: middle;\n",
       "    }\n",
       "\n",
       "    .dataframe tbody tr th {\n",
       "        vertical-align: top;\n",
       "    }\n",
       "\n",
       "    .dataframe thead th {\n",
       "        text-align: right;\n",
       "    }\n",
       "</style>\n",
       "<table border=\"1\" class=\"dataframe\">\n",
       "  <thead>\n",
       "    <tr style=\"text-align: right;\">\n",
       "      <th></th>\n",
       "      <th>id</th>\n",
       "      <th>username</th>\n",
       "      <th>date</th>\n",
       "      <th>tweet</th>\n",
       "    </tr>\n",
       "  </thead>\n",
       "  <tbody>\n",
       "    <tr>\n",
       "      <th>1000</th>\n",
       "      <td>1471860454708367360</td>\n",
       "      <td>ClaudiaGoedeWe1</td>\n",
       "      <td>2021-12-17 15:10:52</td>\n",
       "      <td>@HugoMuellerVogg @KarstenSchrder @_FriedrichMe...</td>\n",
       "    </tr>\n",
       "    <tr>\n",
       "      <th>1001</th>\n",
       "      <td>1409596747572297731</td>\n",
       "      <td>torsten_s</td>\n",
       "      <td>2021-06-28 19:37:08</td>\n",
       "      <td>@_axelmeyer @spdde @Die_Gruenen @dieLinke Letz...</td>\n",
       "    </tr>\n",
       "    <tr>\n",
       "      <th>1002</th>\n",
       "      <td>1409455984192409609</td>\n",
       "      <td>RomanU__</td>\n",
       "      <td>2021-06-28 10:17:47</td>\n",
       "      <td>@pilionsegler @kv_rbk @Karl_Lauterbach  https:...</td>\n",
       "    </tr>\n",
       "    <tr>\n",
       "      <th>1003</th>\n",
       "      <td>1426330791760519172</td>\n",
       "      <td>rosiweis</td>\n",
       "      <td>2021-08-13 23:52:15</td>\n",
       "      <td>@Karl_Lauterbach Im Ablenken von Themen war Sc...</td>\n",
       "    </tr>\n",
       "    <tr>\n",
       "      <th>1004</th>\n",
       "      <td>1467181556691345409</td>\n",
       "      <td>Q_Paxxx</td>\n",
       "      <td>2021-12-04 17:18:36</td>\n",
       "      <td>@Afelia @OlafScholz Jeder der bei Bild auftrit...</td>\n",
       "    </tr>\n",
       "    <tr>\n",
       "      <th>...</th>\n",
       "      <td>...</td>\n",
       "      <td>...</td>\n",
       "      <td>...</td>\n",
       "      <td>...</td>\n",
       "    </tr>\n",
       "    <tr>\n",
       "      <th>1994</th>\n",
       "      <td>1382682158817554436</td>\n",
       "      <td>wahrheit_nurdie</td>\n",
       "      <td>2021-04-15 13:08:10</td>\n",
       "      <td>@KarlAdamek @ChanasitJonas @Karl_Lauterbach We...</td>\n",
       "    </tr>\n",
       "    <tr>\n",
       "      <th>1995</th>\n",
       "      <td>1431195832880091140</td>\n",
       "      <td>SueviaThinkTank</td>\n",
       "      <td>2021-08-27 10:04:11</td>\n",
       "      <td>@bibliopat81 @Die_Gruenen @spdde #Politbaromet...</td>\n",
       "    </tr>\n",
       "    <tr>\n",
       "      <th>1996</th>\n",
       "      <td>1405588501383553025</td>\n",
       "      <td>rodeidei</td>\n",
       "      <td>2021-06-17 18:09:47</td>\n",
       "      <td>@DFoest @c_lindner @fdp 🌈 gibt es dann da auch...</td>\n",
       "    </tr>\n",
       "    <tr>\n",
       "      <th>1997</th>\n",
       "      <td>1345444938960527360</td>\n",
       "      <td>BerndPfeiffer3</td>\n",
       "      <td>2021-01-02 19:00:45</td>\n",
       "      <td>Die GRÜNEN trauen sich das Kanzleramt zu. Mind...</td>\n",
       "    </tr>\n",
       "    <tr>\n",
       "      <th>1998</th>\n",
       "      <td>1464272931157164038</td>\n",
       "      <td>Gorgoxid</td>\n",
       "      <td>2021-11-26 16:40:46</td>\n",
       "      <td>@Karl_Lauterbach Klar Karl, der \"Booster\" wird...</td>\n",
       "    </tr>\n",
       "  </tbody>\n",
       "</table>\n",
       "<p>999 rows × 4 columns</p>\n",
       "</div>"
      ],
      "text/plain": [
       "                       id         username                 date  \\\n",
       "1000  1471860454708367360  ClaudiaGoedeWe1  2021-12-17 15:10:52   \n",
       "1001  1409596747572297731        torsten_s  2021-06-28 19:37:08   \n",
       "1002  1409455984192409609         RomanU__  2021-06-28 10:17:47   \n",
       "1003  1426330791760519172         rosiweis  2021-08-13 23:52:15   \n",
       "1004  1467181556691345409          Q_Paxxx  2021-12-04 17:18:36   \n",
       "...                   ...              ...                  ...   \n",
       "1994  1382682158817554436  wahrheit_nurdie  2021-04-15 13:08:10   \n",
       "1995  1431195832880091140  SueviaThinkTank  2021-08-27 10:04:11   \n",
       "1996  1405588501383553025         rodeidei  2021-06-17 18:09:47   \n",
       "1997  1345444938960527360   BerndPfeiffer3  2021-01-02 19:00:45   \n",
       "1998  1464272931157164038         Gorgoxid  2021-11-26 16:40:46   \n",
       "\n",
       "                                                  tweet  \n",
       "1000  @HugoMuellerVogg @KarstenSchrder @_FriedrichMe...  \n",
       "1001  @_axelmeyer @spdde @Die_Gruenen @dieLinke Letz...  \n",
       "1002  @pilionsegler @kv_rbk @Karl_Lauterbach  https:...  \n",
       "1003  @Karl_Lauterbach Im Ablenken von Themen war Sc...  \n",
       "1004  @Afelia @OlafScholz Jeder der bei Bild auftrit...  \n",
       "...                                                 ...  \n",
       "1994  @KarlAdamek @ChanasitJonas @Karl_Lauterbach We...  \n",
       "1995  @bibliopat81 @Die_Gruenen @spdde #Politbaromet...  \n",
       "1996  @DFoest @c_lindner @fdp 🌈 gibt es dann da auch...  \n",
       "1997  Die GRÜNEN trauen sich das Kanzleramt zu. Mind...  \n",
       "1998  @Karl_Lauterbach Klar Karl, der \"Booster\" wird...  \n",
       "\n",
       "[999 rows x 4 columns]"
      ]
     },
     "execution_count": 111,
     "metadata": {},
     "output_type": "execute_result"
    }
   ],
   "source": [
    "df_session2.to_csv(ANNOTATION_DATASET_PATH + \"/tweets_session_2.csv\")\n",
    "df_session2"
   ]
  }
 ],
 "metadata": {
  "kernelspec": {
   "display_name": "Python 3 (ipykernel)",
   "language": "python",
   "name": "python3"
  },
  "language_info": {
   "codemirror_mode": {
    "name": "ipython",
    "version": 3
   },
   "file_extension": ".py",
   "mimetype": "text/x-python",
   "name": "python",
   "nbconvert_exporter": "python",
   "pygments_lexer": "ipython3",
   "version": "3.10.6"
  }
 },
 "nbformat": 4,
 "nbformat_minor": 5
}
