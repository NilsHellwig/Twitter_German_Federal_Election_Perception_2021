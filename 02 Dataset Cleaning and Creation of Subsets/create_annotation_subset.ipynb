{
 "cells": [
  {
   "cell_type": "markdown",
   "id": "e2a2d3d2-6f3a-4f9e-987f-636acb8d2583",
   "metadata": {},
   "source": [
    "# Notebook: Create Subset\n",
    "\n",
    "This notebook is used to create a subset of **2000** tweets, which will then be annotated with respect to their sentiment.\n",
    "<br>**Contributors:** [Nils Hellwig](https://github.com/NilsHellwig/) | [Markus Bink](https://github.com/MarkusBink/)"
   ]
  },
  {
   "cell_type": "markdown",
   "id": "06150cb8-bd07-413c-817a-d346f10b32ac",
   "metadata": {},
   "source": [
    "## Packages"
   ]
  },
  {
   "cell_type": "code",
   "execution_count": 19,
   "id": "9ab58f7b-ae84-4dc0-a521-6215096f0c8f",
   "metadata": {},
   "outputs": [],
   "source": [
    "from sklearn.utils import shuffle\n",
    "import pandas as pd\n",
    "import numpy as np\n",
    "import random\n",
    "import os"
   ]
  },
  {
   "cell_type": "markdown",
   "id": "988733c0-13c0-4318-bf57-dabf11fbf4a4",
   "metadata": {},
   "source": [
    "## Parameters"
   ]
  },
  {
   "cell_type": "code",
   "execution_count": 20,
   "id": "692d6040-8acc-4cc1-99b9-b14523639391",
   "metadata": {},
   "outputs": [],
   "source": [
    "ANNOTATION_DATASET_PATH = '../Datasets/annotation_dataset'\n",
    "DATASET_PATH = '../Datasets/dataset/'\n",
    "SUBSET_SIZE = 2000\n",
    "SEED_VALUE = 0\n",
    "PARTIES = [\"CDU_CSU\", \"SPD\", \"AFD\", \"FDP\", \"GRUENE\", \"LINKE\"]"
   ]
  },
  {
   "cell_type": "markdown",
   "id": "90d9edba-ca8f-49be-aa38-1460c13ba0f6",
   "metadata": {},
   "source": [
    "## Code"
   ]
  },
  {
   "cell_type": "markdown",
   "id": "6bacc92a-ed60-41ae-be2a-706c00759475",
   "metadata": {},
   "source": [
    "### 1. Get Reproducable Results"
   ]
  },
  {
   "cell_type": "code",
   "execution_count": 21,
   "id": "4f7168c3-07d4-4403-be63-46ffcbcc5067",
   "metadata": {},
   "outputs": [],
   "source": [
    "os.environ['PYTHONHASHSEED'] = str(SEED_VALUE)\n",
    "random.seed(SEED_VALUE)\n",
    "np.random.seed(SEED_VALUE)"
   ]
  },
  {
   "cell_type": "markdown",
   "id": "46d1121b-d789-45c7-84a7-557256c2a578",
   "metadata": {},
   "source": [
    "### 2. Calculate Number of Tweets"
   ]
  },
  {
   "cell_type": "code",
   "execution_count": 22,
   "id": "8faa9305-c8a6-4ec1-9b06-18831a80e0d0",
   "metadata": {},
   "outputs": [],
   "source": [
    "n_tweets_total = 0\n",
    "party_statistics = {}"
   ]
  },
  {
   "cell_type": "code",
   "execution_count": 23,
   "id": "b563bd79-5b1a-4892-9a82-7206c3f4bcf8",
   "metadata": {},
   "outputs": [
    {
     "name": "stderr",
     "output_type": "stream",
     "text": [
      "/var/folders/qy/5gtwsk6s7jgbknbqgb533x9w0000gn/T/ipykernel_63853/2349382767.py:10: DtypeWarning: Columns (6) have mixed types. Specify dtype option on import or set low_memory=False.\n",
      "  df = pd.read_csv(DATASET_PATH + party + \"/\" + file, sep=\",\", index_col=0)\n",
      "/var/folders/qy/5gtwsk6s7jgbknbqgb533x9w0000gn/T/ipykernel_63853/2349382767.py:10: DtypeWarning: Columns (6) have mixed types. Specify dtype option on import or set low_memory=False.\n",
      "  df = pd.read_csv(DATASET_PATH + party + \"/\" + file, sep=\",\", index_col=0)\n",
      "/var/folders/qy/5gtwsk6s7jgbknbqgb533x9w0000gn/T/ipykernel_63853/2349382767.py:10: DtypeWarning: Columns (6) have mixed types. Specify dtype option on import or set low_memory=False.\n",
      "  df = pd.read_csv(DATASET_PATH + party + \"/\" + file, sep=\",\", index_col=0)\n",
      "/var/folders/qy/5gtwsk6s7jgbknbqgb533x9w0000gn/T/ipykernel_63853/2349382767.py:10: DtypeWarning: Columns (6) have mixed types. Specify dtype option on import or set low_memory=False.\n",
      "  df = pd.read_csv(DATASET_PATH + party + \"/\" + file, sep=\",\", index_col=0)\n",
      "/var/folders/qy/5gtwsk6s7jgbknbqgb533x9w0000gn/T/ipykernel_63853/2349382767.py:10: DtypeWarning: Columns (6) have mixed types. Specify dtype option on import or set low_memory=False.\n",
      "  df = pd.read_csv(DATASET_PATH + party + \"/\" + file, sep=\",\", index_col=0)\n",
      "/var/folders/qy/5gtwsk6s7jgbknbqgb533x9w0000gn/T/ipykernel_63853/2349382767.py:10: DtypeWarning: Columns (6) have mixed types. Specify dtype option on import or set low_memory=False.\n",
      "  df = pd.read_csv(DATASET_PATH + party + \"/\" + file, sep=\",\", index_col=0)\n",
      "/var/folders/qy/5gtwsk6s7jgbknbqgb533x9w0000gn/T/ipykernel_63853/2349382767.py:10: DtypeWarning: Columns (6) have mixed types. Specify dtype option on import or set low_memory=False.\n",
      "  df = pd.read_csv(DATASET_PATH + party + \"/\" + file, sep=\",\", index_col=0)\n"
     ]
    }
   ],
   "source": [
    "for party in PARTIES:\n",
    "    n_tweets_party = 0\n",
    "    for subdir, _, files in os.walk(DATASET_PATH + party):\n",
    "        for file in files:\n",
    "            if file.endswith('.csv') and subdir[len(DATASET_PATH):] in PARTIES:\n",
    "                # Get username of CSV file\n",
    "                username = file[:-4]\n",
    "                \n",
    "                # Read dataframe\n",
    "                df = pd.read_csv(DATASET_PATH + party + \"/\" + file, sep=\",\", index_col=0)\n",
    "                \n",
    "                # Add to counter\n",
    "                n_tweets_party += df.shape[0]\n",
    "                \n",
    "                # Add length to n_tweets_total\n",
    "                n_tweets_total += df.shape[0]\n",
    "                \n",
    "    party_statistics[party] = n_tweets_party"
   ]
  },
  {
   "cell_type": "code",
   "execution_count": 24,
   "id": "ec28b0e5-c25f-4031-a6a0-d1e7e6942ade",
   "metadata": {},
   "outputs": [
    {
     "data": {
      "text/plain": [
       "713733"
      ]
     },
     "execution_count": 24,
     "metadata": {},
     "output_type": "execute_result"
    }
   ],
   "source": [
    "n_tweets_total"
   ]
  },
  {
   "cell_type": "code",
   "execution_count": 25,
   "id": "e1b4e868-847f-4d0a-b9a7-8ac9951f7f55",
   "metadata": {},
   "outputs": [
    {
     "data": {
      "text/plain": [
       "{'CDU_CSU': 229981,\n",
       " 'SPD': 230324,\n",
       " 'AFD': 58045,\n",
       " 'FDP': 80544,\n",
       " 'GRUENE': 74004,\n",
       " 'LINKE': 40835}"
      ]
     },
     "execution_count": 25,
     "metadata": {},
     "output_type": "execute_result"
    }
   ],
   "source": [
    "party_statistics"
   ]
  },
  {
   "cell_type": "markdown",
   "id": "1c0da95a-4669-4cc7-a513-cc900017670c",
   "metadata": {},
   "source": [
    "### 3. Check which party gets an additional Tweet"
   ]
  },
  {
   "cell_type": "code",
   "execution_count": 26,
   "id": "bc5299b8-8c9b-4c5e-9770-d0fa8045dc4c",
   "metadata": {},
   "outputs": [],
   "source": [
    "def get_key_with_max_value_under_0_5(dictionary):\n",
    "    filtered_dict = {}\n",
    "    for key, value in dictionary.items():\n",
    "        if value < 0.5:\n",
    "            filtered_dict[key] = value\n",
    "    return max(filtered_dict, key=filtered_dict.get)"
   ]
  },
  {
   "cell_type": "code",
   "execution_count": 27,
   "id": "ce4f4544-2a74-4353-893c-abdf9f22b49e",
   "metadata": {},
   "outputs": [],
   "source": [
    "def truncate(x, d):\n",
    "    return int(x*(10.0**d))/(10.0**d)\n",
    "\n",
    "for party in party_statistics:\n",
    "    party_statistics[party] = ((SUBSET_SIZE / n_tweets_total) * party_statistics[party]) - truncate((SUBSET_SIZE / n_tweets_total) * party_statistics[party], 0)"
   ]
  },
  {
   "cell_type": "code",
   "execution_count": 28,
   "id": "fd7048d4-ca72-44ac-a580-1bc4c88764fb",
   "metadata": {},
   "outputs": [
    {
     "data": {
      "text/plain": [
       "'CDU_CSU'"
      ]
     },
     "execution_count": 28,
     "metadata": {},
     "output_type": "execute_result"
    }
   ],
   "source": [
    "# Check which Party will get an additional Tweet\n",
    "party_with_additional_tweet = get_key_with_max_value_under_0_5(party_statistics)\n",
    "party_with_additional_tweet"
   ]
  },
  {
   "cell_type": "markdown",
   "id": "995571ba-50b8-4e24-a334-a9de6cbfa2f3",
   "metadata": {},
   "source": [
    "### 4. Get Random Tweets From Each Account"
   ]
  },
  {
   "cell_type": "code",
   "execution_count": 29,
   "id": "f5e758de-ed07-4c45-840f-c2cbb7d34d43",
   "metadata": {},
   "outputs": [],
   "source": [
    "n_subset_total = 0"
   ]
  },
  {
   "cell_type": "code",
   "execution_count": 30,
   "id": "99ec46c1-3884-4b30-b8b3-3e79e8e6e3f2",
   "metadata": {},
   "outputs": [
    {
     "name": "stderr",
     "output_type": "stream",
     "text": [
      "/var/folders/qy/5gtwsk6s7jgbknbqgb533x9w0000gn/T/ipykernel_63853/4139214985.py:19: DtypeWarning: Columns (6) have mixed types. Specify dtype option on import or set low_memory=False.\n",
      "  df_account = pd.read_csv(DATASET_PATH + party + \"/\" + file, sep=\",\", index_col=0)\n",
      "/var/folders/qy/5gtwsk6s7jgbknbqgb533x9w0000gn/T/ipykernel_63853/4139214985.py:19: DtypeWarning: Columns (6) have mixed types. Specify dtype option on import or set low_memory=False.\n",
      "  df_account = pd.read_csv(DATASET_PATH + party + \"/\" + file, sep=\",\", index_col=0)\n",
      "/var/folders/qy/5gtwsk6s7jgbknbqgb533x9w0000gn/T/ipykernel_63853/4139214985.py:19: DtypeWarning: Columns (6) have mixed types. Specify dtype option on import or set low_memory=False.\n",
      "  df_account = pd.read_csv(DATASET_PATH + party + \"/\" + file, sep=\",\", index_col=0)\n",
      "/var/folders/qy/5gtwsk6s7jgbknbqgb533x9w0000gn/T/ipykernel_63853/4139214985.py:19: DtypeWarning: Columns (6) have mixed types. Specify dtype option on import or set low_memory=False.\n",
      "  df_account = pd.read_csv(DATASET_PATH + party + \"/\" + file, sep=\",\", index_col=0)\n",
      "/var/folders/qy/5gtwsk6s7jgbknbqgb533x9w0000gn/T/ipykernel_63853/4139214985.py:19: DtypeWarning: Columns (6) have mixed types. Specify dtype option on import or set low_memory=False.\n",
      "  df_account = pd.read_csv(DATASET_PATH + party + \"/\" + file, sep=\",\", index_col=0)\n",
      "/var/folders/qy/5gtwsk6s7jgbknbqgb533x9w0000gn/T/ipykernel_63853/4139214985.py:19: DtypeWarning: Columns (6) have mixed types. Specify dtype option on import or set low_memory=False.\n",
      "  df_account = pd.read_csv(DATASET_PATH + party + \"/\" + file, sep=\",\", index_col=0)\n",
      "/var/folders/qy/5gtwsk6s7jgbknbqgb533x9w0000gn/T/ipykernel_63853/4139214985.py:19: DtypeWarning: Columns (6) have mixed types. Specify dtype option on import or set low_memory=False.\n",
      "  df_account = pd.read_csv(DATASET_PATH + party + \"/\" + file, sep=\",\", index_col=0)\n"
     ]
    }
   ],
   "source": [
    "annotation_dataset = pd.DataFrame()\n",
    "\n",
    "# In principle, duplicate data points can occur in the data set, but this is extremely rare. \n",
    "# Nevertheless, we want to be sure that the performance of the model is not evaluated with a tweet that is also among the test data.\n",
    "annotation_dataset_unique = False\n",
    "\n",
    "while not(annotation_dataset_unique):\n",
    "    for party in PARTIES:\n",
    "        # Initialize an empty DataFrame to store the tweets from accounts of a party\n",
    "        df_party = pd.DataFrame()\n",
    "    \n",
    "        for subdir, _, files in os.walk(DATASET_PATH + party):\n",
    "            for file in files:\n",
    "                if file.endswith('.csv') and subdir[len(DATASET_PATH):] in PARTIES:\n",
    "                    # Get username of CSV file\n",
    "                    username = file[:-4]\n",
    "                \n",
    "                    # Read dataframe\n",
    "                    df_account = pd.read_csv(DATASET_PATH + party + \"/\" + file, sep=\",\", index_col=0)\n",
    "                \n",
    "                    # Add dataframe to party dataframe\n",
    "                    df_party = pd.concat([df_party, df_account], axis=0).reset_index().drop(columns='index')\n",
    "                \n",
    "        n_tweets_party = df_party.shape[0]\n",
    "        n_tweets_party_for_subset = round((SUBSET_SIZE / n_tweets_total) * n_tweets_party)\n",
    "        \n",
    "        if party_with_additional_tweet == party:\n",
    "            n_tweets_party_for_subset += 1\n",
    "            \n",
    "        n_subset_total += n_tweets_party_for_subset\n",
    "                \n",
    "        df_samples_for_party = df_party.sample(n=n_tweets_party_for_subset, random_state=SEED_VALUE)\n",
    "        annotation_dataset = pd.concat([annotation_dataset, df_samples_for_party], axis=0).reset_index().drop(columns='index')       \n",
    "        #print(party, username, n_tweets_party, n_tweets_party_for_subset, (SUBSET_SIZE / n_tweets_total) * n_tweets_party, n_tweets_party_for_subset)\n",
    "        \n",
    "    if annotation_dataset['id'].nunique() == len(annotation_dataset):\n",
    "        annotation_dataset_unique = True"
   ]
  },
  {
   "cell_type": "code",
   "execution_count": 31,
   "id": "5010af5b-e7a3-4854-944e-9c6250cae815",
   "metadata": {},
   "outputs": [
    {
     "data": {
      "text/plain": [
       "2000"
      ]
     },
     "execution_count": 31,
     "metadata": {},
     "output_type": "execute_result"
    }
   ],
   "source": [
    "n_subset_total"
   ]
  },
  {
   "cell_type": "markdown",
   "id": "c8918727-e308-4751-b2db-21c73fc52190",
   "metadata": {},
   "source": [
    "### 4. Create Sub Datasets for Annotation "
   ]
  },
  {
   "cell_type": "markdown",
   "id": "3abd2fc8-14a6-421e-b2ec-6cb818a9fbc8",
   "metadata": {},
   "source": [
    "Save dataset for annotation"
   ]
  },
  {
   "cell_type": "code",
   "execution_count": 32,
   "id": "69da96cf-d110-4bb0-b214-267ad7e2afd6",
   "metadata": {},
   "outputs": [],
   "source": [
    "annotation_dataset = annotation_dataset.sample(frac=1, random_state=SEED_VALUE).reset_index()\n",
    "annotation_dataset.to_csv(ANNOTATION_DATASET_PATH + \"/annotation_dataset.csv\")"
   ]
  },
  {
   "cell_type": "markdown",
   "id": "33c15743-2414-4428-9bc1-58a3aec7c3af",
   "metadata": {},
   "source": [
    "For the entire dataset, we do not delete duplicates. Duplicates can occur because a tweet can mention several politicians at once, which means that a tweet could be crawled for multiple politicians. However, we want to avoid evaluating the trained BERT model with tweets that were also used for training. Therefore, we make sure that there are no duplicates among the 2000 annotated tweets that we will later use for training and evaluation of our BERT model."
   ]
  },
  {
   "cell_type": "code",
   "execution_count": 33,
   "id": "fe4fbed2-a46d-4ddd-89f6-2dc43e82229c",
   "metadata": {},
   "outputs": [
    {
     "name": "stdout",
     "output_type": "stream",
     "text": [
      "Dataset uniqueness:  True\n"
     ]
    }
   ],
   "source": [
    "# Check if the 'id' column is unique\n",
    "is_unique = df['id'].is_unique\n",
    "print(\"Dataset uniqueness: \", is_unique)"
   ]
  },
  {
   "cell_type": "markdown",
   "id": "8e867a01-ad8c-4669-9222-3b49e6731be5",
   "metadata": {},
   "source": [
    "Add column for sentiment label and columns with information that might be helpfull for annotators"
   ]
  },
  {
   "cell_type": "code",
   "execution_count": 34,
   "id": "93c466c1-b8df-42e0-a70c-8c14e4a613ca",
   "metadata": {},
   "outputs": [],
   "source": [
    "annotation_dataset[\"sentiment_label\"] = \"\"\n",
    "annotation_dataset = annotation_dataset.loc[:, ['id', 'username', 'date', 'sentiment_label', 'tweet', 'link', 'source_account']]"
   ]
  },
  {
   "cell_type": "code",
   "execution_count": 35,
   "id": "a29ced74-cd82-46b0-940a-59128bfd88d3",
   "metadata": {},
   "outputs": [],
   "source": [
    "df_session1 = annotation_dataset[:int(SUBSET_SIZE/2)]\n",
    "df_session2 = annotation_dataset[int(SUBSET_SIZE/2):]"
   ]
  },
  {
   "cell_type": "code",
   "execution_count": 36,
   "id": "7b0e4ee8-0ebe-4f2d-8870-bd193cddc7e9",
   "metadata": {},
   "outputs": [
    {
     "data": {
      "text/html": [
       "<div>\n",
       "<style scoped>\n",
       "    .dataframe tbody tr th:only-of-type {\n",
       "        vertical-align: middle;\n",
       "    }\n",
       "\n",
       "    .dataframe tbody tr th {\n",
       "        vertical-align: top;\n",
       "    }\n",
       "\n",
       "    .dataframe thead th {\n",
       "        text-align: right;\n",
       "    }\n",
       "</style>\n",
       "<table border=\"1\" class=\"dataframe\">\n",
       "  <thead>\n",
       "    <tr style=\"text-align: right;\">\n",
       "      <th></th>\n",
       "      <th>id</th>\n",
       "      <th>username</th>\n",
       "      <th>date</th>\n",
       "      <th>sentiment_label</th>\n",
       "      <th>tweet</th>\n",
       "      <th>link</th>\n",
       "      <th>source_account</th>\n",
       "    </tr>\n",
       "  </thead>\n",
       "  <tbody>\n",
       "    <tr>\n",
       "      <th>0</th>\n",
       "      <td>1390067537589776384</td>\n",
       "      <td>biwa59</td>\n",
       "      <td>2021-05-05 22:15:01</td>\n",
       "      <td></td>\n",
       "      <td>@realMaskedDoc @jensspahn Ich habe bei der Anm...</td>\n",
       "      <td>https://twitter.com/biwa59/status/139006753758...</td>\n",
       "      <td>jensspahn</td>\n",
       "    </tr>\n",
       "    <tr>\n",
       "      <th>1</th>\n",
       "      <td>1373465664304865288</td>\n",
       "      <td>Thom50521528</td>\n",
       "      <td>2021-03-21 02:45:06</td>\n",
       "      <td></td>\n",
       "      <td>@t0b1t @1984reload @ViolaPriesemann @Karl_Laut...</td>\n",
       "      <td>https://twitter.com/Thom50521528/status/137346...</td>\n",
       "      <td>Karl_Lauterbach</td>\n",
       "    </tr>\n",
       "    <tr>\n",
       "      <th>2</th>\n",
       "      <td>1441262843572068357</td>\n",
       "      <td>SchwarzRalf1</td>\n",
       "      <td>2021-09-24 04:46:53</td>\n",
       "      <td></td>\n",
       "      <td>@spdbt Wenn Die Linke (ehemals SED) an einer B...</td>\n",
       "      <td>https://twitter.com/SchwarzRalf1/status/144126...</td>\n",
       "      <td>spdbt</td>\n",
       "    </tr>\n",
       "    <tr>\n",
       "      <th>3</th>\n",
       "      <td>1410656625162174464</td>\n",
       "      <td>Hosenmaus1</td>\n",
       "      <td>2021-07-01 17:48:42</td>\n",
       "      <td></td>\n",
       "      <td>@AKS03350356 @In_griiieed @JRatek @Ostwestfale...</td>\n",
       "      <td>https://twitter.com/Hosenmaus1/status/14106566...</td>\n",
       "      <td>spdde</td>\n",
       "    </tr>\n",
       "    <tr>\n",
       "      <th>4</th>\n",
       "      <td>1460883235983011842</td>\n",
       "      <td>JohannkuPeter</td>\n",
       "      <td>2021-11-17 08:11:20</td>\n",
       "      <td></td>\n",
       "      <td>@ITUADE @B_Heisterkamp @KathaSchulze Grüne NAZ...</td>\n",
       "      <td>https://twitter.com/JohannkuPeter/status/14608...</td>\n",
       "      <td>KathaSchulze</td>\n",
       "    </tr>\n",
       "    <tr>\n",
       "      <th>...</th>\n",
       "      <td>...</td>\n",
       "      <td>...</td>\n",
       "      <td>...</td>\n",
       "      <td>...</td>\n",
       "      <td>...</td>\n",
       "      <td>...</td>\n",
       "      <td>...</td>\n",
       "    </tr>\n",
       "    <tr>\n",
       "      <th>995</th>\n",
       "      <td>1449655103749820417</td>\n",
       "      <td>Elke_Ferner</td>\n",
       "      <td>2021-10-17 08:34:44</td>\n",
       "      <td></td>\n",
       "      <td>@JA_Allmendinger hat Recht! Nur 2 Frauen aber ...</td>\n",
       "      <td>https://twitter.com/Elke_Ferner/status/1449655...</td>\n",
       "      <td>EskenSaskia</td>\n",
       "    </tr>\n",
       "    <tr>\n",
       "      <th>996</th>\n",
       "      <td>1405999592617959430</td>\n",
       "      <td>blauervogelx</td>\n",
       "      <td>2021-06-18 21:23:19</td>\n",
       "      <td></td>\n",
       "      <td>@docholi95307723 @Karl_Lauterbach Die Beste Lö...</td>\n",
       "      <td>https://twitter.com/blauervogelx/status/140599...</td>\n",
       "      <td>Karl_Lauterbach</td>\n",
       "    </tr>\n",
       "    <tr>\n",
       "      <th>997</th>\n",
       "      <td>1424647942393184256</td>\n",
       "      <td>ErbenKongs</td>\n",
       "      <td>2021-08-09 08:25:12</td>\n",
       "      <td></td>\n",
       "      <td>@MarieLou_Fire @Die_Gruenen Toller Film. Wird ...</td>\n",
       "      <td>https://twitter.com/ErbenKongs/status/14246479...</td>\n",
       "      <td>Die_Gruenen</td>\n",
       "    </tr>\n",
       "    <tr>\n",
       "      <th>998</th>\n",
       "      <td>1381579238218797057</td>\n",
       "      <td>joffi_99</td>\n",
       "      <td>2021-04-12 12:05:33</td>\n",
       "      <td></td>\n",
       "      <td>@Murgpirat @CSU @GrueneBundestag @fdpbt @CDU I...</td>\n",
       "      <td>https://twitter.com/joffi_99/status/1381579238...</td>\n",
       "      <td>fdpbt</td>\n",
       "    </tr>\n",
       "    <tr>\n",
       "      <th>999</th>\n",
       "      <td>1474118377966911502</td>\n",
       "      <td>Marella03273759</td>\n",
       "      <td>2021-12-23 20:43:03</td>\n",
       "      <td></td>\n",
       "      <td>@Textolino @ABaerbock @NematHabibi5 @OlafSchol...</td>\n",
       "      <td>https://twitter.com/Marella03273759/status/147...</td>\n",
       "      <td>OlafScholz</td>\n",
       "    </tr>\n",
       "  </tbody>\n",
       "</table>\n",
       "<p>1000 rows × 7 columns</p>\n",
       "</div>"
      ],
      "text/plain": [
       "                      id         username                 date  \\\n",
       "0    1390067537589776384           biwa59  2021-05-05 22:15:01   \n",
       "1    1373465664304865288     Thom50521528  2021-03-21 02:45:06   \n",
       "2    1441262843572068357     SchwarzRalf1  2021-09-24 04:46:53   \n",
       "3    1410656625162174464       Hosenmaus1  2021-07-01 17:48:42   \n",
       "4    1460883235983011842    JohannkuPeter  2021-11-17 08:11:20   \n",
       "..                   ...              ...                  ...   \n",
       "995  1449655103749820417      Elke_Ferner  2021-10-17 08:34:44   \n",
       "996  1405999592617959430     blauervogelx  2021-06-18 21:23:19   \n",
       "997  1424647942393184256       ErbenKongs  2021-08-09 08:25:12   \n",
       "998  1381579238218797057         joffi_99  2021-04-12 12:05:33   \n",
       "999  1474118377966911502  Marella03273759  2021-12-23 20:43:03   \n",
       "\n",
       "    sentiment_label                                              tweet  \\\n",
       "0                    @realMaskedDoc @jensspahn Ich habe bei der Anm...   \n",
       "1                    @t0b1t @1984reload @ViolaPriesemann @Karl_Laut...   \n",
       "2                    @spdbt Wenn Die Linke (ehemals SED) an einer B...   \n",
       "3                    @AKS03350356 @In_griiieed @JRatek @Ostwestfale...   \n",
       "4                    @ITUADE @B_Heisterkamp @KathaSchulze Grüne NAZ...   \n",
       "..              ...                                                ...   \n",
       "995                  @JA_Allmendinger hat Recht! Nur 2 Frauen aber ...   \n",
       "996                  @docholi95307723 @Karl_Lauterbach Die Beste Lö...   \n",
       "997                  @MarieLou_Fire @Die_Gruenen Toller Film. Wird ...   \n",
       "998                  @Murgpirat @CSU @GrueneBundestag @fdpbt @CDU I...   \n",
       "999                  @Textolino @ABaerbock @NematHabibi5 @OlafSchol...   \n",
       "\n",
       "                                                  link   source_account  \n",
       "0    https://twitter.com/biwa59/status/139006753758...        jensspahn  \n",
       "1    https://twitter.com/Thom50521528/status/137346...  Karl_Lauterbach  \n",
       "2    https://twitter.com/SchwarzRalf1/status/144126...            spdbt  \n",
       "3    https://twitter.com/Hosenmaus1/status/14106566...            spdde  \n",
       "4    https://twitter.com/JohannkuPeter/status/14608...     KathaSchulze  \n",
       "..                                                 ...              ...  \n",
       "995  https://twitter.com/Elke_Ferner/status/1449655...      EskenSaskia  \n",
       "996  https://twitter.com/blauervogelx/status/140599...  Karl_Lauterbach  \n",
       "997  https://twitter.com/ErbenKongs/status/14246479...      Die_Gruenen  \n",
       "998  https://twitter.com/joffi_99/status/1381579238...            fdpbt  \n",
       "999  https://twitter.com/Marella03273759/status/147...       OlafScholz  \n",
       "\n",
       "[1000 rows x 7 columns]"
      ]
     },
     "execution_count": 36,
     "metadata": {},
     "output_type": "execute_result"
    }
   ],
   "source": [
    "df_session1.to_csv(ANNOTATION_DATASET_PATH + \"/tweets_session_1.csv\")\n",
    "df_session1.to_excel(ANNOTATION_DATASET_PATH + \"/tweets_session_1.xlsx\")\n",
    "df_session1"
   ]
  },
  {
   "cell_type": "code",
   "execution_count": 37,
   "id": "e8eaf39f-dc80-49eb-b452-b0c53cd2f9b9",
   "metadata": {},
   "outputs": [
    {
     "data": {
      "text/html": [
       "<div>\n",
       "<style scoped>\n",
       "    .dataframe tbody tr th:only-of-type {\n",
       "        vertical-align: middle;\n",
       "    }\n",
       "\n",
       "    .dataframe tbody tr th {\n",
       "        vertical-align: top;\n",
       "    }\n",
       "\n",
       "    .dataframe thead th {\n",
       "        text-align: right;\n",
       "    }\n",
       "</style>\n",
       "<table border=\"1\" class=\"dataframe\">\n",
       "  <thead>\n",
       "    <tr style=\"text-align: right;\">\n",
       "      <th></th>\n",
       "      <th>id</th>\n",
       "      <th>username</th>\n",
       "      <th>date</th>\n",
       "      <th>sentiment_label</th>\n",
       "      <th>tweet</th>\n",
       "      <th>link</th>\n",
       "      <th>source_account</th>\n",
       "    </tr>\n",
       "  </thead>\n",
       "  <tbody>\n",
       "    <tr>\n",
       "      <th>1000</th>\n",
       "      <td>1415216929065902085</td>\n",
       "      <td>Economicus</td>\n",
       "      <td>2021-07-14 07:49:44</td>\n",
       "      <td></td>\n",
       "      <td>@tagesschau Ist Merkel schon 2x geimpft? @Serv...</td>\n",
       "      <td>https://twitter.com/Economicus/status/14152169...</td>\n",
       "      <td>_FriedrichMerz</td>\n",
       "    </tr>\n",
       "    <tr>\n",
       "      <th>1001</th>\n",
       "      <td>1459132644831158277</td>\n",
       "      <td>LiffersGert</td>\n",
       "      <td>2021-11-12 12:15:06</td>\n",
       "      <td></td>\n",
       "      <td>@MarcoBuschmann @spdbt @GrueneBundestag @fdpbt...</td>\n",
       "      <td>https://twitter.com/LiffersGert/status/1459132...</td>\n",
       "      <td>MarcoBuschmann</td>\n",
       "    </tr>\n",
       "    <tr>\n",
       "      <th>1002</th>\n",
       "      <td>1399827360996859909</td>\n",
       "      <td>sarfeld</td>\n",
       "      <td>2021-06-01 20:37:05</td>\n",
       "      <td></td>\n",
       "      <td>@Patrick_Kunkel @tagfuchs @ArminLaschet @SZ Eb...</td>\n",
       "      <td>https://twitter.com/sarfeld/status/13998273609...</td>\n",
       "      <td>ArminLaschet</td>\n",
       "    </tr>\n",
       "    <tr>\n",
       "      <th>1003</th>\n",
       "      <td>1464363994278502407</td>\n",
       "      <td>GerdaKozian</td>\n",
       "      <td>2021-11-26 22:42:37</td>\n",
       "      <td></td>\n",
       "      <td>@christiansagt @Karl_Lauterbach @chrischirp Ho...</td>\n",
       "      <td>https://twitter.com/GerdaKozian/status/1464363...</td>\n",
       "      <td>Karl_Lauterbach</td>\n",
       "    </tr>\n",
       "    <tr>\n",
       "      <th>1004</th>\n",
       "      <td>1382658396797685761</td>\n",
       "      <td>jsprondel</td>\n",
       "      <td>2021-04-15 11:33:45</td>\n",
       "      <td></td>\n",
       "      <td>Universitäten sind dicht (abgesehen davon, das...</td>\n",
       "      <td>https://twitter.com/jsprondel/status/138265839...</td>\n",
       "      <td>Karl_Lauterbach</td>\n",
       "    </tr>\n",
       "    <tr>\n",
       "      <th>...</th>\n",
       "      <td>...</td>\n",
       "      <td>...</td>\n",
       "      <td>...</td>\n",
       "      <td>...</td>\n",
       "      <td>...</td>\n",
       "      <td>...</td>\n",
       "      <td>...</td>\n",
       "    </tr>\n",
       "    <tr>\n",
       "      <th>1995</th>\n",
       "      <td>1382603282389024768</td>\n",
       "      <td>systemanalysen</td>\n",
       "      <td>2021-04-15 07:54:44</td>\n",
       "      <td></td>\n",
       "      <td>@DonKamillo8 @SprichWahrheit @ergroovt @Karl_L...</td>\n",
       "      <td>https://twitter.com/systemanalysen/status/1382...</td>\n",
       "      <td>Karl_Lauterbach</td>\n",
       "    </tr>\n",
       "    <tr>\n",
       "      <th>1996</th>\n",
       "      <td>1376432992642564096</td>\n",
       "      <td>equickfinder</td>\n",
       "      <td>2021-03-29 07:16:12</td>\n",
       "      <td></td>\n",
       "      <td>@zeitonline langsam muss man mehr Angst vor de...</td>\n",
       "      <td>https://twitter.com/equickfinder/status/137643...</td>\n",
       "      <td>Karl_Lauterbach</td>\n",
       "    </tr>\n",
       "    <tr>\n",
       "      <th>1997</th>\n",
       "      <td>1393553966273896458</td>\n",
       "      <td>FrankKrey</td>\n",
       "      <td>2021-05-15 13:08:51</td>\n",
       "      <td></td>\n",
       "      <td>@fdp @Wissing Das sollte die FDP den Profis au...</td>\n",
       "      <td>https://twitter.com/FrankKrey/status/139355396...</td>\n",
       "      <td>fdp</td>\n",
       "    </tr>\n",
       "    <tr>\n",
       "      <th>1998</th>\n",
       "      <td>1373562494300618755</td>\n",
       "      <td>DasIbf</td>\n",
       "      <td>2021-03-21 09:09:52</td>\n",
       "      <td></td>\n",
       "      <td>Jens Spahn: Ehrenrettung bezüglich Homöopathie...</td>\n",
       "      <td>https://twitter.com/DasIbf/status/137356249430...</td>\n",
       "      <td>jensspahn</td>\n",
       "    </tr>\n",
       "    <tr>\n",
       "      <th>1999</th>\n",
       "      <td>1389676770765459456</td>\n",
       "      <td>sundayskind</td>\n",
       "      <td>2021-05-04 20:22:15</td>\n",
       "      <td></td>\n",
       "      <td>@PaulZiemiak @EskenSaskia Ich bin immer noch n...</td>\n",
       "      <td>https://twitter.com/sundayskind/status/1389676...</td>\n",
       "      <td>EskenSaskia</td>\n",
       "    </tr>\n",
       "  </tbody>\n",
       "</table>\n",
       "<p>1000 rows × 7 columns</p>\n",
       "</div>"
      ],
      "text/plain": [
       "                       id        username                 date  \\\n",
       "1000  1415216929065902085      Economicus  2021-07-14 07:49:44   \n",
       "1001  1459132644831158277     LiffersGert  2021-11-12 12:15:06   \n",
       "1002  1399827360996859909         sarfeld  2021-06-01 20:37:05   \n",
       "1003  1464363994278502407     GerdaKozian  2021-11-26 22:42:37   \n",
       "1004  1382658396797685761       jsprondel  2021-04-15 11:33:45   \n",
       "...                   ...             ...                  ...   \n",
       "1995  1382603282389024768  systemanalysen  2021-04-15 07:54:44   \n",
       "1996  1376432992642564096    equickfinder  2021-03-29 07:16:12   \n",
       "1997  1393553966273896458       FrankKrey  2021-05-15 13:08:51   \n",
       "1998  1373562494300618755          DasIbf  2021-03-21 09:09:52   \n",
       "1999  1389676770765459456     sundayskind  2021-05-04 20:22:15   \n",
       "\n",
       "     sentiment_label                                              tweet  \\\n",
       "1000                  @tagesschau Ist Merkel schon 2x geimpft? @Serv...   \n",
       "1001                  @MarcoBuschmann @spdbt @GrueneBundestag @fdpbt...   \n",
       "1002                  @Patrick_Kunkel @tagfuchs @ArminLaschet @SZ Eb...   \n",
       "1003                  @christiansagt @Karl_Lauterbach @chrischirp Ho...   \n",
       "1004                  Universitäten sind dicht (abgesehen davon, das...   \n",
       "...              ...                                                ...   \n",
       "1995                  @DonKamillo8 @SprichWahrheit @ergroovt @Karl_L...   \n",
       "1996                  @zeitonline langsam muss man mehr Angst vor de...   \n",
       "1997                  @fdp @Wissing Das sollte die FDP den Profis au...   \n",
       "1998                  Jens Spahn: Ehrenrettung bezüglich Homöopathie...   \n",
       "1999                  @PaulZiemiak @EskenSaskia Ich bin immer noch n...   \n",
       "\n",
       "                                                   link   source_account  \n",
       "1000  https://twitter.com/Economicus/status/14152169...   _FriedrichMerz  \n",
       "1001  https://twitter.com/LiffersGert/status/1459132...   MarcoBuschmann  \n",
       "1002  https://twitter.com/sarfeld/status/13998273609...     ArminLaschet  \n",
       "1003  https://twitter.com/GerdaKozian/status/1464363...  Karl_Lauterbach  \n",
       "1004  https://twitter.com/jsprondel/status/138265839...  Karl_Lauterbach  \n",
       "...                                                 ...              ...  \n",
       "1995  https://twitter.com/systemanalysen/status/1382...  Karl_Lauterbach  \n",
       "1996  https://twitter.com/equickfinder/status/137643...  Karl_Lauterbach  \n",
       "1997  https://twitter.com/FrankKrey/status/139355396...              fdp  \n",
       "1998  https://twitter.com/DasIbf/status/137356249430...        jensspahn  \n",
       "1999  https://twitter.com/sundayskind/status/1389676...      EskenSaskia  \n",
       "\n",
       "[1000 rows x 7 columns]"
      ]
     },
     "execution_count": 37,
     "metadata": {},
     "output_type": "execute_result"
    }
   ],
   "source": [
    "df_session2.to_csv(ANNOTATION_DATASET_PATH + \"/tweets_session_2.csv\")\n",
    "df_session2.to_excel(ANNOTATION_DATASET_PATH + \"/tweets_session_2.xlsx\")\n",
    "df_session2"
   ]
  }
 ],
 "metadata": {
  "kernelspec": {
   "display_name": "Python 3 (ipykernel)",
   "language": "python",
   "name": "python3"
  },
  "language_info": {
   "codemirror_mode": {
    "name": "ipython",
    "version": 3
   },
   "file_extension": ".py",
   "mimetype": "text/x-python",
   "name": "python",
   "nbconvert_exporter": "python",
   "pygments_lexer": "ipython3",
   "version": "3.10.6"
  },
  "vscode": {
   "interpreter": {
    "hash": "b0fa6594d8f4cbf19f97940f81e996739fb7646882a419484c72d19e05852a7e"
   }
  }
 },
 "nbformat": 4,
 "nbformat_minor": 5
}
