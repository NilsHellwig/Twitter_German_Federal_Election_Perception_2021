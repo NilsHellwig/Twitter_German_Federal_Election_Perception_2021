{
 "cells": [
  {
   "cell_type": "markdown",
   "id": "e2a2d3d2-6f3a-4f9e-987f-636acb8d2583",
   "metadata": {},
   "source": [
    "# Notebook: Create Subset\n",
    "\n",
    "This notebook is used to create a subset of **2000** tweets, which will then be annotated with respect to their sentiment.\n",
    "<br>**Contributors:** [Nils Hellwig](https://github.com/NilsHellwig/) | [Markus Bink](https://github.com/MarkusBink/)"
   ]
  },
  {
   "cell_type": "markdown",
   "id": "06150cb8-bd07-413c-817a-d346f10b32ac",
   "metadata": {},
   "source": [
    "## Packages"
   ]
  },
  {
   "cell_type": "code",
   "execution_count": 35,
   "id": "9ab58f7b-ae84-4dc0-a521-6215096f0c8f",
   "metadata": {},
   "outputs": [],
   "source": [
    "from sklearn.utils import shuffle\n",
    "import pandas as pd\n",
    "import numpy as np\n",
    "import random\n",
    "import os"
   ]
  },
  {
   "cell_type": "markdown",
   "id": "988733c0-13c0-4318-bf57-dabf11fbf4a4",
   "metadata": {},
   "source": [
    "## Parameters"
   ]
  },
  {
   "cell_type": "code",
   "execution_count": 36,
   "id": "692d6040-8acc-4cc1-99b9-b14523639391",
   "metadata": {},
   "outputs": [],
   "source": [
    "ANNOTATION_DATASET_PATH = '../Datasets/annotation_dataset'\n",
    "DATASET_PATH = '../Datasets/dataset/'\n",
    "SUBSET_SIZE = 2000\n",
    "SEED_VALUE = 0\n",
    "PARTIES = [\"CDU_CSU\", \"SPD\", \"AFD\", \"FDP\", \"GRUENE\", \"LINKE\"]"
   ]
  },
  {
   "cell_type": "markdown",
   "id": "90d9edba-ca8f-49be-aa38-1460c13ba0f6",
   "metadata": {},
   "source": [
    "## Code"
   ]
  },
  {
   "cell_type": "markdown",
   "id": "6bacc92a-ed60-41ae-be2a-706c00759475",
   "metadata": {},
   "source": [
    "### 1. Get Reproducable Results"
   ]
  },
  {
   "cell_type": "code",
   "execution_count": 37,
   "id": "4f7168c3-07d4-4403-be63-46ffcbcc5067",
   "metadata": {},
   "outputs": [],
   "source": [
    "os.environ['PYTHONHASHSEED'] = str(SEED_VALUE)\n",
    "random.seed(SEED_VALUE)\n",
    "np.random.seed(SEED_VALUE)"
   ]
  },
  {
   "cell_type": "markdown",
   "id": "46d1121b-d789-45c7-84a7-557256c2a578",
   "metadata": {},
   "source": [
    "### 2. Calculate Number of Tweets"
   ]
  },
  {
   "cell_type": "code",
   "execution_count": 38,
   "id": "8faa9305-c8a6-4ec1-9b06-18831a80e0d0",
   "metadata": {},
   "outputs": [],
   "source": [
    "n_tweets_total = 0\n",
    "party_statistics = {}"
   ]
  },
  {
   "cell_type": "code",
   "execution_count": 39,
   "id": "b563bd79-5b1a-4892-9a82-7206c3f4bcf8",
   "metadata": {},
   "outputs": [
    {
     "name": "stderr",
     "output_type": "stream",
     "text": [
      "/var/folders/qy/5gtwsk6s7jgbknbqgb533x9w0000gn/T/ipykernel_55756/2349382767.py:10: DtypeWarning: Columns (6) have mixed types. Specify dtype option on import or set low_memory=False.\n",
      "  df = pd.read_csv(DATASET_PATH + party + \"/\" + file, sep=\",\", index_col=0)\n",
      "/var/folders/qy/5gtwsk6s7jgbknbqgb533x9w0000gn/T/ipykernel_55756/2349382767.py:10: DtypeWarning: Columns (6) have mixed types. Specify dtype option on import or set low_memory=False.\n",
      "  df = pd.read_csv(DATASET_PATH + party + \"/\" + file, sep=\",\", index_col=0)\n",
      "/var/folders/qy/5gtwsk6s7jgbknbqgb533x9w0000gn/T/ipykernel_55756/2349382767.py:10: DtypeWarning: Columns (6) have mixed types. Specify dtype option on import or set low_memory=False.\n",
      "  df = pd.read_csv(DATASET_PATH + party + \"/\" + file, sep=\",\", index_col=0)\n",
      "/var/folders/qy/5gtwsk6s7jgbknbqgb533x9w0000gn/T/ipykernel_55756/2349382767.py:10: DtypeWarning: Columns (6) have mixed types. Specify dtype option on import or set low_memory=False.\n",
      "  df = pd.read_csv(DATASET_PATH + party + \"/\" + file, sep=\",\", index_col=0)\n",
      "/var/folders/qy/5gtwsk6s7jgbknbqgb533x9w0000gn/T/ipykernel_55756/2349382767.py:10: DtypeWarning: Columns (6) have mixed types. Specify dtype option on import or set low_memory=False.\n",
      "  df = pd.read_csv(DATASET_PATH + party + \"/\" + file, sep=\",\", index_col=0)\n",
      "/var/folders/qy/5gtwsk6s7jgbknbqgb533x9w0000gn/T/ipykernel_55756/2349382767.py:10: DtypeWarning: Columns (6) have mixed types. Specify dtype option on import or set low_memory=False.\n",
      "  df = pd.read_csv(DATASET_PATH + party + \"/\" + file, sep=\",\", index_col=0)\n",
      "/var/folders/qy/5gtwsk6s7jgbknbqgb533x9w0000gn/T/ipykernel_55756/2349382767.py:10: DtypeWarning: Columns (6) have mixed types. Specify dtype option on import or set low_memory=False.\n",
      "  df = pd.read_csv(DATASET_PATH + party + \"/\" + file, sep=\",\", index_col=0)\n"
     ]
    }
   ],
   "source": [
    "for party in PARTIES:\n",
    "    n_tweets_party = 0\n",
    "    for subdir, _, files in os.walk(DATASET_PATH + party):\n",
    "        for file in files:\n",
    "            if file.endswith('.csv') and subdir[len(DATASET_PATH):] in PARTIES:\n",
    "                # Get username of CSV file\n",
    "                username = file[:-4]\n",
    "                \n",
    "                # Read dataframe\n",
    "                df = pd.read_csv(DATASET_PATH + party + \"/\" + file, sep=\",\", index_col=0)\n",
    "                \n",
    "                # Add to counter\n",
    "                n_tweets_party += df.shape[0]\n",
    "                \n",
    "                # Add length to n_tweets_total\n",
    "                n_tweets_total += df.shape[0]\n",
    "                \n",
    "    party_statistics[party] = n_tweets_party"
   ]
  },
  {
   "cell_type": "code",
   "execution_count": 40,
   "id": "ec28b0e5-c25f-4031-a6a0-d1e7e6942ade",
   "metadata": {},
   "outputs": [
    {
     "data": {
      "text/plain": [
       "713742"
      ]
     },
     "execution_count": 40,
     "metadata": {},
     "output_type": "execute_result"
    }
   ],
   "source": [
    "n_tweets_total"
   ]
  },
  {
   "cell_type": "code",
   "execution_count": 41,
   "id": "e1b4e868-847f-4d0a-b9a7-8ac9951f7f55",
   "metadata": {},
   "outputs": [
    {
     "data": {
      "text/plain": [
       "{'CDU_CSU': 229984,\n",
       " 'SPD': 230325,\n",
       " 'AFD': 58046,\n",
       " 'FDP': 80546,\n",
       " 'GRUENE': 74005,\n",
       " 'LINKE': 40836}"
      ]
     },
     "execution_count": 41,
     "metadata": {},
     "output_type": "execute_result"
    }
   ],
   "source": [
    "party_statistics"
   ]
  },
  {
   "cell_type": "markdown",
   "id": "1c0da95a-4669-4cc7-a513-cc900017670c",
   "metadata": {},
   "source": [
    "### 3. Check which party gets an additional Tweet"
   ]
  },
  {
   "cell_type": "code",
   "execution_count": 42,
   "id": "bc5299b8-8c9b-4c5e-9770-d0fa8045dc4c",
   "metadata": {},
   "outputs": [],
   "source": [
    "def get_key_with_max_value_under_0_5(dictionary):\n",
    "    filtered_dict = {}\n",
    "    for key, value in dictionary.items():\n",
    "        if value < 0.5:\n",
    "            filtered_dict[key] = value\n",
    "    return max(filtered_dict, key=filtered_dict.get)"
   ]
  },
  {
   "cell_type": "code",
   "execution_count": 43,
   "id": "ce4f4544-2a74-4353-893c-abdf9f22b49e",
   "metadata": {},
   "outputs": [],
   "source": [
    "def truncate(x, d):\n",
    "    return int(x*(10.0**d))/(10.0**d)\n",
    "\n",
    "for party in party_statistics:\n",
    "    party_statistics[party] = ((SUBSET_SIZE / n_tweets_total) * party_statistics[party]) - truncate((SUBSET_SIZE / n_tweets_total) * party_statistics[party], 0)"
   ]
  },
  {
   "cell_type": "code",
   "execution_count": 44,
   "id": "fd7048d4-ca72-44ac-a580-1bc4c88764fb",
   "metadata": {},
   "outputs": [
    {
     "data": {
      "text/plain": [
       "'CDU_CSU'"
      ]
     },
     "execution_count": 44,
     "metadata": {},
     "output_type": "execute_result"
    }
   ],
   "source": [
    "# Check which Party will get an additional Tweet\n",
    "party_with_additional_tweet = get_key_with_max_value_under_0_5(party_statistics)\n",
    "party_with_additional_tweet"
   ]
  },
  {
   "cell_type": "markdown",
   "id": "995571ba-50b8-4e24-a334-a9de6cbfa2f3",
   "metadata": {},
   "source": [
    "### 4. Get Random Tweets From Each Account"
   ]
  },
  {
   "cell_type": "code",
   "execution_count": 45,
   "id": "f5e758de-ed07-4c45-840f-c2cbb7d34d43",
   "metadata": {},
   "outputs": [],
   "source": [
    "n_subset_total = 0"
   ]
  },
  {
   "cell_type": "code",
   "execution_count": 46,
   "id": "99ec46c1-3884-4b30-b8b3-3e79e8e6e3f2",
   "metadata": {},
   "outputs": [
    {
     "name": "stderr",
     "output_type": "stream",
     "text": [
      "/var/folders/qy/5gtwsk6s7jgbknbqgb533x9w0000gn/T/ipykernel_55756/4139214985.py:19: DtypeWarning: Columns (6) have mixed types. Specify dtype option on import or set low_memory=False.\n",
      "  df_account = pd.read_csv(DATASET_PATH + party + \"/\" + file, sep=\",\", index_col=0)\n",
      "/var/folders/qy/5gtwsk6s7jgbknbqgb533x9w0000gn/T/ipykernel_55756/4139214985.py:19: DtypeWarning: Columns (6) have mixed types. Specify dtype option on import or set low_memory=False.\n",
      "  df_account = pd.read_csv(DATASET_PATH + party + \"/\" + file, sep=\",\", index_col=0)\n",
      "/var/folders/qy/5gtwsk6s7jgbknbqgb533x9w0000gn/T/ipykernel_55756/4139214985.py:19: DtypeWarning: Columns (6) have mixed types. Specify dtype option on import or set low_memory=False.\n",
      "  df_account = pd.read_csv(DATASET_PATH + party + \"/\" + file, sep=\",\", index_col=0)\n",
      "/var/folders/qy/5gtwsk6s7jgbknbqgb533x9w0000gn/T/ipykernel_55756/4139214985.py:19: DtypeWarning: Columns (6) have mixed types. Specify dtype option on import or set low_memory=False.\n",
      "  df_account = pd.read_csv(DATASET_PATH + party + \"/\" + file, sep=\",\", index_col=0)\n",
      "/var/folders/qy/5gtwsk6s7jgbknbqgb533x9w0000gn/T/ipykernel_55756/4139214985.py:19: DtypeWarning: Columns (6) have mixed types. Specify dtype option on import or set low_memory=False.\n",
      "  df_account = pd.read_csv(DATASET_PATH + party + \"/\" + file, sep=\",\", index_col=0)\n",
      "/var/folders/qy/5gtwsk6s7jgbknbqgb533x9w0000gn/T/ipykernel_55756/4139214985.py:19: DtypeWarning: Columns (6) have mixed types. Specify dtype option on import or set low_memory=False.\n",
      "  df_account = pd.read_csv(DATASET_PATH + party + \"/\" + file, sep=\",\", index_col=0)\n",
      "/var/folders/qy/5gtwsk6s7jgbknbqgb533x9w0000gn/T/ipykernel_55756/4139214985.py:19: DtypeWarning: Columns (6) have mixed types. Specify dtype option on import or set low_memory=False.\n",
      "  df_account = pd.read_csv(DATASET_PATH + party + \"/\" + file, sep=\",\", index_col=0)\n"
     ]
    }
   ],
   "source": [
    "annotation_dataset = pd.DataFrame()\n",
    "\n",
    "# In principle, duplicate data points can occur in the data set, but this is extremely rare. \n",
    "# Nevertheless, we want to be sure that the performance of the model is not evaluated with a tweet that is also among the test data.\n",
    "annotation_dataset_unique = False\n",
    "\n",
    "while not(annotation_dataset_unique):\n",
    "    for party in PARTIES:\n",
    "        # Initialize an empty DataFrame to store the tweets from accounts of a party\n",
    "        df_party = pd.DataFrame()\n",
    "    \n",
    "        for subdir, _, files in os.walk(DATASET_PATH + party):\n",
    "            for file in files:\n",
    "                if file.endswith('.csv') and subdir[len(DATASET_PATH):] in PARTIES:\n",
    "                    # Get username of CSV file\n",
    "                    username = file[:-4]\n",
    "                \n",
    "                    # Read dataframe\n",
    "                    df_account = pd.read_csv(DATASET_PATH + party + \"/\" + file, sep=\",\", index_col=0)\n",
    "                \n",
    "                    # Add dataframe to party dataframe\n",
    "                    df_party = pd.concat([df_party, df_account], axis=0).reset_index().drop(columns='index')\n",
    "                \n",
    "        n_tweets_party = df_party.shape[0]\n",
    "        n_tweets_party_for_subset = round((SUBSET_SIZE / n_tweets_total) * n_tweets_party)\n",
    "        \n",
    "        if party_with_additional_tweet == party:\n",
    "            n_tweets_party_for_subset += 1\n",
    "            \n",
    "        n_subset_total += n_tweets_party_for_subset\n",
    "                \n",
    "        df_samples_for_party = df_party.sample(n=n_tweets_party_for_subset, random_state=SEED_VALUE)\n",
    "        annotation_dataset = pd.concat([annotation_dataset, df_samples_for_party], axis=0).reset_index().drop(columns='index')       \n",
    "        #print(party, username, n_tweets_party, n_tweets_party_for_subset, (SUBSET_SIZE / n_tweets_total) * n_tweets_party, n_tweets_party_for_subset)\n",
    "        \n",
    "    if annotation_dataset['id'].nunique() == len(annotation_dataset):\n",
    "        annotation_dataset_unique = True"
   ]
  },
  {
   "cell_type": "code",
   "execution_count": 47,
   "id": "5010af5b-e7a3-4854-944e-9c6250cae815",
   "metadata": {},
   "outputs": [
    {
     "data": {
      "text/plain": [
       "2000"
      ]
     },
     "execution_count": 47,
     "metadata": {},
     "output_type": "execute_result"
    }
   ],
   "source": [
    "n_subset_total"
   ]
  },
  {
   "cell_type": "markdown",
   "id": "c8918727-e308-4751-b2db-21c73fc52190",
   "metadata": {},
   "source": [
    "### 4. Create Sub Datasets for Annotation "
   ]
  },
  {
   "cell_type": "markdown",
   "id": "3abd2fc8-14a6-421e-b2ec-6cb818a9fbc8",
   "metadata": {},
   "source": [
    "Save dataset for annotation"
   ]
  },
  {
   "cell_type": "code",
   "execution_count": 48,
   "id": "6d41e566-7407-4496-9a15-97979b3bdf1a",
   "metadata": {},
   "outputs": [],
   "source": [
    "try:\n",
    "    os.makedirs(ANNOTATION_DATASET_PATH)\n",
    "except FileExistsError:\n",
    "    pass"
   ]
  },
  {
   "cell_type": "code",
   "execution_count": 49,
   "id": "69da96cf-d110-4bb0-b214-267ad7e2afd6",
   "metadata": {},
   "outputs": [],
   "source": [
    "annotation_dataset = annotation_dataset.sample(frac=1, random_state=SEED_VALUE).reset_index()\n",
    "annotation_dataset.to_csv(ANNOTATION_DATASET_PATH + \"/annotation_dataset.csv\")"
   ]
  },
  {
   "cell_type": "markdown",
   "id": "33c15743-2414-4428-9bc1-58a3aec7c3af",
   "metadata": {},
   "source": [
    "For the entire dataset, we do not delete duplicates. Duplicates can occur because a tweet can mention several politicians at once, which means that a tweet could be crawled for multiple politicians. However, we want to avoid evaluating the trained BERT model with tweets that were also used for training. Therefore, we make sure that there are no duplicates among the 2000 annotated tweets that we will later use for training and evaluation of our BERT model."
   ]
  },
  {
   "cell_type": "code",
   "execution_count": 50,
   "id": "fe4fbed2-a46d-4ddd-89f6-2dc43e82229c",
   "metadata": {},
   "outputs": [
    {
     "name": "stdout",
     "output_type": "stream",
     "text": [
      "Dataset uniqueness:  True\n"
     ]
    }
   ],
   "source": [
    "# Check if the 'id' column is unique\n",
    "is_unique = df['id'].is_unique\n",
    "print(\"Dataset uniqueness: \", is_unique)"
   ]
  },
  {
   "cell_type": "markdown",
   "id": "8e867a01-ad8c-4669-9222-3b49e6731be5",
   "metadata": {},
   "source": [
    "Add column for sentiment label and columns with information that might be helpfull for annotators"
   ]
  },
  {
   "cell_type": "code",
   "execution_count": 51,
   "id": "93c466c1-b8df-42e0-a70c-8c14e4a613ca",
   "metadata": {},
   "outputs": [],
   "source": [
    "annotation_dataset[\"sentiment\"] = \"\"\n",
    "annotation_dataset = annotation_dataset.loc[:, ['id', 'username', 'date', 'sentiment', 'tweet', 'link', 'source_account']]"
   ]
  },
  {
   "cell_type": "code",
   "execution_count": 52,
   "id": "a29ced74-cd82-46b0-940a-59128bfd88d3",
   "metadata": {},
   "outputs": [],
   "source": [
    "df_session1 = annotation_dataset[:int(SUBSET_SIZE/2)]\n",
    "df_session2 = annotation_dataset[int(SUBSET_SIZE/2):]"
   ]
  },
  {
   "cell_type": "code",
   "execution_count": 53,
   "id": "7b0e4ee8-0ebe-4f2d-8870-bd193cddc7e9",
   "metadata": {},
   "outputs": [
    {
     "data": {
      "text/html": [
       "<div>\n",
       "<style scoped>\n",
       "    .dataframe tbody tr th:only-of-type {\n",
       "        vertical-align: middle;\n",
       "    }\n",
       "\n",
       "    .dataframe tbody tr th {\n",
       "        vertical-align: top;\n",
       "    }\n",
       "\n",
       "    .dataframe thead th {\n",
       "        text-align: right;\n",
       "    }\n",
       "</style>\n",
       "<table border=\"1\" class=\"dataframe\">\n",
       "  <thead>\n",
       "    <tr style=\"text-align: right;\">\n",
       "      <th></th>\n",
       "      <th>id</th>\n",
       "      <th>username</th>\n",
       "      <th>date</th>\n",
       "      <th>sentiment</th>\n",
       "      <th>tweet</th>\n",
       "      <th>link</th>\n",
       "      <th>source_account</th>\n",
       "    </tr>\n",
       "  </thead>\n",
       "  <tbody>\n",
       "    <tr>\n",
       "      <th>0</th>\n",
       "      <td>1449809957990371330</td>\n",
       "      <td>CocoRos67338599</td>\n",
       "      <td>2021-10-17 18:50:04</td>\n",
       "      <td></td>\n",
       "      <td>@n_roettgen Ja, danke! Bild: Aber verheiratet ...</td>\n",
       "      <td>https://twitter.com/CocoRos67338599/status/144...</td>\n",
       "      <td>n_roettgen</td>\n",
       "    </tr>\n",
       "    <tr>\n",
       "      <th>1</th>\n",
       "      <td>1409589750533480449</td>\n",
       "      <td>DenisAndrejevic</td>\n",
       "      <td>2021-06-28 19:09:20</td>\n",
       "      <td></td>\n",
       "      <td>@Seppuku0815 @jannik_lul @Karl_Lauterbach Was ...</td>\n",
       "      <td>https://twitter.com/DenisAndrejevic/status/140...</td>\n",
       "      <td>Karl_Lauterbach</td>\n",
       "    </tr>\n",
       "    <tr>\n",
       "      <th>2</th>\n",
       "      <td>1442206006881099779</td>\n",
       "      <td>MacStarTrader</td>\n",
       "      <td>2021-09-26 19:14:41</td>\n",
       "      <td></td>\n",
       "      <td>@1Theoden1 @KuehniKev Wer ist denn ihr? Die SP...</td>\n",
       "      <td>https://twitter.com/MacStarTrader/status/14422...</td>\n",
       "      <td>KuehniKev</td>\n",
       "    </tr>\n",
       "    <tr>\n",
       "      <th>3</th>\n",
       "      <td>1442362927307177984</td>\n",
       "      <td>amalth3a</td>\n",
       "      <td>2021-09-27 05:38:14</td>\n",
       "      <td></td>\n",
       "      <td>@PeterPaulert @Dzienus @ABaerbock @OlafScholz ...</td>\n",
       "      <td>https://twitter.com/amalth3a/status/1442362927...</td>\n",
       "      <td>OlafScholz</td>\n",
       "    </tr>\n",
       "    <tr>\n",
       "      <th>4</th>\n",
       "      <td>1376909179504443393</td>\n",
       "      <td>va_vassmann</td>\n",
       "      <td>2021-03-30 14:48:24</td>\n",
       "      <td></td>\n",
       "      <td>@uedio @Ricarda_Lang Und wie bringt man(n) die...</td>\n",
       "      <td>https://twitter.com/va_vassmann/status/1376909...</td>\n",
       "      <td>Ricarda_Lang</td>\n",
       "    </tr>\n",
       "    <tr>\n",
       "      <th>...</th>\n",
       "      <td>...</td>\n",
       "      <td>...</td>\n",
       "      <td>...</td>\n",
       "      <td>...</td>\n",
       "      <td>...</td>\n",
       "      <td>...</td>\n",
       "      <td>...</td>\n",
       "    </tr>\n",
       "    <tr>\n",
       "      <th>995</th>\n",
       "      <td>1445425897276911620</td>\n",
       "      <td>LDFeyre</td>\n",
       "      <td>2021-10-05 16:29:23</td>\n",
       "      <td></td>\n",
       "      <td>@grtzmann @InvestigaTV @indysorger11 @einerein...</td>\n",
       "      <td>https://twitter.com/LDFeyre/status/14454258972...</td>\n",
       "      <td>Karl_Lauterbach</td>\n",
       "    </tr>\n",
       "    <tr>\n",
       "      <th>996</th>\n",
       "      <td>1376503090447257602</td>\n",
       "      <td>sigisippe</td>\n",
       "      <td>2021-03-29 11:54:45</td>\n",
       "      <td></td>\n",
       "      <td>@Karl_Lauterbach Ihre Kampfparolen sind skurri...</td>\n",
       "      <td>https://twitter.com/sigisippe/status/137650309...</td>\n",
       "      <td>Karl_Lauterbach</td>\n",
       "    </tr>\n",
       "    <tr>\n",
       "      <th>997</th>\n",
       "      <td>1393172918125871104</td>\n",
       "      <td>myfairjulia</td>\n",
       "      <td>2021-05-14 11:54:42</td>\n",
       "      <td></td>\n",
       "      <td>@DaniFleck1 @maxima_8 @Die_Gruenen Falls du no...</td>\n",
       "      <td>https://twitter.com/myfairjulia/status/1393172...</td>\n",
       "      <td>Die_Gruenen</td>\n",
       "    </tr>\n",
       "    <tr>\n",
       "      <th>998</th>\n",
       "      <td>1415275090116239365</td>\n",
       "      <td>EnBremer</td>\n",
       "      <td>2021-07-14 11:40:50</td>\n",
       "      <td></td>\n",
       "      <td>@Q_Paxxx @MarcoBuschmann ... wobei die angebli...</td>\n",
       "      <td>https://twitter.com/EnBremer/status/1415275090...</td>\n",
       "      <td>MarcoBuschmann</td>\n",
       "    </tr>\n",
       "    <tr>\n",
       "      <th>999</th>\n",
       "      <td>1358211668006875142</td>\n",
       "      <td>JonasApfel13</td>\n",
       "      <td>2021-02-07 00:31:10</td>\n",
       "      <td></td>\n",
       "      <td>@GKTyp @Marinus1208 @ben_brechtken @jusos Lass...</td>\n",
       "      <td>https://twitter.com/JonasApfel13/status/135821...</td>\n",
       "      <td>jusos</td>\n",
       "    </tr>\n",
       "  </tbody>\n",
       "</table>\n",
       "<p>1000 rows × 7 columns</p>\n",
       "</div>"
      ],
      "text/plain": [
       "                      id         username                 date sentiment  \\\n",
       "0    1449809957990371330  CocoRos67338599  2021-10-17 18:50:04             \n",
       "1    1409589750533480449  DenisAndrejevic  2021-06-28 19:09:20             \n",
       "2    1442206006881099779    MacStarTrader  2021-09-26 19:14:41             \n",
       "3    1442362927307177984         amalth3a  2021-09-27 05:38:14             \n",
       "4    1376909179504443393      va_vassmann  2021-03-30 14:48:24             \n",
       "..                   ...              ...                  ...       ...   \n",
       "995  1445425897276911620          LDFeyre  2021-10-05 16:29:23             \n",
       "996  1376503090447257602        sigisippe  2021-03-29 11:54:45             \n",
       "997  1393172918125871104      myfairjulia  2021-05-14 11:54:42             \n",
       "998  1415275090116239365         EnBremer  2021-07-14 11:40:50             \n",
       "999  1358211668006875142     JonasApfel13  2021-02-07 00:31:10             \n",
       "\n",
       "                                                 tweet  \\\n",
       "0    @n_roettgen Ja, danke! Bild: Aber verheiratet ...   \n",
       "1    @Seppuku0815 @jannik_lul @Karl_Lauterbach Was ...   \n",
       "2    @1Theoden1 @KuehniKev Wer ist denn ihr? Die SP...   \n",
       "3    @PeterPaulert @Dzienus @ABaerbock @OlafScholz ...   \n",
       "4    @uedio @Ricarda_Lang Und wie bringt man(n) die...   \n",
       "..                                                 ...   \n",
       "995  @grtzmann @InvestigaTV @indysorger11 @einerein...   \n",
       "996  @Karl_Lauterbach Ihre Kampfparolen sind skurri...   \n",
       "997  @DaniFleck1 @maxima_8 @Die_Gruenen Falls du no...   \n",
       "998  @Q_Paxxx @MarcoBuschmann ... wobei die angebli...   \n",
       "999  @GKTyp @Marinus1208 @ben_brechtken @jusos Lass...   \n",
       "\n",
       "                                                  link   source_account  \n",
       "0    https://twitter.com/CocoRos67338599/status/144...       n_roettgen  \n",
       "1    https://twitter.com/DenisAndrejevic/status/140...  Karl_Lauterbach  \n",
       "2    https://twitter.com/MacStarTrader/status/14422...        KuehniKev  \n",
       "3    https://twitter.com/amalth3a/status/1442362927...       OlafScholz  \n",
       "4    https://twitter.com/va_vassmann/status/1376909...     Ricarda_Lang  \n",
       "..                                                 ...              ...  \n",
       "995  https://twitter.com/LDFeyre/status/14454258972...  Karl_Lauterbach  \n",
       "996  https://twitter.com/sigisippe/status/137650309...  Karl_Lauterbach  \n",
       "997  https://twitter.com/myfairjulia/status/1393172...      Die_Gruenen  \n",
       "998  https://twitter.com/EnBremer/status/1415275090...   MarcoBuschmann  \n",
       "999  https://twitter.com/JonasApfel13/status/135821...            jusos  \n",
       "\n",
       "[1000 rows x 7 columns]"
      ]
     },
     "execution_count": 53,
     "metadata": {},
     "output_type": "execute_result"
    }
   ],
   "source": [
    "df_session1.to_csv(ANNOTATION_DATASET_PATH + \"/tweets_session_1.csv\")\n",
    "df_session1.to_excel(ANNOTATION_DATASET_PATH + \"/tweets_session_1.xlsx\")\n",
    "df_session1"
   ]
  },
  {
   "cell_type": "code",
   "execution_count": 54,
   "id": "e8eaf39f-dc80-49eb-b452-b0c53cd2f9b9",
   "metadata": {},
   "outputs": [
    {
     "data": {
      "text/html": [
       "<div>\n",
       "<style scoped>\n",
       "    .dataframe tbody tr th:only-of-type {\n",
       "        vertical-align: middle;\n",
       "    }\n",
       "\n",
       "    .dataframe tbody tr th {\n",
       "        vertical-align: top;\n",
       "    }\n",
       "\n",
       "    .dataframe thead th {\n",
       "        text-align: right;\n",
       "    }\n",
       "</style>\n",
       "<table border=\"1\" class=\"dataframe\">\n",
       "  <thead>\n",
       "    <tr style=\"text-align: right;\">\n",
       "      <th></th>\n",
       "      <th>id</th>\n",
       "      <th>username</th>\n",
       "      <th>date</th>\n",
       "      <th>sentiment</th>\n",
       "      <th>tweet</th>\n",
       "      <th>link</th>\n",
       "      <th>source_account</th>\n",
       "    </tr>\n",
       "  </thead>\n",
       "  <tbody>\n",
       "    <tr>\n",
       "      <th>1000</th>\n",
       "      <td>1443817771557662741</td>\n",
       "      <td>ProvNero</td>\n",
       "      <td>2021-10-01 05:59:16</td>\n",
       "      <td></td>\n",
       "      <td>@joeh6y @Segeltexter @Malahia_M @PeterRNeumann...</td>\n",
       "      <td>https://twitter.com/ProvNero/status/1443817771...</td>\n",
       "      <td>CDU</td>\n",
       "    </tr>\n",
       "    <tr>\n",
       "      <th>1001</th>\n",
       "      <td>1459132644831158277</td>\n",
       "      <td>LiffersGert</td>\n",
       "      <td>2021-11-12 12:15:06</td>\n",
       "      <td></td>\n",
       "      <td>@MarcoBuschmann @spdbt @GrueneBundestag @fdpbt...</td>\n",
       "      <td>https://twitter.com/LiffersGert/status/1459132...</td>\n",
       "      <td>MarcoBuschmann</td>\n",
       "    </tr>\n",
       "    <tr>\n",
       "      <th>1002</th>\n",
       "      <td>1436071843472023557</td>\n",
       "      <td>nur_1Welt</td>\n",
       "      <td>2021-09-09 20:59:43</td>\n",
       "      <td></td>\n",
       "      <td>Deshalb missbraucht #Laschet die #Polizei für ...</td>\n",
       "      <td>https://twitter.com/nur_1Welt/status/143607184...</td>\n",
       "      <td>PaulZiemiak</td>\n",
       "    </tr>\n",
       "    <tr>\n",
       "      <th>1003</th>\n",
       "      <td>1376588713715769344</td>\n",
       "      <td>Sophie111078</td>\n",
       "      <td>2021-03-29 17:34:59</td>\n",
       "      <td></td>\n",
       "      <td>@SenBJF @RegBerlin @regina_kittler @jensspahn ...</td>\n",
       "      <td>https://twitter.com/Sophie111078/status/137658...</td>\n",
       "      <td>Karl_Lauterbach</td>\n",
       "    </tr>\n",
       "    <tr>\n",
       "      <th>1004</th>\n",
       "      <td>1389531302513287169</td>\n",
       "      <td>ropietsch</td>\n",
       "      <td>2021-05-04 10:44:13</td>\n",
       "      <td></td>\n",
       "      <td>@hardyschu @W_Schmidt_ @phsteffen @KuehniKev @...</td>\n",
       "      <td>https://twitter.com/ropietsch/status/138953130...</td>\n",
       "      <td>OlafScholz</td>\n",
       "    </tr>\n",
       "    <tr>\n",
       "      <th>...</th>\n",
       "      <td>...</td>\n",
       "      <td>...</td>\n",
       "      <td>...</td>\n",
       "      <td>...</td>\n",
       "      <td>...</td>\n",
       "      <td>...</td>\n",
       "      <td>...</td>\n",
       "    </tr>\n",
       "    <tr>\n",
       "      <th>1995</th>\n",
       "      <td>1361601123103240192</td>\n",
       "      <td>SabineHueckmann</td>\n",
       "      <td>2021-02-16 08:59:39</td>\n",
       "      <td></td>\n",
       "      <td>@SebastianDrols2 @Karl_Lauterbach @ArminLasche...</td>\n",
       "      <td>https://twitter.com/SabineHueckmann/status/136...</td>\n",
       "      <td>Karl_Lauterbach</td>\n",
       "    </tr>\n",
       "    <tr>\n",
       "      <th>1996</th>\n",
       "      <td>1441509169664757760</td>\n",
       "      <td>BuchinSwantje</td>\n",
       "      <td>2021-09-24 21:05:42</td>\n",
       "      <td></td>\n",
       "      <td>@ClausStrunz @BILD @GretaThunberg @FridayForFu...</td>\n",
       "      <td>https://twitter.com/BuchinSwantje/status/14415...</td>\n",
       "      <td>spdbt</td>\n",
       "    </tr>\n",
       "    <tr>\n",
       "      <th>1997</th>\n",
       "      <td>1403331685966561287</td>\n",
       "      <td>boehnisch</td>\n",
       "      <td>2021-06-11 12:42:01</td>\n",
       "      <td></td>\n",
       "      <td>@c_lindner Man hätte ins IfsG mit reinschreibe...</td>\n",
       "      <td>https://twitter.com/boehnisch/status/140333168...</td>\n",
       "      <td>c_lindner</td>\n",
       "    </tr>\n",
       "    <tr>\n",
       "      <th>1998</th>\n",
       "      <td>1396735449180348421</td>\n",
       "      <td>Nutzernameneu</td>\n",
       "      <td>2021-05-24 07:50:55</td>\n",
       "      <td></td>\n",
       "      <td>Römer wird gerne von Lauterbach zitiert. Spinn...</td>\n",
       "      <td>https://twitter.com/Nutzernameneu/status/13967...</td>\n",
       "      <td>cducsubt</td>\n",
       "    </tr>\n",
       "    <tr>\n",
       "      <th>1999</th>\n",
       "      <td>1426138945323216903</td>\n",
       "      <td>BlueDotFan</td>\n",
       "      <td>2021-08-13 11:09:55</td>\n",
       "      <td></td>\n",
       "      <td>@Karl_Lauterbach Da hat man in NRW doch direkt...</td>\n",
       "      <td>https://twitter.com/BlueDotFan/status/14261389...</td>\n",
       "      <td>Karl_Lauterbach</td>\n",
       "    </tr>\n",
       "  </tbody>\n",
       "</table>\n",
       "<p>1000 rows × 7 columns</p>\n",
       "</div>"
      ],
      "text/plain": [
       "                       id         username                 date sentiment  \\\n",
       "1000  1443817771557662741         ProvNero  2021-10-01 05:59:16             \n",
       "1001  1459132644831158277      LiffersGert  2021-11-12 12:15:06             \n",
       "1002  1436071843472023557        nur_1Welt  2021-09-09 20:59:43             \n",
       "1003  1376588713715769344     Sophie111078  2021-03-29 17:34:59             \n",
       "1004  1389531302513287169        ropietsch  2021-05-04 10:44:13             \n",
       "...                   ...              ...                  ...       ...   \n",
       "1995  1361601123103240192  SabineHueckmann  2021-02-16 08:59:39             \n",
       "1996  1441509169664757760    BuchinSwantje  2021-09-24 21:05:42             \n",
       "1997  1403331685966561287        boehnisch  2021-06-11 12:42:01             \n",
       "1998  1396735449180348421    Nutzernameneu  2021-05-24 07:50:55             \n",
       "1999  1426138945323216903       BlueDotFan  2021-08-13 11:09:55             \n",
       "\n",
       "                                                  tweet  \\\n",
       "1000  @joeh6y @Segeltexter @Malahia_M @PeterRNeumann...   \n",
       "1001  @MarcoBuschmann @spdbt @GrueneBundestag @fdpbt...   \n",
       "1002  Deshalb missbraucht #Laschet die #Polizei für ...   \n",
       "1003  @SenBJF @RegBerlin @regina_kittler @jensspahn ...   \n",
       "1004  @hardyschu @W_Schmidt_ @phsteffen @KuehniKev @...   \n",
       "...                                                 ...   \n",
       "1995  @SebastianDrols2 @Karl_Lauterbach @ArminLasche...   \n",
       "1996  @ClausStrunz @BILD @GretaThunberg @FridayForFu...   \n",
       "1997  @c_lindner Man hätte ins IfsG mit reinschreibe...   \n",
       "1998  Römer wird gerne von Lauterbach zitiert. Spinn...   \n",
       "1999  @Karl_Lauterbach Da hat man in NRW doch direkt...   \n",
       "\n",
       "                                                   link   source_account  \n",
       "1000  https://twitter.com/ProvNero/status/1443817771...              CDU  \n",
       "1001  https://twitter.com/LiffersGert/status/1459132...   MarcoBuschmann  \n",
       "1002  https://twitter.com/nur_1Welt/status/143607184...      PaulZiemiak  \n",
       "1003  https://twitter.com/Sophie111078/status/137658...  Karl_Lauterbach  \n",
       "1004  https://twitter.com/ropietsch/status/138953130...       OlafScholz  \n",
       "...                                                 ...              ...  \n",
       "1995  https://twitter.com/SabineHueckmann/status/136...  Karl_Lauterbach  \n",
       "1996  https://twitter.com/BuchinSwantje/status/14415...            spdbt  \n",
       "1997  https://twitter.com/boehnisch/status/140333168...        c_lindner  \n",
       "1998  https://twitter.com/Nutzernameneu/status/13967...         cducsubt  \n",
       "1999  https://twitter.com/BlueDotFan/status/14261389...  Karl_Lauterbach  \n",
       "\n",
       "[1000 rows x 7 columns]"
      ]
     },
     "execution_count": 54,
     "metadata": {},
     "output_type": "execute_result"
    }
   ],
   "source": [
    "df_session2.to_csv(ANNOTATION_DATASET_PATH + \"/tweets_session_2.csv\")\n",
    "df_session2.to_excel(ANNOTATION_DATASET_PATH + \"/tweets_session_2.xlsx\")\n",
    "df_session2"
   ]
  },
  {
   "cell_type": "markdown",
   "id": "fc2db3b2-546a-4130-afd8-c33a5bc04759",
   "metadata": {},
   "source": [
    "## IMPORTANT: NEXT STEPS\n",
    "\n",
    "1. Create new Folder \"annotated_datasets\" in /Datasets\n",
    "2. Add Annotated Datasets in .xlsx format \n",
    "3. Name these:\n",
    "`\n",
    "['../Datasets/annotated_dataset/tweets_session_1_1.xlsx',\n",
    " '../Datasets/annotated_dataset/tweets_session_1_2.xlsx',\n",
    " '../Datasets/annotated_dataset/tweets_session_1_3.xlsx',\n",
    " '../Datasets/annotated_dataset/tweets_session_2_1.xlsx',\n",
    " '../Datasets/annotated_dataset/tweets_session_2_2.xlsx',\n",
    " '../Datasets/annotated_dataset/tweets_session_2_3.xlsx']\n",
    "`\n",
    "\n",
    "Schema:\n",
    "\n",
    "`\n",
    "../Datasets/annotated_dataset/tweets_session_{SESSION_ID}_{ANNOTATOR_ID}.xlsx'\n",
    "`"
   ]
  }
 ],
 "metadata": {
  "kernelspec": {
   "display_name": "Python 3 (ipykernel)",
   "language": "python",
   "name": "python3"
  },
  "language_info": {
   "codemirror_mode": {
    "name": "ipython",
    "version": 3
   },
   "file_extension": ".py",
   "mimetype": "text/x-python",
   "name": "python",
   "nbconvert_exporter": "python",
   "pygments_lexer": "ipython3",
   "version": "3.10.8"
  },
  "vscode": {
   "interpreter": {
    "hash": "b0fa6594d8f4cbf19f97940f81e996739fb7646882a419484c72d19e05852a7e"
   }
  }
 },
 "nbformat": 4,
 "nbformat_minor": 5
}
