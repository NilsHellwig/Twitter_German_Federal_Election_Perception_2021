{
 "cells": [
  {
   "cell_type": "markdown",
   "id": "e2a2d3d2-6f3a-4f9e-987f-636acb8d2583",
   "metadata": {},
   "source": [
    "# Notebook: Create Subset\n",
    "\n",
    "This notebook is used to create a subset of **2000** tweets, which will then be annotated with respect to their sentiment.\n",
    "<br>**Contributors:** [Nils Hellwig](https://github.com/NilsHellwig/) | [Markus Bink](https://github.com/MarkusBink/)"
   ]
  },
  {
   "cell_type": "markdown",
   "id": "06150cb8-bd07-413c-817a-d346f10b32ac",
   "metadata": {},
   "source": [
    "## Packages"
   ]
  },
  {
   "cell_type": "code",
   "execution_count": 95,
   "id": "9ab58f7b-ae84-4dc0-a521-6215096f0c8f",
   "metadata": {},
   "outputs": [],
   "source": [
    "from sklearn.utils import shuffle\n",
    "import pandas as pd\n",
    "import numpy as np\n",
    "import random\n",
    "import os"
   ]
  },
  {
   "cell_type": "markdown",
   "id": "988733c0-13c0-4318-bf57-dabf11fbf4a4",
   "metadata": {},
   "source": [
    "## Parameters"
   ]
  },
  {
   "cell_type": "code",
   "execution_count": 96,
   "id": "692d6040-8acc-4cc1-99b9-b14523639391",
   "metadata": {},
   "outputs": [],
   "source": [
    "DATASET_PATH = '../Datasets/dataset/'\n",
    "SUBSET_SIZE = 2000\n",
    "SEED_VALUE = 0\n",
    "PARTIES = [\"CDU_CSU\", \"SPD\", \"AfD\", \"FDP\", \"GRUENE\", \"LINKE\"]"
   ]
  },
  {
   "cell_type": "markdown",
   "id": "90d9edba-ca8f-49be-aa38-1460c13ba0f6",
   "metadata": {},
   "source": [
    "## Code"
   ]
  },
  {
   "cell_type": "markdown",
   "id": "6bacc92a-ed60-41ae-be2a-706c00759475",
   "metadata": {},
   "source": [
    "### 1. Get Reproducable Results"
   ]
  },
  {
   "cell_type": "code",
   "execution_count": 97,
   "id": "4f7168c3-07d4-4403-be63-46ffcbcc5067",
   "metadata": {},
   "outputs": [],
   "source": [
    "os.environ['PYTHONHASHSEED'] = str(SEED_VALUE)\n",
    "random.seed(SEED_VALUE)\n",
    "np.random.seed(SEED_VALUE)"
   ]
  },
  {
   "cell_type": "markdown",
   "id": "46d1121b-d789-45c7-84a7-557256c2a578",
   "metadata": {},
   "source": [
    "### 2. Calculate Number of Tweets"
   ]
  },
  {
   "cell_type": "code",
   "execution_count": 98,
   "id": "8faa9305-c8a6-4ec1-9b06-18831a80e0d0",
   "metadata": {},
   "outputs": [],
   "source": [
    "n_tweets_total = 0"
   ]
  },
  {
   "cell_type": "code",
   "execution_count": 99,
   "id": "b563bd79-5b1a-4892-9a82-7206c3f4bcf8",
   "metadata": {},
   "outputs": [
    {
     "name": "stderr",
     "output_type": "stream",
     "text": [
      "/var/folders/qy/5gtwsk6s7jgbknbqgb533x9w0000gn/T/ipykernel_30237/479282713.py:9: DtypeWarning: Columns (6) have mixed types. Specify dtype option on import or set low_memory=False.\n",
      "  df = pd.read_csv(DATASET_PATH + party + \"/\" + file, sep=\",\", index_col=0)\n",
      "/var/folders/qy/5gtwsk6s7jgbknbqgb533x9w0000gn/T/ipykernel_30237/479282713.py:9: DtypeWarning: Columns (6) have mixed types. Specify dtype option on import or set low_memory=False.\n",
      "  df = pd.read_csv(DATASET_PATH + party + \"/\" + file, sep=\",\", index_col=0)\n"
     ]
    }
   ],
   "source": [
    "for party in PARTIES:\n",
    "    for subdir, _, files in os.walk(DATASET_PATH + party):\n",
    "        for file in files:\n",
    "            if file.endswith('.csv') and subdir[len(DATASET_PATH):] in PARTIES:\n",
    "                # Get username of CSV file\n",
    "                username = file[:-4]\n",
    "                \n",
    "                # Read dataframe\n",
    "                df = pd.read_csv(DATASET_PATH + party + \"/\" + file, sep=\",\", index_col=0)\n",
    "                \n",
    "                # Add length to n_tweets_total\n",
    "                n_tweets_total += df.shape[0]"
   ]
  },
  {
   "cell_type": "code",
   "execution_count": 100,
   "id": "ec28b0e5-c25f-4031-a6a0-d1e7e6942ade",
   "metadata": {},
   "outputs": [
    {
     "data": {
      "text/plain": [
       "326928"
      ]
     },
     "execution_count": 100,
     "metadata": {},
     "output_type": "execute_result"
    }
   ],
   "source": [
    "n_tweets_total"
   ]
  },
  {
   "cell_type": "markdown",
   "id": "995571ba-50b8-4e24-a334-a9de6cbfa2f3",
   "metadata": {},
   "source": [
    "### 3. Get Random Tweets From Each Account"
   ]
  },
  {
   "cell_type": "code",
   "execution_count": 101,
   "id": "f5e758de-ed07-4c45-840f-c2cbb7d34d43",
   "metadata": {},
   "outputs": [],
   "source": [
    "n_subset_total = 0"
   ]
  },
  {
   "cell_type": "code",
   "execution_count": 102,
   "id": "0fd7c904-51be-444e-b515-628c68fb7734",
   "metadata": {},
   "outputs": [],
   "source": [
    "annotation_dataset = pd.DataFrame()"
   ]
  },
  {
   "cell_type": "code",
   "execution_count": 103,
   "id": "a5de45b0-5e99-4a72-a3d3-e843be24a591",
   "metadata": {},
   "outputs": [
    {
     "name": "stderr",
     "output_type": "stream",
     "text": [
      "/var/folders/qy/5gtwsk6s7jgbknbqgb533x9w0000gn/T/ipykernel_30237/3074095515.py:12: DtypeWarning: Columns (6) have mixed types. Specify dtype option on import or set low_memory=False.\n",
      "  df_account = pd.read_csv(DATASET_PATH + party + \"/\" + file, sep=\",\", index_col=0)\n",
      "/var/folders/qy/5gtwsk6s7jgbknbqgb533x9w0000gn/T/ipykernel_30237/3074095515.py:12: DtypeWarning: Columns (6) have mixed types. Specify dtype option on import or set low_memory=False.\n",
      "  df_account = pd.read_csv(DATASET_PATH + party + \"/\" + file, sep=\",\", index_col=0)\n"
     ]
    }
   ],
   "source": [
    "for party in PARTIES:\n",
    "    # Initialize an empty DataFrame to store the tweets from accounts of a party\n",
    "    df_party = pd.DataFrame()\n",
    "    \n",
    "    for subdir, _, files in os.walk(DATASET_PATH + party):\n",
    "        for file in files:\n",
    "            if file.endswith('.csv') and subdir[len(DATASET_PATH):] in PARTIES:\n",
    "                # Get username of CSV file\n",
    "                username = file[:-4]\n",
    "                \n",
    "                # Read dataframe\n",
    "                df_account = pd.read_csv(DATASET_PATH + party + \"/\" + file, sep=\",\", index_col=0)\n",
    "                \n",
    "                # Save the information for which account the tweet was crawled\n",
    "                df_account['source_account'] = username\n",
    "                df_account['source_party'] = party\n",
    "                \n",
    "                # Add dataframe to party dataframe\n",
    "                df_party = pd.concat([df_party, df_account], axis=0).reset_index().drop(columns='index')\n",
    "                \n",
    "    n_tweets_party = df_party.shape[0]\n",
    "    n_tweets_party_for_subset = round((SUBSET_SIZE / n_tweets_total) * n_tweets_party)\n",
    "    n_subset_total += n_tweets_party_for_subset\n",
    "                \n",
    "    df_samples_for_party = df_party.sample(n=n_tweets_party_for_subset, random_state=SEED_VALUE)\n",
    "    annotation_dataset = pd.concat([annotation_dataset, df_samples_for_party], axis=0).reset_index().drop(columns='index')       \n",
    "    #print(party, username, n_tweets_party, n_tweets_party_for_subset, (SUBSET_SIZE / n_tweets_total) * n_tweets_party, n_tweets_party_for_subset)"
   ]
  },
  {
   "cell_type": "code",
   "execution_count": 104,
   "id": "5010af5b-e7a3-4854-944e-9c6250cae815",
   "metadata": {},
   "outputs": [
    {
     "data": {
      "text/plain": [
       "2001"
      ]
     },
     "execution_count": 104,
     "metadata": {},
     "output_type": "execute_result"
    }
   ],
   "source": [
    "n_subset_total"
   ]
  },
  {
   "cell_type": "code",
   "execution_count": 105,
   "id": "ddb22cf4-70bd-45c6-a94e-fa4cc6a291e8",
   "metadata": {},
   "outputs": [],
   "source": [
    "annotation_dataset = annotation_dataset.sample(frac=1, random_state=SEED_VALUE)"
   ]
  },
  {
   "cell_type": "code",
   "execution_count": 106,
   "id": "69da96cf-d110-4bb0-b214-267ad7e2afd6",
   "metadata": {},
   "outputs": [],
   "source": [
    "annotation_dataset = annotation_dataset.loc[:, ['id', 'username', 'date', 'tweet']]"
   ]
  },
  {
   "cell_type": "code",
   "execution_count": 107,
   "id": "a29ced74-cd82-46b0-940a-59128bfd88d3",
   "metadata": {},
   "outputs": [
    {
     "data": {
      "text/html": [
       "<div>\n",
       "<style scoped>\n",
       "    .dataframe tbody tr th:only-of-type {\n",
       "        vertical-align: middle;\n",
       "    }\n",
       "\n",
       "    .dataframe tbody tr th {\n",
       "        vertical-align: top;\n",
       "    }\n",
       "\n",
       "    .dataframe thead th {\n",
       "        text-align: right;\n",
       "    }\n",
       "</style>\n",
       "<table border=\"1\" class=\"dataframe\">\n",
       "  <thead>\n",
       "    <tr style=\"text-align: right;\">\n",
       "      <th></th>\n",
       "      <th>id</th>\n",
       "      <th>username</th>\n",
       "      <th>date</th>\n",
       "      <th>tweet</th>\n",
       "    </tr>\n",
       "  </thead>\n",
       "  <tbody>\n",
       "    <tr>\n",
       "      <th>677</th>\n",
       "      <td>1368659137761054724</td>\n",
       "      <td>bam_pyro</td>\n",
       "      <td>2021-03-07 20:25:41</td>\n",
       "      <td>@Karl_Lauterbach @annewill Die Wahrscheinlichk...</td>\n",
       "    </tr>\n",
       "    <tr>\n",
       "      <th>980</th>\n",
       "      <td>1379383386532368384</td>\n",
       "      <td>GanzerG</td>\n",
       "      <td>2021-04-06 10:40:01</td>\n",
       "      <td>@Karl_Lauterbach Herr Lauterbach plappern Sie ...</td>\n",
       "    </tr>\n",
       "    <tr>\n",
       "      <th>1240</th>\n",
       "      <td>1354360396300300293</td>\n",
       "      <td>laengerals4</td>\n",
       "      <td>2021-01-27 09:27:35</td>\n",
       "      <td>@Joerg_Meuthen Glaubst du den Mist eigentlich ...</td>\n",
       "    </tr>\n",
       "    <tr>\n",
       "      <th>156</th>\n",
       "      <td>1392026965117476864</td>\n",
       "      <td>Bavarian_Propag</td>\n",
       "      <td>2021-05-11 08:01:05</td>\n",
       "      <td>@RenateTuebingen @PaulZiemiak @IsraelinGermany...</td>\n",
       "    </tr>\n",
       "    <tr>\n",
       "      <th>522</th>\n",
       "      <td>1416311865525817344</td>\n",
       "      <td>WernerHAlbrech1</td>\n",
       "      <td>2021-07-17 08:20:37</td>\n",
       "      <td>@SHomburg @Markus_Soeder Aiwanger verdient Res...</td>\n",
       "    </tr>\n",
       "    <tr>\n",
       "      <th>...</th>\n",
       "      <td>...</td>\n",
       "      <td>...</td>\n",
       "      <td>...</td>\n",
       "      <td>...</td>\n",
       "    </tr>\n",
       "    <tr>\n",
       "      <th>835</th>\n",
       "      <td>1424070892221513735</td>\n",
       "      <td>KaStBe2</td>\n",
       "      <td>2021-08-07 18:12:13</td>\n",
       "      <td>@Karl_Lauterbach Also ist die Trennung von Ver...</td>\n",
       "    </tr>\n",
       "    <tr>\n",
       "      <th>1216</th>\n",
       "      <td>1387380782671478788</td>\n",
       "      <td>Pedro39884887</td>\n",
       "      <td>2021-04-28 12:18:49</td>\n",
       "      <td>@wmoebius @StBrandner Da Sie ideologisch verbl...</td>\n",
       "    </tr>\n",
       "    <tr>\n",
       "      <th>1653</th>\n",
       "      <td>1373421922898284549</td>\n",
       "      <td>Ilona_GR_DE</td>\n",
       "      <td>2021-03-20 23:51:18</td>\n",
       "      <td>@unsperrbare @dergruenepunkt @UweNess @SvenjaS...</td>\n",
       "    </tr>\n",
       "    <tr>\n",
       "      <th>559</th>\n",
       "      <td>1445771645075951637</td>\n",
       "      <td>markrudolph2701</td>\n",
       "      <td>2021-10-06 15:23:15</td>\n",
       "      <td>@StefanThumann @Markus_Wojahn @CDU Ich glaube ...</td>\n",
       "    </tr>\n",
       "    <tr>\n",
       "      <th>684</th>\n",
       "      <td>1416055373102993409</td>\n",
       "      <td>KaiMeinecke</td>\n",
       "      <td>2021-07-16 15:21:24</td>\n",
       "      <td>@Michael_W71 @Karl_Lauterbach Wollen sie damit...</td>\n",
       "    </tr>\n",
       "  </tbody>\n",
       "</table>\n",
       "<p>2001 rows × 4 columns</p>\n",
       "</div>"
      ],
      "text/plain": [
       "                       id         username                 date  \\\n",
       "677   1368659137761054724         bam_pyro  2021-03-07 20:25:41   \n",
       "980   1379383386532368384          GanzerG  2021-04-06 10:40:01   \n",
       "1240  1354360396300300293      laengerals4  2021-01-27 09:27:35   \n",
       "156   1392026965117476864  Bavarian_Propag  2021-05-11 08:01:05   \n",
       "522   1416311865525817344  WernerHAlbrech1  2021-07-17 08:20:37   \n",
       "...                   ...              ...                  ...   \n",
       "835   1424070892221513735          KaStBe2  2021-08-07 18:12:13   \n",
       "1216  1387380782671478788    Pedro39884887  2021-04-28 12:18:49   \n",
       "1653  1373421922898284549      Ilona_GR_DE  2021-03-20 23:51:18   \n",
       "559   1445771645075951637  markrudolph2701  2021-10-06 15:23:15   \n",
       "684   1416055373102993409      KaiMeinecke  2021-07-16 15:21:24   \n",
       "\n",
       "                                                  tweet  \n",
       "677   @Karl_Lauterbach @annewill Die Wahrscheinlichk...  \n",
       "980   @Karl_Lauterbach Herr Lauterbach plappern Sie ...  \n",
       "1240  @Joerg_Meuthen Glaubst du den Mist eigentlich ...  \n",
       "156   @RenateTuebingen @PaulZiemiak @IsraelinGermany...  \n",
       "522   @SHomburg @Markus_Soeder Aiwanger verdient Res...  \n",
       "...                                                 ...  \n",
       "835   @Karl_Lauterbach Also ist die Trennung von Ver...  \n",
       "1216  @wmoebius @StBrandner Da Sie ideologisch verbl...  \n",
       "1653  @unsperrbare @dergruenepunkt @UweNess @SvenjaS...  \n",
       "559   @StefanThumann @Markus_Wojahn @CDU Ich glaube ...  \n",
       "684   @Michael_W71 @Karl_Lauterbach Wollen sie damit...  \n",
       "\n",
       "[2001 rows x 4 columns]"
      ]
     },
     "execution_count": 107,
     "metadata": {},
     "output_type": "execute_result"
    }
   ],
   "source": [
    "annotation_dataset"
   ]
  },
  {
   "cell_type": "code",
   "execution_count": 108,
   "id": "e8eaf39f-dc80-49eb-b452-b0c53cd2f9b9",
   "metadata": {},
   "outputs": [],
   "source": [
    "annotation_dataset.to_csv(\"out.csv\")"
   ]
  }
 ],
 "metadata": {
  "kernelspec": {
   "display_name": "Python 3 (ipykernel)",
   "language": "python",
   "name": "python3"
  },
  "language_info": {
   "codemirror_mode": {
    "name": "ipython",
    "version": 3
   },
   "file_extension": ".py",
   "mimetype": "text/x-python",
   "name": "python",
   "nbconvert_exporter": "python",
   "pygments_lexer": "ipython3",
   "version": "3.10.6"
  }
 },
 "nbformat": 4,
 "nbformat_minor": 5
}
