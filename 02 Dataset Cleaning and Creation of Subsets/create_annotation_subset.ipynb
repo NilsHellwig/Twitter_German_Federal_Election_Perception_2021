{
 "cells": [
  {
   "cell_type": "markdown",
   "id": "e2a2d3d2-6f3a-4f9e-987f-636acb8d2583",
   "metadata": {},
   "source": [
    "# Notebook: Create Subset\n",
    "\n",
    "This notebook is used to create a subset of **2000** tweets, which will then be annotated with respect to their sentiment.\n",
    "<br>**Contributors:** [Nils Hellwig](https://github.com/NilsHellwig/) | [Markus Bink](https://github.com/MarkusBink/)"
   ]
  },
  {
   "cell_type": "markdown",
   "id": "06150cb8-bd07-413c-817a-d346f10b32ac",
   "metadata": {},
   "source": [
    "## Packages"
   ]
  },
  {
   "cell_type": "code",
   "execution_count": 70,
   "id": "9ab58f7b-ae84-4dc0-a521-6215096f0c8f",
   "metadata": {},
   "outputs": [],
   "source": [
    "from sklearn.utils import shuffle\n",
    "import pandas as pd\n",
    "import numpy as np\n",
    "import random\n",
    "import os"
   ]
  },
  {
   "cell_type": "markdown",
   "id": "988733c0-13c0-4318-bf57-dabf11fbf4a4",
   "metadata": {},
   "source": [
    "## Parameters"
   ]
  },
  {
   "cell_type": "code",
   "execution_count": 71,
   "id": "692d6040-8acc-4cc1-99b9-b14523639391",
   "metadata": {},
   "outputs": [],
   "source": [
    "ANNOTATION_DATASET_PATH = '../Datasets/annotation_dataset'\n",
    "DATASET_PATH = '../Datasets/dataset/'\n",
    "SUBSET_SIZE = 2000\n",
    "SEED_VALUE = 0\n",
    "PARTIES = [\"CDU_CSU\", \"SPD\", \"AfD\", \"FDP\", \"GRUENE\", \"LINKE\"]"
   ]
  },
  {
   "cell_type": "markdown",
   "id": "90d9edba-ca8f-49be-aa38-1460c13ba0f6",
   "metadata": {},
   "source": [
    "## Code"
   ]
  },
  {
   "cell_type": "markdown",
   "id": "6bacc92a-ed60-41ae-be2a-706c00759475",
   "metadata": {},
   "source": [
    "### 1. Get Reproducable Results"
   ]
  },
  {
   "cell_type": "code",
   "execution_count": 72,
   "id": "4f7168c3-07d4-4403-be63-46ffcbcc5067",
   "metadata": {},
   "outputs": [],
   "source": [
    "os.environ['PYTHONHASHSEED'] = str(SEED_VALUE)\n",
    "random.seed(SEED_VALUE)\n",
    "np.random.seed(SEED_VALUE)"
   ]
  },
  {
   "cell_type": "markdown",
   "id": "46d1121b-d789-45c7-84a7-557256c2a578",
   "metadata": {},
   "source": [
    "### 2. Calculate Number of Tweets"
   ]
  },
  {
   "cell_type": "code",
   "execution_count": 73,
   "id": "8faa9305-c8a6-4ec1-9b06-18831a80e0d0",
   "metadata": {},
   "outputs": [],
   "source": [
    "n_tweets_total = 0"
   ]
  },
  {
   "cell_type": "code",
   "execution_count": 74,
   "id": "b563bd79-5b1a-4892-9a82-7206c3f4bcf8",
   "metadata": {},
   "outputs": [
    {
     "name": "stderr",
     "output_type": "stream",
     "text": [
      "/var/folders/qy/5gtwsk6s7jgbknbqgb533x9w0000gn/T/ipykernel_37686/479282713.py:9: DtypeWarning: Columns (6) have mixed types. Specify dtype option on import or set low_memory=False.\n",
      "  df = pd.read_csv(DATASET_PATH + party + \"/\" + file, sep=\",\", index_col=0)\n",
      "/var/folders/qy/5gtwsk6s7jgbknbqgb533x9w0000gn/T/ipykernel_37686/479282713.py:9: DtypeWarning: Columns (6) have mixed types. Specify dtype option on import or set low_memory=False.\n",
      "  df = pd.read_csv(DATASET_PATH + party + \"/\" + file, sep=\",\", index_col=0)\n"
     ]
    }
   ],
   "source": [
    "for party in PARTIES:\n",
    "    for subdir, _, files in os.walk(DATASET_PATH + party):\n",
    "        for file in files:\n",
    "            if file.endswith('.csv') and subdir[len(DATASET_PATH):] in PARTIES:\n",
    "                # Get username of CSV file\n",
    "                username = file[:-4]\n",
    "                \n",
    "                # Read dataframe\n",
    "                df = pd.read_csv(DATASET_PATH + party + \"/\" + file, sep=\",\", index_col=0)\n",
    "                \n",
    "                # Add length to n_tweets_total\n",
    "                n_tweets_total += df.shape[0]"
   ]
  },
  {
   "cell_type": "code",
   "execution_count": 75,
   "id": "ec28b0e5-c25f-4031-a6a0-d1e7e6942ade",
   "metadata": {},
   "outputs": [
    {
     "data": {
      "text/plain": [
       "326928"
      ]
     },
     "execution_count": 75,
     "metadata": {},
     "output_type": "execute_result"
    }
   ],
   "source": [
    "n_tweets_total"
   ]
  },
  {
   "cell_type": "markdown",
   "id": "995571ba-50b8-4e24-a334-a9de6cbfa2f3",
   "metadata": {},
   "source": [
    "### 3. Get Random Tweets From Each Account"
   ]
  },
  {
   "cell_type": "code",
   "execution_count": 76,
   "id": "f5e758de-ed07-4c45-840f-c2cbb7d34d43",
   "metadata": {},
   "outputs": [],
   "source": [
    "n_subset_total = 0"
   ]
  },
  {
   "cell_type": "code",
   "execution_count": 77,
   "id": "0fd7c904-51be-444e-b515-628c68fb7734",
   "metadata": {},
   "outputs": [],
   "source": [
    "annotation_dataset = pd.DataFrame()"
   ]
  },
  {
   "cell_type": "code",
   "execution_count": 78,
   "id": "a5de45b0-5e99-4a72-a3d3-e843be24a591",
   "metadata": {},
   "outputs": [
    {
     "name": "stderr",
     "output_type": "stream",
     "text": [
      "/var/folders/qy/5gtwsk6s7jgbknbqgb533x9w0000gn/T/ipykernel_37686/3074095515.py:12: DtypeWarning: Columns (6) have mixed types. Specify dtype option on import or set low_memory=False.\n",
      "  df_account = pd.read_csv(DATASET_PATH + party + \"/\" + file, sep=\",\", index_col=0)\n",
      "/var/folders/qy/5gtwsk6s7jgbknbqgb533x9w0000gn/T/ipykernel_37686/3074095515.py:12: DtypeWarning: Columns (6) have mixed types. Specify dtype option on import or set low_memory=False.\n",
      "  df_account = pd.read_csv(DATASET_PATH + party + \"/\" + file, sep=\",\", index_col=0)\n"
     ]
    }
   ],
   "source": [
    "for party in PARTIES:\n",
    "    # Initialize an empty DataFrame to store the tweets from accounts of a party\n",
    "    df_party = pd.DataFrame()\n",
    "    \n",
    "    for subdir, _, files in os.walk(DATASET_PATH + party):\n",
    "        for file in files:\n",
    "            if file.endswith('.csv') and subdir[len(DATASET_PATH):] in PARTIES:\n",
    "                # Get username of CSV file\n",
    "                username = file[:-4]\n",
    "                \n",
    "                # Read dataframe\n",
    "                df_account = pd.read_csv(DATASET_PATH + party + \"/\" + file, sep=\",\", index_col=0)\n",
    "                \n",
    "                # Save the information for which account the tweet was crawled\n",
    "                df_account['source_account'] = username\n",
    "                df_account['source_party'] = party\n",
    "                \n",
    "                # Add dataframe to party dataframe\n",
    "                df_party = pd.concat([df_party, df_account], axis=0).reset_index().drop(columns='index')\n",
    "                \n",
    "    n_tweets_party = df_party.shape[0]\n",
    "    n_tweets_party_for_subset = round((SUBSET_SIZE / n_tweets_total) * n_tweets_party)\n",
    "    n_subset_total += n_tweets_party_for_subset\n",
    "                \n",
    "    df_samples_for_party = df_party.sample(n=n_tweets_party_for_subset, random_state=SEED_VALUE)\n",
    "    annotation_dataset = pd.concat([annotation_dataset, df_samples_for_party], axis=0).reset_index().drop(columns='index')       \n",
    "    #print(party, username, n_tweets_party, n_tweets_party_for_subset, (SUBSET_SIZE / n_tweets_total) * n_tweets_party, n_tweets_party_for_subset)"
   ]
  },
  {
   "cell_type": "code",
   "execution_count": 79,
   "id": "5010af5b-e7a3-4854-944e-9c6250cae815",
   "metadata": {},
   "outputs": [
    {
     "data": {
      "text/plain": [
       "2001"
      ]
     },
     "execution_count": 79,
     "metadata": {},
     "output_type": "execute_result"
    }
   ],
   "source": [
    "n_subset_total"
   ]
  },
  {
   "cell_type": "markdown",
   "id": "c8918727-e308-4751-b2db-21c73fc52190",
   "metadata": {},
   "source": [
    "### 4. Create Sub Datasets for Annotation "
   ]
  },
  {
   "cell_type": "code",
   "execution_count": 80,
   "id": "69da96cf-d110-4bb0-b214-267ad7e2afd6",
   "metadata": {},
   "outputs": [],
   "source": [
    "annotation_dataset = annotation_dataset.sample(frac=1, random_state=SEED_VALUE).reset_index()\n",
    "annotation_dataset = annotation_dataset.loc[:, ['id', 'username', 'date', 'tweet']]"
   ]
  },
  {
   "cell_type": "code",
   "execution_count": 81,
   "id": "a29ced74-cd82-46b0-940a-59128bfd88d3",
   "metadata": {},
   "outputs": [],
   "source": [
    "df_session1 = annotation_dataset[:int(SUBSET_SIZE/2)]\n",
    "df_session2 = annotation_dataset[int(SUBSET_SIZE/2):]"
   ]
  },
  {
   "cell_type": "code",
   "execution_count": 82,
   "id": "7b0e4ee8-0ebe-4f2d-8870-bd193cddc7e9",
   "metadata": {},
   "outputs": [
    {
     "data": {
      "text/html": [
       "<div>\n",
       "<style scoped>\n",
       "    .dataframe tbody tr th:only-of-type {\n",
       "        vertical-align: middle;\n",
       "    }\n",
       "\n",
       "    .dataframe tbody tr th {\n",
       "        vertical-align: top;\n",
       "    }\n",
       "\n",
       "    .dataframe thead th {\n",
       "        text-align: right;\n",
       "    }\n",
       "</style>\n",
       "<table border=\"1\" class=\"dataframe\">\n",
       "  <thead>\n",
       "    <tr style=\"text-align: right;\">\n",
       "      <th></th>\n",
       "      <th>id</th>\n",
       "      <th>username</th>\n",
       "      <th>date</th>\n",
       "      <th>tweet</th>\n",
       "    </tr>\n",
       "  </thead>\n",
       "  <tbody>\n",
       "    <tr>\n",
       "      <th>0</th>\n",
       "      <td>1368659137761054724</td>\n",
       "      <td>bam_pyro</td>\n",
       "      <td>2021-03-07 20:25:41</td>\n",
       "      <td>@Karl_Lauterbach @annewill Die Wahrscheinlichk...</td>\n",
       "    </tr>\n",
       "    <tr>\n",
       "      <th>1</th>\n",
       "      <td>1379383386532368384</td>\n",
       "      <td>GanzerG</td>\n",
       "      <td>2021-04-06 10:40:01</td>\n",
       "      <td>@Karl_Lauterbach Herr Lauterbach plappern Sie ...</td>\n",
       "    </tr>\n",
       "    <tr>\n",
       "      <th>2</th>\n",
       "      <td>1354360396300300293</td>\n",
       "      <td>laengerals4</td>\n",
       "      <td>2021-01-27 09:27:35</td>\n",
       "      <td>@Joerg_Meuthen Glaubst du den Mist eigentlich ...</td>\n",
       "    </tr>\n",
       "    <tr>\n",
       "      <th>3</th>\n",
       "      <td>1392026965117476864</td>\n",
       "      <td>Bavarian_Propag</td>\n",
       "      <td>2021-05-11 08:01:05</td>\n",
       "      <td>@RenateTuebingen @PaulZiemiak @IsraelinGermany...</td>\n",
       "    </tr>\n",
       "    <tr>\n",
       "      <th>4</th>\n",
       "      <td>1416311865525817344</td>\n",
       "      <td>WernerHAlbrech1</td>\n",
       "      <td>2021-07-17 08:20:37</td>\n",
       "      <td>@SHomburg @Markus_Soeder Aiwanger verdient Res...</td>\n",
       "    </tr>\n",
       "    <tr>\n",
       "      <th>...</th>\n",
       "      <td>...</td>\n",
       "      <td>...</td>\n",
       "      <td>...</td>\n",
       "      <td>...</td>\n",
       "    </tr>\n",
       "    <tr>\n",
       "      <th>995</th>\n",
       "      <td>1428244778668396545</td>\n",
       "      <td>AlexMKonrad</td>\n",
       "      <td>2021-08-19 06:37:45</td>\n",
       "      <td>@lcywbb @spdde Hat bei den letzten Wahlen ja a...</td>\n",
       "    </tr>\n",
       "    <tr>\n",
       "      <th>996</th>\n",
       "      <td>1446349477661626368</td>\n",
       "      <td>MEBEKE2005</td>\n",
       "      <td>2021-10-08 05:39:22</td>\n",
       "      <td>@StBrandner Ermittlungen, Herr Brandner. Schla...</td>\n",
       "    </tr>\n",
       "    <tr>\n",
       "      <th>997</th>\n",
       "      <td>1476966956318310401</td>\n",
       "      <td>huhnerbaron</td>\n",
       "      <td>2021-12-31 17:22:17</td>\n",
       "      <td>@Tomsch24 @ulumbamulumba @julianberger86 @StBr...</td>\n",
       "    </tr>\n",
       "    <tr>\n",
       "      <th>998</th>\n",
       "      <td>1443568956493549572</td>\n",
       "      <td>ChristianHKuhn</td>\n",
       "      <td>2021-09-30 13:30:34</td>\n",
       "      <td>@DrStefanBerger @KuehniKev @drumheadberlin @BI...</td>\n",
       "    </tr>\n",
       "    <tr>\n",
       "      <th>999</th>\n",
       "      <td>1423940662471413766</td>\n",
       "      <td>schmiddi1077</td>\n",
       "      <td>2021-08-07 09:34:44</td>\n",
       "      <td>@Karl_Lauterbach @ArminLaschet Das will nicht ...</td>\n",
       "    </tr>\n",
       "  </tbody>\n",
       "</table>\n",
       "<p>1000 rows × 4 columns</p>\n",
       "</div>"
      ],
      "text/plain": [
       "                      id         username                 date  \\\n",
       "0    1368659137761054724         bam_pyro  2021-03-07 20:25:41   \n",
       "1    1379383386532368384          GanzerG  2021-04-06 10:40:01   \n",
       "2    1354360396300300293      laengerals4  2021-01-27 09:27:35   \n",
       "3    1392026965117476864  Bavarian_Propag  2021-05-11 08:01:05   \n",
       "4    1416311865525817344  WernerHAlbrech1  2021-07-17 08:20:37   \n",
       "..                   ...              ...                  ...   \n",
       "995  1428244778668396545      AlexMKonrad  2021-08-19 06:37:45   \n",
       "996  1446349477661626368       MEBEKE2005  2021-10-08 05:39:22   \n",
       "997  1476966956318310401      huhnerbaron  2021-12-31 17:22:17   \n",
       "998  1443568956493549572   ChristianHKuhn  2021-09-30 13:30:34   \n",
       "999  1423940662471413766     schmiddi1077  2021-08-07 09:34:44   \n",
       "\n",
       "                                                 tweet  \n",
       "0    @Karl_Lauterbach @annewill Die Wahrscheinlichk...  \n",
       "1    @Karl_Lauterbach Herr Lauterbach plappern Sie ...  \n",
       "2    @Joerg_Meuthen Glaubst du den Mist eigentlich ...  \n",
       "3    @RenateTuebingen @PaulZiemiak @IsraelinGermany...  \n",
       "4    @SHomburg @Markus_Soeder Aiwanger verdient Res...  \n",
       "..                                                 ...  \n",
       "995  @lcywbb @spdde Hat bei den letzten Wahlen ja a...  \n",
       "996  @StBrandner Ermittlungen, Herr Brandner. Schla...  \n",
       "997  @Tomsch24 @ulumbamulumba @julianberger86 @StBr...  \n",
       "998  @DrStefanBerger @KuehniKev @drumheadberlin @BI...  \n",
       "999  @Karl_Lauterbach @ArminLaschet Das will nicht ...  \n",
       "\n",
       "[1000 rows x 4 columns]"
      ]
     },
     "execution_count": 82,
     "metadata": {},
     "output_type": "execute_result"
    }
   ],
   "source": [
    "df_session1.to_csv(ANNOTATION_DATASET_PATH + \"/tweets_session_1.csv\")\n",
    "df_session1"
   ]
  },
  {
   "cell_type": "code",
   "execution_count": 83,
   "id": "e8eaf39f-dc80-49eb-b452-b0c53cd2f9b9",
   "metadata": {},
   "outputs": [
    {
     "data": {
      "text/html": [
       "<div>\n",
       "<style scoped>\n",
       "    .dataframe tbody tr th:only-of-type {\n",
       "        vertical-align: middle;\n",
       "    }\n",
       "\n",
       "    .dataframe tbody tr th {\n",
       "        vertical-align: top;\n",
       "    }\n",
       "\n",
       "    .dataframe thead th {\n",
       "        text-align: right;\n",
       "    }\n",
       "</style>\n",
       "<table border=\"1\" class=\"dataframe\">\n",
       "  <thead>\n",
       "    <tr style=\"text-align: right;\">\n",
       "      <th></th>\n",
       "      <th>id</th>\n",
       "      <th>username</th>\n",
       "      <th>date</th>\n",
       "      <th>tweet</th>\n",
       "    </tr>\n",
       "  </thead>\n",
       "  <tbody>\n",
       "    <tr>\n",
       "      <th>1000</th>\n",
       "      <td>1461671888313360397</td>\n",
       "      <td>Reihner_pop</td>\n",
       "      <td>2021-11-19 12:25:09</td>\n",
       "      <td>@GesetzDesTages @willy_wusel @Glamour_is_free ...</td>\n",
       "    </tr>\n",
       "    <tr>\n",
       "      <th>1001</th>\n",
       "      <td>1359508051267575809</td>\n",
       "      <td>Honkthefirst</td>\n",
       "      <td>2021-02-10 14:22:32</td>\n",
       "      <td>@Aggregat11 @AfDimEUParl @Joerg_Meuthen @vonde...</td>\n",
       "    </tr>\n",
       "    <tr>\n",
       "      <th>1002</th>\n",
       "      <td>1433700794948276244</td>\n",
       "      <td>rudyratlos</td>\n",
       "      <td>2021-09-03 07:58:01</td>\n",
       "      <td>@faznet @HeikoMaas Der Herr Maas ist nicht zu ...</td>\n",
       "    </tr>\n",
       "    <tr>\n",
       "      <th>1003</th>\n",
       "      <td>1400690315086946310</td>\n",
       "      <td>claravia9</td>\n",
       "      <td>2021-06-04 05:46:09</td>\n",
       "      <td>@Schmidtlepp @ArminLaschet @TspCheckpoint Step...</td>\n",
       "    </tr>\n",
       "    <tr>\n",
       "      <th>1004</th>\n",
       "      <td>1447258986634416130</td>\n",
       "      <td>BitcoinUndScifi</td>\n",
       "      <td>2021-10-10 17:53:25</td>\n",
       "      <td>@SteHaller @MartinDheBoss @davstier @f_schaeff...</td>\n",
       "    </tr>\n",
       "    <tr>\n",
       "      <th>...</th>\n",
       "      <td>...</td>\n",
       "      <td>...</td>\n",
       "      <td>...</td>\n",
       "      <td>...</td>\n",
       "    </tr>\n",
       "    <tr>\n",
       "      <th>1996</th>\n",
       "      <td>1424070892221513735</td>\n",
       "      <td>KaStBe2</td>\n",
       "      <td>2021-08-07 18:12:13</td>\n",
       "      <td>@Karl_Lauterbach Also ist die Trennung von Ver...</td>\n",
       "    </tr>\n",
       "    <tr>\n",
       "      <th>1997</th>\n",
       "      <td>1387380782671478788</td>\n",
       "      <td>Pedro39884887</td>\n",
       "      <td>2021-04-28 12:18:49</td>\n",
       "      <td>@wmoebius @StBrandner Da Sie ideologisch verbl...</td>\n",
       "    </tr>\n",
       "    <tr>\n",
       "      <th>1998</th>\n",
       "      <td>1373421922898284549</td>\n",
       "      <td>Ilona_GR_DE</td>\n",
       "      <td>2021-03-20 23:51:18</td>\n",
       "      <td>@unsperrbare @dergruenepunkt @UweNess @SvenjaS...</td>\n",
       "    </tr>\n",
       "    <tr>\n",
       "      <th>1999</th>\n",
       "      <td>1445771645075951637</td>\n",
       "      <td>markrudolph2701</td>\n",
       "      <td>2021-10-06 15:23:15</td>\n",
       "      <td>@StefanThumann @Markus_Wojahn @CDU Ich glaube ...</td>\n",
       "    </tr>\n",
       "    <tr>\n",
       "      <th>2000</th>\n",
       "      <td>1416055373102993409</td>\n",
       "      <td>KaiMeinecke</td>\n",
       "      <td>2021-07-16 15:21:24</td>\n",
       "      <td>@Michael_W71 @Karl_Lauterbach Wollen sie damit...</td>\n",
       "    </tr>\n",
       "  </tbody>\n",
       "</table>\n",
       "<p>1001 rows × 4 columns</p>\n",
       "</div>"
      ],
      "text/plain": [
       "                       id         username                 date  \\\n",
       "1000  1461671888313360397      Reihner_pop  2021-11-19 12:25:09   \n",
       "1001  1359508051267575809     Honkthefirst  2021-02-10 14:22:32   \n",
       "1002  1433700794948276244       rudyratlos  2021-09-03 07:58:01   \n",
       "1003  1400690315086946310        claravia9  2021-06-04 05:46:09   \n",
       "1004  1447258986634416130  BitcoinUndScifi  2021-10-10 17:53:25   \n",
       "...                   ...              ...                  ...   \n",
       "1996  1424070892221513735          KaStBe2  2021-08-07 18:12:13   \n",
       "1997  1387380782671478788    Pedro39884887  2021-04-28 12:18:49   \n",
       "1998  1373421922898284549      Ilona_GR_DE  2021-03-20 23:51:18   \n",
       "1999  1445771645075951637  markrudolph2701  2021-10-06 15:23:15   \n",
       "2000  1416055373102993409      KaiMeinecke  2021-07-16 15:21:24   \n",
       "\n",
       "                                                  tweet  \n",
       "1000  @GesetzDesTages @willy_wusel @Glamour_is_free ...  \n",
       "1001  @Aggregat11 @AfDimEUParl @Joerg_Meuthen @vonde...  \n",
       "1002  @faznet @HeikoMaas Der Herr Maas ist nicht zu ...  \n",
       "1003  @Schmidtlepp @ArminLaschet @TspCheckpoint Step...  \n",
       "1004  @SteHaller @MartinDheBoss @davstier @f_schaeff...  \n",
       "...                                                 ...  \n",
       "1996  @Karl_Lauterbach Also ist die Trennung von Ver...  \n",
       "1997  @wmoebius @StBrandner Da Sie ideologisch verbl...  \n",
       "1998  @unsperrbare @dergruenepunkt @UweNess @SvenjaS...  \n",
       "1999  @StefanThumann @Markus_Wojahn @CDU Ich glaube ...  \n",
       "2000  @Michael_W71 @Karl_Lauterbach Wollen sie damit...  \n",
       "\n",
       "[1001 rows x 4 columns]"
      ]
     },
     "execution_count": 83,
     "metadata": {},
     "output_type": "execute_result"
    }
   ],
   "source": [
    "df_session2.to_csv(ANNOTATION_DATASET_PATH + \"/tweets_session_2.csv\")\n",
    "df_session2"
   ]
  }
 ],
 "metadata": {
  "kernelspec": {
   "display_name": "Python 3 (ipykernel)",
   "language": "python",
   "name": "python3"
  },
  "language_info": {
   "codemirror_mode": {
    "name": "ipython",
    "version": 3
   },
   "file_extension": ".py",
   "mimetype": "text/x-python",
   "name": "python",
   "nbconvert_exporter": "python",
   "pygments_lexer": "ipython3",
   "version": "3.10.6"
  }
 },
 "nbformat": 4,
 "nbformat_minor": 5
}
