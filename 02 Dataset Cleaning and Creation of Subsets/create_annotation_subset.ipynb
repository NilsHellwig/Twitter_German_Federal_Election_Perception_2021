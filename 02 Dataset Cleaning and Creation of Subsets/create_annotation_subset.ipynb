{
 "cells": [
  {
   "cell_type": "markdown",
   "id": "e2a2d3d2-6f3a-4f9e-987f-636acb8d2583",
   "metadata": {},
   "source": [
    "# Notebook: Create Subset\n",
    "\n",
    "This notebook is used to create a subset of **2000** tweets, which will then be annotated with respect to their sentiment.\n",
    "<br>**Contributors:** [Nils Hellwig](https://github.com/NilsHellwig/) | [Markus Bink](https://github.com/MarkusBink/)"
   ]
  },
  {
   "cell_type": "markdown",
   "id": "06150cb8-bd07-413c-817a-d346f10b32ac",
   "metadata": {},
   "source": [
    "## Packages"
   ]
  },
  {
   "cell_type": "code",
   "execution_count": 19,
   "id": "9ab58f7b-ae84-4dc0-a521-6215096f0c8f",
   "metadata": {},
   "outputs": [],
   "source": [
    "from sklearn.utils import shuffle\n",
    "import pandas as pd\n",
    "import numpy as np\n",
    "import random\n",
    "import os"
   ]
  },
  {
   "cell_type": "markdown",
   "id": "988733c0-13c0-4318-bf57-dabf11fbf4a4",
   "metadata": {},
   "source": [
    "## Parameters"
   ]
  },
  {
   "cell_type": "code",
   "execution_count": 20,
   "id": "692d6040-8acc-4cc1-99b9-b14523639391",
   "metadata": {},
   "outputs": [],
   "source": [
    "ANNOTATION_DATASET_PATH = '../Datasets/annotation_dataset'\n",
    "DATASET_PATH = '../Datasets/dataset/'\n",
    "SUBSET_SIZE = 2000\n",
    "SEED_VALUE = 0\n",
    "PARTIES = [\"CDU_CSU\", \"SPD\", \"AFD\", \"FDP\", \"GRUENE\", \"LINKE\"]"
   ]
  },
  {
   "cell_type": "markdown",
   "id": "90d9edba-ca8f-49be-aa38-1460c13ba0f6",
   "metadata": {},
   "source": [
    "## Code"
   ]
  },
  {
   "cell_type": "markdown",
   "id": "6bacc92a-ed60-41ae-be2a-706c00759475",
   "metadata": {},
   "source": [
    "### 1. Get Reproducable Results"
   ]
  },
  {
   "cell_type": "code",
   "execution_count": 21,
   "id": "4f7168c3-07d4-4403-be63-46ffcbcc5067",
   "metadata": {},
   "outputs": [],
   "source": [
    "os.environ['PYTHONHASHSEED'] = str(SEED_VALUE)\n",
    "random.seed(SEED_VALUE)\n",
    "np.random.seed(SEED_VALUE)"
   ]
  },
  {
   "cell_type": "markdown",
   "id": "46d1121b-d789-45c7-84a7-557256c2a578",
   "metadata": {},
   "source": [
    "### 2. Calculate Number of Tweets"
   ]
  },
  {
   "cell_type": "code",
   "execution_count": 22,
   "id": "8faa9305-c8a6-4ec1-9b06-18831a80e0d0",
   "metadata": {},
   "outputs": [],
   "source": [
    "n_tweets_total = 0\n",
    "party_statistics = {}"
   ]
  },
  {
   "cell_type": "code",
   "execution_count": 23,
   "id": "b563bd79-5b1a-4892-9a82-7206c3f4bcf8",
   "metadata": {},
   "outputs": [
    {
     "name": "stderr",
     "output_type": "stream",
     "text": [
      "/var/folders/qy/5gtwsk6s7jgbknbqgb533x9w0000gn/T/ipykernel_58694/2349382767.py:10: DtypeWarning: Columns (6) have mixed types. Specify dtype option on import or set low_memory=False.\n",
      "  df = pd.read_csv(DATASET_PATH + party + \"/\" + file, sep=\",\", index_col=0)\n",
      "/var/folders/qy/5gtwsk6s7jgbknbqgb533x9w0000gn/T/ipykernel_58694/2349382767.py:10: DtypeWarning: Columns (6) have mixed types. Specify dtype option on import or set low_memory=False.\n",
      "  df = pd.read_csv(DATASET_PATH + party + \"/\" + file, sep=\",\", index_col=0)\n",
      "/var/folders/qy/5gtwsk6s7jgbknbqgb533x9w0000gn/T/ipykernel_58694/2349382767.py:10: DtypeWarning: Columns (6) have mixed types. Specify dtype option on import or set low_memory=False.\n",
      "  df = pd.read_csv(DATASET_PATH + party + \"/\" + file, sep=\",\", index_col=0)\n",
      "/var/folders/qy/5gtwsk6s7jgbknbqgb533x9w0000gn/T/ipykernel_58694/2349382767.py:10: DtypeWarning: Columns (6) have mixed types. Specify dtype option on import or set low_memory=False.\n",
      "  df = pd.read_csv(DATASET_PATH + party + \"/\" + file, sep=\",\", index_col=0)\n",
      "/var/folders/qy/5gtwsk6s7jgbknbqgb533x9w0000gn/T/ipykernel_58694/2349382767.py:10: DtypeWarning: Columns (6) have mixed types. Specify dtype option on import or set low_memory=False.\n",
      "  df = pd.read_csv(DATASET_PATH + party + \"/\" + file, sep=\",\", index_col=0)\n",
      "/var/folders/qy/5gtwsk6s7jgbknbqgb533x9w0000gn/T/ipykernel_58694/2349382767.py:10: DtypeWarning: Columns (6) have mixed types. Specify dtype option on import or set low_memory=False.\n",
      "  df = pd.read_csv(DATASET_PATH + party + \"/\" + file, sep=\",\", index_col=0)\n",
      "/var/folders/qy/5gtwsk6s7jgbknbqgb533x9w0000gn/T/ipykernel_58694/2349382767.py:10: DtypeWarning: Columns (6) have mixed types. Specify dtype option on import or set low_memory=False.\n",
      "  df = pd.read_csv(DATASET_PATH + party + \"/\" + file, sep=\",\", index_col=0)\n"
     ]
    }
   ],
   "source": [
    "for party in PARTIES:\n",
    "    n_tweets_party = 0\n",
    "    for subdir, _, files in os.walk(DATASET_PATH + party):\n",
    "        for file in files:\n",
    "            if file.endswith('.csv') and subdir[len(DATASET_PATH):] in PARTIES:\n",
    "                # Get username of CSV file\n",
    "                username = file[:-4]\n",
    "                \n",
    "                # Read dataframe\n",
    "                df = pd.read_csv(DATASET_PATH + party + \"/\" + file, sep=\",\", index_col=0)\n",
    "                \n",
    "                # Add to counter\n",
    "                n_tweets_party += df.shape[0]\n",
    "                \n",
    "                # Add length to n_tweets_total\n",
    "                n_tweets_total += df.shape[0]\n",
    "                \n",
    "    party_statistics[party] = n_tweets_party"
   ]
  },
  {
   "cell_type": "code",
   "execution_count": 24,
   "id": "ec28b0e5-c25f-4031-a6a0-d1e7e6942ade",
   "metadata": {},
   "outputs": [
    {
     "data": {
      "text/plain": [
       "713486"
      ]
     },
     "execution_count": 24,
     "metadata": {},
     "output_type": "execute_result"
    }
   ],
   "source": [
    "n_tweets_total"
   ]
  },
  {
   "cell_type": "code",
   "execution_count": 25,
   "id": "e1b4e868-847f-4d0a-b9a7-8ac9951f7f55",
   "metadata": {},
   "outputs": [
    {
     "data": {
      "text/plain": [
       "{'CDU_CSU': 229899,\n",
       " 'SPD': 230215,\n",
       " 'AFD': 58050,\n",
       " 'FDP': 80517,\n",
       " 'GRUENE': 73981,\n",
       " 'LINKE': 40824}"
      ]
     },
     "execution_count": 25,
     "metadata": {},
     "output_type": "execute_result"
    }
   ],
   "source": [
    "party_statistics"
   ]
  },
  {
   "cell_type": "markdown",
   "id": "1c0da95a-4669-4cc7-a513-cc900017670c",
   "metadata": {},
   "source": [
    "### 3. Check which party gets an additional Tweet"
   ]
  },
  {
   "cell_type": "code",
   "execution_count": 26,
   "id": "bc5299b8-8c9b-4c5e-9770-d0fa8045dc4c",
   "metadata": {},
   "outputs": [],
   "source": [
    "def get_key_with_max_value_under_0_5(dictionary):\n",
    "    filtered_dict = {}\n",
    "    for key, value in dictionary.items():\n",
    "        if value < 0.5:\n",
    "            filtered_dict[key] = value\n",
    "    return max(filtered_dict, key=filtered_dict.get)"
   ]
  },
  {
   "cell_type": "code",
   "execution_count": 27,
   "id": "ce4f4544-2a74-4353-893c-abdf9f22b49e",
   "metadata": {},
   "outputs": [],
   "source": [
    "def truncate(x, d):\n",
    "    return int(x*(10.0**d))/(10.0**d)\n",
    "\n",
    "for party in party_statistics:\n",
    "    party_statistics[party] = ((SUBSET_SIZE / n_tweets_total) * party_statistics[party]) - truncate((SUBSET_SIZE / n_tweets_total) * party_statistics[party], 0)"
   ]
  },
  {
   "cell_type": "code",
   "execution_count": 28,
   "id": "fd7048d4-ca72-44ac-a580-1bc4c88764fb",
   "metadata": {},
   "outputs": [
    {
     "data": {
      "text/plain": [
       "'CDU_CSU'"
      ]
     },
     "execution_count": 28,
     "metadata": {},
     "output_type": "execute_result"
    }
   ],
   "source": [
    "# Check which Party will get an additional Tweet\n",
    "party_with_additional_tweet = get_key_with_max_value_under_0_5(party_statistics)\n",
    "party_with_additional_tweet"
   ]
  },
  {
   "cell_type": "markdown",
   "id": "995571ba-50b8-4e24-a334-a9de6cbfa2f3",
   "metadata": {},
   "source": [
    "### 4. Get Random Tweets From Each Account"
   ]
  },
  {
   "cell_type": "code",
   "execution_count": 29,
   "id": "f5e758de-ed07-4c45-840f-c2cbb7d34d43",
   "metadata": {},
   "outputs": [],
   "source": [
    "n_subset_total = 0"
   ]
  },
  {
   "cell_type": "code",
   "execution_count": 30,
   "id": "99ec46c1-3884-4b30-b8b3-3e79e8e6e3f2",
   "metadata": {},
   "outputs": [
    {
     "name": "stderr",
     "output_type": "stream",
     "text": [
      "/var/folders/qy/5gtwsk6s7jgbknbqgb533x9w0000gn/T/ipykernel_58694/1343845218.py:19: DtypeWarning: Columns (6) have mixed types. Specify dtype option on import or set low_memory=False.\n",
      "  df_account = pd.read_csv(DATASET_PATH + party + \"/\" + file, sep=\",\", index_col=0)\n",
      "/var/folders/qy/5gtwsk6s7jgbknbqgb533x9w0000gn/T/ipykernel_58694/1343845218.py:19: DtypeWarning: Columns (6) have mixed types. Specify dtype option on import or set low_memory=False.\n",
      "  df_account = pd.read_csv(DATASET_PATH + party + \"/\" + file, sep=\",\", index_col=0)\n",
      "/var/folders/qy/5gtwsk6s7jgbknbqgb533x9w0000gn/T/ipykernel_58694/1343845218.py:19: DtypeWarning: Columns (6) have mixed types. Specify dtype option on import or set low_memory=False.\n",
      "  df_account = pd.read_csv(DATASET_PATH + party + \"/\" + file, sep=\",\", index_col=0)\n",
      "/var/folders/qy/5gtwsk6s7jgbknbqgb533x9w0000gn/T/ipykernel_58694/1343845218.py:19: DtypeWarning: Columns (6) have mixed types. Specify dtype option on import or set low_memory=False.\n",
      "  df_account = pd.read_csv(DATASET_PATH + party + \"/\" + file, sep=\",\", index_col=0)\n",
      "/var/folders/qy/5gtwsk6s7jgbknbqgb533x9w0000gn/T/ipykernel_58694/1343845218.py:19: DtypeWarning: Columns (6) have mixed types. Specify dtype option on import or set low_memory=False.\n",
      "  df_account = pd.read_csv(DATASET_PATH + party + \"/\" + file, sep=\",\", index_col=0)\n",
      "/var/folders/qy/5gtwsk6s7jgbknbqgb533x9w0000gn/T/ipykernel_58694/1343845218.py:19: DtypeWarning: Columns (6) have mixed types. Specify dtype option on import or set low_memory=False.\n",
      "  df_account = pd.read_csv(DATASET_PATH + party + \"/\" + file, sep=\",\", index_col=0)\n",
      "/var/folders/qy/5gtwsk6s7jgbknbqgb533x9w0000gn/T/ipykernel_58694/1343845218.py:19: DtypeWarning: Columns (6) have mixed types. Specify dtype option on import or set low_memory=False.\n",
      "  df_account = pd.read_csv(DATASET_PATH + party + \"/\" + file, sep=\",\", index_col=0)\n"
     ]
    }
   ],
   "source": [
    "annotation_dataset = pd.DataFrame()\n",
    "\n",
    "# In principle, duplicate data points can occur in the data set, but this is extremely rare. \n",
    "# Nevertheless, we want to be sure that the performance of the model is not evaluated with a tweet that is also among the test data.\n",
    "annotation_dataset_unique = False\n",
    "\n",
    "while not(annotation_dataset_unique):\n",
    "    for party in PARTIES:\n",
    "        # Initialize an empty DataFrame to store the tweets from accounts of a party\n",
    "        df_party = pd.DataFrame()\n",
    "    \n",
    "        for subdir, _, files in os.walk(DATASET_PATH + party):\n",
    "            for file in files:\n",
    "                if file.endswith('.csv') and subdir[len(DATASET_PATH):] in PARTIES:\n",
    "                    # Get username of CSV file\n",
    "                    username = file[:-4]\n",
    "                \n",
    "                    # Read dataframe\n",
    "                    df_account = pd.read_csv(DATASET_PATH + party + \"/\" + file, sep=\",\", index_col=0)\n",
    "                \n",
    "                    # Add dataframe to party dataframe\n",
    "                    df_party = pd.concat([df_party, df_account], axis=0).reset_index().drop(columns='index')\n",
    "                \n",
    "        n_tweets_party = df_party.shape[0]\n",
    "        n_tweets_party_for_subset = round((SUBSET_SIZE / n_tweets_total) * n_tweets_party)\n",
    "        \n",
    "        if party_with_additional_tweet == party:\n",
    "            n_tweets_party_for_subset += 1\n",
    "            \n",
    "        n_subset_total += n_tweets_party_for_subset\n",
    "                \n",
    "        df_samples_for_party = df_party.sample(n=n_tweets_party_for_subset, random_state=SEED_VALUE)\n",
    "        annotation_dataset = pd.concat([annotation_dataset, df_samples_for_party], axis=0).reset_index().drop(columns='index')       \n",
    "        #print(party, username, n_tweets_party, n_tweets_party_for_subset, (SUBSET_SIZE / n_tweets_total) * n_tweets_party, n_tweets_party_for_subset)\n",
    "        \n",
    "    if annotation_dataset['id'].nunique() == len(annotation_dataset):\n",
    "        annotation_dataset_unique = True"
   ]
  },
  {
   "cell_type": "code",
   "execution_count": 31,
   "id": "5010af5b-e7a3-4854-944e-9c6250cae815",
   "metadata": {},
   "outputs": [
    {
     "data": {
      "text/plain": [
       "2000"
      ]
     },
     "execution_count": 31,
     "metadata": {},
     "output_type": "execute_result"
    }
   ],
   "source": [
    "n_subset_total"
   ]
  },
  {
   "cell_type": "markdown",
   "id": "c8918727-e308-4751-b2db-21c73fc52190",
   "metadata": {},
   "source": [
    "### 4. Create Sub Datasets for Annotation "
   ]
  },
  {
   "cell_type": "markdown",
   "id": "3abd2fc8-14a6-421e-b2ec-6cb818a9fbc8",
   "metadata": {},
   "source": [
    "Save dataset for annotation"
   ]
  },
  {
   "cell_type": "code",
   "execution_count": 32,
   "id": "69da96cf-d110-4bb0-b214-267ad7e2afd6",
   "metadata": {},
   "outputs": [],
   "source": [
    "annotation_dataset = annotation_dataset.sample(frac=1, random_state=SEED_VALUE).reset_index()\n",
    "annotation_dataset.to_csv(ANNOTATION_DATASET_PATH + \"/annotation_dataset.csv\")"
   ]
  },
  {
   "cell_type": "markdown",
   "id": "8e867a01-ad8c-4669-9222-3b49e6731be5",
   "metadata": {},
   "source": [
    "Add column for sentiment label and columns with information that might be helpfull for annotators"
   ]
  },
  {
   "cell_type": "code",
   "execution_count": null,
   "id": "93c466c1-b8df-42e0-a70c-8c14e4a613ca",
   "metadata": {},
   "outputs": [],
   "source": [
    "annotation_dataset[\"sentiment_label\"] = \"\"\n",
    "annotation_dataset = annotation_dataset.loc[:, ['id', 'username', 'date', 'sentiment_label', 'tweet', 'link', 'source_account']]"
   ]
  },
  {
   "cell_type": "code",
   "execution_count": 34,
   "id": "a29ced74-cd82-46b0-940a-59128bfd88d3",
   "metadata": {},
   "outputs": [],
   "source": [
    "df_session1 = annotation_dataset[:int(SUBSET_SIZE/2)]\n",
    "df_session2 = annotation_dataset[int(SUBSET_SIZE/2):]"
   ]
  },
  {
   "cell_type": "code",
   "execution_count": 35,
   "id": "7b0e4ee8-0ebe-4f2d-8870-bd193cddc7e9",
   "metadata": {},
   "outputs": [
    {
     "data": {
      "text/html": [
       "<div>\n",
       "<style scoped>\n",
       "    .dataframe tbody tr th:only-of-type {\n",
       "        vertical-align: middle;\n",
       "    }\n",
       "\n",
       "    .dataframe tbody tr th {\n",
       "        vertical-align: top;\n",
       "    }\n",
       "\n",
       "    .dataframe thead th {\n",
       "        text-align: right;\n",
       "    }\n",
       "</style>\n",
       "<table border=\"1\" class=\"dataframe\">\n",
       "  <thead>\n",
       "    <tr style=\"text-align: right;\">\n",
       "      <th></th>\n",
       "      <th>id</th>\n",
       "      <th>username</th>\n",
       "      <th>date</th>\n",
       "      <th>sentiment_label</th>\n",
       "      <th>tweet</th>\n",
       "    </tr>\n",
       "  </thead>\n",
       "  <tbody>\n",
       "    <tr>\n",
       "      <th>0</th>\n",
       "      <td>1394590713048936451</td>\n",
       "      <td>Noelte030</td>\n",
       "      <td>2021-05-18 09:48:30</td>\n",
       "      <td></td>\n",
       "      <td>@DoroBaer @TeacherTokaryk @republica @LSMuelle...</td>\n",
       "    </tr>\n",
       "    <tr>\n",
       "      <th>1</th>\n",
       "      <td>1382657930114256899</td>\n",
       "      <td>eb_ballhausen</td>\n",
       "      <td>2021-04-15 11:31:53</td>\n",
       "      <td></td>\n",
       "      <td>@Karl_Lauterbach Wow, Klabauterbach hat die Ka...</td>\n",
       "    </tr>\n",
       "    <tr>\n",
       "      <th>2</th>\n",
       "      <td>1392380357375311875</td>\n",
       "      <td>NilsEpunkt</td>\n",
       "      <td>2021-05-12 07:25:21</td>\n",
       "      <td></td>\n",
       "      <td>@OliverFleig @Karl_Lauterbach @maithi_nk Wenn ...</td>\n",
       "    </tr>\n",
       "    <tr>\n",
       "      <th>3</th>\n",
       "      <td>1393240616973316101</td>\n",
       "      <td>Amend38863146</td>\n",
       "      <td>2021-05-14 16:23:42</td>\n",
       "      <td></td>\n",
       "      <td>@Karl_Lauterbach Hoppla! Die genbasierten mRNA...</td>\n",
       "    </tr>\n",
       "    <tr>\n",
       "      <th>4</th>\n",
       "      <td>1463121751689338884</td>\n",
       "      <td>DerBuschfunker</td>\n",
       "      <td>2021-11-23 12:26:23</td>\n",
       "      <td></td>\n",
       "      <td>Und nun? @spdde @Die_Gruenen @fdp   https://t....</td>\n",
       "    </tr>\n",
       "    <tr>\n",
       "      <th>...</th>\n",
       "      <td>...</td>\n",
       "      <td>...</td>\n",
       "      <td>...</td>\n",
       "      <td>...</td>\n",
       "      <td>...</td>\n",
       "    </tr>\n",
       "    <tr>\n",
       "      <th>995</th>\n",
       "      <td>1376446316625207297</td>\n",
       "      <td>Kronos272</td>\n",
       "      <td>2021-03-29 08:09:09</td>\n",
       "      <td></td>\n",
       "      <td>@ebonyplusirony @Karl_Lauterbach Politik und P...</td>\n",
       "    </tr>\n",
       "    <tr>\n",
       "      <th>996</th>\n",
       "      <td>1379563476411162628</td>\n",
       "      <td>violissimo</td>\n",
       "      <td>2021-04-06 22:35:38</td>\n",
       "      <td></td>\n",
       "      <td>@siegfriedsfrom @HeikoMaas War @HeikoMaas nich...</td>\n",
       "    </tr>\n",
       "    <tr>\n",
       "      <th>997</th>\n",
       "      <td>1439274126640926729</td>\n",
       "      <td>Iro09908973</td>\n",
       "      <td>2021-09-18 17:04:26</td>\n",
       "      <td></td>\n",
       "      <td>@berlinerzeitung @hungerstreik21 @Die_Gruenen ...</td>\n",
       "    </tr>\n",
       "    <tr>\n",
       "      <th>998</th>\n",
       "      <td>1476912578311897088</td>\n",
       "      <td>HataniDUS</td>\n",
       "      <td>2021-12-31 13:46:13</td>\n",
       "      <td></td>\n",
       "      <td>@Martina__SchaLu @MarcoBuschmann Die FDP wohl ...</td>\n",
       "    </tr>\n",
       "    <tr>\n",
       "      <th>999</th>\n",
       "      <td>1382604140933746688</td>\n",
       "      <td>Rusty_Iron92</td>\n",
       "      <td>2021-04-15 07:58:09</td>\n",
       "      <td></td>\n",
       "      <td>@Pasofier @Luis64280388 @Chaosmamatobt @Karl_L...</td>\n",
       "    </tr>\n",
       "  </tbody>\n",
       "</table>\n",
       "<p>1000 rows × 5 columns</p>\n",
       "</div>"
      ],
      "text/plain": [
       "                      id        username                 date sentiment_label  \\\n",
       "0    1394590713048936451       Noelte030  2021-05-18 09:48:30                   \n",
       "1    1382657930114256899   eb_ballhausen  2021-04-15 11:31:53                   \n",
       "2    1392380357375311875      NilsEpunkt  2021-05-12 07:25:21                   \n",
       "3    1393240616973316101   Amend38863146  2021-05-14 16:23:42                   \n",
       "4    1463121751689338884  DerBuschfunker  2021-11-23 12:26:23                   \n",
       "..                   ...             ...                  ...             ...   \n",
       "995  1376446316625207297       Kronos272  2021-03-29 08:09:09                   \n",
       "996  1379563476411162628      violissimo  2021-04-06 22:35:38                   \n",
       "997  1439274126640926729     Iro09908973  2021-09-18 17:04:26                   \n",
       "998  1476912578311897088       HataniDUS  2021-12-31 13:46:13                   \n",
       "999  1382604140933746688    Rusty_Iron92  2021-04-15 07:58:09                   \n",
       "\n",
       "                                                 tweet  \n",
       "0    @DoroBaer @TeacherTokaryk @republica @LSMuelle...  \n",
       "1    @Karl_Lauterbach Wow, Klabauterbach hat die Ka...  \n",
       "2    @OliverFleig @Karl_Lauterbach @maithi_nk Wenn ...  \n",
       "3    @Karl_Lauterbach Hoppla! Die genbasierten mRNA...  \n",
       "4    Und nun? @spdde @Die_Gruenen @fdp   https://t....  \n",
       "..                                                 ...  \n",
       "995  @ebonyplusirony @Karl_Lauterbach Politik und P...  \n",
       "996  @siegfriedsfrom @HeikoMaas War @HeikoMaas nich...  \n",
       "997  @berlinerzeitung @hungerstreik21 @Die_Gruenen ...  \n",
       "998  @Martina__SchaLu @MarcoBuschmann Die FDP wohl ...  \n",
       "999  @Pasofier @Luis64280388 @Chaosmamatobt @Karl_L...  \n",
       "\n",
       "[1000 rows x 5 columns]"
      ]
     },
     "execution_count": 35,
     "metadata": {},
     "output_type": "execute_result"
    }
   ],
   "source": [
    "df_session1.to_csv(ANNOTATION_DATASET_PATH + \"/tweets_session_1.csv\")\n",
    "df_session1.to_excel(ANNOTATION_DATASET_PATH + \"/tweets_session_1.xlsx\")\n",
    "df_session1"
   ]
  },
  {
   "cell_type": "code",
   "execution_count": 36,
   "id": "e8eaf39f-dc80-49eb-b452-b0c53cd2f9b9",
   "metadata": {},
   "outputs": [
    {
     "data": {
      "text/html": [
       "<div>\n",
       "<style scoped>\n",
       "    .dataframe tbody tr th:only-of-type {\n",
       "        vertical-align: middle;\n",
       "    }\n",
       "\n",
       "    .dataframe tbody tr th {\n",
       "        vertical-align: top;\n",
       "    }\n",
       "\n",
       "    .dataframe thead th {\n",
       "        text-align: right;\n",
       "    }\n",
       "</style>\n",
       "<table border=\"1\" class=\"dataframe\">\n",
       "  <thead>\n",
       "    <tr style=\"text-align: right;\">\n",
       "      <th></th>\n",
       "      <th>id</th>\n",
       "      <th>username</th>\n",
       "      <th>date</th>\n",
       "      <th>sentiment_label</th>\n",
       "      <th>tweet</th>\n",
       "    </tr>\n",
       "  </thead>\n",
       "  <tbody>\n",
       "    <tr>\n",
       "      <th>1000</th>\n",
       "      <td>1443851640440868864</td>\n",
       "      <td>ODDO60</td>\n",
       "      <td>2021-10-01 08:13:51</td>\n",
       "      <td></td>\n",
       "      <td>@CDU @ArminLaschet @PaulZiemiak @rbrinkhaus @j...</td>\n",
       "    </tr>\n",
       "    <tr>\n",
       "      <th>1001</th>\n",
       "      <td>1393547480319602692</td>\n",
       "      <td>baseman49</td>\n",
       "      <td>2021-05-15 12:43:04</td>\n",
       "      <td></td>\n",
       "      <td>@fdp @Wissing Ist das so? Warum wird dann dies...</td>\n",
       "    </tr>\n",
       "    <tr>\n",
       "      <th>1002</th>\n",
       "      <td>1471860454708367360</td>\n",
       "      <td>ClaudiaGoedeWe1</td>\n",
       "      <td>2021-12-17 15:10:52</td>\n",
       "      <td></td>\n",
       "      <td>@HugoMuellerVogg @KarstenSchrder @_FriedrichMe...</td>\n",
       "    </tr>\n",
       "    <tr>\n",
       "      <th>1003</th>\n",
       "      <td>1442118075143311361</td>\n",
       "      <td>Warrior_242</td>\n",
       "      <td>2021-09-26 13:25:17</td>\n",
       "      <td></td>\n",
       "      <td>@KuehniKev @RA_Solf Ja. Ist so.</td>\n",
       "    </tr>\n",
       "    <tr>\n",
       "      <th>1004</th>\n",
       "      <td>1409455984192409609</td>\n",
       "      <td>RomanU__</td>\n",
       "      <td>2021-06-28 10:17:47</td>\n",
       "      <td></td>\n",
       "      <td>@pilionsegler @kv_rbk @Karl_Lauterbach  https:...</td>\n",
       "    </tr>\n",
       "    <tr>\n",
       "      <th>...</th>\n",
       "      <td>...</td>\n",
       "      <td>...</td>\n",
       "      <td>...</td>\n",
       "      <td>...</td>\n",
       "      <td>...</td>\n",
       "    </tr>\n",
       "    <tr>\n",
       "      <th>1995</th>\n",
       "      <td>1432979033042604033</td>\n",
       "      <td>MusaJupp</td>\n",
       "      <td>2021-09-01 08:09:59</td>\n",
       "      <td></td>\n",
       "      <td>@ChristianRamm3 @senneka @Karl_Lauterbach Jetz...</td>\n",
       "    </tr>\n",
       "    <tr>\n",
       "      <th>1996</th>\n",
       "      <td>1464197435543236609</td>\n",
       "      <td>MiliH07472419</td>\n",
       "      <td>2021-11-26 11:40:46</td>\n",
       "      <td></td>\n",
       "      <td>@ViktoriaKeller_ @Karl_Lauterbach Da sitzt bes...</td>\n",
       "    </tr>\n",
       "    <tr>\n",
       "      <th>1997</th>\n",
       "      <td>1356881096923824128</td>\n",
       "      <td>thoughtfultom</td>\n",
       "      <td>2021-02-03 08:23:57</td>\n",
       "      <td></td>\n",
       "      <td>@BergheimJeff @realTomBohn @MarcoBuschmann Es ...</td>\n",
       "    </tr>\n",
       "    <tr>\n",
       "      <th>1998</th>\n",
       "      <td>1345444938960527360</td>\n",
       "      <td>BerndPfeiffer3</td>\n",
       "      <td>2021-01-02 19:00:45</td>\n",
       "      <td></td>\n",
       "      <td>Die GRÜNEN trauen sich das Kanzleramt zu. Mind...</td>\n",
       "    </tr>\n",
       "    <tr>\n",
       "      <th>1999</th>\n",
       "      <td>1458922333591199748</td>\n",
       "      <td>Lexxy09659022</td>\n",
       "      <td>2021-11-11 22:19:24</td>\n",
       "      <td></td>\n",
       "      <td>@KnKrissi @InfoRgk @Melmac300 @aktuelle_stunde...</td>\n",
       "    </tr>\n",
       "  </tbody>\n",
       "</table>\n",
       "<p>1000 rows × 5 columns</p>\n",
       "</div>"
      ],
      "text/plain": [
       "                       id         username                 date  \\\n",
       "1000  1443851640440868864           ODDO60  2021-10-01 08:13:51   \n",
       "1001  1393547480319602692        baseman49  2021-05-15 12:43:04   \n",
       "1002  1471860454708367360  ClaudiaGoedeWe1  2021-12-17 15:10:52   \n",
       "1003  1442118075143311361      Warrior_242  2021-09-26 13:25:17   \n",
       "1004  1409455984192409609         RomanU__  2021-06-28 10:17:47   \n",
       "...                   ...              ...                  ...   \n",
       "1995  1432979033042604033         MusaJupp  2021-09-01 08:09:59   \n",
       "1996  1464197435543236609    MiliH07472419  2021-11-26 11:40:46   \n",
       "1997  1356881096923824128    thoughtfultom  2021-02-03 08:23:57   \n",
       "1998  1345444938960527360   BerndPfeiffer3  2021-01-02 19:00:45   \n",
       "1999  1458922333591199748    Lexxy09659022  2021-11-11 22:19:24   \n",
       "\n",
       "     sentiment_label                                              tweet  \n",
       "1000                  @CDU @ArminLaschet @PaulZiemiak @rbrinkhaus @j...  \n",
       "1001                  @fdp @Wissing Ist das so? Warum wird dann dies...  \n",
       "1002                  @HugoMuellerVogg @KarstenSchrder @_FriedrichMe...  \n",
       "1003                                    @KuehniKev @RA_Solf Ja. Ist so.  \n",
       "1004                  @pilionsegler @kv_rbk @Karl_Lauterbach  https:...  \n",
       "...              ...                                                ...  \n",
       "1995                  @ChristianRamm3 @senneka @Karl_Lauterbach Jetz...  \n",
       "1996                  @ViktoriaKeller_ @Karl_Lauterbach Da sitzt bes...  \n",
       "1997                  @BergheimJeff @realTomBohn @MarcoBuschmann Es ...  \n",
       "1998                  Die GRÜNEN trauen sich das Kanzleramt zu. Mind...  \n",
       "1999                  @KnKrissi @InfoRgk @Melmac300 @aktuelle_stunde...  \n",
       "\n",
       "[1000 rows x 5 columns]"
      ]
     },
     "execution_count": 36,
     "metadata": {},
     "output_type": "execute_result"
    }
   ],
   "source": [
    "df_session2.to_csv(ANNOTATION_DATASET_PATH + \"/tweets_session_2.csv\")\n",
    "df_session2.to_excel(ANNOTATION_DATASET_PATH + \"/tweets_session_2.xlsx\")\n",
    "df_session2"
   ]
  }
 ],
 "metadata": {
  "kernelspec": {
   "display_name": "Python 3 (ipykernel)",
   "language": "python",
   "name": "python3"
  },
  "language_info": {
   "codemirror_mode": {
    "name": "ipython",
    "version": 3
   },
   "file_extension": ".py",
   "mimetype": "text/x-python",
   "name": "python",
   "nbconvert_exporter": "python",
   "pygments_lexer": "ipython3",
   "version": "3.10.6"
  },
  "vscode": {
   "interpreter": {
    "hash": "b0fa6594d8f4cbf19f97940f81e996739fb7646882a419484c72d19e05852a7e"
   }
  }
 },
 "nbformat": 4,
 "nbformat_minor": 5
}
