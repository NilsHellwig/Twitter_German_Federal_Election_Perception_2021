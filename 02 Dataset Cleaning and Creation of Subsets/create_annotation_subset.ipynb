{
 "cells": [
  {
   "cell_type": "markdown",
   "id": "e2a2d3d2-6f3a-4f9e-987f-636acb8d2583",
   "metadata": {},
   "source": [
    "# Notebook: Create Subset\n",
    "\n",
    "This notebook is used to create a subset of **2000** tweets, which will then be annotated with respect to their sentiment.\n",
    "<br>**Contributors:** [Nils Hellwig](https://github.com/NilsHellwig/) | [Markus Bink](https://github.com/MarkusBink/)"
   ]
  },
  {
   "cell_type": "markdown",
   "id": "06150cb8-bd07-413c-817a-d346f10b32ac",
   "metadata": {},
   "source": [
    "## Packages"
   ]
  },
  {
   "cell_type": "code",
   "execution_count": 1,
   "id": "9ab58f7b-ae84-4dc0-a521-6215096f0c8f",
   "metadata": {},
   "outputs": [],
   "source": [
    "from sklearn.utils import shuffle\n",
    "import pandas as pd\n",
    "import numpy as np\n",
    "import random\n",
    "import os"
   ]
  },
  {
   "cell_type": "markdown",
   "id": "988733c0-13c0-4318-bf57-dabf11fbf4a4",
   "metadata": {},
   "source": [
    "## Parameters"
   ]
  },
  {
   "cell_type": "code",
   "execution_count": 2,
   "id": "692d6040-8acc-4cc1-99b9-b14523639391",
   "metadata": {},
   "outputs": [],
   "source": [
    "ANNOTATION_DATASET_PATH = '../Datasets/annotation_dataset'\n",
    "DATASET_PATH = '../Datasets/dataset/'\n",
    "SUBSET_SIZE = 2000\n",
    "SEED_VALUE = 1\n",
    "PARTIES = [\"CDU_CSU\", \"SPD\", \"AFD\", \"FDP\", \"GRUENE\", \"LINKE\"]\n",
    "ADD_ADDITIONAL_TWEET_FOR_PARTY = False"
   ]
  },
  {
   "cell_type": "markdown",
   "id": "90d9edba-ca8f-49be-aa38-1460c13ba0f6",
   "metadata": {},
   "source": [
    "## Code"
   ]
  },
  {
   "cell_type": "markdown",
   "id": "6bacc92a-ed60-41ae-be2a-706c00759475",
   "metadata": {},
   "source": [
    "### 1. Get Reproducable Results"
   ]
  },
  {
   "cell_type": "code",
   "execution_count": 3,
   "id": "4f7168c3-07d4-4403-be63-46ffcbcc5067",
   "metadata": {},
   "outputs": [],
   "source": [
    "os.environ['PYTHONHASHSEED'] = str(SEED_VALUE)\n",
    "random.seed(SEED_VALUE)\n",
    "np.random.seed(SEED_VALUE)"
   ]
  },
  {
   "cell_type": "markdown",
   "id": "46d1121b-d789-45c7-84a7-557256c2a578",
   "metadata": {},
   "source": [
    "### 2. Calculate Number of Tweets crawled for each party"
   ]
  },
  {
   "cell_type": "code",
   "execution_count": 4,
   "id": "8faa9305-c8a6-4ec1-9b06-18831a80e0d0",
   "metadata": {},
   "outputs": [],
   "source": [
    "n_tweets_total = 0\n",
    "party_statistics = {}"
   ]
  },
  {
   "cell_type": "code",
   "execution_count": 5,
   "id": "b563bd79-5b1a-4892-9a82-7206c3f4bcf8",
   "metadata": {},
   "outputs": [],
   "source": [
    "for party in PARTIES:\n",
    "    n_tweets_party = 0\n",
    "    for subdir, _, files in os.walk(DATASET_PATH + party):\n",
    "        for file in files:\n",
    "            if file.endswith('.csv') and subdir[len(DATASET_PATH):] in PARTIES:\n",
    "                # Get username of CSV file\n",
    "                username = file[:-4]\n",
    "\n",
    "                # Read dataframe\n",
    "                df = pd.read_csv(DATASET_PATH + party + \"/\" +\n",
    "                                 file, sep=\",\", index_col=0)\n",
    "\n",
    "                # Add to counter\n",
    "                n_tweets_party += df.shape[0]\n",
    "\n",
    "                # Add length to n_tweets_total\n",
    "                n_tweets_total += df.shape[0]\n",
    "\n",
    "    party_statistics[party] = n_tweets_party\n"
   ]
  },
  {
   "cell_type": "code",
   "execution_count": 6,
   "id": "ec28b0e5-c25f-4031-a6a0-d1e7e6942ade",
   "metadata": {},
   "outputs": [
    {
     "data": {
      "text/plain": [
       "706945"
      ]
     },
     "execution_count": 6,
     "metadata": {},
     "output_type": "execute_result"
    }
   ],
   "source": [
    "n_tweets_total"
   ]
  },
  {
   "cell_type": "code",
   "execution_count": 7,
   "id": "e1b4e868-847f-4d0a-b9a7-8ac9951f7f55",
   "metadata": {},
   "outputs": [
    {
     "data": {
      "text/plain": [
       "{'CDU_CSU': 227560,\n",
       " 'SPD': 228393,\n",
       " 'AFD': 57565,\n",
       " 'FDP': 79796,\n",
       " 'GRUENE': 73160,\n",
       " 'LINKE': 40471}"
      ]
     },
     "execution_count": 7,
     "metadata": {},
     "output_type": "execute_result"
    }
   ],
   "source": [
    "party_statistics"
   ]
  },
  {
   "cell_type": "markdown",
   "id": "1c0da95a-4669-4cc7-a513-cc900017670c",
   "metadata": {},
   "source": [
    "### 3. Check which party gets an additional Tweet"
   ]
  },
  {
   "cell_type": "code",
   "execution_count": 8,
   "id": "bc5299b8-8c9b-4c5e-9770-d0fa8045dc4c",
   "metadata": {},
   "outputs": [],
   "source": [
    "def get_key_with_max_value_under_0_5(dictionary):\n",
    "    filtered_dict = {}\n",
    "    for key, value in dictionary.items():\n",
    "        if value < 0.5:\n",
    "            filtered_dict[key] = value\n",
    "    return max(filtered_dict, key=filtered_dict.get)"
   ]
  },
  {
   "cell_type": "code",
   "execution_count": 9,
   "id": "ce4f4544-2a74-4353-893c-abdf9f22b49e",
   "metadata": {},
   "outputs": [],
   "source": [
    "def truncate(x, d):\n",
    "    return int(x*(10.0**d))/(10.0**d)\n",
    "\n",
    "for party in party_statistics:\n",
    "    party_statistics[party] = ((SUBSET_SIZE / n_tweets_total) * party_statistics[party]) - truncate((SUBSET_SIZE / n_tweets_total) * party_statistics[party], 0)"
   ]
  },
  {
   "cell_type": "code",
   "execution_count": 10,
   "id": "fd7048d4-ca72-44ac-a580-1bc4c88764fb",
   "metadata": {},
   "outputs": [
    {
     "data": {
      "text/plain": [
       "'LINKE'"
      ]
     },
     "execution_count": 10,
     "metadata": {},
     "output_type": "execute_result"
    }
   ],
   "source": [
    "# Check which Party will get an additional Tweet\n",
    "party_with_additional_tweet = get_key_with_max_value_under_0_5(party_statistics)\n",
    "party_with_additional_tweet"
   ]
  },
  {
   "cell_type": "markdown",
   "id": "995571ba-50b8-4e24-a334-a9de6cbfa2f3",
   "metadata": {},
   "source": [
    "### 4. Get Random Tweets From Each Account"
   ]
  },
  {
   "cell_type": "code",
   "execution_count": 11,
   "id": "f5e758de-ed07-4c45-840f-c2cbb7d34d43",
   "metadata": {},
   "outputs": [],
   "source": [
    "n_subset_total = 0"
   ]
  },
  {
   "cell_type": "code",
   "execution_count": 12,
   "id": "99ec46c1-3884-4b30-b8b3-3e79e8e6e3f2",
   "metadata": {
    "tags": []
   },
   "outputs": [],
   "source": [
    "annotation_dataset = pd.DataFrame()\n",
    "for party in PARTIES:\n",
    "    # Initialize an empty DataFrame to store the tweets from accounts of a party\n",
    "    df_party = pd.DataFrame()\n",
    "\n",
    "    for subdir, _, files in os.walk(DATASET_PATH + party):\n",
    "        for file in files:\n",
    "            if file.endswith('.csv') and subdir[len(DATASET_PATH):] in PARTIES:\n",
    "                # Get username of CSV file\n",
    "                username = file[:-4]\n",
    "\n",
    "                # Read dataframe\n",
    "                df_account = pd.read_csv(DATASET_PATH + party + \"/\" + file, sep=\",\", index_col=0)\n",
    "\n",
    "                # Add dataframe to party dataframe\n",
    "                df_party = pd.concat([df_party, df_account], axis=0).reset_index().drop(columns='index')\n",
    "\n",
    "    n_tweets_party = df_party.shape[0]\n",
    "    n_tweets_party_for_subset = round((SUBSET_SIZE / n_tweets_total) * n_tweets_party)\n",
    "\n",
    "    if party_with_additional_tweet == party and ADD_ADDITIONAL_TWEET_FOR_PARTY:\n",
    "        n_tweets_party_for_subset += 1\n",
    "\n",
    "    n_subset_total += n_tweets_party_for_subset\n",
    "\n",
    "    df_samples_for_party = df_party.sample(n=n_tweets_party_for_subset, random_state=SEED_VALUE)\n",
    "    annotation_dataset = pd.concat([annotation_dataset, df_samples_for_party], axis=0).reset_index().drop(columns='index')      "
   ]
  },
  {
   "cell_type": "code",
   "execution_count": 13,
   "id": "5010af5b-e7a3-4854-944e-9c6250cae815",
   "metadata": {},
   "outputs": [
    {
     "data": {
      "text/plain": [
       "2000"
      ]
     },
     "execution_count": 13,
     "metadata": {},
     "output_type": "execute_result"
    }
   ],
   "source": [
    "n_subset_total"
   ]
  },
  {
   "cell_type": "markdown",
   "id": "c8918727-e308-4751-b2db-21c73fc52190",
   "metadata": {},
   "source": [
    "### 4. Create Sub Datasets for Annotation "
   ]
  },
  {
   "cell_type": "markdown",
   "id": "3abd2fc8-14a6-421e-b2ec-6cb818a9fbc8",
   "metadata": {},
   "source": [
    "Save dataset for annotation"
   ]
  },
  {
   "cell_type": "code",
   "execution_count": 14,
   "id": "6d41e566-7407-4496-9a15-97979b3bdf1a",
   "metadata": {},
   "outputs": [],
   "source": [
    "try:\n",
    "    os.makedirs(ANNOTATION_DATASET_PATH)\n",
    "except FileExistsError:\n",
    "    pass"
   ]
  },
  {
   "cell_type": "code",
   "execution_count": 15,
   "id": "69da96cf-d110-4bb0-b214-267ad7e2afd6",
   "metadata": {},
   "outputs": [],
   "source": [
    "annotation_dataset = annotation_dataset.sample(frac=1, random_state=SEED_VALUE).reset_index()\n",
    "annotation_dataset.to_csv(ANNOTATION_DATASET_PATH + \"/annotation_dataset.csv\")"
   ]
  },
  {
   "cell_type": "markdown",
   "id": "33c15743-2414-4428-9bc1-58a3aec7c3af",
   "metadata": {},
   "source": [
    "For the whole corpus, we do not delete duplicates. Duplicates can occur because a tweet can mention several politicians at once, which means that a tweet could be crawled for multiple politicians. However, we want to avoid evaluating the trained BERT model with tweets that were also used for training. Therefore, we make sure that there are no duplicates among the 2000 annotated tweets that we will later use for training and evaluation of our BERT model."
   ]
  },
  {
   "cell_type": "code",
   "execution_count": 16,
   "id": "fe4fbed2-a46d-4ddd-89f6-2dc43e82229c",
   "metadata": {},
   "outputs": [
    {
     "name": "stdout",
     "output_type": "stream",
     "text": [
      "Dataset uniqueness:  True\n"
     ]
    }
   ],
   "source": [
    "# Check if the 'id' column is unique\n",
    "is_unique = df['id'].is_unique\n",
    "print(\"Dataset uniqueness: \", is_unique)"
   ]
  },
  {
   "cell_type": "markdown",
   "id": "8e867a01-ad8c-4669-9222-3b49e6731be5",
   "metadata": {},
   "source": [
    "Add column for sentiment label and columns with information that might be helpfull for annotators"
   ]
  },
  {
   "cell_type": "code",
   "execution_count": 17,
   "id": "93c466c1-b8df-42e0-a70c-8c14e4a613ca",
   "metadata": {},
   "outputs": [],
   "source": [
    "annotation_dataset[\"sentiment\"] = \"\"\n",
    "annotation_dataset = annotation_dataset.loc[:, ['id', 'username', 'date', 'sentiment', 'tweet', 'link', 'source_account']]"
   ]
  },
  {
   "cell_type": "code",
   "execution_count": 18,
   "id": "a29ced74-cd82-46b0-940a-59128bfd88d3",
   "metadata": {},
   "outputs": [],
   "source": [
    "df_session1 = annotation_dataset[:int(SUBSET_SIZE/2)]\n",
    "df_session2 = annotation_dataset[int(SUBSET_SIZE/2):]"
   ]
  },
  {
   "cell_type": "code",
   "execution_count": 19,
   "id": "7b0e4ee8-0ebe-4f2d-8870-bd193cddc7e9",
   "metadata": {},
   "outputs": [
    {
     "data": {
      "text/html": [
       "<div>\n",
       "<style scoped>\n",
       "    .dataframe tbody tr th:only-of-type {\n",
       "        vertical-align: middle;\n",
       "    }\n",
       "\n",
       "    .dataframe tbody tr th {\n",
       "        vertical-align: top;\n",
       "    }\n",
       "\n",
       "    .dataframe thead th {\n",
       "        text-align: right;\n",
       "    }\n",
       "</style>\n",
       "<table border=\"1\" class=\"dataframe\">\n",
       "  <thead>\n",
       "    <tr style=\"text-align: right;\">\n",
       "      <th></th>\n",
       "      <th>id</th>\n",
       "      <th>username</th>\n",
       "      <th>date</th>\n",
       "      <th>sentiment</th>\n",
       "      <th>tweet</th>\n",
       "      <th>link</th>\n",
       "      <th>source_account</th>\n",
       "    </tr>\n",
       "  </thead>\n",
       "  <tbody>\n",
       "    <tr>\n",
       "      <th>0</th>\n",
       "      <td>1382741317021790218</td>\n",
       "      <td>NinaHase1</td>\n",
       "      <td>2021-04-15 18:03:14</td>\n",
       "      <td></td>\n",
       "      <td>@Karl_Lauterbach Man kann sich nur noch selbst...</td>\n",
       "      <td>https://twitter.com/NinaHase1/status/138274131...</td>\n",
       "      <td>Karl_Lauterbach</td>\n",
       "    </tr>\n",
       "    <tr>\n",
       "      <th>1</th>\n",
       "      <td>1437256523231731712</td>\n",
       "      <td>Tom26273989</td>\n",
       "      <td>2021-09-13 04:27:12</td>\n",
       "      <td></td>\n",
       "      <td>@KlausBreuer6 @nordlohner @cem_oezdemir @Die_G...</td>\n",
       "      <td>https://twitter.com/Tom26273989/status/1437256...</td>\n",
       "      <td>cem_oezdemir</td>\n",
       "    </tr>\n",
       "    <tr>\n",
       "      <th>2</th>\n",
       "      <td>1427332322353991683</td>\n",
       "      <td>CharlyCgn65</td>\n",
       "      <td>2021-08-16 19:11:58</td>\n",
       "      <td></td>\n",
       "      <td>@OlafScholz Die Regierungsparteien stimmten im...</td>\n",
       "      <td>https://twitter.com/CharlyCgn65/status/1427332...</td>\n",
       "      <td>OlafScholz</td>\n",
       "    </tr>\n",
       "    <tr>\n",
       "      <th>3</th>\n",
       "      <td>1443667240054894596</td>\n",
       "      <td>EsWirdSchlimmer</td>\n",
       "      <td>2021-09-30 21:01:06</td>\n",
       "      <td></td>\n",
       "      <td>@AfD_Muenster @AfDimBundestag @Alice_Weidel @T...</td>\n",
       "      <td>https://twitter.com/EsWirdSchlimmer/status/144...</td>\n",
       "      <td>Beatrix_vStorch</td>\n",
       "    </tr>\n",
       "    <tr>\n",
       "      <th>4</th>\n",
       "      <td>1474015959253925890</td>\n",
       "      <td>Q_Paxxx</td>\n",
       "      <td>2021-12-23 13:56:05</td>\n",
       "      <td></td>\n",
       "      <td>@FnlspcMooncake @MartinWsws @MPKretschmer @c_l...</td>\n",
       "      <td>https://twitter.com/Q_Paxxx/status/14740159592...</td>\n",
       "      <td>OlafScholz</td>\n",
       "    </tr>\n",
       "    <tr>\n",
       "      <th>...</th>\n",
       "      <td>...</td>\n",
       "      <td>...</td>\n",
       "      <td>...</td>\n",
       "      <td>...</td>\n",
       "      <td>...</td>\n",
       "      <td>...</td>\n",
       "      <td>...</td>\n",
       "    </tr>\n",
       "    <tr>\n",
       "      <th>995</th>\n",
       "      <td>1390050771551637508</td>\n",
       "      <td>GewitterTwiter</td>\n",
       "      <td>2021-05-05 22:08:24</td>\n",
       "      <td></td>\n",
       "      <td>@CatGangBerlin @ChristianFuchs_ @janboehm @jen...</td>\n",
       "      <td>https://twitter.com/GewitterTwiter/status/1390...</td>\n",
       "      <td>jensspahn</td>\n",
       "    </tr>\n",
       "    <tr>\n",
       "      <th>996</th>\n",
       "      <td>1384973973490966528</td>\n",
       "      <td>DobermannHerr</td>\n",
       "      <td>2021-04-21 21:55:01</td>\n",
       "      <td></td>\n",
       "      <td>@PaulZiemiak Ich hoffe die JU unterstützt Herr...</td>\n",
       "      <td>https://twitter.com/DobermannHerr/status/13849...</td>\n",
       "      <td>PaulZiemiak</td>\n",
       "    </tr>\n",
       "    <tr>\n",
       "      <th>997</th>\n",
       "      <td>1387188508545142784</td>\n",
       "      <td>compete101</td>\n",
       "      <td>2021-04-28 00:34:47</td>\n",
       "      <td></td>\n",
       "      <td>@GregorGysi Der Weg wurde in Deutschland schon...</td>\n",
       "      <td>https://twitter.com/compete101/status/13871885...</td>\n",
       "      <td>GregorGysi</td>\n",
       "    </tr>\n",
       "    <tr>\n",
       "      <th>998</th>\n",
       "      <td>1399601070595321862</td>\n",
       "      <td>CologneMarine</td>\n",
       "      <td>2021-06-01 06:37:53</td>\n",
       "      <td></td>\n",
       "      <td>@BSchmidtMattern grillte grad im @DLF @ArminLa...</td>\n",
       "      <td>https://twitter.com/CologneMarine/status/13996...</td>\n",
       "      <td>ArminLaschet</td>\n",
       "    </tr>\n",
       "    <tr>\n",
       "      <th>999</th>\n",
       "      <td>1361289557019353091</td>\n",
       "      <td>mitMantel</td>\n",
       "      <td>2021-02-15 12:21:36</td>\n",
       "      <td></td>\n",
       "      <td>@Wissing @Tekay37 Wenn Sie den Impfstoff nicht...</td>\n",
       "      <td>https://twitter.com/mitMantel/status/136128955...</td>\n",
       "      <td>Wissing</td>\n",
       "    </tr>\n",
       "  </tbody>\n",
       "</table>\n",
       "<p>1000 rows × 7 columns</p>\n",
       "</div>"
      ],
      "text/plain": [
       "                      id         username                 date sentiment  \\\n",
       "0    1382741317021790218        NinaHase1  2021-04-15 18:03:14             \n",
       "1    1437256523231731712      Tom26273989  2021-09-13 04:27:12             \n",
       "2    1427332322353991683      CharlyCgn65  2021-08-16 19:11:58             \n",
       "3    1443667240054894596  EsWirdSchlimmer  2021-09-30 21:01:06             \n",
       "4    1474015959253925890          Q_Paxxx  2021-12-23 13:56:05             \n",
       "..                   ...              ...                  ...       ...   \n",
       "995  1390050771551637508   GewitterTwiter  2021-05-05 22:08:24             \n",
       "996  1384973973490966528    DobermannHerr  2021-04-21 21:55:01             \n",
       "997  1387188508545142784       compete101  2021-04-28 00:34:47             \n",
       "998  1399601070595321862    CologneMarine  2021-06-01 06:37:53             \n",
       "999  1361289557019353091        mitMantel  2021-02-15 12:21:36             \n",
       "\n",
       "                                                 tweet  \\\n",
       "0    @Karl_Lauterbach Man kann sich nur noch selbst...   \n",
       "1    @KlausBreuer6 @nordlohner @cem_oezdemir @Die_G...   \n",
       "2    @OlafScholz Die Regierungsparteien stimmten im...   \n",
       "3    @AfD_Muenster @AfDimBundestag @Alice_Weidel @T...   \n",
       "4    @FnlspcMooncake @MartinWsws @MPKretschmer @c_l...   \n",
       "..                                                 ...   \n",
       "995  @CatGangBerlin @ChristianFuchs_ @janboehm @jen...   \n",
       "996  @PaulZiemiak Ich hoffe die JU unterstützt Herr...   \n",
       "997  @GregorGysi Der Weg wurde in Deutschland schon...   \n",
       "998  @BSchmidtMattern grillte grad im @DLF @ArminLa...   \n",
       "999  @Wissing @Tekay37 Wenn Sie den Impfstoff nicht...   \n",
       "\n",
       "                                                  link   source_account  \n",
       "0    https://twitter.com/NinaHase1/status/138274131...  Karl_Lauterbach  \n",
       "1    https://twitter.com/Tom26273989/status/1437256...     cem_oezdemir  \n",
       "2    https://twitter.com/CharlyCgn65/status/1427332...       OlafScholz  \n",
       "3    https://twitter.com/EsWirdSchlimmer/status/144...  Beatrix_vStorch  \n",
       "4    https://twitter.com/Q_Paxxx/status/14740159592...       OlafScholz  \n",
       "..                                                 ...              ...  \n",
       "995  https://twitter.com/GewitterTwiter/status/1390...        jensspahn  \n",
       "996  https://twitter.com/DobermannHerr/status/13849...      PaulZiemiak  \n",
       "997  https://twitter.com/compete101/status/13871885...       GregorGysi  \n",
       "998  https://twitter.com/CologneMarine/status/13996...     ArminLaschet  \n",
       "999  https://twitter.com/mitMantel/status/136128955...          Wissing  \n",
       "\n",
       "[1000 rows x 7 columns]"
      ]
     },
     "execution_count": 19,
     "metadata": {},
     "output_type": "execute_result"
    }
   ],
   "source": [
    "df_session1.to_csv(ANNOTATION_DATASET_PATH + \"/tweets_session_1.csv\")\n",
    "df_session1.to_excel(ANNOTATION_DATASET_PATH + \"/tweets_session_1.xlsx\")\n",
    "df_session1"
   ]
  },
  {
   "cell_type": "code",
   "execution_count": 20,
   "id": "e8eaf39f-dc80-49eb-b452-b0c53cd2f9b9",
   "metadata": {},
   "outputs": [
    {
     "data": {
      "text/html": [
       "<div>\n",
       "<style scoped>\n",
       "    .dataframe tbody tr th:only-of-type {\n",
       "        vertical-align: middle;\n",
       "    }\n",
       "\n",
       "    .dataframe tbody tr th {\n",
       "        vertical-align: top;\n",
       "    }\n",
       "\n",
       "    .dataframe thead th {\n",
       "        text-align: right;\n",
       "    }\n",
       "</style>\n",
       "<table border=\"1\" class=\"dataframe\">\n",
       "  <thead>\n",
       "    <tr style=\"text-align: right;\">\n",
       "      <th></th>\n",
       "      <th>id</th>\n",
       "      <th>username</th>\n",
       "      <th>date</th>\n",
       "      <th>sentiment</th>\n",
       "      <th>tweet</th>\n",
       "      <th>link</th>\n",
       "      <th>source_account</th>\n",
       "    </tr>\n",
       "  </thead>\n",
       "  <tbody>\n",
       "    <tr>\n",
       "      <th>1000</th>\n",
       "      <td>1442435320876699653</td>\n",
       "      <td>Brennpunkt6</td>\n",
       "      <td>2021-09-27 11:25:54</td>\n",
       "      <td></td>\n",
       "      <td>@faznet @ArminLaschet @Markus_Soeder @CDU @SPD...</td>\n",
       "      <td>https://twitter.com/Brennpunkt6/status/1442435...</td>\n",
       "      <td>CDU</td>\n",
       "    </tr>\n",
       "    <tr>\n",
       "      <th>1001</th>\n",
       "      <td>1409437100701794306</td>\n",
       "      <td>grrzzzly</td>\n",
       "      <td>2021-06-28 10:02:45</td>\n",
       "      <td></td>\n",
       "      <td>@Die_Diktatur @MLevitt_NP2013 @jengleruk Und? ...</td>\n",
       "      <td>https://twitter.com/grrzzzly/status/1409437100...</td>\n",
       "      <td>Karl_Lauterbach</td>\n",
       "    </tr>\n",
       "    <tr>\n",
       "      <th>1002</th>\n",
       "      <td>1410716291451834370</td>\n",
       "      <td>NLirady</td>\n",
       "      <td>2021-07-01 22:45:48</td>\n",
       "      <td></td>\n",
       "      <td>@spdde \"Wir beteiligen uns nicht an unsachlich...</td>\n",
       "      <td>https://twitter.com/NLirady/status/14107162914...</td>\n",
       "      <td>spdde</td>\n",
       "    </tr>\n",
       "    <tr>\n",
       "      <th>1003</th>\n",
       "      <td>1369333225890385929</td>\n",
       "      <td>TM01015</td>\n",
       "      <td>2021-03-09 17:04:16</td>\n",
       "      <td></td>\n",
       "      <td>@CDU @cdurlp @Junge_Union Wieder leere Worthül...</td>\n",
       "      <td>https://twitter.com/TM01015/status/13693332258...</td>\n",
       "      <td>Junge_Union</td>\n",
       "    </tr>\n",
       "    <tr>\n",
       "      <th>1004</th>\n",
       "      <td>1358401630908071938</td>\n",
       "      <td>HansJrg70066168</td>\n",
       "      <td>2021-02-07 13:06:01</td>\n",
       "      <td></td>\n",
       "      <td>@hahnflo @jusos Diesen Gewalt verherrlichenden...</td>\n",
       "      <td>https://twitter.com/HansJrg70066168/status/135...</td>\n",
       "      <td>jusos</td>\n",
       "    </tr>\n",
       "    <tr>\n",
       "      <th>...</th>\n",
       "      <td>...</td>\n",
       "      <td>...</td>\n",
       "      <td>...</td>\n",
       "      <td>...</td>\n",
       "      <td>...</td>\n",
       "      <td>...</td>\n",
       "      <td>...</td>\n",
       "    </tr>\n",
       "    <tr>\n",
       "      <th>1995</th>\n",
       "      <td>1475817035917635592</td>\n",
       "      <td>Olaf1911</td>\n",
       "      <td>2021-12-28 13:12:55</td>\n",
       "      <td></td>\n",
       "      <td>@caracas_marion @erick_haase @jurischnoeller @...</td>\n",
       "      <td>https://twitter.com/Olaf1911/status/1475817035...</td>\n",
       "      <td>cem_oezdemir</td>\n",
       "    </tr>\n",
       "    <tr>\n",
       "      <th>1996</th>\n",
       "      <td>1380923932551839747</td>\n",
       "      <td>lazyb0y</td>\n",
       "      <td>2021-04-10 17:41:36</td>\n",
       "      <td></td>\n",
       "      <td>@EskenSaskia Wenn Sie „beruflich wie privat“ s...</td>\n",
       "      <td>https://twitter.com/lazyb0y/status/13809239325...</td>\n",
       "      <td>OlafScholz</td>\n",
       "    </tr>\n",
       "    <tr>\n",
       "      <th>1997</th>\n",
       "      <td>1414308108353081349</td>\n",
       "      <td>SoWieRito</td>\n",
       "      <td>2021-07-11 20:38:24</td>\n",
       "      <td></td>\n",
       "      <td>@161felixx @dieLinke @Janine_Wissler @partei_d...</td>\n",
       "      <td>https://twitter.com/SoWieRito/status/141430810...</td>\n",
       "      <td>dieLinke</td>\n",
       "    </tr>\n",
       "    <tr>\n",
       "      <th>1998</th>\n",
       "      <td>1471871996048859138</td>\n",
       "      <td>CCPlayer3D</td>\n",
       "      <td>2021-12-17 15:56:44</td>\n",
       "      <td></td>\n",
       "      <td>@twiag1985 @DrNathanCole @Lashersday @_Friedri...</td>\n",
       "      <td>https://twitter.com/CCPlayer3D/status/14718719...</td>\n",
       "      <td>_FriedrichMerz</td>\n",
       "    </tr>\n",
       "    <tr>\n",
       "      <th>1999</th>\n",
       "      <td>1412476647434080256</td>\n",
       "      <td>BrittaJambor</td>\n",
       "      <td>2021-07-06 19:20:49</td>\n",
       "      <td></td>\n",
       "      <td>@Karl_Lauterbach Die labern nur Schrott und da...</td>\n",
       "      <td>https://twitter.com/BrittaJambor/status/141247...</td>\n",
       "      <td>Karl_Lauterbach</td>\n",
       "    </tr>\n",
       "  </tbody>\n",
       "</table>\n",
       "<p>1000 rows × 7 columns</p>\n",
       "</div>"
      ],
      "text/plain": [
       "                       id         username                 date sentiment  \\\n",
       "1000  1442435320876699653      Brennpunkt6  2021-09-27 11:25:54             \n",
       "1001  1409437100701794306         grrzzzly  2021-06-28 10:02:45             \n",
       "1002  1410716291451834370          NLirady  2021-07-01 22:45:48             \n",
       "1003  1369333225890385929          TM01015  2021-03-09 17:04:16             \n",
       "1004  1358401630908071938  HansJrg70066168  2021-02-07 13:06:01             \n",
       "...                   ...              ...                  ...       ...   \n",
       "1995  1475817035917635592         Olaf1911  2021-12-28 13:12:55             \n",
       "1996  1380923932551839747          lazyb0y  2021-04-10 17:41:36             \n",
       "1997  1414308108353081349        SoWieRito  2021-07-11 20:38:24             \n",
       "1998  1471871996048859138       CCPlayer3D  2021-12-17 15:56:44             \n",
       "1999  1412476647434080256     BrittaJambor  2021-07-06 19:20:49             \n",
       "\n",
       "                                                  tweet  \\\n",
       "1000  @faznet @ArminLaschet @Markus_Soeder @CDU @SPD...   \n",
       "1001  @Die_Diktatur @MLevitt_NP2013 @jengleruk Und? ...   \n",
       "1002  @spdde \"Wir beteiligen uns nicht an unsachlich...   \n",
       "1003  @CDU @cdurlp @Junge_Union Wieder leere Worthül...   \n",
       "1004  @hahnflo @jusos Diesen Gewalt verherrlichenden...   \n",
       "...                                                 ...   \n",
       "1995  @caracas_marion @erick_haase @jurischnoeller @...   \n",
       "1996  @EskenSaskia Wenn Sie „beruflich wie privat“ s...   \n",
       "1997  @161felixx @dieLinke @Janine_Wissler @partei_d...   \n",
       "1998  @twiag1985 @DrNathanCole @Lashersday @_Friedri...   \n",
       "1999  @Karl_Lauterbach Die labern nur Schrott und da...   \n",
       "\n",
       "                                                   link   source_account  \n",
       "1000  https://twitter.com/Brennpunkt6/status/1442435...              CDU  \n",
       "1001  https://twitter.com/grrzzzly/status/1409437100...  Karl_Lauterbach  \n",
       "1002  https://twitter.com/NLirady/status/14107162914...            spdde  \n",
       "1003  https://twitter.com/TM01015/status/13693332258...      Junge_Union  \n",
       "1004  https://twitter.com/HansJrg70066168/status/135...            jusos  \n",
       "...                                                 ...              ...  \n",
       "1995  https://twitter.com/Olaf1911/status/1475817035...     cem_oezdemir  \n",
       "1996  https://twitter.com/lazyb0y/status/13809239325...       OlafScholz  \n",
       "1997  https://twitter.com/SoWieRito/status/141430810...         dieLinke  \n",
       "1998  https://twitter.com/CCPlayer3D/status/14718719...   _FriedrichMerz  \n",
       "1999  https://twitter.com/BrittaJambor/status/141247...  Karl_Lauterbach  \n",
       "\n",
       "[1000 rows x 7 columns]"
      ]
     },
     "execution_count": 20,
     "metadata": {},
     "output_type": "execute_result"
    }
   ],
   "source": [
    "df_session2.to_csv(ANNOTATION_DATASET_PATH + \"/tweets_session_2.csv\")\n",
    "df_session2.to_excel(ANNOTATION_DATASET_PATH + \"/tweets_session_2.xlsx\")\n",
    "df_session2"
   ]
  },
  {
   "cell_type": "markdown",
   "id": "fc2db3b2-546a-4130-afd8-c33a5bc04759",
   "metadata": {},
   "source": [
    "## IMPORTANT: NEXT STEPS\n",
    "\n",
    "1. Create new Folder \"annotated_datasets\" in `/Datasets`\n",
    "2. Add Annotated Datasets in .xlsx format \n",
    "3. Name these:\n",
    "`\n",
    "['../Datasets/annotated_dataset/tweets_session_1_1.xlsx',\n",
    " '../Datasets/annotated_dataset/tweets_session_1_2.xlsx',\n",
    " '../Datasets/annotated_dataset/tweets_session_1_3.xlsx',\n",
    " '../Datasets/annotated_dataset/tweets_session_2_1.xlsx',\n",
    " '../Datasets/annotated_dataset/tweets_session_2_2.xlsx',\n",
    " '../Datasets/annotated_dataset/tweets_session_2_3.xlsx']\n",
    "`\n",
    "\n",
    "Schema:\n",
    "\n",
    "`\n",
    "../Datasets/annotated_dataset/tweets_session_{SESSION_ID}_{ANNOTATOR_ID}.xlsx'\n",
    "`"
   ]
  }
 ],
 "metadata": {
  "kernelspec": {
   "display_name": "Python 3 (ipykernel)",
   "language": "python",
   "name": "python3"
  },
  "language_info": {
   "codemirror_mode": {
    "name": "ipython",
    "version": 3
   },
   "file_extension": ".py",
   "mimetype": "text/x-python",
   "name": "python",
   "nbconvert_exporter": "python",
   "pygments_lexer": "ipython3",
   "version": "3.9.13 (main, Aug  7 2022, 01:19:39) \n[Clang 13.1.6 (clang-1316.0.21.2.5)]"
  },
  "vscode": {
   "interpreter": {
    "hash": "b0fa6594d8f4cbf19f97940f81e996739fb7646882a419484c72d19e05852a7e"
   }
  }
 },
 "nbformat": 4,
 "nbformat_minor": 5
}
