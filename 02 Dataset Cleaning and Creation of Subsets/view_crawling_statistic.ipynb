{
 "cells": [
  {
   "cell_type": "markdown",
   "id": "8dfe2851-4e1f-4439-b563-ab3d3cdcfe6d",
   "metadata": {},
   "source": [
    "# Notebook: Store Days for Crawling\n",
    "\n",
    "This notebook is used to store the days for which we have crawled tweets for all 89 accounts.\n",
    "<br>**Contributors:** [Nils Hellwig](https://github.com/NilsHellwig/) | [Markus Bink](https://github.com/MarkusBink/)"
   ]
  },
  {
   "cell_type": "markdown",
   "id": "087016ed-05ff-4887-b8ca-ce6d91506a38",
   "metadata": {},
   "source": [
    "## Packages"
   ]
  },
  {
   "cell_type": "code",
   "execution_count": 77,
   "id": "f4b664e9-31d5-469d-99fd-ce1aa607de87",
   "metadata": {
    "tags": []
   },
   "outputs": [],
   "source": [
    "from datetime import datetime, timedelta\n",
    "import nest_asyncio\n",
    "import pandas as pd\n",
    "import numpy as np\n",
    "import calendar\n",
    "import random\n",
    "import twint\n",
    "import re\n",
    "import os"
   ]
  },
  {
   "cell_type": "markdown",
   "id": "7adf88f6-b7cd-4989-b099-658fe967c01f",
   "metadata": {},
   "source": [
    "## Parameters"
   ]
  },
  {
   "cell_type": "code",
   "execution_count": 78,
   "id": "09de32ef-c206-4ccd-9b76-29a638c73ad5",
   "metadata": {
    "tags": []
   },
   "outputs": [],
   "source": [
    "DATASET_PATH = '../Datasets/'\n",
    "SEED_VALUE = 0\n",
    "N_DAYS_PER_ACCOUNT = 2\n",
    "PARTIES = ['CDU_CSU', 'FDP', 'AFD', 'LINKE', 'SPD', 'GRUENE']"
   ]
  },
  {
   "cell_type": "markdown",
   "id": "8462ded0-a975-4af7-aa5e-5b81d33951db",
   "metadata": {},
   "source": [
    "## Code"
   ]
  },
  {
   "cell_type": "markdown",
   "id": "fdc5c562-8aaf-4aa2-aadb-27ce6273096f",
   "metadata": {},
   "source": [
    "### 1. Get Reproducable Results"
   ]
  },
  {
   "cell_type": "code",
   "execution_count": 79,
   "id": "5c4b145c-ad6b-4cd7-9772-cc62e546201c",
   "metadata": {
    "tags": []
   },
   "outputs": [],
   "source": [
    "os.environ['PYTHONHASHSEED'] = str(SEED_VALUE)\n",
    "random.seed(SEED_VALUE)\n",
    "np.random.seed(SEED_VALUE)"
   ]
  },
  {
   "cell_type": "markdown",
   "id": "07c4e085-080e-40e0-9fb5-90ee2f087f15",
   "metadata": {},
   "source": [
    "### 2. Function to get a random day in one of the 12 months in 2021 (as well as the next day)"
   ]
  },
  {
   "cell_type": "markdown",
   "id": "4ea2d496-d057-4c78-8a1f-95216a5dda5b",
   "metadata": {},
   "source": [
    "Twint expects a date in the format of `%Y-%m-%d`"
   ]
  },
  {
   "cell_type": "code",
   "execution_count": 80,
   "id": "1a64f87d-f360-4920-99f2-7c7b27e8b09f",
   "metadata": {
    "tags": []
   },
   "outputs": [],
   "source": [
    "def get_random_day_and_next(month: int) -> tuple:\n",
    "    # Validate the month input\n",
    "    if not 1 <= month <= 12:\n",
    "        raise ValueError(\"Month must be an integer between 1 and 12\")\n",
    "\n",
    "    # Get the number of days in a specific month\n",
    "    num_days = calendar.monthrange(2021, month)[1]\n",
    "\n",
    "    # Get random day in the month\n",
    "    day = random.randint(1, num_days)\n",
    "\n",
    "    # Format date as a string\n",
    "    date_str = f\"2021-{month:02d}-{day:02d}\"\n",
    "\n",
    "    # Convert the date string to a datetime object\n",
    "    date = datetime.strptime(date_str, \"%Y-%m-%d\")\n",
    "\n",
    "    # Calculate the next day\n",
    "    next_day = date + timedelta(days=1)\n",
    "\n",
    "    # Return the date and next day as a tuple\n",
    "    return (date.strftime(\"%Y-%m-%d\"), next_day.strftime(\"%Y-%m-%d\"))"
   ]
  },
  {
   "cell_type": "markdown",
   "id": "bde4486b-6067-4444-a8e0-57d308ad15d3",
   "metadata": {},
   "source": [
    "Test the function"
   ]
  },
  {
   "cell_type": "code",
   "execution_count": 81,
   "id": "3f9633a1-7de8-4a98-8f2d-2d87f7f3bc80",
   "metadata": {
    "tags": []
   },
   "outputs": [
    {
     "name": "stdout",
     "output_type": "stream",
     "text": [
      "Random day: 2021-04-28\n",
      "Following day: 2021-04-29\n"
     ]
    }
   ],
   "source": [
    "random_day, following_day = get_random_day_and_next(4)\n",
    "\n",
    "print(f\"Random day: {random_day}\")\n",
    "print(f\"Following day: {following_day}\")"
   ]
  },
  {
   "cell_type": "markdown",
   "id": "eeb5078b-c603-4bb6-a21c-aecc984577c6",
   "metadata": {},
   "source": [
    "### 3. Function to retrieve all tweets with a specific @-mention and date"
   ]
  },
  {
   "cell_type": "code",
   "execution_count": 82,
   "id": "1f14a551-6d57-4d06-8152-8f8cbcab94bc",
   "metadata": {
    "tags": []
   },
   "outputs": [],
   "source": [
    "def get_tweets_for_specific_day(query: str, since: str, until:str):\n",
    "    nest_asyncio.apply()\n",
    "    config = twint.Config()\n",
    "    \n",
    "    config.Search = query  # Set the search query\n",
    "    config.Limit = 9000000000  # Set a very large limit to retrieve all tweets for a day\n",
    "    config.Since = since  # Set the start date for the search\n",
    "    config.Until = until  # Set the end date for the search\n",
    "    config.Pandas = True  # Return the results as a Pandas DataFrame\n",
    "    config.Hide_output = True  # Suppress console output\n",
    "    \n",
    "    twint.run.Search(config)\n",
    "    return twint.storage.panda.Tweets_df"
   ]
  },
  {
   "cell_type": "markdown",
   "id": "ec68f96f-a37e-4423-943c-1f60fe3f3ce1",
   "metadata": {},
   "source": [
    "### 4. Load Accounts"
   ]
  },
  {
   "cell_type": "markdown",
   "id": "ca581ec4-7a02-4db2-a886-476afb816445",
   "metadata": {},
   "source": [
    "#### Politicians"
   ]
  },
  {
   "cell_type": "code",
   "execution_count": 83,
   "id": "b0e558cd-03cc-4fad-ad0b-8de94205655e",
   "metadata": {
    "tags": []
   },
   "outputs": [],
   "source": [
    "df_politicians = pd.read_csv('../Datasets/accounts_politicians.csv', header=0)"
   ]
  },
  {
   "cell_type": "code",
   "execution_count": 84,
   "id": "21790d46-c7b6-4026-b771-cdda3a67f6ab",
   "metadata": {
    "tags": []
   },
   "outputs": [
    {
     "data": {
      "text/html": [
       "<div>\n",
       "<style scoped>\n",
       "    .dataframe tbody tr th:only-of-type {\n",
       "        vertical-align: middle;\n",
       "    }\n",
       "\n",
       "    .dataframe tbody tr th {\n",
       "        vertical-align: top;\n",
       "    }\n",
       "\n",
       "    .dataframe thead th {\n",
       "        text-align: right;\n",
       "    }\n",
       "</style>\n",
       "<table border=\"1\" class=\"dataframe\">\n",
       "  <thead>\n",
       "    <tr style=\"text-align: right;\">\n",
       "      <th></th>\n",
       "      <th>AFD</th>\n",
       "      <th>LINKE</th>\n",
       "      <th>SPD</th>\n",
       "      <th>GRUENE</th>\n",
       "      <th>FDP</th>\n",
       "      <th>CDU</th>\n",
       "      <th>CSU</th>\n",
       "    </tr>\n",
       "  </thead>\n",
       "  <tbody>\n",
       "    <tr>\n",
       "      <th>0</th>\n",
       "      <td>Alice_Weidel</td>\n",
       "      <td>SWagenknecht</td>\n",
       "      <td>Karl_Lauterbach</td>\n",
       "      <td>cem_oezdemir</td>\n",
       "      <td>c_lindner</td>\n",
       "      <td>jensspahn</td>\n",
       "      <td>Markus_Soeder</td>\n",
       "    </tr>\n",
       "    <tr>\n",
       "      <th>1</th>\n",
       "      <td>Joerg_Meuthen</td>\n",
       "      <td>GregorGysi</td>\n",
       "      <td>HeikoMaas</td>\n",
       "      <td>GoeringEckardt</td>\n",
       "      <td>MaStrackZi</td>\n",
       "      <td>ArminLaschet</td>\n",
       "      <td>DoroBaer</td>\n",
       "    </tr>\n",
       "    <tr>\n",
       "      <th>2</th>\n",
       "      <td>Beatrix_vStorch</td>\n",
       "      <td>katjakipping</td>\n",
       "      <td>OlafScholz</td>\n",
       "      <td>JTrittin</td>\n",
       "      <td>MarcoBuschmann</td>\n",
       "      <td>_FriedrichMerz</td>\n",
       "      <td>andreasscheuer</td>\n",
       "    </tr>\n",
       "    <tr>\n",
       "      <th>3</th>\n",
       "      <td>gottfriedcurio</td>\n",
       "      <td>DietmarBartsch</td>\n",
       "      <td>KuehniKev</td>\n",
       "      <td>KonstantinNotz</td>\n",
       "      <td>KonstantinKuhle</td>\n",
       "      <td>JuliaKloeckner</td>\n",
       "      <td>ManfredWeber</td>\n",
       "    </tr>\n",
       "    <tr>\n",
       "      <th>4</th>\n",
       "      <td>MalteKaufmann</td>\n",
       "      <td>anked</td>\n",
       "      <td>larsklingbeil</td>\n",
       "      <td>RenateKuenast</td>\n",
       "      <td>johannesvogel</td>\n",
       "      <td>n_roettgen</td>\n",
       "      <td>DerLenzMdB</td>\n",
       "    </tr>\n",
       "    <tr>\n",
       "      <th>5</th>\n",
       "      <td>JoanaCotar</td>\n",
       "      <td>b_riexinger</td>\n",
       "      <td>hubertus_heil</td>\n",
       "      <td>Ricarda_Lang</td>\n",
       "      <td>Wissing</td>\n",
       "      <td>PaulZiemiak</td>\n",
       "      <td>hahnflo</td>\n",
       "    </tr>\n",
       "    <tr>\n",
       "      <th>6</th>\n",
       "      <td>Tino_Chrupalla</td>\n",
       "      <td>jankortemdb</td>\n",
       "      <td>EskenSaskia</td>\n",
       "      <td>KathaSchulze</td>\n",
       "      <td>Lambsdorff</td>\n",
       "      <td>groehe</td>\n",
       "      <td>smuellermdb</td>\n",
       "    </tr>\n",
       "    <tr>\n",
       "      <th>7</th>\n",
       "      <td>StBrandner</td>\n",
       "      <td>Janine_Wissler</td>\n",
       "      <td>Ralf_Stegner</td>\n",
       "      <td>BriHasselmann</td>\n",
       "      <td>ria_schroeder</td>\n",
       "      <td>HBraun</td>\n",
       "      <td>DaniLudwigMdB</td>\n",
       "    </tr>\n",
       "    <tr>\n",
       "      <th>8</th>\n",
       "      <td>GtzFrmming</td>\n",
       "      <td>SevimDagdelen</td>\n",
       "      <td>KarambaDiaby</td>\n",
       "      <td>nouripour</td>\n",
       "      <td>LindaTeuteberg</td>\n",
       "      <td>rbrinkhaus</td>\n",
       "      <td>ANiebler</td>\n",
       "    </tr>\n",
       "    <tr>\n",
       "      <th>9</th>\n",
       "      <td>PetrBystronAFD</td>\n",
       "      <td>SusanneHennig</td>\n",
       "      <td>MiRo_SPD</td>\n",
       "      <td>MiKellner</td>\n",
       "      <td>f_schaeffler</td>\n",
       "      <td>tj_tweets</td>\n",
       "      <td>MarkusFerber</td>\n",
       "    </tr>\n",
       "  </tbody>\n",
       "</table>\n",
       "</div>"
      ],
      "text/plain": [
       "               AFD           LINKE              SPD          GRUENE  \\\n",
       "0     Alice_Weidel    SWagenknecht  Karl_Lauterbach    cem_oezdemir   \n",
       "1    Joerg_Meuthen      GregorGysi        HeikoMaas  GoeringEckardt   \n",
       "2  Beatrix_vStorch    katjakipping       OlafScholz        JTrittin   \n",
       "3   gottfriedcurio  DietmarBartsch        KuehniKev  KonstantinNotz   \n",
       "4    MalteKaufmann           anked    larsklingbeil   RenateKuenast   \n",
       "5       JoanaCotar     b_riexinger    hubertus_heil    Ricarda_Lang   \n",
       "6   Tino_Chrupalla     jankortemdb      EskenSaskia    KathaSchulze   \n",
       "7       StBrandner  Janine_Wissler     Ralf_Stegner   BriHasselmann   \n",
       "8       GtzFrmming   SevimDagdelen     KarambaDiaby       nouripour   \n",
       "9   PetrBystronAFD   SusanneHennig         MiRo_SPD       MiKellner   \n",
       "\n",
       "               FDP             CDU             CSU  \n",
       "0        c_lindner       jensspahn   Markus_Soeder  \n",
       "1       MaStrackZi    ArminLaschet        DoroBaer  \n",
       "2   MarcoBuschmann  _FriedrichMerz  andreasscheuer  \n",
       "3  KonstantinKuhle  JuliaKloeckner    ManfredWeber  \n",
       "4    johannesvogel      n_roettgen      DerLenzMdB  \n",
       "5          Wissing     PaulZiemiak         hahnflo  \n",
       "6       Lambsdorff          groehe     smuellermdb  \n",
       "7    ria_schroeder          HBraun   DaniLudwigMdB  \n",
       "8   LindaTeuteberg      rbrinkhaus        ANiebler  \n",
       "9     f_schaeffler       tj_tweets    MarkusFerber  "
      ]
     },
     "execution_count": 84,
     "metadata": {},
     "output_type": "execute_result"
    }
   ],
   "source": [
    "df_politicians"
   ]
  },
  {
   "cell_type": "code",
   "execution_count": 85,
   "id": "432cc02f-6f4e-408e-9625-fbb10a2be41f",
   "metadata": {
    "tags": []
   },
   "outputs": [],
   "source": [
    "df_parties = pd.read_csv('../Datasets/accounts_parties.csv', header=0)"
   ]
  },
  {
   "cell_type": "code",
   "execution_count": 86,
   "id": "d370f563-9870-455d-a96f-01c02e7dc620",
   "metadata": {
    "tags": []
   },
   "outputs": [
    {
     "data": {
      "text/html": [
       "<div>\n",
       "<style scoped>\n",
       "    .dataframe tbody tr th:only-of-type {\n",
       "        vertical-align: middle;\n",
       "    }\n",
       "\n",
       "    .dataframe tbody tr th {\n",
       "        vertical-align: top;\n",
       "    }\n",
       "\n",
       "    .dataframe thead th {\n",
       "        text-align: right;\n",
       "    }\n",
       "</style>\n",
       "<table border=\"1\" class=\"dataframe\">\n",
       "  <thead>\n",
       "    <tr style=\"text-align: right;\">\n",
       "      <th></th>\n",
       "      <th>AFD</th>\n",
       "      <th>LINKE</th>\n",
       "      <th>SPD</th>\n",
       "      <th>GRUENE</th>\n",
       "      <th>FDP</th>\n",
       "      <th>CDU_CSU</th>\n",
       "    </tr>\n",
       "  </thead>\n",
       "  <tbody>\n",
       "    <tr>\n",
       "      <th>0</th>\n",
       "      <td>AfD</td>\n",
       "      <td>dieLinke</td>\n",
       "      <td>spdde</td>\n",
       "      <td>Die_Gruenen</td>\n",
       "      <td>fdp</td>\n",
       "      <td>CDU</td>\n",
       "    </tr>\n",
       "    <tr>\n",
       "      <th>1</th>\n",
       "      <td>AfDimBundestag</td>\n",
       "      <td>Linksfraktion</td>\n",
       "      <td>spdbt</td>\n",
       "      <td>GrueneBundestag</td>\n",
       "      <td>fdpbt</td>\n",
       "      <td>CSU</td>\n",
       "    </tr>\n",
       "    <tr>\n",
       "      <th>2</th>\n",
       "      <td>AfDBerlin</td>\n",
       "      <td>dielinkeberlin</td>\n",
       "      <td>jusos</td>\n",
       "      <td>gruene_jugend</td>\n",
       "      <td>fdp_nrw</td>\n",
       "      <td>cducsubt</td>\n",
       "    </tr>\n",
       "    <tr>\n",
       "      <th>3</th>\n",
       "      <td>NaN</td>\n",
       "      <td>NaN</td>\n",
       "      <td>NaN</td>\n",
       "      <td>NaN</td>\n",
       "      <td>NaN</td>\n",
       "      <td>Junge_Union</td>\n",
       "    </tr>\n",
       "  </tbody>\n",
       "</table>\n",
       "</div>"
      ],
      "text/plain": [
       "              AFD           LINKE    SPD           GRUENE      FDP  \\\n",
       "0             AfD        dieLinke  spdde      Die_Gruenen      fdp   \n",
       "1  AfDimBundestag   Linksfraktion  spdbt  GrueneBundestag    fdpbt   \n",
       "2       AfDBerlin  dielinkeberlin  jusos    gruene_jugend  fdp_nrw   \n",
       "3             NaN             NaN    NaN              NaN      NaN   \n",
       "\n",
       "       CDU_CSU  \n",
       "0          CDU  \n",
       "1          CSU  \n",
       "2     cducsubt  \n",
       "3  Junge_Union  "
      ]
     },
     "execution_count": 86,
     "metadata": {},
     "output_type": "execute_result"
    }
   ],
   "source": [
    "df_parties"
   ]
  },
  {
   "cell_type": "markdown",
   "id": "d449efc4-0aca-41ec-acdd-e85f3aae99f8",
   "metadata": {},
   "source": [
    "### 5. Create Directories for Dataset"
   ]
  },
  {
   "cell_type": "code",
   "execution_count": 87,
   "id": "f0f6b071-a36c-479d-ac87-e83321d5c0aa",
   "metadata": {
    "tags": []
   },
   "outputs": [],
   "source": [
    "# Iterate over the parties\n",
    "for party in PARTIES:\n",
    "    # Try to create the directory for the party in dataset folder\n",
    "    try:\n",
    "        os.makedirs(RAW_DATASET_PATH + party)\n",
    "    except FileExistsError:\n",
    "        # If the directory already exists pass\n",
    "        pass"
   ]
  },
  {
   "cell_type": "markdown",
   "id": "8c673833-34e2-4c99-8410-2854c23e5230",
   "metadata": {},
   "source": [
    "### 6. Download Tweets by Politicians"
   ]
  },
  {
   "cell_type": "code",
   "execution_count": 88,
   "id": "db26f5bd-8fe4-4295-8145-8c862e3b24f4",
   "metadata": {
    "tags": []
   },
   "outputs": [
    {
     "data": {
      "text/html": [
       "<div>\n",
       "<style scoped>\n",
       "    .dataframe tbody tr th:only-of-type {\n",
       "        vertical-align: middle;\n",
       "    }\n",
       "\n",
       "    .dataframe tbody tr th {\n",
       "        vertical-align: top;\n",
       "    }\n",
       "\n",
       "    .dataframe thead th {\n",
       "        text-align: right;\n",
       "    }\n",
       "</style>\n",
       "<table border=\"1\" class=\"dataframe\">\n",
       "  <thead>\n",
       "    <tr style=\"text-align: right;\">\n",
       "      <th></th>\n",
       "      <th>0</th>\n",
       "      <th>1</th>\n",
       "      <th>2</th>\n",
       "      <th>3</th>\n",
       "    </tr>\n",
       "  </thead>\n",
       "  <tbody>\n",
       "    <tr>\n",
       "      <th>0</th>\n",
       "      <td>Alice_Weidel</td>\n",
       "      <td>1</td>\n",
       "      <td>2021-01-13</td>\n",
       "      <td>2021-01-25</td>\n",
       "    </tr>\n",
       "    <tr>\n",
       "      <th>0</th>\n",
       "      <td>Alice_Weidel</td>\n",
       "      <td>2</td>\n",
       "      <td>2021-02-14</td>\n",
       "      <td>2021-02-02</td>\n",
       "    </tr>\n",
       "    <tr>\n",
       "      <th>0</th>\n",
       "      <td>Alice_Weidel</td>\n",
       "      <td>3</td>\n",
       "      <td>2021-03-09</td>\n",
       "      <td>2021-03-31</td>\n",
       "    </tr>\n",
       "    <tr>\n",
       "      <th>0</th>\n",
       "      <td>Alice_Weidel</td>\n",
       "      <td>4</td>\n",
       "      <td>2021-04-17</td>\n",
       "      <td>2021-04-16</td>\n",
       "    </tr>\n",
       "    <tr>\n",
       "      <th>0</th>\n",
       "      <td>Alice_Weidel</td>\n",
       "      <td>5</td>\n",
       "      <td>2021-05-13</td>\n",
       "      <td>2021-05-30</td>\n",
       "    </tr>\n",
       "    <tr>\n",
       "      <th>...</th>\n",
       "      <td>...</td>\n",
       "      <td>...</td>\n",
       "      <td>...</td>\n",
       "      <td>...</td>\n",
       "    </tr>\n",
       "    <tr>\n",
       "      <th>0</th>\n",
       "      <td>MarkusFerber</td>\n",
       "      <td>8</td>\n",
       "      <td>2021-08-21</td>\n",
       "      <td>2021-08-11</td>\n",
       "    </tr>\n",
       "    <tr>\n",
       "      <th>0</th>\n",
       "      <td>MarkusFerber</td>\n",
       "      <td>9</td>\n",
       "      <td>2021-09-24</td>\n",
       "      <td>2021-09-26</td>\n",
       "    </tr>\n",
       "    <tr>\n",
       "      <th>0</th>\n",
       "      <td>MarkusFerber</td>\n",
       "      <td>10</td>\n",
       "      <td>2021-10-24</td>\n",
       "      <td>2021-10-14</td>\n",
       "    </tr>\n",
       "    <tr>\n",
       "      <th>0</th>\n",
       "      <td>MarkusFerber</td>\n",
       "      <td>11</td>\n",
       "      <td>2021-11-13</td>\n",
       "      <td>2021-11-01</td>\n",
       "    </tr>\n",
       "    <tr>\n",
       "      <th>0</th>\n",
       "      <td>MarkusFerber</td>\n",
       "      <td>12</td>\n",
       "      <td>2021-12-14</td>\n",
       "      <td>2021-12-29</td>\n",
       "    </tr>\n",
       "  </tbody>\n",
       "</table>\n",
       "<p>840 rows × 4 columns</p>\n",
       "</div>"
      ],
      "text/plain": [
       "               0   1           2           3\n",
       "0   Alice_Weidel   1  2021-01-13  2021-01-25\n",
       "0   Alice_Weidel   2  2021-02-14  2021-02-02\n",
       "0   Alice_Weidel   3  2021-03-09  2021-03-31\n",
       "0   Alice_Weidel   4  2021-04-17  2021-04-16\n",
       "0   Alice_Weidel   5  2021-05-13  2021-05-30\n",
       "..           ...  ..         ...         ...\n",
       "0   MarkusFerber   8  2021-08-21  2021-08-11\n",
       "0   MarkusFerber   9  2021-09-24  2021-09-26\n",
       "0   MarkusFerber  10  2021-10-24  2021-10-14\n",
       "0   MarkusFerber  11  2021-11-13  2021-11-01\n",
       "0   MarkusFerber  12  2021-12-14  2021-12-29\n",
       "\n",
       "[840 rows x 4 columns]"
      ]
     },
     "execution_count": 88,
     "metadata": {},
     "output_type": "execute_result"
    }
   ],
   "source": [
    "df = pd.DataFrame({})\n",
    "\n",
    "for party, col_data in df_politicians.items():\n",
    "    # Iterate over the accounts of the current party\n",
    "    for itr, account_name in enumerate(col_data.to_numpy()):\n",
    "        # tweets by the parties CDU and CSU will be stored in the same directory\n",
    "        if party in [\"CDU\", \"CSU\"]:\n",
    "            party = \"CDU_CSU\"\n",
    "        \n",
    "        # Iterate over the months of the year\n",
    "        for month in range(1, 13):\n",
    "            # Initialize an empty list to store the random days for the current month and account\n",
    "            random_days = []\n",
    "            \n",
    "            # Iterate over the number of days to crawl per account\n",
    "            for i in range(N_DAYS_PER_ACCOUNT):\n",
    "                random_day_found = False\n",
    "                \n",
    "                # Keep trying to find a random day that has not been used before\n",
    "                while not(random_day_found):\n",
    "                    # Get the start and end dates for a random day in the month\n",
    "                    random_day, following_day = get_random_day_and_next(month)\n",
    "                    if not(random_day in random_days):\n",
    "                        random_days.append(random_day)\n",
    "                        random_day_found = True\n",
    "            \n",
    "            new_row = pd.concat([pd.Series(account_name), pd.Series(month), pd.Series(random_days[0]), pd.Series(random_days[1])], axis=1)\n",
    "            df = pd.concat([df, new_row])\n",
    "df"
   ]
  },
  {
   "cell_type": "code",
   "execution_count": 89,
   "id": "2b8d9b9f-0d16-4f22-bbaa-03cec51361f9",
   "metadata": {},
   "outputs": [],
   "source": [
    "df = df.rename(columns={\n",
    "    0: \"account_name\",\n",
    "    1: \"month\",\n",
    "    2: \"random day 1\",\n",
    "    3: \"random day 2\"\n",
    "})"
   ]
  },
  {
   "cell_type": "code",
   "execution_count": 90,
   "id": "b40a60d1-b6fd-46d9-ab04-2b96beb5d09e",
   "metadata": {},
   "outputs": [],
   "source": [
    "df.to_csv(DATASET_PATH + \"politician_account_crawled_days.csv\", index=False)"
   ]
  },
  {
   "cell_type": "markdown",
   "id": "c087462b-9e41-4c6b-a412-c8335d470f80",
   "metadata": {},
   "source": [
    "### 7. Download Tweets From Party Accounts"
   ]
  },
  {
   "cell_type": "code",
   "execution_count": 91,
   "id": "d33747f6-5517-4988-ad15-d02833a2885d",
   "metadata": {
    "tags": []
   },
   "outputs": [],
   "source": [
    "df = pd.DataFrame({})\n",
    "\n",
    "for party, col_data in df_parties.items():\n",
    "    # Iterate over the accounts of the current party\n",
    "    # It is checked if a value is NaN, because only CDU and CSU have a fourth account, which we consider\n",
    "    for itr, account_name in enumerate(col_data.to_numpy()[~pd.isnull(col_data.to_numpy())]):\n",
    "        # Print account name of current iteration\n",
    "        \n",
    "        # Initialize an empty DataFrame to store the tweets for a party account\n",
    "        dataset = pd.DataFrame()\n",
    "        \n",
    "        # Iterate over the months of the year\n",
    "        for month in range(1, 13):\n",
    "            # Initialize an empty list to store the random days for the current month and account\n",
    "            random_days = []\n",
    "            \n",
    "            # Iterate over the number of days to crawl per account\n",
    "            for i in range(N_DAYS_PER_ACCOUNT):\n",
    "                random_day_found = False\n",
    "                \n",
    "                # Keep trying to find a random day that has not been used before\n",
    "                while not(random_day_found):\n",
    "                    # Get the start and end dates for a random day in the month\n",
    "                    random_day, following_day = get_random_day_and_next(month)\n",
    "\n",
    "                    if not(random_day in random_days):\n",
    "                        random_days.append(random_day)\n",
    "                        random_day_found = True\n",
    "            new_row = pd.concat([pd.Series(account_name), pd.Series(month), pd.Series(random_days[0]), pd.Series(random_days[1])], axis=1)\n",
    "            df = pd.concat([df, new_row])"
   ]
  },
  {
   "cell_type": "code",
   "execution_count": 92,
   "id": "9c14f736-646d-4af0-b6b8-c7477d133dd9",
   "metadata": {},
   "outputs": [],
   "source": [
    "df = df.rename(columns={\n",
    "    0: \"account_name\",\n",
    "    1: \"month\",\n",
    "    2: \"random day 1\",\n",
    "    3: \"random day 2\"\n",
    "})"
   ]
  },
  {
   "cell_type": "code",
   "execution_count": 93,
   "id": "ede24165-7f8b-447f-b63a-15d81df1be9f",
   "metadata": {
    "tags": []
   },
   "outputs": [],
   "source": [
    "df.to_csv(DATASET_PATH + \"party_account_crawled_days.csv\", index=False)"
   ]
  },
  {
   "cell_type": "code",
   "execution_count": null,
   "id": "028d1f02-4f79-4886-b22b-6a50dc714c06",
   "metadata": {},
   "outputs": [],
   "source": []
  }
 ],
 "metadata": {
  "kernelspec": {
   "display_name": "Python 3 (ipykernel)",
   "language": "python",
   "name": "python3"
  },
  "language_info": {
   "codemirror_mode": {
    "name": "ipython",
    "version": 3
   },
   "file_extension": ".py",
   "mimetype": "text/x-python",
   "name": "python",
   "nbconvert_exporter": "python",
   "pygments_lexer": "ipython3",
   "version": "3.10.9"
  },
  "vscode": {
   "interpreter": {
    "hash": "b0fa6594d8f4cbf19f97940f81e996739fb7646882a419484c72d19e05852a7e"
   }
  }
 },
 "nbformat": 4,
 "nbformat_minor": 5
}
