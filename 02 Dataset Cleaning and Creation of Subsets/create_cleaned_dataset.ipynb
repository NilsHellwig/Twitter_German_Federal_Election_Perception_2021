{
 "cells": [
  {
   "cell_type": "markdown",
   "id": "2dea917c-5be2-4f73-ba84-0589744eff77",
   "metadata": {},
   "source": [
    "# Notebook: Clean Dataset\n",
    "\n",
    "This notebook is used to clean the dataset. What actions are taken in the process is explained below.\n",
    "<br>**Contributors:** [Nils Hellwig](https://github.com/NilsHellwig/) | [Markus Bink](https://github.com/MarkusBink/)"
   ]
  },
  {
   "cell_type": "markdown",
   "id": "861f84a5-cc2e-4cfc-8052-ac8f1bdbc6d5",
   "metadata": {},
   "source": [
    "## Packages"
   ]
  },
  {
   "cell_type": "code",
   "execution_count": 1,
   "id": "7e604f49-d8c3-46e9-85e9-b10c40224aab",
   "metadata": {},
   "outputs": [],
   "source": [
    "import pandas as pd\n",
    "import os"
   ]
  },
  {
   "cell_type": "markdown",
   "id": "db558014-04a6-42cd-b5a5-52eb27ba0849",
   "metadata": {},
   "source": [
    "## Parameters"
   ]
  },
  {
   "cell_type": "code",
   "execution_count": 2,
   "id": "a7656355-0bee-4086-9c47-94be2bfb02c0",
   "metadata": {},
   "outputs": [],
   "source": [
    "RAW_DATASET_PATH = \"../Datasets/raw_dataset/\"\n",
    "DATASET_PATH = \"../Datasets/dataset/\"\n",
    "PARTIES = [\"CDU_CSU\", \"SPD\", \"AFD\", \"FDP\", \"GRUENE\", \"LINKE\"]"
   ]
  },
  {
   "cell_type": "markdown",
   "id": "10606886-7b8b-4c7e-9565-799aec09509e",
   "metadata": {},
   "source": [
    "## Code"
   ]
  },
  {
   "cell_type": "markdown",
   "id": "1d3950be-7d62-4429-a840-4029d9d45fe4",
   "metadata": {},
   "source": [
    "### 1. Create new Directories"
   ]
  },
  {
   "cell_type": "code",
   "execution_count": 3,
   "id": "c884174f-a07f-4f27-a947-19c4746b3aae",
   "metadata": {},
   "outputs": [],
   "source": [
    "# Iterate over the parties\n",
    "for party in PARTIES:\n",
    "    # Try to create the directory for the party\n",
    "    try:\n",
    "        os.makedirs(DATASET_PATH + party)\n",
    "    except FileExistsError:\n",
    "        # The directory already exists, so do nothing\n",
    "        pass"
   ]
  },
  {
   "cell_type": "markdown",
   "id": "0612a2c4-a703-45bf-90b9-50247e59be08",
   "metadata": {},
   "source": [
    "### 2. Clean Dataframe and Store as CSV"
   ]
  },
  {
   "cell_type": "code",
   "execution_count": 4,
   "id": "e0c436cb-cca6-48d0-8c6d-79cac1c0fa9e",
   "metadata": {},
   "outputs": [
    {
     "name": "stderr",
     "output_type": "stream",
     "text": [
      "/var/folders/qy/5gtwsk6s7jgbknbqgb533x9w0000gn/T/ipykernel_63824/2241928221.py:11: DtypeWarning: Columns (0,1,2,3,6,11,12,15,20,22,32,33) have mixed types. Specify dtype option on import or set low_memory=False.\n",
      "  df = pd.read_csv(RAW_DATASET_PATH + party + \"/\" + file, sep=\",\", index_col=0)\n"
     ]
    },
    {
     "name": "stdout",
     "output_type": "stream",
     "text": [
      "ArminLaschet 36568\n",
      "HBraun 3250\n",
      "andreasscheuer 2456\n"
     ]
    },
    {
     "name": "stderr",
     "output_type": "stream",
     "text": [
      "/var/folders/qy/5gtwsk6s7jgbknbqgb533x9w0000gn/T/ipykernel_63824/2241928221.py:11: DtypeWarning: Columns (0,1,2,3,6,11,12,15,20,32,33) have mixed types. Specify dtype option on import or set low_memory=False.\n",
      "  df = pd.read_csv(RAW_DATASET_PATH + party + \"/\" + file, sep=\",\", index_col=0)\n"
     ]
    },
    {
     "name": "stdout",
     "output_type": "stream",
     "text": [
      "CSU 9200\n",
      "DerLenzMdB 244\n"
     ]
    },
    {
     "name": "stderr",
     "output_type": "stream",
     "text": [
      "/var/folders/qy/5gtwsk6s7jgbknbqgb533x9w0000gn/T/ipykernel_63824/2241928221.py:11: DtypeWarning: Columns (0,1,2,3,6,11,12,15,20,22,32,33) have mixed types. Specify dtype option on import or set low_memory=False.\n",
      "  df = pd.read_csv(RAW_DATASET_PATH + party + \"/\" + file, sep=\",\", index_col=0)\n"
     ]
    },
    {
     "name": "stdout",
     "output_type": "stream",
     "text": [
      "Markus_Soeder 30846\n",
      "ANiebler 25\n",
      "MarkusFerber 22\n",
      "Junge_Union 911\n",
      "ManfredWeber 533\n",
      "DoroBaer 2591\n",
      "rbrinkhaus 4331\n",
      "tj_tweets 399\n",
      "DaniLudwigMdB 3891\n",
      "JuliaKloeckner 3386\n",
      "cducsubt 13482\n",
      "n_roettgen 4719\n",
      "jensspahn 35963\n",
      "groehe 80\n",
      "_FriedrichMerz 23687\n",
      "hahnflo 2913\n",
      "smuellermdb 245\n",
      "PaulZiemiak 12791\n",
      "CDU 37448\n",
      "CDU_CSU 229981\n",
      "KarambaDiaby 364\n",
      "Ralf_Stegner 7102\n",
      "hubertus_heil 2418\n"
     ]
    },
    {
     "name": "stderr",
     "output_type": "stream",
     "text": [
      "/var/folders/qy/5gtwsk6s7jgbknbqgb533x9w0000gn/T/ipykernel_63824/2241928221.py:11: DtypeWarning: Columns (6) have mixed types. Specify dtype option on import or set low_memory=False.\n",
      "  df = pd.read_csv(RAW_DATASET_PATH + party + \"/\" + file, sep=\",\", index_col=0)\n"
     ]
    },
    {
     "name": "stdout",
     "output_type": "stream",
     "text": [
      "OlafScholz 27688\n",
      "jusos 1914\n",
      "spdbt 9900\n"
     ]
    },
    {
     "name": "stderr",
     "output_type": "stream",
     "text": [
      "/var/folders/qy/5gtwsk6s7jgbknbqgb533x9w0000gn/T/ipykernel_63824/2241928221.py:11: DtypeWarning: Columns (0,1,2,3,6,11,12,15,20,22,32,33) have mixed types. Specify dtype option on import or set low_memory=False.\n",
      "  df = pd.read_csv(RAW_DATASET_PATH + party + \"/\" + file, sep=\",\", index_col=0)\n"
     ]
    },
    {
     "name": "stdout",
     "output_type": "stream",
     "text": [
      "Karl_Lauterbach 133490\n",
      "KuehniKev 5202\n",
      "larsklingbeil 5728\n",
      "HeikoMaas 6471\n",
      "MiRo_SPD 354\n",
      "EskenSaskia 7292\n"
     ]
    },
    {
     "name": "stderr",
     "output_type": "stream",
     "text": [
      "/var/folders/qy/5gtwsk6s7jgbknbqgb533x9w0000gn/T/ipykernel_63824/2241928221.py:11: DtypeWarning: Columns (0,1,2,3,6,11,12,15,20,22,32,33) have mixed types. Specify dtype option on import or set low_memory=False.\n",
      "  df = pd.read_csv(RAW_DATASET_PATH + party + \"/\" + file, sep=\",\", index_col=0)\n"
     ]
    },
    {
     "name": "stdout",
     "output_type": "stream",
     "text": [
      "spdde 22401\n",
      "SPD 230324\n",
      "MalteKaufmann 5167\n",
      "AfD 8449\n",
      "PetrBystronAFD 501\n",
      "StBrandner 12024\n",
      "JoanaCotar 4363\n",
      "Beatrix_vStorch 3959\n",
      "GtzFrmming 993\n",
      "Alice_Weidel 9414\n",
      "AfDimBundestag 4776\n",
      "AfDBerlin 371\n",
      "gottfriedcurio 271\n",
      "Joerg_Meuthen 4857\n",
      "Tino_Chrupalla 2900\n",
      "AFD 58045\n",
      "f_schaeffler 1105\n",
      "ria_schroeder 369\n",
      "fdpbt 8269\n"
     ]
    },
    {
     "name": "stderr",
     "output_type": "stream",
     "text": [
      "/var/folders/qy/5gtwsk6s7jgbknbqgb533x9w0000gn/T/ipykernel_63824/2241928221.py:11: DtypeWarning: Columns (0,1,2,3,6,11,12,15,20,32,33) have mixed types. Specify dtype option on import or set low_memory=False.\n",
      "  df = pd.read_csv(RAW_DATASET_PATH + party + \"/\" + file, sep=\",\", index_col=0)\n"
     ]
    },
    {
     "name": "stdout",
     "output_type": "stream",
     "text": [
      "c_lindner 20105\n",
      "MaStrackZi 2469\n",
      "fdp_nrw 887\n"
     ]
    },
    {
     "name": "stderr",
     "output_type": "stream",
     "text": [
      "/var/folders/qy/5gtwsk6s7jgbknbqgb533x9w0000gn/T/ipykernel_63824/2241928221.py:11: DtypeWarning: Columns (0,1,2,3,6,11,12,15,20,22,32,33) have mixed types. Specify dtype option on import or set low_memory=False.\n",
      "  df = pd.read_csv(RAW_DATASET_PATH + party + \"/\" + file, sep=\",\", index_col=0)\n"
     ]
    },
    {
     "name": "stdout",
     "output_type": "stream",
     "text": [
      "fdp 28302\n",
      "LindaTeuteberg 332\n",
      "Wissing 2817\n",
      "Lambsdorff 888\n",
      "KonstantinKuhle 2740\n",
      "MarcoBuschmann 10115\n",
      "johannesvogel 2146\n",
      "FDP 80544\n",
      "GoeringEckardt 5240\n",
      "Ricarda_Lang 3582\n",
      "BriHasselmann 1815\n",
      "KathaSchulze 4653\n",
      "GrueneBundestag 6540\n",
      "cem_oezdemir 9969\n",
      "nouripour 507\n",
      "MiKellner 3430\n",
      "JTrittin 1784\n",
      "KonstantinNotz 2180\n",
      "RenateKuenast 2062\n"
     ]
    },
    {
     "name": "stderr",
     "output_type": "stream",
     "text": [
      "/var/folders/qy/5gtwsk6s7jgbknbqgb533x9w0000gn/T/ipykernel_63824/2241928221.py:11: DtypeWarning: Columns (0,1,2,3,11,12,15,20,22,32,33) have mixed types. Specify dtype option on import or set low_memory=False.\n",
      "  df = pd.read_csv(RAW_DATASET_PATH + party + \"/\" + file, sep=\",\", index_col=0)\n"
     ]
    },
    {
     "name": "stdout",
     "output_type": "stream",
     "text": [
      "Die_Gruenen 30943\n",
      "gruene_jugend 1299\n",
      "GRUENE 74004\n",
      "SWagenknecht 7202\n",
      "dieLinke 14304\n",
      "Linksfraktion 3010\n",
      "Janine_Wissler 1045\n",
      "dielinkeberlin 1241\n",
      "DietmarBartsch 3437\n",
      "SusanneHennig 4502\n",
      "GregorGysi 1732\n",
      "jankortemdb 743\n",
      "anked 959\n",
      "SevimDagdelen 172\n",
      "katjakipping 1089\n",
      "b_riexinger 1399\n",
      "LINKE 40835\n",
      "Total:  713733\n"
     ]
    }
   ],
   "source": [
    "n_tweets_total = 0\n",
    "for party in PARTIES:\n",
    "    n_tweets_party = 0\n",
    "    for subdir, _, files in os.walk(RAW_DATASET_PATH + party):\n",
    "        for file in files:\n",
    "            if file.endswith('.csv') and subdir[len(RAW_DATASET_PATH):] in PARTIES:\n",
    "                # Get username of CSV file\n",
    "                username = file[:-4]\n",
    "                \n",
    "                # Load dataframe of an account\n",
    "                df = pd.read_csv(RAW_DATASET_PATH + party + \"/\" + file, sep=\",\", index_col=0)\n",
    "                \n",
    "                # 1. Filter out rows where the username ist the politician/party account itself\n",
    "                df = df[df.username != username]\n",
    "                \n",
    "                # 2. Filter german tweets\n",
    "                df = df[df.language == \"de\"]\n",
    "                \n",
    "                n_tweets_party += df.shape[0]\n",
    "                print(username, df.shape[0])\n",
    "                \n",
    "                # Save dataframe\n",
    "                df.to_csv(DATASET_PATH + \"/\" + party + \"/\" + username + \".csv\")\n",
    "    n_tweets_total += n_tweets_party\n",
    "    print(party, n_tweets_party)\n",
    "print(\"Total: \", n_tweets_total)"
   ]
  }
 ],
 "metadata": {
  "kernelspec": {
   "display_name": "Python 3 (ipykernel)",
   "language": "python",
   "name": "python3"
  },
  "language_info": {
   "codemirror_mode": {
    "name": "ipython",
    "version": 3
   },
   "file_extension": ".py",
   "mimetype": "text/x-python",
   "name": "python",
   "nbconvert_exporter": "python",
   "pygments_lexer": "ipython3",
   "version": "3.10.6"
  },
  "vscode": {
   "interpreter": {
    "hash": "b0fa6594d8f4cbf19f97940f81e996739fb7646882a419484c72d19e05852a7e"
   }
  }
 },
 "nbformat": 4,
 "nbformat_minor": 5
}
