{
 "cells": [
  {
   "cell_type": "markdown",
   "id": "2dea917c-5be2-4f73-ba84-0589744eff77",
   "metadata": {},
   "source": [
    "# Notebook: Clean Dataset\n",
    "\n",
    "This notebook is used to clean the data set. What actions are taken in the process is explained below.\n",
    "<br>**Contributors:** [Nils Hellwig](https://github.com/NilsHellwig/) | [Markus Bink](https://github.com/MarkusBink/)"
   ]
  },
  {
   "cell_type": "markdown",
   "id": "861f84a5-cc2e-4cfc-8052-ac8f1bdbc6d5",
   "metadata": {},
   "source": [
    "## Packages"
   ]
  },
  {
   "cell_type": "code",
   "execution_count": 79,
   "id": "7e604f49-d8c3-46e9-85e9-b10c40224aab",
   "metadata": {},
   "outputs": [],
   "source": [
    "import pandas as pd\n",
    "import os"
   ]
  },
  {
   "cell_type": "markdown",
   "id": "db558014-04a6-42cd-b5a5-52eb27ba0849",
   "metadata": {},
   "source": [
    "## Parameters"
   ]
  },
  {
   "cell_type": "code",
   "execution_count": 80,
   "id": "a7656355-0bee-4086-9c47-94be2bfb02c0",
   "metadata": {},
   "outputs": [],
   "source": [
    "RAW_DATASET_PATH = \"../Datasets/raw_dataset/\"\n",
    "DATASET_PATH = \"../Datasets/dataset/\"\n",
    "PARTIES = [\"CDU_CSU\", \"SPD\", \"AfD\", \"FDP\", \"GRUENE\", \"LINKE\"]"
   ]
  },
  {
   "cell_type": "markdown",
   "id": "10606886-7b8b-4c7e-9565-799aec09509e",
   "metadata": {},
   "source": [
    "## Code"
   ]
  },
  {
   "cell_type": "markdown",
   "id": "1d3950be-7d62-4429-a840-4029d9d45fe4",
   "metadata": {},
   "source": [
    "### 1. Create new Directories"
   ]
  },
  {
   "cell_type": "code",
   "execution_count": 81,
   "id": "c884174f-a07f-4f27-a947-19c4746b3aae",
   "metadata": {},
   "outputs": [],
   "source": [
    "# List of parties\n",
    "parties = ['CDU_CSU', 'FDP', 'AFD', 'LINKE', 'SPD', 'GRUENE']\n",
    "\n",
    "# Iterate over the parties\n",
    "for party in parties:\n",
    "    # Try to create the directory for the party\n",
    "    try:\n",
    "        os.makedirs(DATASET_PATH + party)\n",
    "    except FileExistsError:\n",
    "        # The directory already exists, so do nothing\n",
    "        pass"
   ]
  },
  {
   "cell_type": "markdown",
   "id": "0612a2c4-a703-45bf-90b9-50247e59be08",
   "metadata": {},
   "source": [
    "### 2. Clean Dataframe and store as CSV"
   ]
  },
  {
   "cell_type": "code",
   "execution_count": 84,
   "id": "e0c436cb-cca6-48d0-8c6d-79cac1c0fa9e",
   "metadata": {},
   "outputs": [
    {
     "name": "stdout",
     "output_type": "stream",
     "text": [
      "ArminLaschet 17187\n",
      "HBraun 1465\n",
      "andreasscheuer 873\n",
      "CSU 6089\n",
      "DerLenzMdB 90\n",
      "Markus_Soeder 13371\n"
     ]
    },
    {
     "name": "stderr",
     "output_type": "stream",
     "text": [
      "/var/folders/qy/5gtwsk6s7jgbknbqgb533x9w0000gn/T/ipykernel_24821/850890850.py:11: DtypeWarning: Columns (0,1,2,3,6,11,12,15,20) have mixed types. Specify dtype option on import or set low_memory=False.\n",
      "  df = pd.read_csv(RAW_DATASET_PATH + party + \"/\" + file, sep=\",\")\n"
     ]
    },
    {
     "name": "stdout",
     "output_type": "stream",
     "text": [
      "ANiebler 5\n",
      "MarkusFerber 14\n",
      "Junge_Union 416\n",
      "ManfredWeber 85\n",
      "DoroBaer 2216\n",
      "rbrinkhaus 581\n",
      "tj_tweets 408\n",
      "DaniLudwigMdB 1065\n",
      "JuliaKloeckner 1484\n",
      "cducsubt 4996\n",
      "n_roettgen 1393\n"
     ]
    },
    {
     "name": "stderr",
     "output_type": "stream",
     "text": [
      "/var/folders/qy/5gtwsk6s7jgbknbqgb533x9w0000gn/T/ipykernel_24821/850890850.py:11: DtypeWarning: Columns (0,1,2,3,6,11,12,15,20) have mixed types. Specify dtype option on import or set low_memory=False.\n",
      "  df = pd.read_csv(RAW_DATASET_PATH + party + \"/\" + file, sep=\",\")\n"
     ]
    },
    {
     "name": "stdout",
     "output_type": "stream",
     "text": [
      "jensspahn 20672\n",
      "groehe 290\n",
      "_FriedrichMerz 6643\n",
      "hahnflo 387\n",
      "PaulZiemiak 7758\n",
      "smueller 0\n"
     ]
    },
    {
     "name": "stderr",
     "output_type": "stream",
     "text": [
      "/var/folders/qy/5gtwsk6s7jgbknbqgb533x9w0000gn/T/ipykernel_24821/850890850.py:11: DtypeWarning: Columns (6) have mixed types. Specify dtype option on import or set low_memory=False.\n",
      "  df = pd.read_csv(RAW_DATASET_PATH + party + \"/\" + file, sep=\",\")\n"
     ]
    },
    {
     "name": "stdout",
     "output_type": "stream",
     "text": [
      "CDU 17308\n",
      "CDU_CSU 104796\n",
      "KarambaDiaby 128\n",
      "Ralf_Stegner 2852\n",
      "hubertus_heil 1536\n"
     ]
    },
    {
     "name": "stderr",
     "output_type": "stream",
     "text": [
      "/var/folders/qy/5gtwsk6s7jgbknbqgb533x9w0000gn/T/ipykernel_24821/850890850.py:11: DtypeWarning: Columns (6) have mixed types. Specify dtype option on import or set low_memory=False.\n",
      "  df = pd.read_csv(RAW_DATASET_PATH + party + \"/\" + file, sep=\",\")\n"
     ]
    },
    {
     "name": "stdout",
     "output_type": "stream",
     "text": [
      "OlafScholz 14161\n",
      "jusos 244\n",
      "spdbt 6332\n"
     ]
    },
    {
     "name": "stderr",
     "output_type": "stream",
     "text": [
      "/var/folders/qy/5gtwsk6s7jgbknbqgb533x9w0000gn/T/ipykernel_24821/850890850.py:11: DtypeWarning: Columns (6) have mixed types. Specify dtype option on import or set low_memory=False.\n",
      "  df = pd.read_csv(RAW_DATASET_PATH + party + \"/\" + file, sep=\",\")\n"
     ]
    },
    {
     "name": "stdout",
     "output_type": "stream",
     "text": [
      "Karl_Lauterbach 46511\n",
      "KuehniKev 3265\n",
      "larsklingbeil 2008\n",
      "HeikoMaas 3596\n",
      "MiRo_SPD 189\n",
      "EskenSaskia 3395\n",
      "spdde 8068\n",
      "SPD 92285\n",
      "MalteKaufmann 1954\n",
      "AfD 4676\n",
      "PetrBystronAFD 154\n",
      "StBrandner 5523\n",
      "JoanaCotar 2152\n",
      "Beatrix_vStorch 1801\n",
      "GtzFrmming 600\n",
      "Alice_Weidel 4296\n",
      "AfDimBundestag 2871\n",
      "AfDBerlin 341\n",
      "gottfriedcurio 117\n",
      "Joerg_Meuthen 2966\n",
      "Tino_Chrupalla 944\n",
      "AfD 28395\n",
      "f_schaeffler 1178\n",
      "ria_schroeder 448\n",
      "fdpbt 4335\n",
      "c_lindner 10150\n",
      "MaStrackZi 1052\n",
      "fdp_nrw 439\n",
      "fdp 14017\n",
      "LindaTeuteberg 264\n",
      "Wissing 1447\n",
      "Lambsdorff 730\n",
      "KonstantinKuhle 1685\n",
      "MarcoBuschmann 3792\n",
      "johannesvogel 1714\n",
      "FDP 41251\n",
      "GoeringEckardt 3821\n",
      "Ricarda_Lang 2681\n",
      "BriHasselmann 829\n",
      "KathaSchulze 784\n",
      "GrueneBundestag 2510\n",
      "cem_oezdemir 4252\n",
      "nouripour 132\n",
      "MiKellner 544\n",
      "JTrittin 637\n",
      "KonstantinNotz 1112\n",
      "RenateKuenast 1137\n",
      "Die_Gruenen 23113\n",
      "gruene_jugend 1065\n",
      "GRUENE 42617\n",
      "SWagenknecht 2847\n",
      "dieLinke 5879\n",
      "Linksfraktion 1649\n",
      "Janine_Wissler 1151\n",
      "dielinkeberlin 1209\n",
      "DietmarBartsch 1129\n",
      "SusanneHennig 537\n",
      "GregorGysi 708\n",
      "jankortemdb 353\n",
      "anked 361\n",
      "SevimDagdelen 121\n",
      "katjakipping 632\n",
      "b_riexinger 1008\n",
      "LINKE 17584\n",
      "Total:  326928\n"
     ]
    }
   ],
   "source": [
    "n_tweets_total = 0\n",
    "for party in PARTIES:\n",
    "    n_tweets_party = 0\n",
    "    for subdir, _, files in os.walk(RAW_DATASET_PATH + party):\n",
    "        for file in files:\n",
    "            if file.endswith('.csv') and subdir[len(RAW_DATASET_PATH):] in PARTIES:\n",
    "                # Get username of CSV file\n",
    "                username = file[:-4]\n",
    "                \n",
    "                # Load dataframe of an account\n",
    "                df = pd.read_csv(RAW_DATASET_PATH + party + \"/\" + file, sep=\",\")\n",
    "                \n",
    "                # 1. Filter out rows where the username ist the politician/party account itself\n",
    "                df = df[df.username != username]\n",
    "                \n",
    "                # 2. Filter german tweets\n",
    "                df = df[df.language == \"de\"]\n",
    "                \n",
    "                n_tweets_party += df.shape[0]\n",
    "                print(username, df.shape[0])\n",
    "                \n",
    "                # Save dataframe\n",
    "                df.to_csv(DATASET_PATH + \"/\" + party + \"/\" + username + \".csv\")\n",
    "    n_tweets_total += n_tweets_party\n",
    "    print(party, n_tweets_party)\n",
    "print(\"Total: \", n_tweets_total)"
   ]
  },
  {
   "cell_type": "code",
   "execution_count": null,
   "id": "caa2e835-e231-4408-b6d9-c32a5c7bba4a",
   "metadata": {},
   "outputs": [],
   "source": []
  }
 ],
 "metadata": {
  "kernelspec": {
   "display_name": "Python 3 (ipykernel)",
   "language": "python",
   "name": "python3"
  },
  "language_info": {
   "codemirror_mode": {
    "name": "ipython",
    "version": 3
   },
   "file_extension": ".py",
   "mimetype": "text/x-python",
   "name": "python",
   "nbconvert_exporter": "python",
   "pygments_lexer": "ipython3",
   "version": "3.10.6"
  }
 },
 "nbformat": 4,
 "nbformat_minor": 5
}
