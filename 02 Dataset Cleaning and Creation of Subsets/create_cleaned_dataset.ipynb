{
 "cells": [
  {
   "cell_type": "markdown",
   "id": "2dea917c-5be2-4f73-ba84-0589744eff77",
   "metadata": {},
   "source": [
    "# Notebook: Clean Dataset\n",
    "\n",
    "This notebook is used to clean the dataset. What actions are taken in the process is explained below.\n",
    "<br>**Contributors:** [Nils Hellwig](https://github.com/NilsHellwig/) | [Markus Bink](https://github.com/MarkusBink/)"
   ]
  },
  {
   "cell_type": "markdown",
   "id": "861f84a5-cc2e-4cfc-8052-ac8f1bdbc6d5",
   "metadata": {},
   "source": [
    "## Packages"
   ]
  },
  {
   "cell_type": "code",
   "execution_count": 109,
   "id": "7e604f49-d8c3-46e9-85e9-b10c40224aab",
   "metadata": {},
   "outputs": [],
   "source": [
    "import pandas as pd\n",
    "import re\n",
    "import os"
   ]
  },
  {
   "cell_type": "markdown",
   "id": "db558014-04a6-42cd-b5a5-52eb27ba0849",
   "metadata": {},
   "source": [
    "## Parameters"
   ]
  },
  {
   "cell_type": "code",
   "execution_count": 110,
   "id": "a7656355-0bee-4086-9c47-94be2bfb02c0",
   "metadata": {},
   "outputs": [],
   "source": [
    "RAW_DATASET_PATH = \"../Datasets/raw_dataset/\"\n",
    "DATASET_PATH = \"../Datasets/dataset/\"\n",
    "PARTIES = [\"CDU_CSU\", \"SPD\", \"AFD\", \"FDP\", \"GRUENE\", \"LINKE\"]"
   ]
  },
  {
   "cell_type": "markdown",
   "id": "10606886-7b8b-4c7e-9565-799aec09509e",
   "metadata": {},
   "source": [
    "## Code"
   ]
  },
  {
   "cell_type": "markdown",
   "id": "1d3950be-7d62-4429-a840-4029d9d45fe4",
   "metadata": {},
   "source": [
    "### 1. Create new Directories"
   ]
  },
  {
   "cell_type": "code",
   "execution_count": 111,
   "id": "c884174f-a07f-4f27-a947-19c4746b3aae",
   "metadata": {},
   "outputs": [],
   "source": [
    "# Iterate over the parties\n",
    "for party in PARTIES:\n",
    "    # Try to create the directory for the party\n",
    "    try:\n",
    "        os.makedirs(DATASET_PATH + party)\n",
    "    except FileExistsError:\n",
    "        # The directory already exists, so do nothing\n",
    "        pass"
   ]
  },
  {
   "cell_type": "markdown",
   "id": "0612a2c4-a703-45bf-90b9-50247e59be08",
   "metadata": {},
   "source": [
    "### 2. Clean Dataframe and Store as CSV"
   ]
  },
  {
   "cell_type": "code",
   "execution_count": 112,
   "id": "e0c436cb-cca6-48d0-8c6d-79cac1c0fa9e",
   "metadata": {},
   "outputs": [
    {
     "name": "stderr",
     "output_type": "stream",
     "text": [
      "/var/folders/qy/5gtwsk6s7jgbknbqgb533x9w0000gn/T/ipykernel_57225/3887817642.py:11: DtypeWarning: Columns (0,1,2,3,6,11,12,15,20,22,32,33) have mixed types. Specify dtype option on import or set low_memory=False.\n",
      "  df = pd.read_csv(RAW_DATASET_PATH + party + \"/\" + file, sep=\",\", index_col=0, lineterminator=\"\\n\")\n"
     ]
    },
    {
     "name": "stdout",
     "output_type": "stream",
     "text": [
      "All values in the column are unique. ArminLaschet\n",
      "ArminLaschet 36570\n",
      "All values in the column are unique. HBraun\n",
      "HBraun 3250\n",
      "All values in the column are unique. andreasscheuer\n",
      "andreasscheuer 2456\n",
      "All values in the column are unique. CSU\n",
      "CSU 9201\n",
      "All values in the column are unique. DerLenzMdB\n",
      "DerLenzMdB 244\n"
     ]
    },
    {
     "name": "stderr",
     "output_type": "stream",
     "text": [
      "/var/folders/qy/5gtwsk6s7jgbknbqgb533x9w0000gn/T/ipykernel_57225/3887817642.py:11: DtypeWarning: Columns (6) have mixed types. Specify dtype option on import or set low_memory=False.\n",
      "  df = pd.read_csv(RAW_DATASET_PATH + party + \"/\" + file, sep=\",\", index_col=0, lineterminator=\"\\n\")\n"
     ]
    },
    {
     "name": "stdout",
     "output_type": "stream",
     "text": [
      "All values in the column are unique. Markus_Soeder\n",
      "Markus_Soeder 30846\n",
      "All values in the column are unique. ANiebler\n",
      "ANiebler 25\n",
      "All values in the column are unique. MarkusFerber\n",
      "MarkusFerber 22\n",
      "All values in the column are unique. Junge_Union\n",
      "Junge_Union 911\n",
      "All values in the column are unique. ManfredWeber\n",
      "ManfredWeber 533\n",
      "All values in the column are unique. DoroBaer\n",
      "DoroBaer 2591\n",
      "All values in the column are unique. rbrinkhaus\n",
      "rbrinkhaus 4331\n",
      "All values in the column are unique. tj_tweets\n",
      "tj_tweets 399\n",
      "All values in the column are unique. DaniLudwigMdB\n",
      "DaniLudwigMdB 3891\n",
      "All values in the column are unique. JuliaKloeckner\n",
      "JuliaKloeckner 3386\n",
      "All values in the column are unique. cducsubt\n",
      "cducsubt 13482\n",
      "All values in the column are unique. n_roettgen\n",
      "n_roettgen 4719\n",
      "All values in the column are unique. jensspahn\n",
      "jensspahn 35963\n",
      "All values in the column are unique. groehe\n",
      "groehe 80\n",
      "All values in the column are unique. _FriedrichMerz\n",
      "_FriedrichMerz 23687\n",
      "All values in the column are unique. hahnflo\n",
      "hahnflo 2913\n",
      "All values in the column are unique. smuellermdb\n",
      "smuellermdb 245\n",
      "All values in the column are unique. PaulZiemiak\n",
      "PaulZiemiak 12791\n",
      "All values in the column are unique. CDU\n",
      "CDU 37448\n",
      "CDU_CSU 229984\n",
      "All values in the column are unique. KarambaDiaby\n",
      "KarambaDiaby 364\n",
      "All values in the column are unique. Ralf_Stegner\n",
      "Ralf_Stegner 7102\n",
      "All values in the column are unique. hubertus_heil\n",
      "hubertus_heil 2418\n"
     ]
    },
    {
     "name": "stderr",
     "output_type": "stream",
     "text": [
      "/var/folders/qy/5gtwsk6s7jgbknbqgb533x9w0000gn/T/ipykernel_57225/3887817642.py:11: DtypeWarning: Columns (6) have mixed types. Specify dtype option on import or set low_memory=False.\n",
      "  df = pd.read_csv(RAW_DATASET_PATH + party + \"/\" + file, sep=\",\", index_col=0, lineterminator=\"\\n\")\n"
     ]
    },
    {
     "name": "stdout",
     "output_type": "stream",
     "text": [
      "All values in the column are unique. OlafScholz\n",
      "OlafScholz 27688\n",
      "All values in the column are unique. jusos\n",
      "jusos 1914\n",
      "All values in the column are unique. spdbt\n",
      "spdbt 9900\n"
     ]
    },
    {
     "name": "stderr",
     "output_type": "stream",
     "text": [
      "/var/folders/qy/5gtwsk6s7jgbknbqgb533x9w0000gn/T/ipykernel_57225/3887817642.py:11: DtypeWarning: Columns (6) have mixed types. Specify dtype option on import or set low_memory=False.\n",
      "  df = pd.read_csv(RAW_DATASET_PATH + party + \"/\" + file, sep=\",\", index_col=0, lineterminator=\"\\n\")\n"
     ]
    },
    {
     "name": "stdout",
     "output_type": "stream",
     "text": [
      "All values in the column are unique. Karl_Lauterbach\n",
      "Karl_Lauterbach 133491\n",
      "All values in the column are unique. KuehniKev\n",
      "KuehniKev 5202\n",
      "All values in the column are unique. larsklingbeil\n",
      "larsklingbeil 5728\n",
      "All values in the column are unique. HeikoMaas\n",
      "HeikoMaas 6471\n",
      "All values in the column are unique. MiRo_SPD\n",
      "MiRo_SPD 354\n",
      "All values in the column are unique. EskenSaskia\n",
      "EskenSaskia 7292\n"
     ]
    },
    {
     "name": "stderr",
     "output_type": "stream",
     "text": [
      "/var/folders/qy/5gtwsk6s7jgbknbqgb533x9w0000gn/T/ipykernel_57225/3887817642.py:11: DtypeWarning: Columns (6) have mixed types. Specify dtype option on import or set low_memory=False.\n",
      "  df = pd.read_csv(RAW_DATASET_PATH + party + \"/\" + file, sep=\",\", index_col=0, lineterminator=\"\\n\")\n"
     ]
    },
    {
     "name": "stdout",
     "output_type": "stream",
     "text": [
      "All values in the column are unique. spdde\n",
      "spdde 22401\n",
      "SPD 230325\n",
      "All values in the column are unique. MalteKaufmann\n",
      "MalteKaufmann 5168\n",
      "All values in the column are unique. AfD\n",
      "AfD 8449\n",
      "All values in the column are unique. PetrBystronAFD\n",
      "PetrBystronAFD 501\n",
      "All values in the column are unique. StBrandner\n",
      "StBrandner 12024\n",
      "All values in the column are unique. JoanaCotar\n",
      "JoanaCotar 4363\n",
      "All values in the column are unique. Beatrix_vStorch\n",
      "Beatrix_vStorch 3959\n",
      "All values in the column are unique. GtzFrmming\n",
      "GtzFrmming 993\n",
      "All values in the column are unique. Alice_Weidel\n",
      "Alice_Weidel 9414\n",
      "All values in the column are unique. AfDimBundestag\n",
      "AfDimBundestag 4776\n",
      "All values in the column are unique. AfDBerlin\n",
      "AfDBerlin 371\n",
      "All values in the column are unique. gottfriedcurio\n",
      "gottfriedcurio 271\n",
      "All values in the column are unique. Joerg_Meuthen\n",
      "Joerg_Meuthen 4857\n",
      "All values in the column are unique. Tino_Chrupalla\n",
      "Tino_Chrupalla 2900\n",
      "AFD 58046\n",
      "All values in the column are unique. f_schaeffler\n",
      "f_schaeffler 1105\n",
      "All values in the column are unique. ria_schroeder\n",
      "ria_schroeder 369\n",
      "All values in the column are unique. fdpbt\n",
      "fdpbt 8269\n",
      "All values in the column are unique. c_lindner\n",
      "c_lindner 20106\n",
      "All values in the column are unique. MaStrackZi\n",
      "MaStrackZi 2469\n",
      "All values in the column are unique. fdp_nrw\n",
      "fdp_nrw 887\n"
     ]
    },
    {
     "name": "stderr",
     "output_type": "stream",
     "text": [
      "/var/folders/qy/5gtwsk6s7jgbknbqgb533x9w0000gn/T/ipykernel_57225/3887817642.py:11: DtypeWarning: Columns (6) have mixed types. Specify dtype option on import or set low_memory=False.\n",
      "  df = pd.read_csv(RAW_DATASET_PATH + party + \"/\" + file, sep=\",\", index_col=0, lineterminator=\"\\n\")\n"
     ]
    },
    {
     "name": "stdout",
     "output_type": "stream",
     "text": [
      "All values in the column are unique. fdp\n",
      "fdp 28303\n",
      "All values in the column are unique. LindaTeuteberg\n",
      "LindaTeuteberg 332\n",
      "All values in the column are unique. Wissing\n",
      "Wissing 2817\n",
      "All values in the column are unique. Lambsdorff\n",
      "Lambsdorff 888\n",
      "All values in the column are unique. KonstantinKuhle\n",
      "KonstantinKuhle 2740\n",
      "All values in the column are unique. MarcoBuschmann\n",
      "MarcoBuschmann 10115\n",
      "All values in the column are unique. johannesvogel\n",
      "johannesvogel 2146\n",
      "FDP 80546\n",
      "All values in the column are unique. GoeringEckardt\n",
      "GoeringEckardt 5240\n",
      "All values in the column are unique. Ricarda_Lang\n",
      "Ricarda_Lang 3582\n",
      "All values in the column are unique. BriHasselmann\n",
      "BriHasselmann 1815\n",
      "All values in the column are unique. KathaSchulze\n",
      "KathaSchulze 4653\n",
      "All values in the column are unique. GrueneBundestag\n",
      "GrueneBundestag 6540\n",
      "All values in the column are unique. cem_oezdemir\n",
      "cem_oezdemir 9969\n",
      "All values in the column are unique. nouripour\n",
      "nouripour 507\n",
      "All values in the column are unique. MiKellner\n",
      "MiKellner 3430\n",
      "All values in the column are unique. JTrittin\n",
      "JTrittin 1784\n",
      "All values in the column are unique. KonstantinNotz\n",
      "KonstantinNotz 2180\n",
      "All values in the column are unique. RenateKuenast\n",
      "RenateKuenast 2062\n"
     ]
    },
    {
     "name": "stderr",
     "output_type": "stream",
     "text": [
      "/var/folders/qy/5gtwsk6s7jgbknbqgb533x9w0000gn/T/ipykernel_57225/3887817642.py:11: DtypeWarning: Columns (6) have mixed types. Specify dtype option on import or set low_memory=False.\n",
      "  df = pd.read_csv(RAW_DATASET_PATH + party + \"/\" + file, sep=\",\", index_col=0, lineterminator=\"\\n\")\n"
     ]
    },
    {
     "name": "stdout",
     "output_type": "stream",
     "text": [
      "All values in the column are unique. Die_Gruenen\n",
      "Die_Gruenen 30944\n",
      "All values in the column are unique. gruene_jugend\n",
      "gruene_jugend 1299\n",
      "GRUENE 74005\n",
      "All values in the column are unique. SWagenknecht\n",
      "SWagenknecht 7202\n",
      "All values in the column are unique. dieLinke\n",
      "dieLinke 14305\n",
      "All values in the column are unique. Linksfraktion\n",
      "Linksfraktion 3010\n",
      "All values in the column are unique. Janine_Wissler\n",
      "Janine_Wissler 1045\n",
      "All values in the column are unique. dielinkeberlin\n",
      "dielinkeberlin 1241\n",
      "All values in the column are unique. DietmarBartsch\n",
      "DietmarBartsch 3437\n",
      "All values in the column are unique. SusanneHennig\n",
      "SusanneHennig 4502\n",
      "All values in the column are unique. GregorGysi\n",
      "GregorGysi 1732\n",
      "All values in the column are unique. jankortemdb\n",
      "jankortemdb 743\n",
      "All values in the column are unique. anked\n",
      "anked 959\n",
      "All values in the column are unique. SevimDagdelen\n",
      "SevimDagdelen 172\n",
      "All values in the column are unique. katjakipping\n",
      "katjakipping 1089\n",
      "All values in the column are unique. b_riexinger\n",
      "b_riexinger 1399\n",
      "LINKE 40836\n",
      "Total:  713742\n"
     ]
    }
   ],
   "source": [
    "n_tweets_total = 0\n",
    "for party in PARTIES:\n",
    "    n_tweets_party = 0\n",
    "    for subdir, _, files in os.walk(RAW_DATASET_PATH + party):\n",
    "        for file in files:\n",
    "            if file.endswith('.csv') and subdir[len(RAW_DATASET_PATH):] in PARTIES:\n",
    "                # Get username of CSV file\n",
    "                username = file[:-4]\n",
    "                \n",
    "                # Load dataframe of an account\n",
    "                df = pd.read_csv(RAW_DATASET_PATH + party + \"/\" + file, sep=\",\", index_col=0, lineterminator=\"\\n\")\n",
    "                \n",
    "                # Remove all line breaks from the values in the \"Column\" row\n",
    "                df['tweet'] = df['tweet'].apply(lambda x: re.sub(r'\\r\\n|\\r|\\n', '', x))\n",
    "                \n",
    "                if df[\"id\"].nunique() == len(df):\n",
    "                    print(\"All values in the column are unique.\", username)\n",
    "                else:\n",
    "                    print(\"There are duplicate values in the column.\", username)\n",
    "                \n",
    "                # 1. Filter out rows where the username ist the politician/party account itself\n",
    "                df = df[df.username != username]\n",
    "                \n",
    "                # 2. Filter german tweets\n",
    "                df = df[df.language == \"de\"]\n",
    "                \n",
    "                # Reset the index of the dataframe\n",
    "                df = df.reset_index(drop=True)\n",
    "                \n",
    "                n_tweets_party += df.shape[0]\n",
    "                print(username, df.shape[0])\n",
    "                \n",
    "                # Save dataframe\n",
    "                df.to_csv(DATASET_PATH + \"/\" + party + \"/\" + username + \".csv\", sep=',', quotechar='\"', quoting=csv.QUOTE_MINIMAL)\n",
    "    n_tweets_total += n_tweets_party\n",
    "    print(party, n_tweets_party)\n",
    "print(\"Total: \", n_tweets_total)"
   ]
  }
 ],
 "metadata": {
  "kernelspec": {
   "display_name": "Python 3 (ipykernel)",
   "language": "python",
   "name": "python3"
  },
  "language_info": {
   "codemirror_mode": {
    "name": "ipython",
    "version": 3
   },
   "file_extension": ".py",
   "mimetype": "text/x-python",
   "name": "python",
   "nbconvert_exporter": "python",
   "pygments_lexer": "ipython3",
   "version": "3.10.8"
  },
  "vscode": {
   "interpreter": {
    "hash": "b0fa6594d8f4cbf19f97940f81e996739fb7646882a419484c72d19e05852a7e"
   }
  }
 },
 "nbformat": 4,
 "nbformat_minor": 5
}
