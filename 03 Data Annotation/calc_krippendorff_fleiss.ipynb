{
 "cells": [
  {
   "cell_type": "markdown",
   "id": "7d027f1b",
   "metadata": {},
   "source": [
    "# Notebook: Calculate Agreement\n",
    "\n",
    "This notebook is used to calculate the inter-rater agreement using Krippendorf's Alpha.\n",
    "<br>**Contributors:** [Nils Hellwig](https://github.com/NilsHellwig/) | [Markus Bink](https://github.com/MarkusBink/)"
   ]
  },
  {
   "cell_type": "markdown",
   "id": "5ce848e0",
   "metadata": {},
   "source": [
    "## Packages"
   ]
  },
  {
   "cell_type": "code",
   "execution_count": 125,
   "id": "7a3ab732",
   "metadata": {},
   "outputs": [],
   "source": [
    "from statsmodels.stats import inter_rater as irr\n",
    "import krippendorff\n",
    "import pandas as pd\n",
    "import numpy as np\n",
    "import glob\n",
    "import os"
   ]
  },
  {
   "cell_type": "markdown",
   "id": "15548d80",
   "metadata": {},
   "source": [
    "## Parameters"
   ]
  },
  {
   "cell_type": "code",
   "execution_count": 85,
   "id": "fbb929ba",
   "metadata": {},
   "outputs": [],
   "source": [
    "ANNOTATED_DATASET_PATH = \"../Datasets/annotated_dataset/*.xlsx\"\n",
    "ANNOTATED_DATASET_PATH = \"../Datasets/annotated_dataset/\""
   ]
  },
  {
   "cell_type": "markdown",
   "id": "4a4be97f",
   "metadata": {},
   "source": [
    "## Code"
   ]
  },
  {
   "cell_type": "markdown",
   "id": "ad729756",
   "metadata": {},
   "source": [
    "### 1. Load Annotations"
   ]
  },
  {
   "cell_type": "code",
   "execution_count": 3,
   "id": "b0f88d92",
   "metadata": {},
   "outputs": [
    {
     "data": {
      "text/plain": [
       "['../Datasets/annotated_dataset/tweets_session_1_1.xlsx',\n",
       " '../Datasets/annotated_dataset/tweets_session_1_2.xlsx',\n",
       " '../Datasets/annotated_dataset/tweets_session_2_1.xlsx',\n",
       " '../Datasets/annotated_dataset/tweets_session_2_2.xlsx',\n",
       " '../Datasets/annotated_dataset/tweets_session_2_3.xlsx']"
      ]
     },
     "execution_count": 3,
     "metadata": {},
     "output_type": "execute_result"
    }
   ],
   "source": [
    "file_list = sorted(glob.glob(ANNOTATED_DATASET_PATH))\n",
    "file_list"
   ]
  },
  {
   "cell_type": "code",
   "execution_count": 143,
   "id": "ffd14790",
   "metadata": {},
   "outputs": [
    {
     "data": {
      "text/html": [
       "<div>\n",
       "<style scoped>\n",
       "    .dataframe tbody tr th:only-of-type {\n",
       "        vertical-align: middle;\n",
       "    }\n",
       "\n",
       "    .dataframe tbody tr th {\n",
       "        vertical-align: top;\n",
       "    }\n",
       "\n",
       "    .dataframe thead th {\n",
       "        text-align: right;\n",
       "    }\n",
       "</style>\n",
       "<table border=\"1\" class=\"dataframe\">\n",
       "  <thead>\n",
       "    <tr style=\"text-align: right;\">\n",
       "      <th></th>\n",
       "      <th>id</th>\n",
       "      <th>sentiment_1</th>\n",
       "      <th>sentiment_2</th>\n",
       "    </tr>\n",
       "  </thead>\n",
       "  <tbody>\n",
       "    <tr>\n",
       "      <th>0</th>\n",
       "      <td>1.460589e+18</td>\n",
       "      <td>1</td>\n",
       "      <td>0</td>\n",
       "    </tr>\n",
       "    <tr>\n",
       "      <th>1</th>\n",
       "      <td>1.470141e+18</td>\n",
       "      <td>2</td>\n",
       "      <td>1</td>\n",
       "    </tr>\n",
       "    <tr>\n",
       "      <th>2</th>\n",
       "      <td>1.405951e+18</td>\n",
       "      <td>2</td>\n",
       "      <td>2</td>\n",
       "    </tr>\n",
       "    <tr>\n",
       "      <th>3</th>\n",
       "      <td>1.350127e+18</td>\n",
       "      <td>2</td>\n",
       "      <td>2</td>\n",
       "    </tr>\n",
       "    <tr>\n",
       "      <th>4</th>\n",
       "      <td>1.443989e+18</td>\n",
       "      <td>1</td>\n",
       "      <td>1</td>\n",
       "    </tr>\n",
       "    <tr>\n",
       "      <th>...</th>\n",
       "      <td>...</td>\n",
       "      <td>...</td>\n",
       "      <td>...</td>\n",
       "    </tr>\n",
       "    <tr>\n",
       "      <th>995</th>\n",
       "      <td>1.400721e+18</td>\n",
       "      <td>1</td>\n",
       "      <td>1</td>\n",
       "    </tr>\n",
       "    <tr>\n",
       "      <th>996</th>\n",
       "      <td>1.415980e+18</td>\n",
       "      <td>2</td>\n",
       "      <td>2</td>\n",
       "    </tr>\n",
       "    <tr>\n",
       "      <th>997</th>\n",
       "      <td>1.419539e+18</td>\n",
       "      <td>1</td>\n",
       "      <td>2</td>\n",
       "    </tr>\n",
       "    <tr>\n",
       "      <th>998</th>\n",
       "      <td>1.436027e+18</td>\n",
       "      <td>2</td>\n",
       "      <td>2</td>\n",
       "    </tr>\n",
       "    <tr>\n",
       "      <th>999</th>\n",
       "      <td>1.373554e+18</td>\n",
       "      <td>2</td>\n",
       "      <td>1</td>\n",
       "    </tr>\n",
       "  </tbody>\n",
       "</table>\n",
       "<p>2000 rows × 3 columns</p>\n",
       "</div>"
      ],
      "text/plain": [
       "               id  sentiment_1  sentiment_2\n",
       "0    1.460589e+18            1            0\n",
       "1    1.470141e+18            2            1\n",
       "2    1.405951e+18            2            2\n",
       "3    1.350127e+18            2            2\n",
       "4    1.443989e+18            1            1\n",
       "..            ...          ...          ...\n",
       "995  1.400721e+18            1            1\n",
       "996  1.415980e+18            2            2\n",
       "997  1.419539e+18            1            2\n",
       "998  1.436027e+18            2            2\n",
       "999  1.373554e+18            2            1\n",
       "\n",
       "[2000 rows x 3 columns]"
      ]
     },
     "execution_count": 143,
     "metadata": {},
     "output_type": "execute_result"
    }
   ],
   "source": [
    "anno_first = pd.read_excel(os.path.join(ANNOTATED_DATASET_PATH, \"tweets_session_1_1.xlsx\"))\n",
    "anno_first = pd.concat([anno_first, pd.read_excel(os.path.join(ANNOTATED_DATASET_PATH, \"tweets_session_2_1.xlsx\"))])\n",
    "anno_first['sentiment'] = anno_first['sentiment'].astype('category').cat.codes\n",
    "anno_first.rename(columns={'sentiment': 'sentiment_1'}, inplace=True)\n",
    "\n",
    "anno_second = pd.read_excel(os.path.join(ANNOTATED_DATASET_PATH, \"tweets_session_1_2.xlsx\"))\n",
    "anno_second = pd.concat([anno_second, pd.read_excel(os.path.join(ANNOTATED_DATASET_PATH, \"tweets_session_2_2.xlsx\"))])\n",
    "anno_second['sentiment'] = anno_second['sentiment'].astype('category').cat.codes\n",
    "anno_second.rename(columns={'sentiment': 'sentiment_2'}, inplace=True)\n",
    "\n",
    "anno_all = anno_first[['id', 'sentiment_1']]\n",
    "anno_all = pd.concat([anno_all, anno_second['sentiment_2']], axis=1)\n",
    "\n",
    "anno_all"
   ]
  },
  {
   "cell_type": "markdown",
   "id": "41132cdc",
   "metadata": {},
   "source": [
    "### 2. Calculate Krippendorff's Alpha"
   ]
  },
  {
   "cell_type": "code",
   "execution_count": 140,
   "id": "febaaee0",
   "metadata": {},
   "outputs": [
    {
     "data": {
      "text/plain": [
       "-0.000150556794942025"
      ]
     },
     "execution_count": 140,
     "metadata": {},
     "output_type": "execute_result"
    }
   ],
   "source": [
    "# Rows are the coders (annotators) # of coders\n",
    "# Columns are the individual items (sentiment of tweet) # of tweets\n",
    "value_counts = anno_all.loc[:, anno_all.columns != 'id']\n",
    "value_counts = value_counts.to_numpy().transpose()\n",
    "\n",
    "krippendorff.alpha(value_counts=value_counts, level_of_measurement=\"nominal\")"
   ]
  },
  {
   "cell_type": "markdown",
   "id": "b0235845",
   "metadata": {},
   "source": [
    "### 3. Calculate Fleiss' Kappa"
   ]
  },
  {
   "cell_type": "code",
   "execution_count": 141,
   "id": "269337c0",
   "metadata": {},
   "outputs": [
    {
     "data": {
      "text/plain": [
       "(array([[0, 1, 1, ..., 0, 0, 0],\n",
       "        [0, 0, 1, ..., 0, 0, 0],\n",
       "        [0, 0, 0, ..., 0, 0, 0],\n",
       "        ...,\n",
       "        [0, 0, 1, ..., 0, 0, 0],\n",
       "        [0, 0, 0, ..., 0, 0, 0],\n",
       "        [0, 0, 1, ..., 0, 0, 0]]),\n",
       " array([-1.00000000e+00,  0.00000000e+00,  1.00000000e+00, ...,\n",
       "         1.47648526e+18,  1.47652585e+18,  1.47688916e+18]))"
      ]
     },
     "execution_count": 141,
     "metadata": {},
     "output_type": "execute_result"
    }
   ],
   "source": [
    "agg = irr.aggregate_raters(anno_all)\n",
    "agg"
   ]
  },
  {
   "cell_type": "code",
   "execution_count": 142,
   "id": "4fd3bf59",
   "metadata": {},
   "outputs": [
    {
     "data": {
      "text/plain": [
       "0.12117977062934199"
      ]
     },
     "execution_count": 142,
     "metadata": {},
     "output_type": "execute_result"
    }
   ],
   "source": [
    "irr.fleiss_kappa(agg[0], method='fleiss')"
   ]
  },
  {
   "cell_type": "code",
   "execution_count": null,
   "id": "7f2abbff",
   "metadata": {},
   "outputs": [],
   "source": []
  }
 ],
 "metadata": {
  "kernelspec": {
   "display_name": "Python 3 (ipykernel)",
   "language": "python",
   "name": "python3"
  },
  "language_info": {
   "codemirror_mode": {
    "name": "ipython",
    "version": 3
   },
   "file_extension": ".py",
   "mimetype": "text/x-python",
   "name": "python",
   "nbconvert_exporter": "python",
   "pygments_lexer": "ipython3",
   "version": "3.10.6"
  }
 },
 "nbformat": 4,
 "nbformat_minor": 5
}
