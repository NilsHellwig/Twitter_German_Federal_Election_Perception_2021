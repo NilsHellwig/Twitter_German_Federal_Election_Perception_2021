{
 "cells": [
  {
   "cell_type": "markdown",
   "id": "7d027f1b",
   "metadata": {},
   "source": [
    "# Notebook: Calculate Agreement\n",
    "\n",
    "This notebook is used to calculate the inter-rater agreement using Krippendorf's Alpha.\n",
    "<br>**Contributors:** [Nils Hellwig](https://github.com/NilsHellwig/) | [Markus Bink](https://github.com/MarkusBink/)"
   ]
  },
  {
   "cell_type": "markdown",
   "id": "5ce848e0",
   "metadata": {},
   "source": [
    "## Packages"
   ]
  },
  {
   "cell_type": "code",
   "execution_count": 8,
   "id": "7a3ab732",
   "metadata": {},
   "outputs": [],
   "source": [
    "from statsmodels.stats import inter_rater as irr\n",
    "import krippendorff as kd\n",
    "import pandas as pd\n",
    "import numpy as np\n",
    "import glob\n",
    "import os"
   ]
  },
  {
   "cell_type": "markdown",
   "id": "15548d80",
   "metadata": {},
   "source": [
    "## Parameters"
   ]
  },
  {
   "cell_type": "code",
   "execution_count": 9,
   "id": "fbb929ba",
   "metadata": {},
   "outputs": [],
   "source": [
    "ANNOTATED_DATASET_PATH = \"../Datasets/annotated_dataset/\"\n",
    "LABEL_CODING = {'NEUTRAL': 3, 'NEGATIVE': 2, 'POSITIVE': 1, 'MIXED': 4}"
   ]
  },
  {
   "cell_type": "markdown",
   "id": "4a4be97f",
   "metadata": {},
   "source": [
    "## Code"
   ]
  },
  {
   "cell_type": "markdown",
   "id": "ad729756",
   "metadata": {},
   "source": [
    "### 1. Load Annotations"
   ]
  },
  {
   "cell_type": "code",
   "execution_count": 10,
   "id": "b0f88d92",
   "metadata": {},
   "outputs": [
    {
     "data": {
      "text/plain": [
       "['../Datasets/annotated_dataset/']"
      ]
     },
     "execution_count": 10,
     "metadata": {},
     "output_type": "execute_result"
    }
   ],
   "source": [
    "file_list = sorted(glob.glob(ANNOTATED_DATASET_PATH + \"*.xlsx\"))"
   ]
  },
  {
   "cell_type": "code",
   "execution_count": 11,
   "id": "1836feab-ff90-497a-807d-c20432ba5a57",
   "metadata": {},
   "outputs": [],
   "source": [
    "df_ann_1_session_1 = pd.read_excel(ANNOTATED_DATASET_PATH + \"tweets_session_1_1.xlsx\")\n",
    "df_ann_1_session_2 = pd.read_excel(ANNOTATED_DATASET_PATH + \"tweets_session_2_1.xlsx\")\n",
    "df_annotator_1 = pd.concat([df_ann_1_session_1, df_ann_1_session_2])\n",
    "df_annotator_1[\"sentiment\"] = df_annotator_1[\"sentiment\"]\n",
    "df_annotator_1.rename(columns={'sentiment': 'sentiment_1'}, inplace=True)\n",
    "df_annotator_1 = df_annotator_1.reset_index(drop=True)"
   ]
  },
  {
   "cell_type": "code",
   "execution_count": 12,
   "id": "ab65195c-acd6-4f5f-98b4-3172993ab856",
   "metadata": {},
   "outputs": [],
   "source": [
    "df_ann_2_session_1 = pd.read_excel(ANNOTATED_DATASET_PATH + \"tweets_session_1_2.xlsx\")\n",
    "df_ann_2_session_2 = pd.read_excel(ANNOTATED_DATASET_PATH + \"tweets_session_2_2.xlsx\")\n",
    "df_annotator_2 = pd.concat([df_ann_2_session_1, df_ann_2_session_2])\n",
    "df_annotator_2[\"sentiment\"] = df_annotator_2[\"sentiment\"]\n",
    "df_annotator_2.rename(columns={'sentiment': 'sentiment_2'}, inplace=True)\n",
    "df_annotator_2 = df_annotator_2.reset_index(drop=True)"
   ]
  },
  {
   "cell_type": "code",
   "execution_count": 13,
   "id": "ffd14790",
   "metadata": {},
   "outputs": [],
   "source": [
    "df_all_annotations = pd.concat([df_annotator_1[['id', 'sentiment_1']], df_annotator_2['sentiment_2']], axis=1).reset_index(drop=True)"
   ]
  },
  {
   "cell_type": "code",
   "execution_count": 14,
   "id": "f7ac9588-f0aa-43e2-a59c-745e33457cf1",
   "metadata": {},
   "outputs": [],
   "source": [
    "df_all_annotations['sentiment_1'] = df_all_annotations['sentiment_1'].map(LABEL_CODING)\n",
    "df_all_annotations['sentiment_2'] = df_all_annotations['sentiment_2'].map(LABEL_CODING)"
   ]
  },
  {
   "cell_type": "code",
   "execution_count": 15,
   "id": "4c46dd84-74b7-47da-bf57-f6869d7bb973",
   "metadata": {},
   "outputs": [
    {
     "data": {
      "text/html": [
       "<div>\n",
       "<style scoped>\n",
       "    .dataframe tbody tr th:only-of-type {\n",
       "        vertical-align: middle;\n",
       "    }\n",
       "\n",
       "    .dataframe tbody tr th {\n",
       "        vertical-align: top;\n",
       "    }\n",
       "\n",
       "    .dataframe thead th {\n",
       "        text-align: right;\n",
       "    }\n",
       "</style>\n",
       "<table border=\"1\" class=\"dataframe\">\n",
       "  <thead>\n",
       "    <tr style=\"text-align: right;\">\n",
       "      <th></th>\n",
       "      <th>id</th>\n",
       "      <th>sentiment_1</th>\n",
       "      <th>sentiment_2</th>\n",
       "    </tr>\n",
       "  </thead>\n",
       "  <tbody>\n",
       "  </tbody>\n",
       "</table>\n",
       "</div>"
      ],
      "text/plain": [
       "Empty DataFrame\n",
       "Columns: [id, sentiment_1, sentiment_2]\n",
       "Index: []"
      ]
     },
     "execution_count": 15,
     "metadata": {},
     "output_type": "execute_result"
    }
   ],
   "source": [
    "#df_all_annotations['sentiment_2'].unique()\n",
    "df_all_annotations[df_all_annotations['sentiment_2'].isnull()]"
   ]
  },
  {
   "cell_type": "code",
   "execution_count": 16,
   "id": "8956abc1-c7d4-435b-aeb6-30286b58d13b",
   "metadata": {},
   "outputs": [
    {
     "data": {
      "text/html": [
       "<div>\n",
       "<style scoped>\n",
       "    .dataframe tbody tr th:only-of-type {\n",
       "        vertical-align: middle;\n",
       "    }\n",
       "\n",
       "    .dataframe tbody tr th {\n",
       "        vertical-align: top;\n",
       "    }\n",
       "\n",
       "    .dataframe thead th {\n",
       "        text-align: right;\n",
       "    }\n",
       "</style>\n",
       "<table border=\"1\" class=\"dataframe\">\n",
       "  <thead>\n",
       "    <tr style=\"text-align: right;\">\n",
       "      <th></th>\n",
       "      <th>id</th>\n",
       "      <th>sentiment_1</th>\n",
       "      <th>sentiment_2</th>\n",
       "    </tr>\n",
       "  </thead>\n",
       "  <tbody>\n",
       "    <tr>\n",
       "      <th>0</th>\n",
       "      <td>1460589265759480064</td>\n",
       "      <td>2</td>\n",
       "      <td>4</td>\n",
       "    </tr>\n",
       "    <tr>\n",
       "      <th>1</th>\n",
       "      <td>1470141403045019904</td>\n",
       "      <td>3</td>\n",
       "      <td>2</td>\n",
       "    </tr>\n",
       "    <tr>\n",
       "      <th>2</th>\n",
       "      <td>1405950770466497024</td>\n",
       "      <td>3</td>\n",
       "      <td>3</td>\n",
       "    </tr>\n",
       "    <tr>\n",
       "      <th>3</th>\n",
       "      <td>1350126525220314880</td>\n",
       "      <td>3</td>\n",
       "      <td>3</td>\n",
       "    </tr>\n",
       "    <tr>\n",
       "      <th>4</th>\n",
       "      <td>1443988844500733952</td>\n",
       "      <td>2</td>\n",
       "      <td>2</td>\n",
       "    </tr>\n",
       "    <tr>\n",
       "      <th>...</th>\n",
       "      <td>...</td>\n",
       "      <td>...</td>\n",
       "      <td>...</td>\n",
       "    </tr>\n",
       "    <tr>\n",
       "      <th>1995</th>\n",
       "      <td>1400720644279504896</td>\n",
       "      <td>2</td>\n",
       "      <td>2</td>\n",
       "    </tr>\n",
       "    <tr>\n",
       "      <th>1996</th>\n",
       "      <td>1415980314871087104</td>\n",
       "      <td>3</td>\n",
       "      <td>3</td>\n",
       "    </tr>\n",
       "    <tr>\n",
       "      <th>1997</th>\n",
       "      <td>1419538832488374016</td>\n",
       "      <td>2</td>\n",
       "      <td>3</td>\n",
       "    </tr>\n",
       "    <tr>\n",
       "      <th>1998</th>\n",
       "      <td>1436026687548953088</td>\n",
       "      <td>3</td>\n",
       "      <td>3</td>\n",
       "    </tr>\n",
       "    <tr>\n",
       "      <th>1999</th>\n",
       "      <td>1373554396034966016</td>\n",
       "      <td>3</td>\n",
       "      <td>2</td>\n",
       "    </tr>\n",
       "  </tbody>\n",
       "</table>\n",
       "<p>2000 rows × 3 columns</p>\n",
       "</div>"
      ],
      "text/plain": [
       "                       id  sentiment_1  sentiment_2\n",
       "0     1460589265759480064            2            4\n",
       "1     1470141403045019904            3            2\n",
       "2     1405950770466497024            3            3\n",
       "3     1350126525220314880            3            3\n",
       "4     1443988844500733952            2            2\n",
       "...                   ...          ...          ...\n",
       "1995  1400720644279504896            2            2\n",
       "1996  1415980314871087104            3            3\n",
       "1997  1419538832488374016            2            3\n",
       "1998  1436026687548953088            3            3\n",
       "1999  1373554396034966016            3            2\n",
       "\n",
       "[2000 rows x 3 columns]"
      ]
     },
     "execution_count": 16,
     "metadata": {},
     "output_type": "execute_result"
    }
   ],
   "source": [
    "df_all_annotations"
   ]
  },
  {
   "cell_type": "code",
   "execution_count": 17,
   "id": "3ff4f0eb-ef93-45f8-9f90-c193954c4821",
   "metadata": {},
   "outputs": [
    {
     "data": {
      "text/plain": [
       "1674"
      ]
     },
     "execution_count": 17,
     "metadata": {},
     "output_type": "execute_result"
    }
   ],
   "source": [
    "equal_values = len(df_all_annotations[df_all_annotations['sentiment_1'] == df_all_annotations['sentiment_2']])\n",
    "equal_values"
   ]
  },
  {
   "cell_type": "markdown",
   "id": "41132cdc",
   "metadata": {},
   "source": [
    "### 2. Calculate Krippendorff's Alpha"
   ]
  },
  {
   "cell_type": "code",
   "execution_count": 18,
   "id": "febaaee0",
   "metadata": {},
   "outputs": [
    {
     "data": {
      "text/plain": [
       "0.7266937120270791"
      ]
     },
     "execution_count": 18,
     "metadata": {},
     "output_type": "execute_result"
    }
   ],
   "source": [
    "# Rows are the coders (annotators) # of coders\n",
    "# Columns are the individual items (sentiment of tweet) # of tweets\n",
    "value_counts = df_all_annotations.loc[:, df_all_annotations.columns != 'id']\n",
    "value_counts = value_counts.to_numpy().transpose()\n",
    "kd.alpha(reliability_data=value_counts, level_of_measurement=\"nominal\")"
   ]
  },
  {
   "cell_type": "markdown",
   "id": "b0235845",
   "metadata": {},
   "source": [
    "### 3. Calculate Fleiss' Kappa"
   ]
  },
  {
   "cell_type": "code",
   "execution_count": 19,
   "id": "269337c0",
   "metadata": {},
   "outputs": [],
   "source": [
    "agg = irr.aggregate_raters(df_all_annotations.loc[:, df_all_annotations.columns != 'id'])"
   ]
  },
  {
   "cell_type": "code",
   "execution_count": 20,
   "id": "4fd3bf59",
   "metadata": {},
   "outputs": [
    {
     "data": {
      "text/plain": [
       "0.7266253683691716"
      ]
     },
     "execution_count": 20,
     "metadata": {},
     "output_type": "execute_result"
    }
   ],
   "source": [
    "irr.fleiss_kappa(agg[0], method='fleiss')"
   ]
  }
 ],
 "metadata": {
  "kernelspec": {
   "display_name": "Python 3 (ipykernel)",
   "language": "python",
   "name": "python3"
  },
  "language_info": {
   "codemirror_mode": {
    "name": "ipython",
    "version": 3
   },
   "file_extension": ".py",
   "mimetype": "text/x-python",
   "name": "python",
   "nbconvert_exporter": "python",
   "pygments_lexer": "ipython3",
   "version": "3.10.8"
  }
 },
 "nbformat": 4,
 "nbformat_minor": 5
}
