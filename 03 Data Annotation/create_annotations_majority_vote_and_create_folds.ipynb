{
 "cells": [
  {
   "cell_type": "markdown",
   "id": "135291da-4c89-47df-ab74-fb35cddf02b5",
   "metadata": {},
   "source": [
    "# Notebook: Check Annotation Majority Vote and Create Folds\n",
    "\n",
    "This notebook is used to check which label was most often assigned to a tweet. At the end, train/test datasets (CSV) (5 folds) are created.\n",
    "<br>**Contributors:** [Nils Hellwig](https://github.com/NilsHellwig/) | [Markus Bink](https://github.com/MarkusBink/)"
   ]
  },
  {
   "cell_type": "markdown",
   "id": "bef44a48-f2a5-4cdc-9a89-085f35f9babd",
   "metadata": {},
   "source": [
    "## Packages"
   ]
  },
  {
   "cell_type": "code",
   "execution_count": 1,
   "id": "4880ab71-5a30-4568-b664-d554d4064fc5",
   "metadata": {},
   "outputs": [],
   "source": [
    "from collections import Counter\n",
    "import pandas as pd\n",
    "import glob"
   ]
  },
  {
   "cell_type": "markdown",
   "id": "50a1be8c-5c5e-4706-b174-a450261d43a1",
   "metadata": {},
   "source": [
    "## Parameters"
   ]
  },
  {
   "cell_type": "code",
   "execution_count": 2,
   "id": "3c066426-ecc9-421c-9483-864fc97fa563",
   "metadata": {},
   "outputs": [],
   "source": [
    "ANNOTATED_DATASET_PATH = \"../Datasets/annotated_dataset/*.xlsx\"\n",
    "SAVE_ANNOTATIONS_PATH = \"../Datasets/annotations.csv\""
   ]
  },
  {
   "cell_type": "markdown",
   "id": "88c5fbc5-f648-4c4b-b82a-1a9c87597fe2",
   "metadata": {},
   "source": [
    "## Code"
   ]
  },
  {
   "cell_type": "markdown",
   "id": "2d50d0f5-4c74-4ab5-9d82-32372457f8de",
   "metadata": {},
   "source": [
    "### 1. Load Annotations"
   ]
  },
  {
   "cell_type": "code",
   "execution_count": 3,
   "id": "ae497709-33c6-4a5a-9bb0-76c29a9aa1ec",
   "metadata": {},
   "outputs": [
    {
     "data": {
      "text/plain": [
       "['../Datasets/annotated_dataset/tweets_session_1_1.xlsx',\n",
       " '../Datasets/annotated_dataset/tweets_session_1_2.xlsx',\n",
       " '../Datasets/annotated_dataset/tweets_session_1_3.xlsx',\n",
       " '../Datasets/annotated_dataset/tweets_session_2_1.xlsx',\n",
       " '../Datasets/annotated_dataset/tweets_session_2_2.xlsx',\n",
       " '../Datasets/annotated_dataset/tweets_session_2_3.xlsx']"
      ]
     },
     "execution_count": 3,
     "metadata": {},
     "output_type": "execute_result"
    }
   ],
   "source": [
    "file_list = sorted(glob.glob(ANNOTATED_DATASET_PATH))\n",
    "file_list"
   ]
  },
  {
   "cell_type": "code",
   "execution_count": 4,
   "id": "66a07aac-fd0e-4122-9352-538582718b43",
   "metadata": {},
   "outputs": [],
   "source": [
    "df_all = pd.DataFrame()\n",
    "for file in file_list:\n",
    "    df = pd.read_excel(file)\n",
    "    df_all = pd.concat([df_all, df])"
   ]
  },
  {
   "cell_type": "markdown",
   "id": "2327dbaa-f5b3-47f5-b815-47c27a94301d",
   "metadata": {},
   "source": [
    "### 2. Add Function to Compare Annotations\n",
    "In the case that no majority of annotators have decided on a label, then `NO_MAJORITY` is set as the label."
   ]
  },
  {
   "cell_type": "code",
   "execution_count": 5,
   "id": "b61c5bc0-3505-4588-b90b-823c62d90dc7",
   "metadata": {},
   "outputs": [],
   "source": [
    "def get_majority(votes):\n",
    "    # Use the Counter class to count the frequency of each element\n",
    "    counter = Counter(votes)\n",
    "\n",
    "    # Get the most common element\n",
    "    most_common = counter.most_common(1)\n",
    "\n",
    "    # Check if the most common element was chosen by more than half of the annotators\n",
    "    if most_common[0][1] > (len(votes.to_numpy()) / 2):\n",
    "        # Return the most common element\n",
    "        return most_common[0][0]\n",
    "    else:\n",
    "        return \"NO_MAJORITY\""
   ]
  },
  {
   "cell_type": "code",
   "execution_count": 6,
   "id": "675ab308-7b5a-4fc0-ad0b-bb2af3d7fe0a",
   "metadata": {},
   "outputs": [],
   "source": [
    "annotated_df = df_all.groupby(['id', 'source_account', 'tweet'])['sentiment_label'].apply(lambda x: get_majority(x))\n",
    "annotated_df = annotated_df.reset_index()"
   ]
  },
  {
   "cell_type": "code",
   "execution_count": 7,
   "id": "ea94f39e-5776-40e0-b822-d331bb446064",
   "metadata": {},
   "outputs": [
    {
     "data": {
      "text/html": [
       "<div>\n",
       "<style scoped>\n",
       "    .dataframe tbody tr th:only-of-type {\n",
       "        vertical-align: middle;\n",
       "    }\n",
       "\n",
       "    .dataframe tbody tr th {\n",
       "        vertical-align: top;\n",
       "    }\n",
       "\n",
       "    .dataframe thead th {\n",
       "        text-align: right;\n",
       "    }\n",
       "</style>\n",
       "<table border=\"1\" class=\"dataframe\">\n",
       "  <thead>\n",
       "    <tr style=\"text-align: right;\">\n",
       "      <th></th>\n",
       "      <th>id</th>\n",
       "      <th>source_account</th>\n",
       "      <th>tweet</th>\n",
       "      <th>sentiment_label</th>\n",
       "    </tr>\n",
       "  </thead>\n",
       "  <tbody>\n",
       "    <tr>\n",
       "      <th>0</th>\n",
       "      <td>1345000784115552000</td>\n",
       "      <td>larsklingbeil</td>\n",
       "      <td>@JuliaMaiano @EskenSaskia @NowaboFM @spdde @Ol...</td>\n",
       "      <td>Negative</td>\n",
       "    </tr>\n",
       "    <tr>\n",
       "      <th>1</th>\n",
       "      <td>1345296806947779072</td>\n",
       "      <td>cducsubt</td>\n",
       "      <td>@JM_Luczak @Linksfraktion @cducsubt @MIT_bund ...</td>\n",
       "      <td>Negative</td>\n",
       "    </tr>\n",
       "    <tr>\n",
       "      <th>2</th>\n",
       "      <td>1345311824439348992</td>\n",
       "      <td>CDU</td>\n",
       "      <td>@Sarayatennis @_FriedrichMerz @CDU Das ist ja ...</td>\n",
       "      <td>Positive</td>\n",
       "    </tr>\n",
       "    <tr>\n",
       "      <th>3</th>\n",
       "      <td>1345330989275508992</td>\n",
       "      <td>CDU</td>\n",
       "      <td>@LeBoomio @theNeo42 @InRi5555 @n_roettgen @CDU...</td>\n",
       "      <td>Negative</td>\n",
       "    </tr>\n",
       "    <tr>\n",
       "      <th>4</th>\n",
       "      <td>1345336738328284928</td>\n",
       "      <td>CDU</td>\n",
       "      <td>@MickyBeisenherz @n_roettgen @_FriedrichMerz @...</td>\n",
       "      <td>Positive</td>\n",
       "    </tr>\n",
       "    <tr>\n",
       "      <th>...</th>\n",
       "      <td>...</td>\n",
       "      <td>...</td>\n",
       "      <td>...</td>\n",
       "      <td>...</td>\n",
       "    </tr>\n",
       "    <tr>\n",
       "      <th>1995</th>\n",
       "      <td>1476608889500185088</td>\n",
       "      <td>fdp</td>\n",
       "      <td>@JoelThuering @CDU @fdp Aber sonst geht es dir...</td>\n",
       "      <td>Positive</td>\n",
       "    </tr>\n",
       "    <tr>\n",
       "      <th>1996</th>\n",
       "      <td>1476626653577158912</td>\n",
       "      <td>fdp</td>\n",
       "      <td>@Chrissip81 @Judith__Sauer @fdp @_MartinHagen ...</td>\n",
       "      <td>Negative</td>\n",
       "    </tr>\n",
       "    <tr>\n",
       "      <th>1997</th>\n",
       "      <td>1476841285873020928</td>\n",
       "      <td>MarcoBuschmann</td>\n",
       "      <td>@MarcoBuschmann Ich habe mir gerade den Koalit...</td>\n",
       "      <td>Negative</td>\n",
       "    </tr>\n",
       "    <tr>\n",
       "      <th>1998</th>\n",
       "      <td>1476869223544667904</td>\n",
       "      <td>MarcoBuschmann</td>\n",
       "      <td>@MarcoBuschmann Dann macht es doch endlich bes...</td>\n",
       "      <td>Positive</td>\n",
       "    </tr>\n",
       "    <tr>\n",
       "      <th>1999</th>\n",
       "      <td>1477011345144954880</td>\n",
       "      <td>RenateKuenast</td>\n",
       "      <td>@RenateKuenast @cem_oezdemir Hoffentlich! Ich ...</td>\n",
       "      <td>Positive</td>\n",
       "    </tr>\n",
       "  </tbody>\n",
       "</table>\n",
       "<p>2000 rows × 4 columns</p>\n",
       "</div>"
      ],
      "text/plain": [
       "                       id  source_account  \\\n",
       "0     1345000784115552000   larsklingbeil   \n",
       "1     1345296806947779072        cducsubt   \n",
       "2     1345311824439348992             CDU   \n",
       "3     1345330989275508992             CDU   \n",
       "4     1345336738328284928             CDU   \n",
       "...                   ...             ...   \n",
       "1995  1476608889500185088             fdp   \n",
       "1996  1476626653577158912             fdp   \n",
       "1997  1476841285873020928  MarcoBuschmann   \n",
       "1998  1476869223544667904  MarcoBuschmann   \n",
       "1999  1477011345144954880   RenateKuenast   \n",
       "\n",
       "                                                  tweet sentiment_label  \n",
       "0     @JuliaMaiano @EskenSaskia @NowaboFM @spdde @Ol...        Negative  \n",
       "1     @JM_Luczak @Linksfraktion @cducsubt @MIT_bund ...        Negative  \n",
       "2     @Sarayatennis @_FriedrichMerz @CDU Das ist ja ...        Positive  \n",
       "3     @LeBoomio @theNeo42 @InRi5555 @n_roettgen @CDU...        Negative  \n",
       "4     @MickyBeisenherz @n_roettgen @_FriedrichMerz @...        Positive  \n",
       "...                                                 ...             ...  \n",
       "1995  @JoelThuering @CDU @fdp Aber sonst geht es dir...        Positive  \n",
       "1996  @Chrissip81 @Judith__Sauer @fdp @_MartinHagen ...        Negative  \n",
       "1997  @MarcoBuschmann Ich habe mir gerade den Koalit...        Negative  \n",
       "1998  @MarcoBuschmann Dann macht es doch endlich bes...        Positive  \n",
       "1999  @RenateKuenast @cem_oezdemir Hoffentlich! Ich ...        Positive  \n",
       "\n",
       "[2000 rows x 4 columns]"
      ]
     },
     "execution_count": 7,
     "metadata": {},
     "output_type": "execute_result"
    }
   ],
   "source": [
    "annotated_df"
   ]
  },
  {
   "cell_type": "markdown",
   "id": "bb3f834d-0188-4701-976c-ddc3b0699196",
   "metadata": {},
   "source": [
    "### 3. Filtering"
   ]
  },
  {
   "cell_type": "markdown",
   "id": "8223f376-2de5-441c-9265-60bbfa32c0bf",
   "metadata": {},
   "source": [
    "Filter annotations without majority (`NO_MAJORITY`)"
   ]
  },
  {
   "cell_type": "code",
   "execution_count": 8,
   "id": "91669060-68f4-482a-a866-f21746e28b3a",
   "metadata": {},
   "outputs": [],
   "source": [
    "annotated_df = annotated_df.loc[annotated_df['sentiment_label'] != 'NO_MAJORITY'].reset_index(drop=True)"
   ]
  },
  {
   "cell_type": "markdown",
   "id": "5f0b55c0-93fb-4e96-a7fb-124e854638c2",
   "metadata": {},
   "source": [
    "Filter annotations that were labeled as `MIXED` by the Majority"
   ]
  },
  {
   "cell_type": "code",
   "execution_count": 9,
   "id": "adb8e617-0abd-4ce6-985e-aab2ed233b16",
   "metadata": {},
   "outputs": [],
   "source": [
    "annotated_df = annotated_df.loc[annotated_df['sentiment_label'] != 'MIXED'].reset_index(drop=True)"
   ]
  },
  {
   "cell_type": "code",
   "execution_count": 10,
   "id": "28786288-f1b7-4786-aee9-1104292b5d7e",
   "metadata": {},
   "outputs": [
    {
     "data": {
      "text/html": [
       "<div>\n",
       "<style scoped>\n",
       "    .dataframe tbody tr th:only-of-type {\n",
       "        vertical-align: middle;\n",
       "    }\n",
       "\n",
       "    .dataframe tbody tr th {\n",
       "        vertical-align: top;\n",
       "    }\n",
       "\n",
       "    .dataframe thead th {\n",
       "        text-align: right;\n",
       "    }\n",
       "</style>\n",
       "<table border=\"1\" class=\"dataframe\">\n",
       "  <thead>\n",
       "    <tr style=\"text-align: right;\">\n",
       "      <th></th>\n",
       "      <th>id</th>\n",
       "      <th>source_account</th>\n",
       "      <th>tweet</th>\n",
       "      <th>sentiment_label</th>\n",
       "    </tr>\n",
       "  </thead>\n",
       "  <tbody>\n",
       "    <tr>\n",
       "      <th>0</th>\n",
       "      <td>1345000784115552000</td>\n",
       "      <td>larsklingbeil</td>\n",
       "      <td>@JuliaMaiano @EskenSaskia @NowaboFM @spdde @Ol...</td>\n",
       "      <td>Negative</td>\n",
       "    </tr>\n",
       "    <tr>\n",
       "      <th>1</th>\n",
       "      <td>1345296806947779072</td>\n",
       "      <td>cducsubt</td>\n",
       "      <td>@JM_Luczak @Linksfraktion @cducsubt @MIT_bund ...</td>\n",
       "      <td>Negative</td>\n",
       "    </tr>\n",
       "    <tr>\n",
       "      <th>2</th>\n",
       "      <td>1345311824439348992</td>\n",
       "      <td>CDU</td>\n",
       "      <td>@Sarayatennis @_FriedrichMerz @CDU Das ist ja ...</td>\n",
       "      <td>Positive</td>\n",
       "    </tr>\n",
       "    <tr>\n",
       "      <th>3</th>\n",
       "      <td>1345330989275508992</td>\n",
       "      <td>CDU</td>\n",
       "      <td>@LeBoomio @theNeo42 @InRi5555 @n_roettgen @CDU...</td>\n",
       "      <td>Negative</td>\n",
       "    </tr>\n",
       "    <tr>\n",
       "      <th>4</th>\n",
       "      <td>1345336738328284928</td>\n",
       "      <td>CDU</td>\n",
       "      <td>@MickyBeisenherz @n_roettgen @_FriedrichMerz @...</td>\n",
       "      <td>Positive</td>\n",
       "    </tr>\n",
       "    <tr>\n",
       "      <th>...</th>\n",
       "      <td>...</td>\n",
       "      <td>...</td>\n",
       "      <td>...</td>\n",
       "      <td>...</td>\n",
       "    </tr>\n",
       "    <tr>\n",
       "      <th>1994</th>\n",
       "      <td>1476608889500185088</td>\n",
       "      <td>fdp</td>\n",
       "      <td>@JoelThuering @CDU @fdp Aber sonst geht es dir...</td>\n",
       "      <td>Positive</td>\n",
       "    </tr>\n",
       "    <tr>\n",
       "      <th>1995</th>\n",
       "      <td>1476626653577158912</td>\n",
       "      <td>fdp</td>\n",
       "      <td>@Chrissip81 @Judith__Sauer @fdp @_MartinHagen ...</td>\n",
       "      <td>Negative</td>\n",
       "    </tr>\n",
       "    <tr>\n",
       "      <th>1996</th>\n",
       "      <td>1476841285873020928</td>\n",
       "      <td>MarcoBuschmann</td>\n",
       "      <td>@MarcoBuschmann Ich habe mir gerade den Koalit...</td>\n",
       "      <td>Negative</td>\n",
       "    </tr>\n",
       "    <tr>\n",
       "      <th>1997</th>\n",
       "      <td>1476869223544667904</td>\n",
       "      <td>MarcoBuschmann</td>\n",
       "      <td>@MarcoBuschmann Dann macht es doch endlich bes...</td>\n",
       "      <td>Positive</td>\n",
       "    </tr>\n",
       "    <tr>\n",
       "      <th>1998</th>\n",
       "      <td>1477011345144954880</td>\n",
       "      <td>RenateKuenast</td>\n",
       "      <td>@RenateKuenast @cem_oezdemir Hoffentlich! Ich ...</td>\n",
       "      <td>Positive</td>\n",
       "    </tr>\n",
       "  </tbody>\n",
       "</table>\n",
       "<p>1999 rows × 4 columns</p>\n",
       "</div>"
      ],
      "text/plain": [
       "                       id  source_account  \\\n",
       "0     1345000784115552000   larsklingbeil   \n",
       "1     1345296806947779072        cducsubt   \n",
       "2     1345311824439348992             CDU   \n",
       "3     1345330989275508992             CDU   \n",
       "4     1345336738328284928             CDU   \n",
       "...                   ...             ...   \n",
       "1994  1476608889500185088             fdp   \n",
       "1995  1476626653577158912             fdp   \n",
       "1996  1476841285873020928  MarcoBuschmann   \n",
       "1997  1476869223544667904  MarcoBuschmann   \n",
       "1998  1477011345144954880   RenateKuenast   \n",
       "\n",
       "                                                  tweet sentiment_label  \n",
       "0     @JuliaMaiano @EskenSaskia @NowaboFM @spdde @Ol...        Negative  \n",
       "1     @JM_Luczak @Linksfraktion @cducsubt @MIT_bund ...        Negative  \n",
       "2     @Sarayatennis @_FriedrichMerz @CDU Das ist ja ...        Positive  \n",
       "3     @LeBoomio @theNeo42 @InRi5555 @n_roettgen @CDU...        Negative  \n",
       "4     @MickyBeisenherz @n_roettgen @_FriedrichMerz @...        Positive  \n",
       "...                                                 ...             ...  \n",
       "1994  @JoelThuering @CDU @fdp Aber sonst geht es dir...        Positive  \n",
       "1995  @Chrissip81 @Judith__Sauer @fdp @_MartinHagen ...        Negative  \n",
       "1996  @MarcoBuschmann Ich habe mir gerade den Koalit...        Negative  \n",
       "1997  @MarcoBuschmann Dann macht es doch endlich bes...        Positive  \n",
       "1998  @RenateKuenast @cem_oezdemir Hoffentlich! Ich ...        Positive  \n",
       "\n",
       "[1999 rows x 4 columns]"
      ]
     },
     "execution_count": 10,
     "metadata": {},
     "output_type": "execute_result"
    }
   ],
   "source": [
    "annotated_df"
   ]
  },
  {
   "cell_type": "markdown",
   "id": "a0857dee-dfc3-40c5-ae39-15ef9ff56f72",
   "metadata": {},
   "source": [
    "### 4. Save Annotations"
   ]
  },
  {
   "cell_type": "code",
   "execution_count": 11,
   "id": "c7f7708a-b2eb-488c-9e68-a325464c062e",
   "metadata": {},
   "outputs": [],
   "source": [
    "annotated_df.to_csv(SAVE_ANNOTATIONS_PATH)"
   ]
  }
 ],
 "metadata": {
  "kernelspec": {
   "display_name": "Python 3 (ipykernel)",
   "language": "python",
   "name": "python3"
  },
  "language_info": {
   "codemirror_mode": {
    "name": "ipython",
    "version": 3
   },
   "file_extension": ".py",
   "mimetype": "text/x-python",
   "name": "python",
   "nbconvert_exporter": "python",
   "pygments_lexer": "ipython3",
   "version": "3.10.6"
  }
 },
 "nbformat": 4,
 "nbformat_minor": 5
}
