{
 "cells": [
  {
   "cell_type": "markdown",
   "id": "135291da-4c89-47df-ab74-fb35cddf02b5",
   "metadata": {},
   "source": [
    "# Notebook: Check Annotation Majority Vote and Create Folds\n",
    "\n",
    "This notebook is used to check which label was most often assigned to a tweet. At the end, train/test datasets (CSV) (5 folds) are created.\n",
    "<br>**Contributors:** [Nils Hellwig](https://github.com/NilsHellwig/) | [Markus Bink](https://github.com/MarkusBink/)"
   ]
  },
  {
   "cell_type": "markdown",
   "id": "bef44a48-f2a5-4cdc-9a89-085f35f9babd",
   "metadata": {},
   "source": [
    "## Packages"
   ]
  },
  {
   "cell_type": "code",
   "execution_count": 1,
   "id": "4880ab71-5a30-4568-b664-d554d4064fc5",
   "metadata": {},
   "outputs": [],
   "source": [
    "from sklearn.model_selection import StratifiedKFold\n",
    "from collections import Counter\n",
    "import pandas as pd\n",
    "import glob\n",
    "import os"
   ]
  },
  {
   "cell_type": "markdown",
   "id": "50a1be8c-5c5e-4706-b174-a450261d43a1",
   "metadata": {},
   "source": [
    "## Parameters"
   ]
  },
  {
   "cell_type": "code",
   "execution_count": 2,
   "id": "3c066426-ecc9-421c-9483-864fc97fa563",
   "metadata": {},
   "outputs": [],
   "source": [
    "ANNOTATED_DATASET_PATH = \"../Datasets/annotated_dataset/*.xlsx\"\n",
    "SAVE_ANNOTATIONS_PATH = \"../Datasets/annotations_matched_filtered.csv\"\n",
    "SPLIT_PATH = \"../Datasets/k_fold_splits\"\n",
    "SEED_VALUE = 0\n",
    "N_SPLITS = 5"
   ]
  },
  {
   "cell_type": "markdown",
   "id": "88c5fbc5-f648-4c4b-b82a-1a9c87597fe2",
   "metadata": {},
   "source": [
    "## Code"
   ]
  },
  {
   "cell_type": "markdown",
   "id": "2d50d0f5-4c74-4ab5-9d82-32372457f8de",
   "metadata": {},
   "source": [
    "### 1. Load Annotations"
   ]
  },
  {
   "cell_type": "code",
   "execution_count": 3,
   "id": "ae497709-33c6-4a5a-9bb0-76c29a9aa1ec",
   "metadata": {},
   "outputs": [
    {
     "data": {
      "text/plain": [
       "['../Datasets/annotated_dataset/tweets_session_1_1.xlsx',\n",
       " '../Datasets/annotated_dataset/tweets_session_1_2.xlsx',\n",
       " '../Datasets/annotated_dataset/tweets_session_1_3.xlsx',\n",
       " '../Datasets/annotated_dataset/tweets_session_2_1.xlsx',\n",
       " '../Datasets/annotated_dataset/tweets_session_2_2.xlsx',\n",
       " '../Datasets/annotated_dataset/tweets_session_2_3.xlsx']"
      ]
     },
     "execution_count": 3,
     "metadata": {},
     "output_type": "execute_result"
    }
   ],
   "source": [
    "file_list = sorted(glob.glob(ANNOTATED_DATASET_PATH))\n",
    "file_list"
   ]
  },
  {
   "cell_type": "code",
   "execution_count": 4,
   "id": "66a07aac-fd0e-4122-9352-538582718b43",
   "metadata": {},
   "outputs": [],
   "source": [
    "df_all = pd.DataFrame()\n",
    "for file in file_list:\n",
    "    df = pd.read_excel(file)\n",
    "    df_all = pd.concat([df_all, df])"
   ]
  },
  {
   "cell_type": "markdown",
   "id": "2327dbaa-f5b3-47f5-b815-47c27a94301d",
   "metadata": {},
   "source": [
    "### 2. Add Function to Compare Annotations\n",
    "In the case that no majority of annotators have decided on a label, then `NO_MAJORITY` is set as the label."
   ]
  },
  {
   "cell_type": "code",
   "execution_count": 5,
   "id": "b61c5bc0-3505-4588-b90b-823c62d90dc7",
   "metadata": {},
   "outputs": [],
   "source": [
    "def get_majority(votes):\n",
    "    # Use the Counter class to count the frequency of each label\n",
    "    counter = Counter(votes)\n",
    "\n",
    "    # Get the most common label\n",
    "    most_common = counter.most_common(1)\n",
    "\n",
    "    # Check if the most common label was chosen by more than half of the annotators\n",
    "    if most_common[0][1] > (len(votes.to_numpy()) / 2):\n",
    "        # Return the most common label\n",
    "        return most_common[0][0]\n",
    "    else:\n",
    "        return \"NO_MAJORITY\""
   ]
  },
  {
   "cell_type": "code",
   "execution_count": 6,
   "id": "675ab308-7b5a-4fc0-ad0b-bb2af3d7fe0a",
   "metadata": {},
   "outputs": [],
   "source": [
    "annotated_df = df_all.groupby(['id', 'source_account', 'source_party', 'tweet'])['sentiment'].apply(lambda x: get_majority(x))\n",
    "annotated_df = annotated_df.reset_index()"
   ]
  },
  {
   "cell_type": "code",
   "execution_count": 7,
   "id": "ea94f39e-5776-40e0-b822-d331bb446064",
   "metadata": {},
   "outputs": [
    {
     "data": {
      "text/html": [
       "<div>\n",
       "<style scoped>\n",
       "    .dataframe tbody tr th:only-of-type {\n",
       "        vertical-align: middle;\n",
       "    }\n",
       "\n",
       "    .dataframe tbody tr th {\n",
       "        vertical-align: top;\n",
       "    }\n",
       "\n",
       "    .dataframe thead th {\n",
       "        text-align: right;\n",
       "    }\n",
       "</style>\n",
       "<table border=\"1\" class=\"dataframe\">\n",
       "  <thead>\n",
       "    <tr style=\"text-align: right;\">\n",
       "      <th></th>\n",
       "      <th>id</th>\n",
       "      <th>source_account</th>\n",
       "      <th>source_party</th>\n",
       "      <th>tweet</th>\n",
       "      <th>sentiment</th>\n",
       "    </tr>\n",
       "  </thead>\n",
       "  <tbody>\n",
       "    <tr>\n",
       "      <th>0</th>\n",
       "      <td>1345053831080641024</td>\n",
       "      <td>larsklingbeil</td>\n",
       "      <td>SPD</td>\n",
       "      <td>@EskenSaskia @NowaboFM @spdde @OlafScholz @spd...</td>\n",
       "      <td>NEGATIVE</td>\n",
       "    </tr>\n",
       "    <tr>\n",
       "      <th>1</th>\n",
       "      <td>1345288989541076992</td>\n",
       "      <td>CDU</td>\n",
       "      <td>CDU_CSU</td>\n",
       "      <td>@MBiadaczMdB @CDU @cducsubt Das entspricht mei...</td>\n",
       "      <td>POSITIVE</td>\n",
       "    </tr>\n",
       "    <tr>\n",
       "      <th>2</th>\n",
       "      <td>1345337052557156096</td>\n",
       "      <td>CDU</td>\n",
       "      <td>CDU_CSU</td>\n",
       "      <td>@rRockxter @europeika @CDU Was hat denn die CD...</td>\n",
       "      <td>NEUTRAL</td>\n",
       "    </tr>\n",
       "    <tr>\n",
       "      <th>3</th>\n",
       "      <td>1345418571627834880</td>\n",
       "      <td>Linksfraktion</td>\n",
       "      <td>LINKE</td>\n",
       "      <td>@Linksfraktion @jankortemdb Spahn hat genau da...</td>\n",
       "      <td>NEUTRAL</td>\n",
       "    </tr>\n",
       "    <tr>\n",
       "      <th>4</th>\n",
       "      <td>1345428053053349888</td>\n",
       "      <td>CDU</td>\n",
       "      <td>CDU_CSU</td>\n",
       "      <td>@JM_Luczak @jensspahn @cducsubt @csu_bt @CDU @...</td>\n",
       "      <td>NEGATIVE</td>\n",
       "    </tr>\n",
       "    <tr>\n",
       "      <th>...</th>\n",
       "      <td>...</td>\n",
       "      <td>...</td>\n",
       "      <td>...</td>\n",
       "      <td>...</td>\n",
       "      <td>...</td>\n",
       "    </tr>\n",
       "    <tr>\n",
       "      <th>1995</th>\n",
       "      <td>1475957960308310016</td>\n",
       "      <td>cem_oezdemir</td>\n",
       "      <td>GRUENE</td>\n",
       "      <td>@TopcuElmas @cem_oezdemir Wenn sie sich die bi...</td>\n",
       "      <td>NEUTRAL</td>\n",
       "    </tr>\n",
       "    <tr>\n",
       "      <th>1996</th>\n",
       "      <td>1476247864967930112</td>\n",
       "      <td>CDU</td>\n",
       "      <td>CDU_CSU</td>\n",
       "      <td>@MikeSchuster_ @_FriedrichMerz @CDU hat er wie...</td>\n",
       "      <td>NEGATIVE</td>\n",
       "    </tr>\n",
       "    <tr>\n",
       "      <th>1997</th>\n",
       "      <td>1476485257243374080</td>\n",
       "      <td>fdp</td>\n",
       "      <td>FDP</td>\n",
       "      <td>@Judith__Sauer @fdp FDP = Erigierungspartei</td>\n",
       "      <td>NEUTRAL</td>\n",
       "    </tr>\n",
       "    <tr>\n",
       "      <th>1998</th>\n",
       "      <td>1476525854264069888</td>\n",
       "      <td>JoanaCotar</td>\n",
       "      <td>AFD</td>\n",
       "      <td>@JoanaCotar Ist es strafbar, wenn man sie als ...</td>\n",
       "      <td>NEGATIVE</td>\n",
       "    </tr>\n",
       "    <tr>\n",
       "      <th>1999</th>\n",
       "      <td>1476889164146688000</td>\n",
       "      <td>MarcoBuschmann</td>\n",
       "      <td>FDP</td>\n",
       "      <td>@MarcoBuschmann Was ist das für ein Geschwurbe...</td>\n",
       "      <td>NEGATIVE</td>\n",
       "    </tr>\n",
       "  </tbody>\n",
       "</table>\n",
       "<p>2000 rows × 5 columns</p>\n",
       "</div>"
      ],
      "text/plain": [
       "                       id  source_account source_party  \\\n",
       "0     1345053831080641024   larsklingbeil          SPD   \n",
       "1     1345288989541076992             CDU      CDU_CSU   \n",
       "2     1345337052557156096             CDU      CDU_CSU   \n",
       "3     1345418571627834880   Linksfraktion        LINKE   \n",
       "4     1345428053053349888             CDU      CDU_CSU   \n",
       "...                   ...             ...          ...   \n",
       "1995  1475957960308310016    cem_oezdemir       GRUENE   \n",
       "1996  1476247864967930112             CDU      CDU_CSU   \n",
       "1997  1476485257243374080             fdp          FDP   \n",
       "1998  1476525854264069888      JoanaCotar          AFD   \n",
       "1999  1476889164146688000  MarcoBuschmann          FDP   \n",
       "\n",
       "                                                  tweet sentiment  \n",
       "0     @EskenSaskia @NowaboFM @spdde @OlafScholz @spd...  NEGATIVE  \n",
       "1     @MBiadaczMdB @CDU @cducsubt Das entspricht mei...  POSITIVE  \n",
       "2     @rRockxter @europeika @CDU Was hat denn die CD...   NEUTRAL  \n",
       "3     @Linksfraktion @jankortemdb Spahn hat genau da...   NEUTRAL  \n",
       "4     @JM_Luczak @jensspahn @cducsubt @csu_bt @CDU @...  NEGATIVE  \n",
       "...                                                 ...       ...  \n",
       "1995  @TopcuElmas @cem_oezdemir Wenn sie sich die bi...   NEUTRAL  \n",
       "1996  @MikeSchuster_ @_FriedrichMerz @CDU hat er wie...  NEGATIVE  \n",
       "1997        @Judith__Sauer @fdp FDP = Erigierungspartei   NEUTRAL  \n",
       "1998  @JoanaCotar Ist es strafbar, wenn man sie als ...  NEGATIVE  \n",
       "1999  @MarcoBuschmann Was ist das für ein Geschwurbe...  NEGATIVE  \n",
       "\n",
       "[2000 rows x 5 columns]"
      ]
     },
     "execution_count": 7,
     "metadata": {},
     "output_type": "execute_result"
    }
   ],
   "source": [
    "annotated_df"
   ]
  },
  {
   "cell_type": "markdown",
   "id": "bb3f834d-0188-4701-976c-ddc3b0699196",
   "metadata": {},
   "source": [
    "### 3. Filtering"
   ]
  },
  {
   "cell_type": "markdown",
   "id": "8223f376-2de5-441c-9265-60bbfa32c0bf",
   "metadata": {},
   "source": [
    "Filter annotations without majority (`NO_MAJORITY`)"
   ]
  },
  {
   "cell_type": "code",
   "execution_count": 8,
   "id": "91669060-68f4-482a-a866-f21746e28b3a",
   "metadata": {},
   "outputs": [],
   "source": [
    "annotated_df = annotated_df.loc[annotated_df['sentiment'] != 'NO_MAJORITY'].reset_index(drop=True)"
   ]
  },
  {
   "cell_type": "markdown",
   "id": "5f0b55c0-93fb-4e96-a7fb-124e854638c2",
   "metadata": {},
   "source": [
    "Filter annotations that were labeled as `MIXED` by the Majority"
   ]
  },
  {
   "cell_type": "code",
   "execution_count": 9,
   "id": "adb8e617-0abd-4ce6-985e-aab2ed233b16",
   "metadata": {},
   "outputs": [],
   "source": [
    "annotated_df = annotated_df.loc[annotated_df['sentiment'] != 'MIXED'].reset_index(drop=True)"
   ]
  },
  {
   "cell_type": "code",
   "execution_count": 10,
   "id": "28786288-f1b7-4786-aee9-1104292b5d7e",
   "metadata": {},
   "outputs": [
    {
     "data": {
      "text/html": [
       "<div>\n",
       "<style scoped>\n",
       "    .dataframe tbody tr th:only-of-type {\n",
       "        vertical-align: middle;\n",
       "    }\n",
       "\n",
       "    .dataframe tbody tr th {\n",
       "        vertical-align: top;\n",
       "    }\n",
       "\n",
       "    .dataframe thead th {\n",
       "        text-align: right;\n",
       "    }\n",
       "</style>\n",
       "<table border=\"1\" class=\"dataframe\">\n",
       "  <thead>\n",
       "    <tr style=\"text-align: right;\">\n",
       "      <th></th>\n",
       "      <th>id</th>\n",
       "      <th>source_account</th>\n",
       "      <th>source_party</th>\n",
       "      <th>tweet</th>\n",
       "      <th>sentiment</th>\n",
       "    </tr>\n",
       "  </thead>\n",
       "  <tbody>\n",
       "    <tr>\n",
       "      <th>0</th>\n",
       "      <td>1345053831080641024</td>\n",
       "      <td>larsklingbeil</td>\n",
       "      <td>SPD</td>\n",
       "      <td>@EskenSaskia @NowaboFM @spdde @OlafScholz @spd...</td>\n",
       "      <td>NEGATIVE</td>\n",
       "    </tr>\n",
       "    <tr>\n",
       "      <th>1</th>\n",
       "      <td>1345288989541076992</td>\n",
       "      <td>CDU</td>\n",
       "      <td>CDU_CSU</td>\n",
       "      <td>@MBiadaczMdB @CDU @cducsubt Das entspricht mei...</td>\n",
       "      <td>POSITIVE</td>\n",
       "    </tr>\n",
       "    <tr>\n",
       "      <th>2</th>\n",
       "      <td>1345337052557156096</td>\n",
       "      <td>CDU</td>\n",
       "      <td>CDU_CSU</td>\n",
       "      <td>@rRockxter @europeika @CDU Was hat denn die CD...</td>\n",
       "      <td>NEUTRAL</td>\n",
       "    </tr>\n",
       "    <tr>\n",
       "      <th>3</th>\n",
       "      <td>1345418571627834880</td>\n",
       "      <td>Linksfraktion</td>\n",
       "      <td>LINKE</td>\n",
       "      <td>@Linksfraktion @jankortemdb Spahn hat genau da...</td>\n",
       "      <td>NEUTRAL</td>\n",
       "    </tr>\n",
       "    <tr>\n",
       "      <th>4</th>\n",
       "      <td>1345428053053349888</td>\n",
       "      <td>CDU</td>\n",
       "      <td>CDU_CSU</td>\n",
       "      <td>@JM_Luczak @jensspahn @cducsubt @csu_bt @CDU @...</td>\n",
       "      <td>NEGATIVE</td>\n",
       "    </tr>\n",
       "    <tr>\n",
       "      <th>...</th>\n",
       "      <td>...</td>\n",
       "      <td>...</td>\n",
       "      <td>...</td>\n",
       "      <td>...</td>\n",
       "      <td>...</td>\n",
       "    </tr>\n",
       "    <tr>\n",
       "      <th>1868</th>\n",
       "      <td>1475957960308310016</td>\n",
       "      <td>cem_oezdemir</td>\n",
       "      <td>GRUENE</td>\n",
       "      <td>@TopcuElmas @cem_oezdemir Wenn sie sich die bi...</td>\n",
       "      <td>NEUTRAL</td>\n",
       "    </tr>\n",
       "    <tr>\n",
       "      <th>1869</th>\n",
       "      <td>1476247864967930112</td>\n",
       "      <td>CDU</td>\n",
       "      <td>CDU_CSU</td>\n",
       "      <td>@MikeSchuster_ @_FriedrichMerz @CDU hat er wie...</td>\n",
       "      <td>NEGATIVE</td>\n",
       "    </tr>\n",
       "    <tr>\n",
       "      <th>1870</th>\n",
       "      <td>1476485257243374080</td>\n",
       "      <td>fdp</td>\n",
       "      <td>FDP</td>\n",
       "      <td>@Judith__Sauer @fdp FDP = Erigierungspartei</td>\n",
       "      <td>NEUTRAL</td>\n",
       "    </tr>\n",
       "    <tr>\n",
       "      <th>1871</th>\n",
       "      <td>1476525854264069888</td>\n",
       "      <td>JoanaCotar</td>\n",
       "      <td>AFD</td>\n",
       "      <td>@JoanaCotar Ist es strafbar, wenn man sie als ...</td>\n",
       "      <td>NEGATIVE</td>\n",
       "    </tr>\n",
       "    <tr>\n",
       "      <th>1872</th>\n",
       "      <td>1476889164146688000</td>\n",
       "      <td>MarcoBuschmann</td>\n",
       "      <td>FDP</td>\n",
       "      <td>@MarcoBuschmann Was ist das für ein Geschwurbe...</td>\n",
       "      <td>NEGATIVE</td>\n",
       "    </tr>\n",
       "  </tbody>\n",
       "</table>\n",
       "<p>1873 rows × 5 columns</p>\n",
       "</div>"
      ],
      "text/plain": [
       "                       id  source_account source_party  \\\n",
       "0     1345053831080641024   larsklingbeil          SPD   \n",
       "1     1345288989541076992             CDU      CDU_CSU   \n",
       "2     1345337052557156096             CDU      CDU_CSU   \n",
       "3     1345418571627834880   Linksfraktion        LINKE   \n",
       "4     1345428053053349888             CDU      CDU_CSU   \n",
       "...                   ...             ...          ...   \n",
       "1868  1475957960308310016    cem_oezdemir       GRUENE   \n",
       "1869  1476247864967930112             CDU      CDU_CSU   \n",
       "1870  1476485257243374080             fdp          FDP   \n",
       "1871  1476525854264069888      JoanaCotar          AFD   \n",
       "1872  1476889164146688000  MarcoBuschmann          FDP   \n",
       "\n",
       "                                                  tweet sentiment  \n",
       "0     @EskenSaskia @NowaboFM @spdde @OlafScholz @spd...  NEGATIVE  \n",
       "1     @MBiadaczMdB @CDU @cducsubt Das entspricht mei...  POSITIVE  \n",
       "2     @rRockxter @europeika @CDU Was hat denn die CD...   NEUTRAL  \n",
       "3     @Linksfraktion @jankortemdb Spahn hat genau da...   NEUTRAL  \n",
       "4     @JM_Luczak @jensspahn @cducsubt @csu_bt @CDU @...  NEGATIVE  \n",
       "...                                                 ...       ...  \n",
       "1868  @TopcuElmas @cem_oezdemir Wenn sie sich die bi...   NEUTRAL  \n",
       "1869  @MikeSchuster_ @_FriedrichMerz @CDU hat er wie...  NEGATIVE  \n",
       "1870        @Judith__Sauer @fdp FDP = Erigierungspartei   NEUTRAL  \n",
       "1871  @JoanaCotar Ist es strafbar, wenn man sie als ...  NEGATIVE  \n",
       "1872  @MarcoBuschmann Was ist das für ein Geschwurbe...  NEGATIVE  \n",
       "\n",
       "[1873 rows x 5 columns]"
      ]
     },
     "execution_count": 10,
     "metadata": {},
     "output_type": "execute_result"
    }
   ],
   "source": [
    "annotated_df"
   ]
  },
  {
   "cell_type": "code",
   "execution_count": 11,
   "id": "266b11ba-599d-4a30-a49f-a7648679f4c0",
   "metadata": {},
   "outputs": [],
   "source": [
    "annotated_df = annotated_df.sample(frac=1, random_state=SEED_VALUE).reset_index(drop=True)"
   ]
  },
  {
   "cell_type": "markdown",
   "id": "a0857dee-dfc3-40c5-ae39-15ef9ff56f72",
   "metadata": {},
   "source": [
    "### 4. Save Annotations"
   ]
  },
  {
   "cell_type": "code",
   "execution_count": 12,
   "id": "c7f7708a-b2eb-488c-9e68-a325464c062e",
   "metadata": {},
   "outputs": [],
   "source": [
    "annotated_df.to_csv(SAVE_ANNOTATIONS_PATH)"
   ]
  },
  {
   "cell_type": "markdown",
   "id": "ef393320-2761-471a-9cc2-29a04e025457",
   "metadata": {},
   "source": [
    "### 5. Create Folds"
   ]
  },
  {
   "cell_type": "code",
   "execution_count": 13,
   "id": "4f78f270-2444-483e-bdbc-eb7dda4bdfec",
   "metadata": {},
   "outputs": [],
   "source": [
    "def create_fold_split_dir(index:str):\n",
    "    # Try to create the directory for the split\n",
    "    try:\n",
    "        os.makedirs(SPLIT_PATH + \"/TRAIN_TEST_\" + str(index))\n",
    "    except FileExistsError:\n",
    "        # The directory already exists, so do nothing\n",
    "        pass"
   ]
  },
  {
   "cell_type": "code",
   "execution_count": 14,
   "id": "fed6ca88-185d-46b4-946e-05d82bcf724b",
   "metadata": {},
   "outputs": [],
   "source": [
    "# Split the data into features and target\n",
    "X = annotated_df.drop('sentiment', axis=1)\n",
    "y = annotated_df['sentiment']"
   ]
  },
  {
   "cell_type": "code",
   "execution_count": 15,
   "id": "3286d390-54e5-4397-a03b-59ea1f9d40a5",
   "metadata": {},
   "outputs": [
    {
     "name": "stdout",
     "output_type": "stream",
     "text": [
      "1498 375\n",
      "1498 375\n",
      "1498 375\n",
      "1499 374\n",
      "1499 374\n"
     ]
    }
   ],
   "source": [
    "# Create a KFold object with 5 folds\n",
    "kf = StratifiedKFold(n_splits=N_SPLITS, random_state=SEED_VALUE, shuffle=True)\n",
    "\n",
    "# Iterate over the folds\n",
    "for i, (train_index, test_index) in enumerate(kf.split(X, y)):\n",
    "    create_fold_split_dir(index=i)\n",
    "    # Split the data into train and test sets\n",
    "    X_train, X_test = X.iloc[train_index], X.iloc[test_index]\n",
    "    y_train, y_test = y.iloc[train_index], y.iloc[test_index]\n",
    "    print(X_train.shape[0], X_test.shape[0])\n",
    "    \n",
    "    # Save the train set to a CSV file\n",
    "    train_df = pd.concat([X_train, y_train], axis=1)\n",
    "    train_df.to_csv(f'{SPLIT_PATH + \"/TRAIN_TEST_\" + str(i)}/train.csv', index=False)\n",
    "    \n",
    "    # Save the test set to a CSV file\n",
    "    test_df = pd.concat([X_test, y_test], axis=1)\n",
    "    test_df.to_csv(f'{SPLIT_PATH + \"/TRAIN_TEST_\" + str(i)}/test.csv', index=False)\n"
   ]
  }
 ],
 "metadata": {
  "kernelspec": {
   "display_name": "Python 3 (ipykernel)",
   "language": "python",
   "name": "python3"
  },
  "language_info": {
   "codemirror_mode": {
    "name": "ipython",
    "version": 3
   },
   "file_extension": ".py",
   "mimetype": "text/x-python",
   "name": "python",
   "nbconvert_exporter": "python",
   "pygments_lexer": "ipython3",
   "version": "3.10.8"
  }
 },
 "nbformat": 4,
 "nbformat_minor": 5
}
