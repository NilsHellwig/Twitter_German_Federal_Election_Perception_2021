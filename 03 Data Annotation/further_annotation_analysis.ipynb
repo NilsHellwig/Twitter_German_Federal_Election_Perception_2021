{
 "cells": [
  {
   "cell_type": "markdown",
   "id": "7d027f1b",
   "metadata": {},
   "source": [
    "# Notebook: Calculate Agreement\n",
    "\n",
    "This notebook is used to calculate the inter-rater agreement using Krippendorf's Alpha.\n",
    "<br>**Contributors:** [Nils Hellwig](https://github.com/NilsHellwig/) | [Markus Bink](https://github.com/MarkusBink/)"
   ]
  },
  {
   "cell_type": "markdown",
   "id": "5ce848e0",
   "metadata": {},
   "source": [
    "## Packages"
   ]
  },
  {
   "cell_type": "code",
   "execution_count": 1,
   "id": "7a3ab732",
   "metadata": {},
   "outputs": [],
   "source": [
    "from statsmodels.stats import inter_rater as irr\n",
    "import krippendorff as kd\n",
    "import pandas as pd\n",
    "import numpy as np\n",
    "import glob\n",
    "import os"
   ]
  },
  {
   "cell_type": "markdown",
   "id": "15548d80",
   "metadata": {},
   "source": [
    "## Parameters"
   ]
  },
  {
   "cell_type": "code",
   "execution_count": 2,
   "id": "fbb929ba",
   "metadata": {},
   "outputs": [],
   "source": [
    "ANNOTATED_DATASET_PATH = \"../Datasets/annotated_dataset/\"\n",
    "LABEL_CODING = {'NEUTRAL': 3, 'NEGATIVE': 2, 'POSITIVE': 1, 'MIXED': 4}"
   ]
  },
  {
   "cell_type": "markdown",
   "id": "7f2c249e-4aeb-41a4-abb2-b1810569ce52",
   "metadata": {},
   "source": [
    "## Settings"
   ]
  },
  {
   "cell_type": "code",
   "execution_count": 3,
   "id": "08c06896-46b7-4cda-836b-c323dacca8ff",
   "metadata": {},
   "outputs": [],
   "source": [
    "pd.options.display.max_colwidth = 1000"
   ]
  },
  {
   "cell_type": "markdown",
   "id": "4a4be97f",
   "metadata": {},
   "source": [
    "## Code"
   ]
  },
  {
   "cell_type": "markdown",
   "id": "ad729756",
   "metadata": {},
   "source": [
    "### 1. Load Annotations"
   ]
  },
  {
   "cell_type": "code",
   "execution_count": 4,
   "id": "b0f88d92",
   "metadata": {},
   "outputs": [],
   "source": [
    "file_list = sorted(glob.glob(ANNOTATED_DATASET_PATH + \"*.xlsx\"))"
   ]
  },
  {
   "cell_type": "code",
   "execution_count": 5,
   "id": "1836feab-ff90-497a-807d-c20432ba5a57",
   "metadata": {},
   "outputs": [],
   "source": [
    "# read and concatenate annotator 1's session 1 and 2 data\n",
    "df_annotator_1 = pd.concat([\n",
    "    pd.read_excel(ANNOTATED_DATASET_PATH + \"tweets_session_1_1.xlsx\"),\n",
    "    pd.read_excel(ANNOTATED_DATASET_PATH + \"tweets_session_2_1.xlsx\")\n",
    "])"
   ]
  },
  {
   "cell_type": "code",
   "execution_count": 6,
   "id": "ab65195c-acd6-4f5f-98b4-3172993ab856",
   "metadata": {},
   "outputs": [],
   "source": [
    "# rename sentiment column and recode labels\n",
    "df_annotator_1.rename(columns={'sentiment': 'sentiment_1'}, inplace=True)\n",
    "df_annotator_1['sentiment_1'] = df_annotator_1['sentiment_1'].map(LABEL_CODING)"
   ]
  },
  {
   "cell_type": "code",
   "execution_count": 7,
   "id": "ffd14790",
   "metadata": {},
   "outputs": [],
   "source": [
    "# read and concatenate annotator 2's session 1 and 2 data\n",
    "df_annotator_2 = pd.concat([\n",
    "    pd.read_excel(ANNOTATED_DATASET_PATH + \"tweets_session_1_2.xlsx\"),\n",
    "    pd.read_excel(ANNOTATED_DATASET_PATH + \"tweets_session_2_2.xlsx\")\n",
    "])"
   ]
  },
  {
   "cell_type": "code",
   "execution_count": 8,
   "id": "f7ac9588-f0aa-43e2-a59c-745e33457cf1",
   "metadata": {},
   "outputs": [],
   "source": [
    "# rename sentiment column and recode labels\n",
    "df_annotator_2.rename(columns={'sentiment': 'sentiment_2'}, inplace=True)\n",
    "df_annotator_2['sentiment_2'] = df_annotator_2['sentiment_2'].map(LABEL_CODING)"
   ]
  },
  {
   "cell_type": "code",
   "execution_count": 9,
   "id": "c4581334-b1ac-447d-bc8a-aee404fef772",
   "metadata": {},
   "outputs": [],
   "source": [
    "# read and concatenate annotator 2's session 1 and 2 data\n",
    "df_annotator_3 = pd.concat([\n",
    "    pd.read_excel(ANNOTATED_DATASET_PATH + \"tweets_session_1_3.xlsx\"),\n",
    "    pd.read_excel(ANNOTATED_DATASET_PATH + \"tweets_session_2_3.xlsx\")\n",
    "])"
   ]
  },
  {
   "cell_type": "code",
   "execution_count": 10,
   "id": "7272fc05-ac11-42d0-bea8-7412eac5f2f2",
   "metadata": {},
   "outputs": [],
   "source": [
    "# rename sentiment column and recode labels\n",
    "df_annotator_3.rename(columns={'sentiment': 'sentiment_3'}, inplace=True)\n",
    "df_annotator_3['sentiment_3'] = df_annotator_3['sentiment_3'].map(LABEL_CODING)"
   ]
  },
  {
   "cell_type": "code",
   "execution_count": 11,
   "id": "4c46dd84-74b7-47da-bf57-f6869d7bb973",
   "metadata": {},
   "outputs": [],
   "source": [
    "# concatenate annotator 1 and 2 data\n",
    "df_all_annotations = pd.concat([\n",
    "    df_annotator_1[['id','tweet','sentiment_1']], \n",
    "    df_annotator_2[['sentiment_2']],\n",
    "    df_annotator_3[['sentiment_3']]\n",
    "], axis=1)"
   ]
  },
  {
   "cell_type": "code",
   "execution_count": 12,
   "id": "8956abc1-c7d4-435b-aeb6-30286b58d13b",
   "metadata": {},
   "outputs": [
    {
     "name": "stdout",
     "output_type": "stream",
     "text": [
      "Empty DataFrame\n",
      "Columns: [id, tweet, sentiment_1, sentiment_2, sentiment_3]\n",
      "Index: []\n",
      "Empty DataFrame\n",
      "Columns: [id, tweet, sentiment_1, sentiment_2, sentiment_3]\n",
      "Index: []\n",
      "Empty DataFrame\n",
      "Columns: [id, tweet, sentiment_1, sentiment_2, sentiment_3]\n",
      "Index: []\n"
     ]
    }
   ],
   "source": [
    "# check for missing values in sentiment columns\n",
    "print(df_all_annotations[df_all_annotations['sentiment_1'].isnull()])\n",
    "print(df_all_annotations[df_all_annotations['sentiment_2'].isnull()])\n",
    "print(df_all_annotations[df_all_annotations['sentiment_3'].isnull()])"
   ]
  },
  {
   "cell_type": "code",
   "execution_count": 13,
   "id": "3df9b6c5-9b0b-41b6-bf58-0f16ecd8ba5e",
   "metadata": {},
   "outputs": [],
   "source": [
    "df_all_annotations = df_all_annotations.reset_index(drop=True)"
   ]
  },
  {
   "cell_type": "code",
   "execution_count": 14,
   "id": "aa67c4bf-7679-4f71-8041-f2c9a5b6d1b0",
   "metadata": {},
   "outputs": [
    {
     "data": {
      "text/html": [
       "<div>\n",
       "<style scoped>\n",
       "    .dataframe tbody tr th:only-of-type {\n",
       "        vertical-align: middle;\n",
       "    }\n",
       "\n",
       "    .dataframe tbody tr th {\n",
       "        vertical-align: top;\n",
       "    }\n",
       "\n",
       "    .dataframe thead th {\n",
       "        text-align: right;\n",
       "    }\n",
       "</style>\n",
       "<table border=\"1\" class=\"dataframe\">\n",
       "  <thead>\n",
       "    <tr style=\"text-align: right;\">\n",
       "      <th></th>\n",
       "      <th>id</th>\n",
       "      <th>tweet</th>\n",
       "      <th>sentiment_1</th>\n",
       "      <th>sentiment_2</th>\n",
       "      <th>sentiment_3</th>\n",
       "    </tr>\n",
       "  </thead>\n",
       "  <tbody>\n",
       "    <tr>\n",
       "      <th>0</th>\n",
       "      <td>1460589265759480064</td>\n",
       "      <td>@FrankieLix2020 @andfra9 @GoeringEckardt @ABaerbock @OlafScholz @spdbt @GrueneBundestag @fdpbt @LieblingXhain @ninastahr Ist doch egal, was das RKI sagt, weil....  Ja, FDP, SPD &amp;amp; Grüne, warum eigentlich? Wir Eltern warten immer noch auf eine Erklärung, warum ihr unsere Kinder durchseuchen wollt. Besonders schön wäre eine stichhaltige &amp;amp; plausible Erklärung.</td>\n",
       "      <td>2</td>\n",
       "      <td>4</td>\n",
       "      <td>4</td>\n",
       "    </tr>\n",
       "    <tr>\n",
       "      <th>1</th>\n",
       "      <td>1470141403045019904</td>\n",
       "      <td>Alter! Der @Karl_Lauterbach ist ja schon wieder in einer Talkshow. Ich dachte es endet jetzt und er hat zutun! #karllauterbach #annewill</td>\n",
       "      <td>3</td>\n",
       "      <td>2</td>\n",
       "      <td>2</td>\n",
       "    </tr>\n",
       "    <tr>\n",
       "      <th>2</th>\n",
       "      <td>1405950770466497024</td>\n",
       "      <td>@Karl_Lauterbach Sie sehen auch so aus.</td>\n",
       "      <td>3</td>\n",
       "      <td>3</td>\n",
       "      <td>3</td>\n",
       "    </tr>\n",
       "    <tr>\n",
       "      <th>3</th>\n",
       "      <td>1350126525220314880</td>\n",
       "      <td>@PaulZiemiak @CDU 2/x »Wenn die Bürger die Wahl hätten zwischen der parlamentarischen Demokratie, bei der die gewählten Abgeordneten Entscheidungen treffen und Gesetze beschließen und direkter Demokratie, bei der die Bürger in Sachfragen durch Volksabstimmungen entscheiden könnten, würden sich nur</td>\n",
       "      <td>3</td>\n",
       "      <td>3</td>\n",
       "      <td>3</td>\n",
       "    </tr>\n",
       "    <tr>\n",
       "      <th>4</th>\n",
       "      <td>1443988844500733952</td>\n",
       "      <td>@ArminLaschet Laschet ist als CDU-Parteivorsitzender peinlich. Ein neuer Parteivorsitzender der CDU muss gewählt werden. Laschet soll sofort zurücktreten!  @CDU @CDUNRW_de @csu_lt @ArminLaschet @CSU @csu_bt @CDUNRW_de @CDU_CSU_EP @Wirtschaftsrat @CDU_BW @cdu_hessen @cdurlp @welt @FAZ_Politik</td>\n",
       "      <td>2</td>\n",
       "      <td>2</td>\n",
       "      <td>2</td>\n",
       "    </tr>\n",
       "    <tr>\n",
       "      <th>...</th>\n",
       "      <td>...</td>\n",
       "      <td>...</td>\n",
       "      <td>...</td>\n",
       "      <td>...</td>\n",
       "      <td>...</td>\n",
       "    </tr>\n",
       "    <tr>\n",
       "      <th>1995</th>\n",
       "      <td>1400720644279504896</td>\n",
       "      <td>@spdde @OlafScholz mit einem Wumms aus der Krise. Sorry, das ist Volksverblödung</td>\n",
       "      <td>2</td>\n",
       "      <td>2</td>\n",
       "      <td>2</td>\n",
       "    </tr>\n",
       "    <tr>\n",
       "      <th>1996</th>\n",
       "      <td>1415980314871087104</td>\n",
       "      <td>@manager_magazin Wieviel kriegt @OlafScholz weil er die Konkurrenz und andere Firmen mit Steuer belegt?</td>\n",
       "      <td>3</td>\n",
       "      <td>3</td>\n",
       "      <td>2</td>\n",
       "    </tr>\n",
       "    <tr>\n",
       "      <th>1997</th>\n",
       "      <td>1419538832488374016</td>\n",
       "      <td>@jensteutrine @fdp @c_lindner Immer und immer wird behauptet, Autos seien umweltschädlich und würden den Klimawandel vorantreiben. In Wahrheit ermöglichen Sie Mobilität unabhängig vom sozialen Hintergrund. Hierzu 5 E-Autos:</td>\n",
       "      <td>2</td>\n",
       "      <td>3</td>\n",
       "      <td>4</td>\n",
       "    </tr>\n",
       "    <tr>\n",
       "      <th>1998</th>\n",
       "      <td>1436026687548953088</td>\n",
       "      <td>@Mirko17817058 @sebastiankurz @ArminLaschet Naja... Wir haben CumEx, Rechtswidrige Polizeieinsätze und Fehlerchen in einem Buch... wollen Sie das jetzt wirklich alles gleichwertig betrachten?</td>\n",
       "      <td>3</td>\n",
       "      <td>3</td>\n",
       "      <td>2</td>\n",
       "    </tr>\n",
       "    <tr>\n",
       "      <th>1999</th>\n",
       "      <td>1373554396034966016</td>\n",
       "      <td>@kiblet_ @DrPuerner @Karl_Lauterbach Gedankenanstoß: Vielleicht sollte man die gesetzlichen Krankenkassen tatsächlich abschaffen und die Kassenärztlichen Vereinigungen gleich mit? Die wirtschaften alle, im Gegensatz zu den Privaten, ineffizient und intransparent und bilden keine Altersrückstellungen.</td>\n",
       "      <td>3</td>\n",
       "      <td>2</td>\n",
       "      <td>2</td>\n",
       "    </tr>\n",
       "  </tbody>\n",
       "</table>\n",
       "<p>2000 rows × 5 columns</p>\n",
       "</div>"
      ],
      "text/plain": [
       "                       id  \\\n",
       "0     1460589265759480064   \n",
       "1     1470141403045019904   \n",
       "2     1405950770466497024   \n",
       "3     1350126525220314880   \n",
       "4     1443988844500733952   \n",
       "...                   ...   \n",
       "1995  1400720644279504896   \n",
       "1996  1415980314871087104   \n",
       "1997  1419538832488374016   \n",
       "1998  1436026687548953088   \n",
       "1999  1373554396034966016   \n",
       "\n",
       "                                                                                                                                                                                                                                                                                                                                                                               tweet  \\\n",
       "0     @FrankieLix2020 @andfra9 @GoeringEckardt @ABaerbock @OlafScholz @spdbt @GrueneBundestag @fdpbt @LieblingXhain @ninastahr Ist doch egal, was das RKI sagt, weil....  Ja, FDP, SPD &amp; Grüne, warum eigentlich? Wir Eltern warten immer noch auf eine Erklärung, warum ihr unsere Kinder durchseuchen wollt. Besonders schön wäre eine stichhaltige &amp; plausible Erklärung.   \n",
       "1                                                                                                                                                                                                                                           Alter! Der @Karl_Lauterbach ist ja schon wieder in einer Talkshow. Ich dachte es endet jetzt und er hat zutun! #karllauterbach #annewill   \n",
       "2                                                                                                                                                                                                                                                                                                                                            @Karl_Lauterbach Sie sehen auch so aus.   \n",
       "3                                                                         @PaulZiemiak @CDU 2/x »Wenn die Bürger die Wahl hätten zwischen der parlamentarischen Demokratie, bei der die gewählten Abgeordneten Entscheidungen treffen und Gesetze beschließen und direkter Demokratie, bei der die Bürger in Sachfragen durch Volksabstimmungen entscheiden könnten, würden sich nur   \n",
       "4                                                                               @ArminLaschet Laschet ist als CDU-Parteivorsitzender peinlich. Ein neuer Parteivorsitzender der CDU muss gewählt werden. Laschet soll sofort zurücktreten!  @CDU @CDUNRW_de @csu_lt @ArminLaschet @CSU @csu_bt @CDUNRW_de @CDU_CSU_EP @Wirtschaftsrat @CDU_BW @cdu_hessen @cdurlp @welt @FAZ_Politik   \n",
       "...                                                                                                                                                                                                                                                                                                                                                                              ...   \n",
       "1995                                                                                                                                                                                                                                                                                                @spdde @OlafScholz mit einem Wumms aus der Krise. Sorry, das ist Volksverblödung   \n",
       "1996                                                                                                                                                                                                                                                                         @manager_magazin Wieviel kriegt @OlafScholz weil er die Konkurrenz und andere Firmen mit Steuer belegt?   \n",
       "1997                                                                                                                                                 @jensteutrine @fdp @c_lindner Immer und immer wird behauptet, Autos seien umweltschädlich und würden den Klimawandel vorantreiben. In Wahrheit ermöglichen Sie Mobilität unabhängig vom sozialen Hintergrund. Hierzu 5 E-Autos:   \n",
       "1998                                                                                                                                                                                 @Mirko17817058 @sebastiankurz @ArminLaschet Naja... Wir haben CumEx, Rechtswidrige Polizeieinsätze und Fehlerchen in einem Buch... wollen Sie das jetzt wirklich alles gleichwertig betrachten?   \n",
       "1999                                                                   @kiblet_ @DrPuerner @Karl_Lauterbach Gedankenanstoß: Vielleicht sollte man die gesetzlichen Krankenkassen tatsächlich abschaffen und die Kassenärztlichen Vereinigungen gleich mit? Die wirtschaften alle, im Gegensatz zu den Privaten, ineffizient und intransparent und bilden keine Altersrückstellungen.   \n",
       "\n",
       "      sentiment_1  sentiment_2  sentiment_3  \n",
       "0               2            4            4  \n",
       "1               3            2            2  \n",
       "2               3            3            3  \n",
       "3               3            3            3  \n",
       "4               2            2            2  \n",
       "...           ...          ...          ...  \n",
       "1995            2            2            2  \n",
       "1996            3            3            2  \n",
       "1997            2            3            4  \n",
       "1998            3            3            2  \n",
       "1999            3            2            2  \n",
       "\n",
       "[2000 rows x 5 columns]"
      ]
     },
     "execution_count": 14,
     "metadata": {},
     "output_type": "execute_result"
    }
   ],
   "source": [
    "df_all_annotations"
   ]
  },
  {
   "cell_type": "markdown",
   "id": "b517bfd3-d69f-4db4-8c15-b6a1a23ad316",
   "metadata": {},
   "source": [
    "### 2. Get Examples for Paper"
   ]
  },
  {
   "cell_type": "code",
   "execution_count": 15,
   "id": "2476c344-a8a0-499c-a9de-d07a155ea657",
   "metadata": {},
   "outputs": [],
   "source": [
    "df_agreement = df_all_annotations.loc[(df_all_annotations['sentiment_1'] == df_all_annotations['sentiment_2']) & (df_all_annotations['sentiment_1'] == df_all_annotations['sentiment_3'])]"
   ]
  },
  {
   "cell_type": "markdown",
   "id": "d79fd9ed-92ea-4859-a595-2c810e66da40",
   "metadata": {},
   "source": [
    "Show positive agreement"
   ]
  },
  {
   "cell_type": "code",
   "execution_count": 16,
   "id": "f0949b74-8899-43ed-902a-bd35ff4e99ff",
   "metadata": {},
   "outputs": [
    {
     "data": {
      "text/html": [
       "<div>\n",
       "<style scoped>\n",
       "    .dataframe tbody tr th:only-of-type {\n",
       "        vertical-align: middle;\n",
       "    }\n",
       "\n",
       "    .dataframe tbody tr th {\n",
       "        vertical-align: top;\n",
       "    }\n",
       "\n",
       "    .dataframe thead th {\n",
       "        text-align: right;\n",
       "    }\n",
       "</style>\n",
       "<table border=\"1\" class=\"dataframe\">\n",
       "  <thead>\n",
       "    <tr style=\"text-align: right;\">\n",
       "      <th></th>\n",
       "      <th>id</th>\n",
       "      <th>tweet</th>\n",
       "      <th>sentiment_1</th>\n",
       "      <th>sentiment_2</th>\n",
       "      <th>sentiment_3</th>\n",
       "    </tr>\n",
       "  </thead>\n",
       "  <tbody>\n",
       "    <tr>\n",
       "      <th>20</th>\n",
       "      <td>1447576229176122880</td>\n",
       "      <td>#Legalisierung von Hanf bedeutet eine neue Ehrlichkeit in der Drogenpolitik! @OlafScholz , @Larsklingbeil , @EskenSaskia , @KuehniKev , @c_lindner , @ABaerbock , @Wissing</td>\n",
       "      <td>1</td>\n",
       "      <td>1</td>\n",
       "      <td>1</td>\n",
       "    </tr>\n",
       "    <tr>\n",
       "      <th>28</th>\n",
       "      <td>1449152380054934016</td>\n",
       "      <td>@23rasm @VQuaschning @spdbt @Die_Gruenen @fdp Auf den Punkt gebracht.</td>\n",
       "      <td>1</td>\n",
       "      <td>1</td>\n",
       "      <td>1</td>\n",
       "    </tr>\n",
       "    <tr>\n",
       "      <th>57</th>\n",
       "      <td>1373752135331033088</td>\n",
       "      <td>@Karl_Lauterbach Meine Rückendeckung haben Sie! Machen Sie bitte weiter.</td>\n",
       "      <td>1</td>\n",
       "      <td>1</td>\n",
       "      <td>1</td>\n",
       "    </tr>\n",
       "    <tr>\n",
       "      <th>151</th>\n",
       "      <td>1370678455973646080</td>\n",
       "      <td>@AnkeHoffnung @Karl_Lauterbach @grimmsi1 @TOODALOO5 @Richter_Mueller @HeinoStoever @WurthGeorg @philineedbauer @NiemaMovassat @KirstenKappert @MAStrackZi @haucap @CDR_FFM @hanfverband Danke dir für die Liste ! 😉</td>\n",
       "      <td>1</td>\n",
       "      <td>1</td>\n",
       "      <td>1</td>\n",
       "    </tr>\n",
       "    <tr>\n",
       "      <th>175</th>\n",
       "      <td>1378325746121335040</td>\n",
       "      <td>@CorneliusRoemer @CDU @AfD @ArminLaschet @infratestdimap Die Befürworter eines Lockdownssind bei den Grünen und bei der CDU, also bei Wählern,  denen es gut geht, die viel verdienen. Vielleicht denkt Herr Laschet an die sozial Schwachen, die um ihre Existenz oder um die psychische Lage ihrer Kinder fürchten. Vorbildlich, finde ich.</td>\n",
       "      <td>1</td>\n",
       "      <td>1</td>\n",
       "      <td>1</td>\n",
       "    </tr>\n",
       "  </tbody>\n",
       "</table>\n",
       "</div>"
      ],
      "text/plain": [
       "                      id  \\\n",
       "20   1447576229176122880   \n",
       "28   1449152380054934016   \n",
       "57   1373752135331033088   \n",
       "151  1370678455973646080   \n",
       "175  1378325746121335040   \n",
       "\n",
       "                                                                                                                                                                                                                                                                                                                                             tweet  \\\n",
       "20                                                                                                                                                                      #Legalisierung von Hanf bedeutet eine neue Ehrlichkeit in der Drogenpolitik! @OlafScholz , @Larsklingbeil , @EskenSaskia , @KuehniKev , @c_lindner , @ABaerbock , @Wissing   \n",
       "28                                                                                                                                                                                                                                                                           @23rasm @VQuaschning @spdbt @Die_Gruenen @fdp Auf den Punkt gebracht.   \n",
       "57                                                                                                                                                                                                                                                                        @Karl_Lauterbach Meine Rückendeckung haben Sie! Machen Sie bitte weiter.   \n",
       "151                                                                                                                            @AnkeHoffnung @Karl_Lauterbach @grimmsi1 @TOODALOO5 @Richter_Mueller @HeinoStoever @WurthGeorg @philineedbauer @NiemaMovassat @KirstenKappert @MAStrackZi @haucap @CDR_FFM @hanfverband Danke dir für die Liste ! 😉   \n",
       "175  @CorneliusRoemer @CDU @AfD @ArminLaschet @infratestdimap Die Befürworter eines Lockdownssind bei den Grünen und bei der CDU, also bei Wählern,  denen es gut geht, die viel verdienen. Vielleicht denkt Herr Laschet an die sozial Schwachen, die um ihre Existenz oder um die psychische Lage ihrer Kinder fürchten. Vorbildlich, finde ich.   \n",
       "\n",
       "     sentiment_1  sentiment_2  sentiment_3  \n",
       "20             1            1            1  \n",
       "28             1            1            1  \n",
       "57             1            1            1  \n",
       "151            1            1            1  \n",
       "175            1            1            1  "
      ]
     },
     "execution_count": 16,
     "metadata": {},
     "output_type": "execute_result"
    }
   ],
   "source": [
    "df_agreement[df_agreement[\"sentiment_1\"] == 1][:5]"
   ]
  },
  {
   "cell_type": "markdown",
   "id": "d0111428-f9df-43b8-af7f-445f936b8f17",
   "metadata": {},
   "source": [
    "Show negative agreement"
   ]
  },
  {
   "cell_type": "code",
   "execution_count": 17,
   "id": "efa53dac-b175-48ac-84fd-177c22ea42f8",
   "metadata": {},
   "outputs": [
    {
     "data": {
      "text/html": [
       "<div>\n",
       "<style scoped>\n",
       "    .dataframe tbody tr th:only-of-type {\n",
       "        vertical-align: middle;\n",
       "    }\n",
       "\n",
       "    .dataframe tbody tr th {\n",
       "        vertical-align: top;\n",
       "    }\n",
       "\n",
       "    .dataframe thead th {\n",
       "        text-align: right;\n",
       "    }\n",
       "</style>\n",
       "<table border=\"1\" class=\"dataframe\">\n",
       "  <thead>\n",
       "    <tr style=\"text-align: right;\">\n",
       "      <th></th>\n",
       "      <th>id</th>\n",
       "      <th>tweet</th>\n",
       "      <th>sentiment_1</th>\n",
       "      <th>sentiment_2</th>\n",
       "      <th>sentiment_3</th>\n",
       "    </tr>\n",
       "  </thead>\n",
       "  <tbody>\n",
       "    <tr>\n",
       "      <th>4</th>\n",
       "      <td>1443988844500733952</td>\n",
       "      <td>@ArminLaschet Laschet ist als CDU-Parteivorsitzender peinlich. Ein neuer Parteivorsitzender der CDU muss gewählt werden. Laschet soll sofort zurücktreten!  @CDU @CDUNRW_de @csu_lt @ArminLaschet @CSU @csu_bt @CDUNRW_de @CDU_CSU_EP @Wirtschaftsrat @CDU_BW @cdu_hessen @cdurlp @welt @FAZ_Politik</td>\n",
       "      <td>2</td>\n",
       "      <td>2</td>\n",
       "      <td>2</td>\n",
       "    </tr>\n",
       "    <tr>\n",
       "      <th>5</th>\n",
       "      <td>1396429761682021888</td>\n",
       "      <td>.@ABaerbock @Die_Gruenen @cducsubt @spdbt @dielinke @fdpbt : So viel Wald vernichtet unser Konsum  https://t.co/NzwU03kjXa #vegan #palmoilfree #vegan #cancelanimalag #Erdueberlastungstag</td>\n",
       "      <td>2</td>\n",
       "      <td>2</td>\n",
       "      <td>2</td>\n",
       "    </tr>\n",
       "    <tr>\n",
       "      <th>6</th>\n",
       "      <td>1382709511153189120</td>\n",
       "      <td>@Karl_Lauterbach auch die Lehrkraefte werden nicht geimpft. Geht gar nicht! #bildungabersicher</td>\n",
       "      <td>2</td>\n",
       "      <td>2</td>\n",
       "      <td>2</td>\n",
       "    </tr>\n",
       "    <tr>\n",
       "      <th>7</th>\n",
       "      <td>1347699309492494080</td>\n",
       "      <td>@afd_wallduern Mit keinem Wort fordert er dieses Sperren aber wieder typisch @AfD  lügen verbreiten.</td>\n",
       "      <td>2</td>\n",
       "      <td>2</td>\n",
       "      <td>2</td>\n",
       "    </tr>\n",
       "    <tr>\n",
       "      <th>10</th>\n",
       "      <td>1390305016808828928</td>\n",
       "      <td>@PDominke @AfDimBundestag Pauschale Verunglimpfung ist ein beliebtes Hobby, also kein Grund zur Sorge. Es gab zu allen Zeiten Gruppen, auf die man eingehackt hat im Gefühl der trauten Gemeinsamkeit der rechthaberischen Mehrheit. Ihnen fiel ja auch nichts Anderes zum Thema ein.</td>\n",
       "      <td>2</td>\n",
       "      <td>2</td>\n",
       "      <td>2</td>\n",
       "    </tr>\n",
       "  </tbody>\n",
       "</table>\n",
       "</div>"
      ],
      "text/plain": [
       "                     id  \\\n",
       "4   1443988844500733952   \n",
       "5   1396429761682021888   \n",
       "6   1382709511153189120   \n",
       "7   1347699309492494080   \n",
       "10  1390305016808828928   \n",
       "\n",
       "                                                                                                                                                                                                                                                                                                   tweet  \\\n",
       "4   @ArminLaschet Laschet ist als CDU-Parteivorsitzender peinlich. Ein neuer Parteivorsitzender der CDU muss gewählt werden. Laschet soll sofort zurücktreten!  @CDU @CDUNRW_de @csu_lt @ArminLaschet @CSU @csu_bt @CDUNRW_de @CDU_CSU_EP @Wirtschaftsrat @CDU_BW @cdu_hessen @cdurlp @welt @FAZ_Politik   \n",
       "5                                                                                                             .@ABaerbock @Die_Gruenen @cducsubt @spdbt @dielinke @fdpbt : So viel Wald vernichtet unser Konsum  https://t.co/NzwU03kjXa #vegan #palmoilfree #vegan #cancelanimalag #Erdueberlastungstag   \n",
       "6                                                                                                                                                                                                         @Karl_Lauterbach auch die Lehrkraefte werden nicht geimpft. Geht gar nicht! #bildungabersicher   \n",
       "7                                                                                                                                                                                                   @afd_wallduern Mit keinem Wort fordert er dieses Sperren aber wieder typisch @AfD  lügen verbreiten.   \n",
       "10                 @PDominke @AfDimBundestag Pauschale Verunglimpfung ist ein beliebtes Hobby, also kein Grund zur Sorge. Es gab zu allen Zeiten Gruppen, auf die man eingehackt hat im Gefühl der trauten Gemeinsamkeit der rechthaberischen Mehrheit. Ihnen fiel ja auch nichts Anderes zum Thema ein.   \n",
       "\n",
       "    sentiment_1  sentiment_2  sentiment_3  \n",
       "4             2            2            2  \n",
       "5             2            2            2  \n",
       "6             2            2            2  \n",
       "7             2            2            2  \n",
       "10            2            2            2  "
      ]
     },
     "execution_count": 17,
     "metadata": {},
     "output_type": "execute_result"
    }
   ],
   "source": [
    "df_agreement[df_agreement[\"sentiment_1\"] == 2][:5]"
   ]
  },
  {
   "cell_type": "markdown",
   "id": "c2a14b53-c08f-40b2-9606-15e42cea8e88",
   "metadata": {},
   "source": [
    "Show neutral agreement"
   ]
  },
  {
   "cell_type": "code",
   "execution_count": 18,
   "id": "5eda9d12-b72a-4114-8cfc-ae60e4a6ae46",
   "metadata": {},
   "outputs": [
    {
     "data": {
      "text/html": [
       "<div>\n",
       "<style scoped>\n",
       "    .dataframe tbody tr th:only-of-type {\n",
       "        vertical-align: middle;\n",
       "    }\n",
       "\n",
       "    .dataframe tbody tr th {\n",
       "        vertical-align: top;\n",
       "    }\n",
       "\n",
       "    .dataframe thead th {\n",
       "        text-align: right;\n",
       "    }\n",
       "</style>\n",
       "<table border=\"1\" class=\"dataframe\">\n",
       "  <thead>\n",
       "    <tr style=\"text-align: right;\">\n",
       "      <th></th>\n",
       "      <th>id</th>\n",
       "      <th>tweet</th>\n",
       "      <th>sentiment_1</th>\n",
       "      <th>sentiment_2</th>\n",
       "      <th>sentiment_3</th>\n",
       "    </tr>\n",
       "  </thead>\n",
       "  <tbody>\n",
       "    <tr>\n",
       "      <th>2</th>\n",
       "      <td>1405950770466497024</td>\n",
       "      <td>@Karl_Lauterbach Sie sehen auch so aus.</td>\n",
       "      <td>3</td>\n",
       "      <td>3</td>\n",
       "      <td>3</td>\n",
       "    </tr>\n",
       "    <tr>\n",
       "      <th>3</th>\n",
       "      <td>1350126525220314880</td>\n",
       "      <td>@PaulZiemiak @CDU 2/x »Wenn die Bürger die Wahl hätten zwischen der parlamentarischen Demokratie, bei der die gewählten Abgeordneten Entscheidungen treffen und Gesetze beschließen und direkter Demokratie, bei der die Bürger in Sachfragen durch Volksabstimmungen entscheiden könnten, würden sich nur</td>\n",
       "      <td>3</td>\n",
       "      <td>3</td>\n",
       "      <td>3</td>\n",
       "    </tr>\n",
       "    <tr>\n",
       "      <th>9</th>\n",
       "      <td>1371730424196701952</td>\n",
       "      <td>@Schmidtlepp @jensspahn SpahnScheuer</td>\n",
       "      <td>3</td>\n",
       "      <td>3</td>\n",
       "      <td>3</td>\n",
       "    </tr>\n",
       "    <tr>\n",
       "      <th>14</th>\n",
       "      <td>1447496797295975936</td>\n",
       "      <td>@nureinleser10 @M_van_Laack @Matthias_Kamann @Joerg_Meuthen Will die AfD irgendwann mal regieren oder wozu ist sie da? Sie oder andere sagen doch, dass es eine schwarz-gelb-blaue Mehrheit gibt, wieso werden dann keine Angebote gemacht?  Wieso muss sich die CDU ausgerechnet an der AfD orientieren? Gibt doch auch FDP, Freie Wähler, CSU</td>\n",
       "      <td>3</td>\n",
       "      <td>3</td>\n",
       "      <td>3</td>\n",
       "    </tr>\n",
       "    <tr>\n",
       "      <th>15</th>\n",
       "      <td>1345337052557156096</td>\n",
       "      <td>@rRockxter @europeika @CDU Was hat denn die CDU mit dem Christentum zu tun? 🤔  https://t.co/ioFmt1Zny6</td>\n",
       "      <td>3</td>\n",
       "      <td>3</td>\n",
       "      <td>3</td>\n",
       "    </tr>\n",
       "  </tbody>\n",
       "</table>\n",
       "</div>"
      ],
      "text/plain": [
       "                     id  \\\n",
       "2   1405950770466497024   \n",
       "3   1350126525220314880   \n",
       "9   1371730424196701952   \n",
       "14  1447496797295975936   \n",
       "15  1345337052557156096   \n",
       "\n",
       "                                                                                                                                                                                                                                                                                                                                              tweet  \\\n",
       "2                                                                                                                                                                                                                                                                                                           @Karl_Lauterbach Sie sehen auch so aus.   \n",
       "3                                        @PaulZiemiak @CDU 2/x »Wenn die Bürger die Wahl hätten zwischen der parlamentarischen Demokratie, bei der die gewählten Abgeordneten Entscheidungen treffen und Gesetze beschließen und direkter Demokratie, bei der die Bürger in Sachfragen durch Volksabstimmungen entscheiden könnten, würden sich nur   \n",
       "9                                                                                                                                                                                                                                                                                                              @Schmidtlepp @jensspahn SpahnScheuer   \n",
       "14  @nureinleser10 @M_van_Laack @Matthias_Kamann @Joerg_Meuthen Will die AfD irgendwann mal regieren oder wozu ist sie da? Sie oder andere sagen doch, dass es eine schwarz-gelb-blaue Mehrheit gibt, wieso werden dann keine Angebote gemacht?  Wieso muss sich die CDU ausgerechnet an der AfD orientieren? Gibt doch auch FDP, Freie Wähler, CSU   \n",
       "15                                                                                                                                                                                                                                           @rRockxter @europeika @CDU Was hat denn die CDU mit dem Christentum zu tun? 🤔  https://t.co/ioFmt1Zny6   \n",
       "\n",
       "    sentiment_1  sentiment_2  sentiment_3  \n",
       "2             3            3            3  \n",
       "3             3            3            3  \n",
       "9             3            3            3  \n",
       "14            3            3            3  \n",
       "15            3            3            3  "
      ]
     },
     "execution_count": 18,
     "metadata": {},
     "output_type": "execute_result"
    }
   ],
   "source": [
    "df_agreement[df_agreement[\"sentiment_1\"] == 3][:5]"
   ]
  },
  {
   "cell_type": "markdown",
   "id": "f3008b9a-e6ca-402e-b369-c723d6e4fa67",
   "metadata": {},
   "source": [
    "Show mixed agreement"
   ]
  },
  {
   "cell_type": "code",
   "execution_count": 19,
   "id": "7eb770db-84ca-4493-86d8-ffde13afe3fe",
   "metadata": {},
   "outputs": [
    {
     "data": {
      "text/html": [
       "<div>\n",
       "<style scoped>\n",
       "    .dataframe tbody tr th:only-of-type {\n",
       "        vertical-align: middle;\n",
       "    }\n",
       "\n",
       "    .dataframe tbody tr th {\n",
       "        vertical-align: top;\n",
       "    }\n",
       "\n",
       "    .dataframe thead th {\n",
       "        text-align: right;\n",
       "    }\n",
       "</style>\n",
       "<table border=\"1\" class=\"dataframe\">\n",
       "  <thead>\n",
       "    <tr style=\"text-align: right;\">\n",
       "      <th></th>\n",
       "      <th>id</th>\n",
       "      <th>tweet</th>\n",
       "      <th>sentiment_1</th>\n",
       "      <th>sentiment_2</th>\n",
       "      <th>sentiment_3</th>\n",
       "    </tr>\n",
       "  </thead>\n",
       "  <tbody>\n",
       "    <tr>\n",
       "      <th>58</th>\n",
       "      <td>1436397401720372992</td>\n",
       "      <td>@Jim_na_Jim @toniturtle1963 @Karl_Lauterbach Die Maske trägt sich sehr gut. Aber die getackerten Bänder sind nicht optimal. Wenn man sie nicht vorsichtig auf-  oder absetzt dann lösen sie sich.</td>\n",
       "      <td>4</td>\n",
       "      <td>4</td>\n",
       "      <td>4</td>\n",
       "    </tr>\n",
       "    <tr>\n",
       "      <th>62</th>\n",
       "      <td>1425341079730233088</td>\n",
       "      <td>@paramotor_lutz @Luisamneubauer @ArminLaschet @OlafScholz Wäre ja auch dumm gewesen bei Atom zu bleiben. Das hätte uns nämlich rein vom Gefühl her noch mehr Zeit verschafft, nicht auf die erneuerbaren Energien umzusteigen. Verzögerung ist übrigens die beste Form der Sabotage. Also alles gut so.</td>\n",
       "      <td>4</td>\n",
       "      <td>4</td>\n",
       "      <td>4</td>\n",
       "    </tr>\n",
       "    <tr>\n",
       "      <th>90</th>\n",
       "      <td>1432302887892398080</td>\n",
       "      <td>@HeidiSigrid @PN46PN46 @Markus_Soeder Ich weiß nicht woran es liebt, aber Habeck und Baerbock kommen einfach menschlicher rüber. Der Rest wirkt wie seelenlose Politiker.</td>\n",
       "      <td>4</td>\n",
       "      <td>4</td>\n",
       "      <td>4</td>\n",
       "    </tr>\n",
       "    <tr>\n",
       "      <th>140</th>\n",
       "      <td>1431878456376233984</td>\n",
       "      <td>@_FriedrichMerz Danke, dass Sie jetzt schon zugeben, die Wahl zu verlieren. Ihr Einsehen kommt sehr früh. Hätte ich gerade von Ihnen nicht erwartet.</td>\n",
       "      <td>4</td>\n",
       "      <td>4</td>\n",
       "      <td>4</td>\n",
       "    </tr>\n",
       "    <tr>\n",
       "      <th>148</th>\n",
       "      <td>1445099445192904960</td>\n",
       "      <td>@Markus_Soeder Ich setze auf Eigenverantwortung, Freiheit und Sicherheit. #btw21  Der Untergang der CSU bei der Wahl sollte eigentlich eine Erleuchtung bringen</td>\n",
       "      <td>4</td>\n",
       "      <td>4</td>\n",
       "      <td>4</td>\n",
       "    </tr>\n",
       "  </tbody>\n",
       "</table>\n",
       "</div>"
      ],
      "text/plain": [
       "                      id  \\\n",
       "58   1436397401720372992   \n",
       "62   1425341079730233088   \n",
       "90   1432302887892398080   \n",
       "140  1431878456376233984   \n",
       "148  1445099445192904960   \n",
       "\n",
       "                                                                                                                                                                                                                                                                                                       tweet  \\\n",
       "58                                                                                                         @Jim_na_Jim @toniturtle1963 @Karl_Lauterbach Die Maske trägt sich sehr gut. Aber die getackerten Bänder sind nicht optimal. Wenn man sie nicht vorsichtig auf-  oder absetzt dann lösen sie sich.   \n",
       "62   @paramotor_lutz @Luisamneubauer @ArminLaschet @OlafScholz Wäre ja auch dumm gewesen bei Atom zu bleiben. Das hätte uns nämlich rein vom Gefühl her noch mehr Zeit verschafft, nicht auf die erneuerbaren Energien umzusteigen. Verzögerung ist übrigens die beste Form der Sabotage. Also alles gut so.   \n",
       "90                                                                                                                                 @HeidiSigrid @PN46PN46 @Markus_Soeder Ich weiß nicht woran es liebt, aber Habeck und Baerbock kommen einfach menschlicher rüber. Der Rest wirkt wie seelenlose Politiker.   \n",
       "140                                                                                                                                                     @_FriedrichMerz Danke, dass Sie jetzt schon zugeben, die Wahl zu verlieren. Ihr Einsehen kommt sehr früh. Hätte ich gerade von Ihnen nicht erwartet.   \n",
       "148                                                                                                                                          @Markus_Soeder Ich setze auf Eigenverantwortung, Freiheit und Sicherheit. #btw21  Der Untergang der CSU bei der Wahl sollte eigentlich eine Erleuchtung bringen   \n",
       "\n",
       "     sentiment_1  sentiment_2  sentiment_3  \n",
       "58             4            4            4  \n",
       "62             4            4            4  \n",
       "90             4            4            4  \n",
       "140            4            4            4  \n",
       "148            4            4            4  "
      ]
     },
     "execution_count": 19,
     "metadata": {},
     "output_type": "execute_result"
    }
   ],
   "source": [
    "df_agreement[df_agreement[\"sentiment_1\"] == 4][:5]"
   ]
  },
  {
   "cell_type": "markdown",
   "id": "45e8f44f-95fc-4ae6-860e-8393eb60ad08",
   "metadata": {},
   "source": [
    "Show no agreement"
   ]
  },
  {
   "cell_type": "code",
   "execution_count": 20,
   "id": "9bcc6938-2d20-4032-b4a9-84360dc22fd3",
   "metadata": {},
   "outputs": [
    {
     "data": {
      "text/html": [
       "<div>\n",
       "<style scoped>\n",
       "    .dataframe tbody tr th:only-of-type {\n",
       "        vertical-align: middle;\n",
       "    }\n",
       "\n",
       "    .dataframe tbody tr th {\n",
       "        vertical-align: top;\n",
       "    }\n",
       "\n",
       "    .dataframe thead th {\n",
       "        text-align: right;\n",
       "    }\n",
       "</style>\n",
       "<table border=\"1\" class=\"dataframe\">\n",
       "  <thead>\n",
       "    <tr style=\"text-align: right;\">\n",
       "      <th></th>\n",
       "      <th>id</th>\n",
       "      <th>tweet</th>\n",
       "      <th>sentiment_1</th>\n",
       "      <th>sentiment_2</th>\n",
       "      <th>sentiment_3</th>\n",
       "    </tr>\n",
       "  </thead>\n",
       "  <tbody>\n",
       "    <tr>\n",
       "      <th>1004</th>\n",
       "      <td>1436969755689299968</td>\n",
       "      <td>@jensspahn @MikeMohring Mein Ort hat nur 200 EW und hier fährt 2x am Tag der Schulbus, mehr ÖPNV ist hier nicht.  ABER: ich wähle grün, weil vor allem die CDU dazu beigetragen hat, dass wir hier nicht ohne ein 2. Auto auskommen.  Wir wählen bessere Mobilität, und geben dann gerne ein Auto ab.</td>\n",
       "      <td>1</td>\n",
       "      <td>3</td>\n",
       "      <td>4</td>\n",
       "    </tr>\n",
       "    <tr>\n",
       "      <th>1140</th>\n",
       "      <td>1384467490441474048</td>\n",
       "      <td>@ArminLaschet wurd sowieso nie Kanzler weil jetzt die @SPD gewinnen wird!!  @NRW_Ministerium @CDU @cducsubt  @CSU</td>\n",
       "      <td>2</td>\n",
       "      <td>1</td>\n",
       "      <td>3</td>\n",
       "    </tr>\n",
       "    <tr>\n",
       "      <th>1193</th>\n",
       "      <td>1449065935785139968</td>\n",
       "      <td>@gb_1960 @SWagenknecht Die Gehirnwäsche hat gewirkt. Du hättest herrlich in die DDR gepasst.</td>\n",
       "      <td>4</td>\n",
       "      <td>2</td>\n",
       "      <td>3</td>\n",
       "    </tr>\n",
       "    <tr>\n",
       "      <th>1333</th>\n",
       "      <td>1361475742127836928</td>\n",
       "      <td>@SHomburg @Karl_Lauterbach @BrinkmannLab Herr Homburg, haben Sie Sympathie für Hass?</td>\n",
       "      <td>2</td>\n",
       "      <td>4</td>\n",
       "      <td>3</td>\n",
       "    </tr>\n",
       "    <tr>\n",
       "      <th>1366</th>\n",
       "      <td>1464296164728226048</td>\n",
       "      <td>@Karl_Lauterbach was n fuchs der karl :) mal schnell n inhaltsverzeichnis studiert und tweet gesetzt. wahrscheinlich, sicherlich, aufjedenfall! wirkt! eventuell! weil gefährlich! aber booster schützt! muss booster! 3 Monate.... oh mann</td>\n",
       "      <td>2</td>\n",
       "      <td>3</td>\n",
       "      <td>4</td>\n",
       "    </tr>\n",
       "  </tbody>\n",
       "</table>\n",
       "</div>"
      ],
      "text/plain": [
       "                       id  \\\n",
       "1004  1436969755689299968   \n",
       "1140  1384467490441474048   \n",
       "1193  1449065935785139968   \n",
       "1333  1361475742127836928   \n",
       "1366  1464296164728226048   \n",
       "\n",
       "                                                                                                                                                                                                                                                                                                      tweet  \\\n",
       "1004  @jensspahn @MikeMohring Mein Ort hat nur 200 EW und hier fährt 2x am Tag der Schulbus, mehr ÖPNV ist hier nicht.  ABER: ich wähle grün, weil vor allem die CDU dazu beigetragen hat, dass wir hier nicht ohne ein 2. Auto auskommen.  Wir wählen bessere Mobilität, und geben dann gerne ein Auto ab.   \n",
       "1140                                                                                                                                                                                      @ArminLaschet wurd sowieso nie Kanzler weil jetzt die @SPD gewinnen wird!!  @NRW_Ministerium @CDU @cducsubt  @CSU   \n",
       "1193                                                                                                                                                                                                           @gb_1960 @SWagenknecht Die Gehirnwäsche hat gewirkt. Du hättest herrlich in die DDR gepasst.   \n",
       "1333                                                                                                                                                                                                                   @SHomburg @Karl_Lauterbach @BrinkmannLab Herr Homburg, haben Sie Sympathie für Hass?   \n",
       "1366                                                            @Karl_Lauterbach was n fuchs der karl :) mal schnell n inhaltsverzeichnis studiert und tweet gesetzt. wahrscheinlich, sicherlich, aufjedenfall! wirkt! eventuell! weil gefährlich! aber booster schützt! muss booster! 3 Monate.... oh mann   \n",
       "\n",
       "      sentiment_1  sentiment_2  sentiment_3  \n",
       "1004            1            3            4  \n",
       "1140            2            1            3  \n",
       "1193            4            2            3  \n",
       "1333            2            4            3  \n",
       "1366            2            3            4  "
      ]
     },
     "execution_count": 20,
     "metadata": {},
     "output_type": "execute_result"
    }
   ],
   "source": [
    "df_all_annotations[(df_all_annotations[\"sentiment_1\"] != df_all_annotations[\"sentiment_2\"]) &\n",
    "             (df_all_annotations[\"sentiment_2\"] != df_all_annotations[\"sentiment_3\"]) &\n",
    "             (df_all_annotations[\"sentiment_1\"] != df_all_annotations[\"sentiment_3\"])][:5]"
   ]
  },
  {
   "cell_type": "markdown",
   "id": "112079a9-c410-4fea-965c-013688ab459a",
   "metadata": {},
   "source": [
    "### 3. Sentiment Class Distribution"
   ]
  },
  {
   "cell_type": "markdown",
   "id": "b899d2a9-dc62-4b33-9bee-3f42c931ddee",
   "metadata": {},
   "source": [
    "n positive majority"
   ]
  },
  {
   "cell_type": "code",
   "execution_count": 21,
   "id": "601f4ce6-7d5d-4e73-83d5-a4345f375b71",
   "metadata": {},
   "outputs": [
    {
     "data": {
      "text/plain": [
       "128"
      ]
     },
     "execution_count": 21,
     "metadata": {},
     "output_type": "execute_result"
    }
   ],
   "source": [
    "len(df_all_annotations[(((df_all_annotations[\"sentiment_1\"] == 1) & (df_all_annotations[\"sentiment_2\"] == 1)) |\n",
    "                    ((df_all_annotations[\"sentiment_2\"] == 1) & (df_all_annotations[\"sentiment_3\"] == 1)) |\n",
    "                    ((df_all_annotations[\"sentiment_1\"] == 1) & (df_all_annotations[\"sentiment_3\"] == 1)))])"
   ]
  },
  {
   "cell_type": "markdown",
   "id": "7573e46b-d5db-46dd-a5b3-599938ab8e90",
   "metadata": {},
   "source": [
    "n negative majority"
   ]
  },
  {
   "cell_type": "code",
   "execution_count": 22,
   "id": "ca7fa524-3970-41ff-89d6-a184b6351007",
   "metadata": {},
   "outputs": [
    {
     "data": {
      "text/plain": [
       "924"
      ]
     },
     "execution_count": 22,
     "metadata": {},
     "output_type": "execute_result"
    }
   ],
   "source": [
    "len(df_all_annotations[(((df_all_annotations[\"sentiment_1\"] == 2) & (df_all_annotations[\"sentiment_2\"] == 2)) |\n",
    "                       ((df_all_annotations[\"sentiment_2\"] == 2) & (df_all_annotations[\"sentiment_3\"] == 2)) |\n",
    "                       ((df_all_annotations[\"sentiment_1\"] == 2) & (df_all_annotations[\"sentiment_3\"] == 2)))])"
   ]
  },
  {
   "cell_type": "markdown",
   "id": "26d367c0-2085-4626-b48d-872943c50830",
   "metadata": {},
   "source": [
    "n neutral majority"
   ]
  },
  {
   "cell_type": "code",
   "execution_count": 23,
   "id": "f719ce93-db18-49b9-a793-eff082675863",
   "metadata": {},
   "outputs": [
    {
     "data": {
      "text/plain": [
       "815"
      ]
     },
     "execution_count": 23,
     "metadata": {},
     "output_type": "execute_result"
    }
   ],
   "source": [
    "len(df_all_annotations[(((df_all_annotations[\"sentiment_1\"] == 3) & (df_all_annotations[\"sentiment_2\"] == 3)) |\n",
    "                       ((df_all_annotations[\"sentiment_2\"] == 3) & (df_all_annotations[\"sentiment_3\"] == 3)) |\n",
    "                       ((df_all_annotations[\"sentiment_1\"] == 3) & (df_all_annotations[\"sentiment_3\"] == 3)))])"
   ]
  },
  {
   "cell_type": "markdown",
   "id": "db4ce9f1-34ee-493c-a5d4-fffc4aa368ce",
   "metadata": {},
   "source": [
    "n mixed majority"
   ]
  },
  {
   "cell_type": "code",
   "execution_count": 24,
   "id": "81ea84f6-f4e5-494a-b399-b6fcb349c595",
   "metadata": {},
   "outputs": [
    {
     "data": {
      "text/plain": [
       "109"
      ]
     },
     "execution_count": 24,
     "metadata": {},
     "output_type": "execute_result"
    }
   ],
   "source": [
    "len(df_all_annotations[(((df_all_annotations[\"sentiment_1\"] == 4) & (df_all_annotations[\"sentiment_2\"] == 4)) |\n",
    "                       ((df_all_annotations[\"sentiment_2\"] == 4) & (df_all_annotations[\"sentiment_3\"] == 4)) |\n",
    "                       ((df_all_annotations[\"sentiment_1\"] == 4) & (df_all_annotations[\"sentiment_3\"] == 4)))])"
   ]
  },
  {
   "cell_type": "markdown",
   "id": "94796a55-a036-46ec-823b-ceade6a30a13",
   "metadata": {},
   "source": [
    "n no majority"
   ]
  },
  {
   "cell_type": "code",
   "execution_count": 25,
   "id": "7cc0e8cb-b2c0-45cb-9c5e-8f15879a8678",
   "metadata": {},
   "outputs": [
    {
     "data": {
      "text/plain": [
       "24"
      ]
     },
     "execution_count": 25,
     "metadata": {},
     "output_type": "execute_result"
    }
   ],
   "source": [
    "len(df_all_annotations[(df_all_annotations[\"sentiment_1\"] != df_all_annotations[\"sentiment_2\"]) &\n",
    "             (df_all_annotations[\"sentiment_2\"] != df_all_annotations[\"sentiment_3\"]) &\n",
    "             (df_all_annotations[\"sentiment_1\"] != df_all_annotations[\"sentiment_3\"])])"
   ]
  },
  {
   "cell_type": "markdown",
   "id": "41132cdc",
   "metadata": {},
   "source": [
    "### 4. Calculate Krippendorff's Alpha"
   ]
  },
  {
   "cell_type": "code",
   "execution_count": 26,
   "id": "febaaee0",
   "metadata": {},
   "outputs": [
    {
     "data": {
      "text/plain": [
       "0.7247970085578127"
      ]
     },
     "execution_count": 26,
     "metadata": {},
     "output_type": "execute_result"
    }
   ],
   "source": [
    "# Rows are the coders (annotators) # of coders\n",
    "# Columns are the individual items (sentiment of tweet) # of tweets\n",
    "value_counts = df_all_annotations[[\"sentiment_1\", \"sentiment_2\", \"sentiment_3\"]]\n",
    "value_counts = value_counts.to_numpy().transpose()\n",
    "kd.alpha(reliability_data=value_counts, level_of_measurement=\"nominal\")"
   ]
  },
  {
   "cell_type": "markdown",
   "id": "b0235845",
   "metadata": {},
   "source": [
    "### 5. Calculate Fleiss' Kappa"
   ]
  },
  {
   "cell_type": "code",
   "execution_count": 27,
   "id": "269337c0",
   "metadata": {},
   "outputs": [],
   "source": [
    "agg = irr.aggregate_raters(df_all_annotations[[\"sentiment_1\", \"sentiment_2\", \"sentiment_3\"]])"
   ]
  },
  {
   "cell_type": "code",
   "execution_count": 28,
   "id": "4fd3bf59",
   "metadata": {},
   "outputs": [
    {
     "data": {
      "text/plain": [
       "0.7247511337467707"
      ]
     },
     "execution_count": 28,
     "metadata": {},
     "output_type": "execute_result"
    }
   ],
   "source": [
    "irr.fleiss_kappa(agg[0], method='fleiss')"
   ]
  }
 ],
 "metadata": {
  "kernelspec": {
   "display_name": "Python 3 (ipykernel)",
   "language": "python",
   "name": "python3"
  },
  "language_info": {
   "codemirror_mode": {
    "name": "ipython",
    "version": 3
   },
   "file_extension": ".py",
   "mimetype": "text/x-python",
   "name": "python",
   "nbconvert_exporter": "python",
   "pygments_lexer": "ipython3",
   "version": "3.10.8"
  }
 },
 "nbformat": 4,
 "nbformat_minor": 5
}
