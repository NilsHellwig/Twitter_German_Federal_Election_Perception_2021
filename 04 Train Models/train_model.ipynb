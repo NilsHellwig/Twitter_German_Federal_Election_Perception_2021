{
 "cells": [
  {
   "cell_type": "markdown",
   "id": "029abeac-4e2c-4d5f-8daf-795d5b78b245",
   "metadata": {},
   "source": [
    "# Notebook: Train Model\n",
    "\n",
    "This notebook is used to train a classification model given a dataset of tweets. Results of the training are saved in a CSV file.\n",
    "<br>**Contributors:** [Nils Hellwig](https://github.com/NilsHellwig/) | [Markus Bink](https://github.com/MarkusBink/)"
   ]
  },
  {
   "cell_type": "markdown",
   "id": "dbaf5bc3-0afa-4583-84a5-b970a691d42c",
   "metadata": {},
   "source": [
    "## Packages"
   ]
  },
  {
   "cell_type": "code",
   "execution_count": 29,
   "id": "a2c4500d-fd29-4d68-ac75-1ff84c8f5a42",
   "metadata": {},
   "outputs": [],
   "source": [
    "from simpletransformers.classification import ClassificationModel\n",
    "import pandas as pd\n",
    "import numpy as np"
   ]
  },
  {
   "cell_type": "markdown",
   "id": "fa30e67d-c7a8-4c0d-b5c2-0cc72df424a8",
   "metadata": {},
   "source": [
    "## Parameters"
   ]
  },
  {
   "cell_type": "code",
   "execution_count": 30,
   "id": "20a5a837-0abe-49ab-9c24-3e0e8f8cd504",
   "metadata": {},
   "outputs": [],
   "source": [
    "TRAIN_DATASET_PATH = \"../Datasets/k_fold_splits/TRAIN_TEST_0/train.csv\"\n",
    "TEST_DATASET_PATH = \"../Datasets/k_fold_splits/TRAIN_TEST_0/test.csv\"\n",
    "N_TRAIN_EPOCHS = 4\n",
    "TRAIN_BATCH_SIZE = 32\n",
    "TEST_BATCH_SIZE = 32\n",
    "USE_CUDA = False\n",
    "\n",
    "MODEL_TYPE = \"bert\"\n",
    "MODEL_NAME = \"deepset/gbert-base\"\n",
    "MODEL_DIRECTORY_PATH = \"output\"\n",
    "\n",
    "N_LABELS = 4"
   ]
  },
  {
   "cell_type": "markdown",
   "id": "d7383c58-6d48-4708-8379-394d66011e58",
   "metadata": {},
   "source": [
    "## Code"
   ]
  },
  {
   "cell_type": "markdown",
   "id": "192c9a68-c98f-42f8-b74a-ff2b69c3b117",
   "metadata": {},
   "source": [
    "### 1. Load Dataframes"
   ]
  },
  {
   "cell_type": "code",
   "execution_count": 31,
   "id": "9a82fd1a-ee55-44bf-a8fe-7ab5086292ab",
   "metadata": {},
   "outputs": [],
   "source": [
    "train_df = pd.read_csv(TRAIN_DATASET_PATH, encoding=\"utf-8\")\n",
    "test_df = pd.read_csv(TEST_DATASET_PATH, encoding=\"utf-8\")"
   ]
  },
  {
   "cell_type": "markdown",
   "id": "0c825411-125b-4f46-b944-e4c21b319a8b",
   "metadata": {},
   "source": [
    "Replace label strings with numbers"
   ]
  },
  {
   "cell_type": "code",
   "execution_count": 32,
   "id": "f19afe51-7b1e-4052-8640-2c5818221937",
   "metadata": {},
   "outputs": [],
   "source": [
    "train_df['sentiment_label'] = train_df['sentiment_label'].replace({'Negative': 1, 'Positive': 0, 'Neutral': 2})\n",
    "test_df['sentiment_label'] = test_df['sentiment_label'].replace({'Negative': 1, 'Positive': 0, 'Neutral': 2})"
   ]
  },
  {
   "cell_type": "code",
   "execution_count": 33,
   "id": "63799839-cc31-492e-bda8-5c89e18dc9a4",
   "metadata": {},
   "outputs": [
    {
     "data": {
      "text/html": [
       "<div>\n",
       "<style scoped>\n",
       "    .dataframe tbody tr th:only-of-type {\n",
       "        vertical-align: middle;\n",
       "    }\n",
       "\n",
       "    .dataframe tbody tr th {\n",
       "        vertical-align: top;\n",
       "    }\n",
       "\n",
       "    .dataframe thead th {\n",
       "        text-align: right;\n",
       "    }\n",
       "</style>\n",
       "<table border=\"1\" class=\"dataframe\">\n",
       "  <thead>\n",
       "    <tr style=\"text-align: right;\">\n",
       "      <th></th>\n",
       "      <th>id</th>\n",
       "      <th>source_account</th>\n",
       "      <th>tweet</th>\n",
       "      <th>sentiment_label</th>\n",
       "    </tr>\n",
       "  </thead>\n",
       "  <tbody>\n",
       "    <tr>\n",
       "      <th>0</th>\n",
       "      <td>1345000784115552000</td>\n",
       "      <td>larsklingbeil</td>\n",
       "      <td>@JuliaMaiano @EskenSaskia @NowaboFM @spdde @Ol...</td>\n",
       "      <td>1</td>\n",
       "    </tr>\n",
       "    <tr>\n",
       "      <th>1</th>\n",
       "      <td>1345311824439348992</td>\n",
       "      <td>CDU</td>\n",
       "      <td>@Sarayatennis @_FriedrichMerz @CDU Das ist ja ...</td>\n",
       "      <td>0</td>\n",
       "    </tr>\n",
       "    <tr>\n",
       "      <th>2</th>\n",
       "      <td>1345330989275508992</td>\n",
       "      <td>CDU</td>\n",
       "      <td>@LeBoomio @theNeo42 @InRi5555 @n_roettgen @CDU...</td>\n",
       "      <td>1</td>\n",
       "    </tr>\n",
       "    <tr>\n",
       "      <th>3</th>\n",
       "      <td>1345336738328284928</td>\n",
       "      <td>CDU</td>\n",
       "      <td>@MickyBeisenherz @n_roettgen @_FriedrichMerz @...</td>\n",
       "      <td>0</td>\n",
       "    </tr>\n",
       "    <tr>\n",
       "      <th>4</th>\n",
       "      <td>1345432731321306880</td>\n",
       "      <td>cducsubt</td>\n",
       "      <td>@MGrosseBroemer @JM_Luczak @jensspahn @cducsub...</td>\n",
       "      <td>1</td>\n",
       "    </tr>\n",
       "    <tr>\n",
       "      <th>...</th>\n",
       "      <td>...</td>\n",
       "      <td>...</td>\n",
       "      <td>...</td>\n",
       "      <td>...</td>\n",
       "    </tr>\n",
       "    <tr>\n",
       "      <th>1594</th>\n",
       "      <td>1475937148230586112</td>\n",
       "      <td>Ralf_Stegner</td>\n",
       "      <td>Hallo @TwitterSupport  @Ralf_Stegner hat recht...</td>\n",
       "      <td>1</td>\n",
       "    </tr>\n",
       "    <tr>\n",
       "      <th>1595</th>\n",
       "      <td>1476584052987777024</td>\n",
       "      <td>fdp</td>\n",
       "      <td>@SteveundJulian @minimalist_h @fdp @fdp MORGEN...</td>\n",
       "      <td>0</td>\n",
       "    </tr>\n",
       "    <tr>\n",
       "      <th>1596</th>\n",
       "      <td>1476608087280786944</td>\n",
       "      <td>JoanaCotar</td>\n",
       "      <td>@AlexWFotografie @Paul67M @JoanaCotar Wer verh...</td>\n",
       "      <td>1</td>\n",
       "    </tr>\n",
       "    <tr>\n",
       "      <th>1597</th>\n",
       "      <td>1476841285873020928</td>\n",
       "      <td>MarcoBuschmann</td>\n",
       "      <td>@MarcoBuschmann Ich habe mir gerade den Koalit...</td>\n",
       "      <td>1</td>\n",
       "    </tr>\n",
       "    <tr>\n",
       "      <th>1598</th>\n",
       "      <td>1476869223544667904</td>\n",
       "      <td>MarcoBuschmann</td>\n",
       "      <td>@MarcoBuschmann Dann macht es doch endlich bes...</td>\n",
       "      <td>0</td>\n",
       "    </tr>\n",
       "  </tbody>\n",
       "</table>\n",
       "<p>1599 rows × 4 columns</p>\n",
       "</div>"
      ],
      "text/plain": [
       "                       id  source_account  \\\n",
       "0     1345000784115552000   larsklingbeil   \n",
       "1     1345311824439348992             CDU   \n",
       "2     1345330989275508992             CDU   \n",
       "3     1345336738328284928             CDU   \n",
       "4     1345432731321306880        cducsubt   \n",
       "...                   ...             ...   \n",
       "1594  1475937148230586112    Ralf_Stegner   \n",
       "1595  1476584052987777024             fdp   \n",
       "1596  1476608087280786944      JoanaCotar   \n",
       "1597  1476841285873020928  MarcoBuschmann   \n",
       "1598  1476869223544667904  MarcoBuschmann   \n",
       "\n",
       "                                                  tweet  sentiment_label  \n",
       "0     @JuliaMaiano @EskenSaskia @NowaboFM @spdde @Ol...                1  \n",
       "1     @Sarayatennis @_FriedrichMerz @CDU Das ist ja ...                0  \n",
       "2     @LeBoomio @theNeo42 @InRi5555 @n_roettgen @CDU...                1  \n",
       "3     @MickyBeisenherz @n_roettgen @_FriedrichMerz @...                0  \n",
       "4     @MGrosseBroemer @JM_Luczak @jensspahn @cducsub...                1  \n",
       "...                                                 ...              ...  \n",
       "1594  Hallo @TwitterSupport  @Ralf_Stegner hat recht...                1  \n",
       "1595  @SteveundJulian @minimalist_h @fdp @fdp MORGEN...                0  \n",
       "1596  @AlexWFotografie @Paul67M @JoanaCotar Wer verh...                1  \n",
       "1597  @MarcoBuschmann Ich habe mir gerade den Koalit...                1  \n",
       "1598  @MarcoBuschmann Dann macht es doch endlich bes...                0  \n",
       "\n",
       "[1599 rows x 4 columns]"
      ]
     },
     "execution_count": 33,
     "metadata": {},
     "output_type": "execute_result"
    }
   ],
   "source": [
    "train_df"
   ]
  },
  {
   "cell_type": "code",
   "execution_count": 34,
   "id": "783f9e39-c52d-484a-a830-c334ea1efd1f",
   "metadata": {},
   "outputs": [
    {
     "data": {
      "text/plain": [
       "(0    803\n",
       " 1    796\n",
       " Name: sentiment_label, dtype: int64,\n",
       " 1    204\n",
       " 0    196\n",
       " Name: sentiment_label, dtype: int64)"
      ]
     },
     "execution_count": 34,
     "metadata": {},
     "output_type": "execute_result"
    }
   ],
   "source": [
    "train_df.sentiment_label.value_counts(), test_df.sentiment_label.value_counts()"
   ]
  },
  {
   "cell_type": "markdown",
   "id": "733c2e7e-d6e4-42cf-9ddd-c8a860d0c7e0",
   "metadata": {},
   "source": [
    "### 2. Create Model"
   ]
  },
  {
   "cell_type": "code",
   "execution_count": 35,
   "id": "4f771fd1-d08d-4f2c-974d-dd162bf098ba",
   "metadata": {},
   "outputs": [],
   "source": [
    "training_args = {\n",
    "   \"fp16\":False,\n",
    "    \"num_train_epochs\":N_TRAIN_EPOCHS,\n",
    "    \"overwrite_output_dir\":True,\n",
    "    \"train_batch_size\":TRAIN_BATCH_SIZE,\n",
    "    \"eval_batch_size\":TEST_BATCH_SIZE\n",
    "}"
   ]
  },
  {
   "cell_type": "code",
   "execution_count": 36,
   "id": "5b84f368-ca2c-45f2-b3e1-624842e30755",
   "metadata": {},
   "outputs": [
    {
     "name": "stderr",
     "output_type": "stream",
     "text": [
      "Some weights of the model checkpoint at deepset/gbert-base were not used when initializing BertForSequenceClassification: ['cls.predictions.bias', 'cls.predictions.transform.dense.weight', 'cls.seq_relationship.weight', 'cls.seq_relationship.bias', 'cls.predictions.transform.LayerNorm.weight', 'cls.predictions.decoder.weight', 'cls.predictions.transform.dense.bias', 'cls.predictions.transform.LayerNorm.bias']\n",
      "- This IS expected if you are initializing BertForSequenceClassification from the checkpoint of a model trained on another task or with another architecture (e.g. initializing a BertForSequenceClassification model from a BertForPreTraining model).\n",
      "- This IS NOT expected if you are initializing BertForSequenceClassification from the checkpoint of a model that you expect to be exactly identical (initializing a BertForSequenceClassification model from a BertForSequenceClassification model).\n",
      "Some weights of BertForSequenceClassification were not initialized from the model checkpoint at deepset/gbert-base and are newly initialized: ['classifier.weight', 'classifier.bias']\n",
      "You should probably TRAIN this model on a down-stream task to be able to use it for predictions and inference.\n"
     ]
    }
   ],
   "source": [
    "model = ClassificationModel(model_type=MODEL_TYPE, model_name=MODEL_NAME, num_labels=N_LABELS, args=training_args, use_cuda=USE_CUDA)"
   ]
  },
  {
   "cell_type": "markdown",
   "id": "e09d0c66-f492-4fad-bebe-a8b3f31679e9",
   "metadata": {},
   "source": [
    "### 3. Train Model"
   ]
  },
  {
   "cell_type": "code",
   "execution_count": 37,
   "id": "7c58ec18-1a76-40b7-a952-82716c4cd853",
   "metadata": {},
   "outputs": [],
   "source": [
    "#model.train_model(train_df)"
   ]
  },
  {
   "cell_type": "markdown",
   "id": "379e5b55-1229-4406-acae-c985af7d1814",
   "metadata": {},
   "source": [
    "### 4. Save Model"
   ]
  },
  {
   "cell_type": "code",
   "execution_count": 38,
   "id": "05f0d2c9-6750-454d-a3e1-cb8cbdc827a8",
   "metadata": {},
   "outputs": [],
   "source": [
    "model.save_model(MODEL_DIRECTORY_PATH)"
   ]
  }
 ],
 "metadata": {
  "kernelspec": {
   "display_name": "Python 3 (ipykernel)",
   "language": "python",
   "name": "python3"
  },
  "language_info": {
   "codemirror_mode": {
    "name": "ipython",
    "version": 3
   },
   "file_extension": ".py",
   "mimetype": "text/x-python",
   "name": "python",
   "nbconvert_exporter": "python",
   "pygments_lexer": "ipython3",
   "version": "3.10.8"
  }
 },
 "nbformat": 4,
 "nbformat_minor": 5
}
