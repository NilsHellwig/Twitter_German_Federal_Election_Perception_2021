{
 "cells": [
  {
   "cell_type": "markdown",
   "id": "029abeac-4e2c-4d5f-8daf-795d5b78b245",
   "metadata": {},
   "source": [
    "# Notebook: Train Model\n",
    "\n",
    "This notebook is used to train a classification model given a dataset of tweets. Results of the training are saved in a CSV file.\n",
    "<br>**Contributors:** [Nils Hellwig](https://github.com/NilsHellwig/) | [Markus Bink](https://github.com/MarkusBink/)"
   ]
  },
  {
   "cell_type": "markdown",
   "id": "dbaf5bc3-0afa-4583-84a5-b970a691d42c",
   "metadata": {},
   "source": [
    "## Packages"
   ]
  },
  {
   "cell_type": "code",
   "execution_count": 17,
   "id": "a2c4500d-fd29-4d68-ac75-1ff84c8f5a42",
   "metadata": {},
   "outputs": [],
   "source": [
    "from simpletransformers.classification import ClassificationModel\n",
    "from sklearn.metrics import f1_score, accuracy_score\n",
    "import pandas as pd\n",
    "import numpy as np\n",
    "import random\n",
    "import os"
   ]
  },
  {
   "cell_type": "markdown",
   "id": "fa30e67d-c7a8-4c0d-b5c2-0cc72df424a8",
   "metadata": {},
   "source": [
    "## Parameters"
   ]
  },
  {
   "cell_type": "code",
   "execution_count": 18,
   "id": "20a5a837-0abe-49ab-9c24-3e0e8f8cd504",
   "metadata": {},
   "outputs": [],
   "source": [
    "TRAIN_DATASET_PATH = \"../Datasets/k_fold_splits/TRAIN_TEST_0/train.csv\"\n",
    "TEST_DATASET_PATH = \"../Datasets/k_fold_splits/TRAIN_TEST_0/test.csv\"\n",
    "N_TRAIN_EPOCHS = 4\n",
    "TRAIN_BATCH_SIZE = 32\n",
    "TEST_BATCH_SIZE = 32\n",
    "USE_CUDA = False\n",
    "SEED_VALUE = 0\n",
    "\n",
    "MODEL_TYPE = \"bert\"\n",
    "MODEL_NAME = \"deepset/gbert-base\"\n",
    "MODEL_DIRECTORY_PATH = \"output\"\n",
    "\n",
    "N_LABELS = 2"
   ]
  },
  {
   "cell_type": "markdown",
   "id": "d7383c58-6d48-4708-8379-394d66011e58",
   "metadata": {},
   "source": [
    "## Code"
   ]
  },
  {
   "cell_type": "markdown",
   "id": "66018039-82cd-4539-b734-d09daf2c82e6",
   "metadata": {},
   "source": [
    "### 1. Get Reproducable Results"
   ]
  },
  {
   "cell_type": "code",
   "execution_count": 19,
   "id": "3f3e5faa-0c46-4860-9093-0b0dcb038ce7",
   "metadata": {},
   "outputs": [],
   "source": [
    "os.environ['PYTHONHASHSEED'] = str(SEED_VALUE)\n",
    "random.seed(SEED_VALUE)\n",
    "np.random.seed(SEED_VALUE)"
   ]
  },
  {
   "cell_type": "markdown",
   "id": "192c9a68-c98f-42f8-b74a-ff2b69c3b117",
   "metadata": {},
   "source": [
    "### 2. Load Dataframes"
   ]
  },
  {
   "cell_type": "code",
   "execution_count": 20,
   "id": "9a82fd1a-ee55-44bf-a8fe-7ab5086292ab",
   "metadata": {},
   "outputs": [],
   "source": [
    "train_df = pd.read_csv(TRAIN_DATASET_PATH, encoding=\"utf-8\")[[\"tweet\",\"sentiment_label\"]]\n",
    "test_df = pd.read_csv(TEST_DATASET_PATH, encoding=\"utf-8\")[[\"tweet\",\"sentiment_label\"]]"
   ]
  },
  {
   "cell_type": "markdown",
   "id": "0c825411-125b-4f46-b944-e4c21b319a8b",
   "metadata": {},
   "source": [
    "Replace label strings with numbers"
   ]
  },
  {
   "cell_type": "code",
   "execution_count": 21,
   "id": "f19afe51-7b1e-4052-8640-2c5818221937",
   "metadata": {},
   "outputs": [],
   "source": [
    "train_df['sentiment_label'] = train_df['sentiment_label'].replace({'Negative': 1, 'Positive': 0, 'Neutral': 2})\n",
    "test_df['sentiment_label'] = test_df['sentiment_label'].replace({'Negative': 1, 'Positive': 0, 'Neutral': 2})"
   ]
  },
  {
   "cell_type": "code",
   "execution_count": 22,
   "id": "63799839-cc31-492e-bda8-5c89e18dc9a4",
   "metadata": {},
   "outputs": [
    {
     "data": {
      "text/html": [
       "<div>\n",
       "<style scoped>\n",
       "    .dataframe tbody tr th:only-of-type {\n",
       "        vertical-align: middle;\n",
       "    }\n",
       "\n",
       "    .dataframe tbody tr th {\n",
       "        vertical-align: top;\n",
       "    }\n",
       "\n",
       "    .dataframe thead th {\n",
       "        text-align: right;\n",
       "    }\n",
       "</style>\n",
       "<table border=\"1\" class=\"dataframe\">\n",
       "  <thead>\n",
       "    <tr style=\"text-align: right;\">\n",
       "      <th></th>\n",
       "      <th>tweet</th>\n",
       "      <th>sentiment_label</th>\n",
       "    </tr>\n",
       "  </thead>\n",
       "  <tbody>\n",
       "    <tr>\n",
       "      <th>0</th>\n",
       "      <td>@JuliaMaiano @EskenSaskia @NowaboFM @spdde @Ol...</td>\n",
       "      <td>1</td>\n",
       "    </tr>\n",
       "    <tr>\n",
       "      <th>1</th>\n",
       "      <td>@Sarayatennis @_FriedrichMerz @CDU Das ist ja ...</td>\n",
       "      <td>0</td>\n",
       "    </tr>\n",
       "    <tr>\n",
       "      <th>2</th>\n",
       "      <td>@LeBoomio @theNeo42 @InRi5555 @n_roettgen @CDU...</td>\n",
       "      <td>1</td>\n",
       "    </tr>\n",
       "    <tr>\n",
       "      <th>3</th>\n",
       "      <td>@MickyBeisenherz @n_roettgen @_FriedrichMerz @...</td>\n",
       "      <td>0</td>\n",
       "    </tr>\n",
       "    <tr>\n",
       "      <th>4</th>\n",
       "      <td>@MGrosseBroemer @JM_Luczak @jensspahn @cducsub...</td>\n",
       "      <td>1</td>\n",
       "    </tr>\n",
       "    <tr>\n",
       "      <th>...</th>\n",
       "      <td>...</td>\n",
       "      <td>...</td>\n",
       "    </tr>\n",
       "    <tr>\n",
       "      <th>1594</th>\n",
       "      <td>Hallo @TwitterSupport  @Ralf_Stegner hat recht...</td>\n",
       "      <td>1</td>\n",
       "    </tr>\n",
       "    <tr>\n",
       "      <th>1595</th>\n",
       "      <td>@SteveundJulian @minimalist_h @fdp @fdp MORGEN...</td>\n",
       "      <td>0</td>\n",
       "    </tr>\n",
       "    <tr>\n",
       "      <th>1596</th>\n",
       "      <td>@AlexWFotografie @Paul67M @JoanaCotar Wer verh...</td>\n",
       "      <td>1</td>\n",
       "    </tr>\n",
       "    <tr>\n",
       "      <th>1597</th>\n",
       "      <td>@MarcoBuschmann Ich habe mir gerade den Koalit...</td>\n",
       "      <td>1</td>\n",
       "    </tr>\n",
       "    <tr>\n",
       "      <th>1598</th>\n",
       "      <td>@MarcoBuschmann Dann macht es doch endlich bes...</td>\n",
       "      <td>0</td>\n",
       "    </tr>\n",
       "  </tbody>\n",
       "</table>\n",
       "<p>1599 rows × 2 columns</p>\n",
       "</div>"
      ],
      "text/plain": [
       "                                                  tweet  sentiment_label\n",
       "0     @JuliaMaiano @EskenSaskia @NowaboFM @spdde @Ol...                1\n",
       "1     @Sarayatennis @_FriedrichMerz @CDU Das ist ja ...                0\n",
       "2     @LeBoomio @theNeo42 @InRi5555 @n_roettgen @CDU...                1\n",
       "3     @MickyBeisenherz @n_roettgen @_FriedrichMerz @...                0\n",
       "4     @MGrosseBroemer @JM_Luczak @jensspahn @cducsub...                1\n",
       "...                                                 ...              ...\n",
       "1594  Hallo @TwitterSupport  @Ralf_Stegner hat recht...                1\n",
       "1595  @SteveundJulian @minimalist_h @fdp @fdp MORGEN...                0\n",
       "1596  @AlexWFotografie @Paul67M @JoanaCotar Wer verh...                1\n",
       "1597  @MarcoBuschmann Ich habe mir gerade den Koalit...                1\n",
       "1598  @MarcoBuschmann Dann macht es doch endlich bes...                0\n",
       "\n",
       "[1599 rows x 2 columns]"
      ]
     },
     "execution_count": 22,
     "metadata": {},
     "output_type": "execute_result"
    }
   ],
   "source": [
    "train_df"
   ]
  },
  {
   "cell_type": "code",
   "execution_count": 23,
   "id": "783f9e39-c52d-484a-a830-c334ea1efd1f",
   "metadata": {},
   "outputs": [
    {
     "data": {
      "text/plain": [
       "(0    803\n",
       " 1    796\n",
       " Name: sentiment_label, dtype: int64,\n",
       " 1    204\n",
       " 0    196\n",
       " Name: sentiment_label, dtype: int64)"
      ]
     },
     "execution_count": 23,
     "metadata": {},
     "output_type": "execute_result"
    }
   ],
   "source": [
    "train_df.sentiment_label.value_counts(), test_df.sentiment_label.value_counts()"
   ]
  },
  {
   "cell_type": "markdown",
   "id": "733c2e7e-d6e4-42cf-9ddd-c8a860d0c7e0",
   "metadata": {},
   "source": [
    "### 3. Create Model"
   ]
  },
  {
   "cell_type": "code",
   "execution_count": 24,
   "id": "4f771fd1-d08d-4f2c-974d-dd162bf098ba",
   "metadata": {},
   "outputs": [],
   "source": [
    "training_args = {\n",
    "   \"fp16\":False,\n",
    "    \"num_train_epochs\":N_TRAIN_EPOCHS,\n",
    "    \"overwrite_output_dir\":True,\n",
    "    \"train_batch_size\":TRAIN_BATCH_SIZE,\n",
    "    \"eval_batch_size\":TEST_BATCH_SIZE,\n",
    "    \"manual_seed\": SEED_VALUE,\n",
    "    \"reprocess_input_data\": True\n",
    "}"
   ]
  },
  {
   "cell_type": "code",
   "execution_count": 25,
   "id": "5b84f368-ca2c-45f2-b3e1-624842e30755",
   "metadata": {},
   "outputs": [
    {
     "name": "stderr",
     "output_type": "stream",
     "text": [
      "Some weights of the model checkpoint at deepset/gbert-base were not used when initializing BertForSequenceClassification: ['cls.predictions.transform.LayerNorm.weight', 'cls.seq_relationship.bias', 'cls.predictions.bias', 'cls.predictions.transform.LayerNorm.bias', 'cls.predictions.decoder.weight', 'cls.predictions.transform.dense.weight', 'cls.seq_relationship.weight', 'cls.predictions.transform.dense.bias']\n",
      "- This IS expected if you are initializing BertForSequenceClassification from the checkpoint of a model trained on another task or with another architecture (e.g. initializing a BertForSequenceClassification model from a BertForPreTraining model).\n",
      "- This IS NOT expected if you are initializing BertForSequenceClassification from the checkpoint of a model that you expect to be exactly identical (initializing a BertForSequenceClassification model from a BertForSequenceClassification model).\n",
      "Some weights of BertForSequenceClassification were not initialized from the model checkpoint at deepset/gbert-base and are newly initialized: ['classifier.weight', 'classifier.bias']\n",
      "You should probably TRAIN this model on a down-stream task to be able to use it for predictions and inference.\n"
     ]
    }
   ],
   "source": [
    "model = ClassificationModel(model_type=MODEL_TYPE, model_name=MODEL_NAME, num_labels=N_LABELS, args=training_args, use_cuda=USE_CUDA)"
   ]
  },
  {
   "cell_type": "markdown",
   "id": "e09d0c66-f492-4fad-bebe-a8b3f31679e9",
   "metadata": {},
   "source": [
    "### 4. Train Model"
   ]
  },
  {
   "cell_type": "code",
   "execution_count": 26,
   "id": "7c58ec18-1a76-40b7-a952-82716c4cd853",
   "metadata": {},
   "outputs": [],
   "source": [
    "#model.train_model(train_df)"
   ]
  },
  {
   "cell_type": "markdown",
   "id": "f0ba82ab-2980-49eb-a236-1e27150d3add",
   "metadata": {},
   "source": [
    "### 5. Define Metrics"
   ]
  },
  {
   "cell_type": "code",
   "execution_count": null,
   "id": "be68ca34-d469-4863-9f0c-6ce2bffc8545",
   "metadata": {},
   "outputs": [],
   "source": [
    "accuracy_metric = accuracy_score"
   ]
  },
  {
   "cell_type": "markdown",
   "id": "884505d2-9d3a-407b-bd18-5fcaa3e6c1d5",
   "metadata": {},
   "source": [
    "### 4. Evaluate Model"
   ]
  },
  {
   "cell_type": "code",
   "execution_count": 27,
   "id": "78b63e51-ab2a-46fb-9ddb-522b7b5d31ec",
   "metadata": {},
   "outputs": [
    {
     "name": "stderr",
     "output_type": "stream",
     "text": [
      "/opt/homebrew/Caskroom/miniforge/base/envs/tensorflow_m1/lib/python3.10/site-packages/simpletransformers/classification/classification_model.py:1454: UserWarning: Dataframe headers not specified. Falling back to using column 0 as text and column 1 as labels.\n",
      "  warnings.warn(\n"
     ]
    },
    {
     "data": {
      "application/vnd.jupyter.widget-view+json": {
       "model_id": "e29b8fe24236465e98d363a17363492e",
       "version_major": 2,
       "version_minor": 0
      },
      "text/plain": [
       "  0%|          | 0/400 [00:00<?, ?it/s]"
      ]
     },
     "metadata": {},
     "output_type": "display_data"
    },
    {
     "name": "stdout",
     "output_type": "stream",
     "text": [
      "huggingface/tokenizers: The current process just got forked, after parallelism has already been used. Disabling parallelism to avoid deadlocks...\n",
      "To disable this warning, you can either:\n",
      "\t- Avoid using `tokenizers` before the fork if possible\n",
      "\t- Explicitly set the environment variable TOKENIZERS_PARALLELISM=(true | false)\n"
     ]
    },
    {
     "data": {
      "application/vnd.jupyter.widget-view+json": {
       "model_id": "35da3f35f73940fca82670292f0d5097",
       "version_major": 2,
       "version_minor": 0
      },
      "text/plain": [
       "Running Evaluation:   0%|          | 0/13 [00:00<?, ?it/s]"
      ]
     },
     "metadata": {},
     "output_type": "display_data"
    }
   ],
   "source": [
    "result, model_outputs, wrong_predictions = model.eval_model(test_df, acc=accuracy_metric)"
   ]
  },
  {
   "cell_type": "code",
   "execution_count": 28,
   "id": "29309cf6-fdd2-4547-a579-37859ddca1ef",
   "metadata": {},
   "outputs": [
    {
     "data": {
      "text/plain": [
       "{'mcc': 0.0481014623999032,\n",
       " 'tp': 118,\n",
       " 'tn': 92,\n",
       " 'fp': 104,\n",
       " 'fn': 86,\n",
       " 'auroc': 0.5450430172068828,\n",
       " 'auprc': 0.5486292049753088,\n",
       " 'eval_loss': 0.6913179296713609}"
      ]
     },
     "execution_count": 28,
     "metadata": {},
     "output_type": "execute_result"
    }
   ],
   "source": [
    "result"
   ]
  },
  {
   "cell_type": "markdown",
   "id": "379e5b55-1229-4406-acae-c985af7d1814",
   "metadata": {},
   "source": [
    "### 4. Save Model"
   ]
  },
  {
   "cell_type": "code",
   "execution_count": 29,
   "id": "05f0d2c9-6750-454d-a3e1-cb8cbdc827a8",
   "metadata": {},
   "outputs": [],
   "source": [
    "model.save_model(MODEL_DIRECTORY_PATH)"
   ]
  }
 ],
 "metadata": {
  "kernelspec": {
   "display_name": "Python 3 (ipykernel)",
   "language": "python",
   "name": "python3"
  },
  "language_info": {
   "codemirror_mode": {
    "name": "ipython",
    "version": 3
   },
   "file_extension": ".py",
   "mimetype": "text/x-python",
   "name": "python",
   "nbconvert_exporter": "python",
   "pygments_lexer": "ipython3",
   "version": "3.10.8"
  }
 },
 "nbformat": 4,
 "nbformat_minor": 5
}
