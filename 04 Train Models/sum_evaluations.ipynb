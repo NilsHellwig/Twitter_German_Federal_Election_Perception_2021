{
 "cells": [
  {
   "cell_type": "markdown",
   "id": "79ed0504-b674-4690-8e8d-7f8d8ea648b8",
   "metadata": {},
   "source": [
    "# Notebook: Calculate Average of metrics for each BERT Setting\n",
    "\n",
    "This notebook is used to create plots using our trained model.\n",
    "<br>**Contributors:** [Nils Hellwig](https://github.com/NilsHellwig/) | [Markus Bink](https://github.com/MarkusBink/)"
   ]
  },
  {
   "cell_type": "markdown",
   "id": "8d9acf7b-7a1c-4c8e-9cc8-2a830812d3ab",
   "metadata": {},
   "source": [
    "## Packages"
   ]
  },
  {
   "cell_type": "code",
   "execution_count": 8,
   "id": "5d459ff8-e502-4d59-bd3d-566ac6988062",
   "metadata": {},
   "outputs": [],
   "source": [
    "import json"
   ]
  },
  {
   "cell_type": "markdown",
   "id": "e221f706-2ae8-41a8-a337-0eb7571dab2b",
   "metadata": {},
   "source": [
    "## Parameters"
   ]
  },
  {
   "cell_type": "code",
   "execution_count": 9,
   "id": "020999b5-f5b8-4248-8343-a5fc0e9d6f64",
   "metadata": {},
   "outputs": [],
   "source": [
    "FILE_LIST = [f'../Trainings/Results/BERT-2_deepset_gbert_large_{i}.json' for i in range(0,5)]"
   ]
  },
  {
   "cell_type": "markdown",
   "id": "9f07fb22-f474-4cb2-ab72-f9de608b6a46",
   "metadata": {},
   "source": [
    "## Code"
   ]
  },
  {
   "cell_type": "markdown",
   "id": "7fed4ba1-7047-4429-9831-56292a98ba16",
   "metadata": {},
   "source": [
    "### Load Result Data"
   ]
  },
  {
   "cell_type": "code",
   "execution_count": 10,
   "id": "fb34ce28-f96f-435d-9935-252028aa6d7f",
   "metadata": {},
   "outputs": [],
   "source": [
    "# Leere Datenstruktur erstellen, um die Summen der Werte zu speichern\n",
    "data_sum = {\n",
    "  \"mcc\": 0,\n",
    "  \"acc\": 0,\n",
    "  \"f1\": { \"f1_macro\": 0, \"f1_micro\": 0, \"f1_weighted\": 0 },\n",
    "  \"precision\": { \"precision_macro\": 0, \"precision_micro\": 0, \"precision_weighted\": 0 },\n",
    "  \"recall\": { \"recall_macro\": 0, \"recall_micro\": 0, \"recall_weighted\": 0 },\n",
    "  \"precision_recall_each_class\": {\n",
    "      \"0.0\": { \"precision\": 0, \"recall\": 0 },\n",
    "      \"1.0\": { \"precision\": 0, \"recall\": 0 },\n",
    "      \"2.0\": { \"precision\": 0, \"recall\": 0 }\n",
    "  },\n",
    "  \"eval_loss\": 0\n",
    "}\n",
    "\n",
    "# Durchlaufe die Dateien und addiere die Werte\n",
    "for file_name in FILE_LIST:\n",
    "    with open(file_name, \"r\") as file:\n",
    "        data = json.load(file)\n",
    "        \n",
    "        for key in [\"mcc\", \"acc\", \"eval_loss\"]:\n",
    "            data_sum[key] += data[key]\n",
    "            \n",
    "        for key in [\"f1_macro\", \"f1_micro\", \"f1_weighted\"]:\n",
    "            data_sum[\"f1\"][key] += data[\"f1\"][key]\n",
    "            \n",
    "        for key in [\"precision_macro\", \"precision_micro\", \"precision_weighted\"]:\n",
    "            data_sum[\"precision\"][key] += data[\"precision\"][key]\n",
    "            \n",
    "        for key in [\"recall_macro\", \"recall_micro\", \"recall_weighted\"]:\n",
    "            data_sum[\"recall\"][key] += data[\"recall\"][key]\n",
    "        \n",
    "        for key in [\"precision\", \"recall\"]:\n",
    "            data_sum[\"precision_recall_each_class\"][\"0.0\"][key] += data[\"precision_recall_each_class\"][\"0.0\"][key]\n",
    "            \n",
    "        for key in [\"precision\", \"recall\"]:\n",
    "            data_sum[\"precision_recall_each_class\"][\"1.0\"][key] += data[\"precision_recall_each_class\"][\"1.0\"][key]\n",
    "        for key in [\"precision\", \"recall\"]:\n",
    "            data_sum[\"precision_recall_each_class\"][\"2.0\"][key] += data[\"precision_recall_each_class\"][\"2.0\"][key]"
   ]
  },
  {
   "cell_type": "markdown",
   "id": "6bc126f4-7a9b-4975-8a7c-5a896c8925a5",
   "metadata": {},
   "source": [
    "### Calculate Average for each setting"
   ]
  },
  {
   "cell_type": "code",
   "execution_count": 12,
   "id": "1b399ffc-c012-43ee-be29-e460983472e6",
   "metadata": {},
   "outputs": [],
   "source": [
    "for key in [\"mcc\", \"acc\", \"eval_loss\"]:\n",
    "    data_sum[key] /= 5\n",
    "            \n",
    "for key in [\"f1_macro\", \"f1_micro\", \"f1_weighted\"]:\n",
    "    data_sum[\"f1\"][key] /= 5\n",
    "            \n",
    "for key in [\"precision_macro\", \"precision_micro\", \"precision_weighted\"]:\n",
    "    data_sum[\"precision\"][key] /= 5\n",
    "            \n",
    "for key in [\"recall_macro\", \"recall_micro\", \"recall_weighted\"]:\n",
    "    data_sum[\"recall\"][key] /= 5\n",
    "                   \n",
    "for key in [\"precision\", \"recall\"]:\n",
    "    data_sum[\"precision_recall_each_class\"][\"0.0\"][key] /= 5\n",
    "            \n",
    "for key in [\"precision\", \"recall\"]:\n",
    "    data_sum[\"precision_recall_each_class\"][\"1.0\"][key] /= 5\n",
    "    \n",
    "for key in [\"precision\", \"recall\"]:\n",
    "    data_sum[\"precision_recall_each_class\"][\"2.0\"][key] /= 5"
   ]
  },
  {
   "cell_type": "code",
   "execution_count": 13,
   "id": "a15b3b3a-fb01-4fe1-bea2-28390aa4a2bd",
   "metadata": {},
   "outputs": [
    {
     "data": {
      "text/plain": [
       "{'mcc': 0.6697223474267283,\n",
       " 'acc': 0.8179336898395722,\n",
       " 'f1': {'f1_macro': 0.7751587052724161,\n",
       "  'f1_micro': 0.8179336898395722,\n",
       "  'f1_weighted': 0.8170537392161439},\n",
       " 'precision': {'precision_macro': 0.7854159435892,\n",
       "  'precision_micro': 0.8179336898395722,\n",
       "  'precision_weighted': 0.818464508185531},\n",
       " 'recall': {'recall_macro': 0.7711935990277005,\n",
       "  'recall_micro': 0.8179336898395722,\n",
       "  'recall_weighted': 0.8179336898395722},\n",
       " 'precision_recall_each_class': {'0.0': {'precision': 0.7100779220779221,\n",
       "   'recall': 0.6666666666666666},\n",
       "  '1.0': {'precision': 0.8478203603668204, 'recall': 0.8657561486132914},\n",
       "  '2.0': {'precision': 0.7983495483228576, 'recall': 0.7811579818031431}},\n",
       " 'eval_loss': 0.589064878411591}"
      ]
     },
     "execution_count": 13,
     "metadata": {},
     "output_type": "execute_result"
    }
   ],
   "source": [
    "data_sum"
   ]
  }
 ],
 "metadata": {
  "kernelspec": {
   "display_name": "Python 3 (ipykernel)",
   "language": "python",
   "name": "python3"
  },
  "language_info": {
   "codemirror_mode": {
    "name": "ipython",
    "version": 3
   },
   "file_extension": ".py",
   "mimetype": "text/x-python",
   "name": "python",
   "nbconvert_exporter": "python",
   "pygments_lexer": "ipython3",
   "version": "3.10.8"
  }
 },
 "nbformat": 4,
 "nbformat_minor": 5
}
